{
  "nbformat": 4,
  "nbformat_minor": 0,
  "metadata": {
    "colab": {
      "name": "Codeit_데이터사이언스_Topic2_DataFrame_20210710_F.ipynb",
      "provenance": [],
      "collapsed_sections": [],
      "authorship_tag": "ABX9TyPyR18kHK2gWo2Cdvj7m52n",
      "include_colab_link": true
    },
    "kernelspec": {
      "name": "python3",
      "display_name": "Python 3"
    },
    "language_info": {
      "name": "python"
    }
  },
  "cells": [
    {
      "cell_type": "markdown",
      "metadata": {
        "id": "view-in-github",
        "colab_type": "text"
      },
      "source": [
        "<a href=\"https://colab.research.google.com/github/Ahbin-Park/abinushka/blob/Python/Codeit_%EB%8D%B0%EC%9D%B4%ED%84%B0%EC%82%AC%EC%9D%B4%EC%96%B8%EC%8A%A4_Topic2_DataFrame_20210710_F.ipynb\" target=\"_parent\"><img src=\"https://colab.research.google.com/assets/colab-badge.svg\" alt=\"Open In Colab\"/></a>"
      ]
    },
    {
      "cell_type": "markdown",
      "metadata": {
        "id": "aV2mfzgs36-k"
      },
      "source": [
        "# **DataFrame 다루기**"
      ]
    },
    {
      "cell_type": "markdown",
      "metadata": {
        "id": "_hhgHWyXHEFG"
      },
      "source": [
        "## **Pandas와 DataFrame 생성**\n"
      ]
    },
    {
      "cell_type": "code",
      "metadata": {
        "id": "ts4rz9XRGkN1"
      },
      "source": [
        "import pandas as pd"
      ],
      "execution_count": null,
      "outputs": []
    },
    {
      "cell_type": "code",
      "metadata": {
        "id": "NzYmYvipGphr"
      },
      "source": [
        "two_dimensional_list = [['dongwuk', 50, 86], ['sineui', 89, 31], ['yoonsoo', 88, 75]]"
      ],
      "execution_count": null,
      "outputs": []
    },
    {
      "cell_type": "code",
      "metadata": {
        "colab": {
          "base_uri": "https://localhost:8080/",
          "height": 142
        },
        "id": "HWlqvqX5Gpbl",
        "outputId": "98561b56-a257-41e7-cf03-99c97e238720"
      },
      "source": [
        "my_df = pd.DataFrame(two_dimensional_list, columns = ['name', 'english_score', 'math_score'], index=['a','b','c'])\n",
        "my_df"
      ],
      "execution_count": null,
      "outputs": [
        {
          "output_type": "execute_result",
          "data": {
            "text/html": [
              "<div>\n",
              "<style scoped>\n",
              "    .dataframe tbody tr th:only-of-type {\n",
              "        vertical-align: middle;\n",
              "    }\n",
              "\n",
              "    .dataframe tbody tr th {\n",
              "        vertical-align: top;\n",
              "    }\n",
              "\n",
              "    .dataframe thead th {\n",
              "        text-align: right;\n",
              "    }\n",
              "</style>\n",
              "<table border=\"1\" class=\"dataframe\">\n",
              "  <thead>\n",
              "    <tr style=\"text-align: right;\">\n",
              "      <th></th>\n",
              "      <th>name</th>\n",
              "      <th>english_score</th>\n",
              "      <th>math_score</th>\n",
              "    </tr>\n",
              "  </thead>\n",
              "  <tbody>\n",
              "    <tr>\n",
              "      <th>a</th>\n",
              "      <td>dongwuk</td>\n",
              "      <td>50</td>\n",
              "      <td>86</td>\n",
              "    </tr>\n",
              "    <tr>\n",
              "      <th>b</th>\n",
              "      <td>sineui</td>\n",
              "      <td>89</td>\n",
              "      <td>31</td>\n",
              "    </tr>\n",
              "    <tr>\n",
              "      <th>c</th>\n",
              "      <td>yoonsoo</td>\n",
              "      <td>88</td>\n",
              "      <td>75</td>\n",
              "    </tr>\n",
              "  </tbody>\n",
              "</table>\n",
              "</div>"
            ],
            "text/plain": [
              "      name  english_score  math_score\n",
              "a  dongwuk             50          86\n",
              "b   sineui             89          31\n",
              "c  yoonsoo             88          75"
            ]
          },
          "metadata": {
            "tags": []
          },
          "execution_count": 3
        }
      ]
    },
    {
      "cell_type": "code",
      "metadata": {
        "colab": {
          "base_uri": "https://localhost:8080/"
        },
        "id": "mbZ4cfCUG7E-",
        "outputId": "0dffbec1-3e67-4589-c1d8-7783dc774972"
      },
      "source": [
        "type(my_df)"
      ],
      "execution_count": null,
      "outputs": [
        {
          "output_type": "execute_result",
          "data": {
            "text/plain": [
              "pandas.core.frame.DataFrame"
            ]
          },
          "metadata": {
            "tags": []
          },
          "execution_count": 4
        }
      ]
    },
    {
      "cell_type": "markdown",
      "metadata": {
        "id": "1_qVja1LHeDp"
      },
      "source": [
        "- DF 내에서 여러가지 자료형을 가질 수 있음. 단, 같은 컬럼 내에서는 같은 자료 형."
      ]
    },
    {
      "cell_type": "code",
      "metadata": {
        "colab": {
          "base_uri": "https://localhost:8080/"
        },
        "id": "2GDs0tzVG-e0",
        "outputId": "17dcc43d-a34c-44bf-b770-635383df9d7f"
      },
      "source": [
        "#각 컬럼들의 데이터 타입도 조회\n",
        "my_df.dtypes"
      ],
      "execution_count": null,
      "outputs": [
        {
          "output_type": "execute_result",
          "data": {
            "text/plain": [
              "name             object\n",
              "english_score     int64\n",
              "math_score        int64\n",
              "dtype: object"
            ]
          },
          "metadata": {
            "tags": []
          },
          "execution_count": 5
        }
      ]
    },
    {
      "cell_type": "markdown",
      "metadata": {
        "id": "dXfSvGjBHwe9"
      },
      "source": [
        "### DataFrame을 만드는 다양한 방법\n",
        "- From list of lists, array of arrays, list of series\n",
        "- From dict of lists, dict of arrays, dict of series \n",
        "- From list of dicts (사전이 담긴 리스트)\n",
        "\n",
        "**Series 관련 : https://nittaku.tistory.com/110"
      ]
    },
    {
      "cell_type": "code",
      "metadata": {
        "colab": {
          "base_uri": "https://localhost:8080/"
        },
        "id": "LrmYZcSdHZcI",
        "outputId": "c999432e-0f0a-4ddd-ab04-ae64c0265711"
      },
      "source": [
        "# From list of lists, array of arrays, list of series\n",
        "import numpy as np\n",
        "import pandas as pd\n",
        "\n",
        "two_dimensional_list = [['dongwook', 50, 86], ['sineui', 89, 31], ['ikjoong', 68, 91], ['yoonsoo', 88, 75]]  #lists\n",
        "two_dimensional_array = np.array(two_dimensional_list) #array로 변환하여 만들기\n",
        "list_of_series = [\n",
        "    pd.Series(['dongwook', 50, 86]), \n",
        "    pd.Series(['sineui', 89, 31]), \n",
        "    pd.Series(['ikjoong', 68, 91]), \n",
        "    pd.Series(['yoonsoo', 88, 75])\n",
        "] #시리즈 형태의 것들을 변환\n",
        "\n",
        "# 아래 셋은 모두 동일합니다\n",
        "df1 = pd.DataFrame(two_dimensional_list)\n",
        "df2 = pd.DataFrame(two_dimensional_array)\n",
        "df3 = pd.DataFrame(list_of_series)\n",
        "\n",
        "print(df1)\n",
        "print(df2)\n",
        "print(df3)"
      ],
      "execution_count": null,
      "outputs": [
        {
          "output_type": "stream",
          "text": [
            "          0   1   2\n",
            "0  dongwook  50  86\n",
            "1    sineui  89  31\n",
            "2   ikjoong  68  91\n",
            "3   yoonsoo  88  75\n",
            "          0   1   2\n",
            "0  dongwook  50  86\n",
            "1    sineui  89  31\n",
            "2   ikjoong  68  91\n",
            "3   yoonsoo  88  75\n",
            "          0   1   2\n",
            "0  dongwook  50  86\n",
            "1    sineui  89  31\n",
            "2   ikjoong  68  91\n",
            "3   yoonsoo  88  75\n"
          ],
          "name": "stdout"
        }
      ]
    },
    {
      "cell_type": "code",
      "metadata": {
        "id": "sdhS7IR-IQHY"
      },
      "source": [
        " #From dict of lists, dict of arrays, dict of series\n",
        "## 사전의 key로는 column 이름을 쓰고, 그 column에 해당하는 리스트, numpy array, 혹은 pandas Series를 사전의 value로 넣어주면 됩니다.\n",
        "\n",
        "names = ['dongwook', 'sineui', 'ikjoong', 'yoonsoo']\n",
        "english_scores = [50, 89, 68, 88]\n",
        "math_scores = [86, 31, 91, 75]\n",
        "\n",
        "dict1 = {\n",
        "    'name' : names,\n",
        "    'english_score' : english_scores,\n",
        "    'math_score' : math_scores\n",
        "}\n",
        "\n",
        "dict2 = {\n",
        "    'name' : np.array(names),\n",
        "    'english_score' : np.array(english_scores),\n",
        "    'math_score' : np.array(math_scores)\n",
        "}\n",
        "\n",
        "dict3 = {\n",
        "    'name' : pd.Series(names),\n",
        "    'english_score' : pd.Series(english_scores),\n",
        "    'math_score' : pd.Series(math_scores)\n",
        "}\n",
        "\n",
        "#데이터프레임으로 변환\n",
        "df1 = pd.DataFrame(dict1)\n",
        "df2 = pd.DataFrame(dict2)\n",
        "df3 = pd.DataFrame(dict3)\n",
        "\n",
        "print(df1)\n",
        "print(df2)\n",
        "print(df3)"
      ],
      "execution_count": null,
      "outputs": []
    },
    {
      "cell_type": "code",
      "metadata": {
        "id": "NJVVJAmsJLKp"
      },
      "source": [
        "#From list of dicts (사전이 담긴 리스트)\n",
        "\n",
        "my_list = [\n",
        "    {'name': 'dongwook', 'english_score': 50, 'math_score': 86},\n",
        "    {'name': 'sineui', 'english_score': 89, 'math_score': 31},\n",
        "    {'name': 'ikjoong', 'english_score': 68, 'math_score': 91},\n",
        "    {'name': 'yoonsoo', 'english_score': 88, 'math_score': 75}\n",
        "]\n",
        "\n",
        "df = pd.DataFrame(my_list)\n",
        "df"
      ],
      "execution_count": null,
      "outputs": []
    },
    {
      "cell_type": "code",
      "metadata": {
        "id": "sXPmCssDJbLH"
      },
      "source": [
        "# 실습 과제 \n",
        "lists = [\n",
        "        ['Taylor Swift',\t'December 13, 1989',\t'Singer-songwriter'],\n",
        "        ['Aaron Sorkin',\t'June 9, 1961',\t'Screenwriter'],\n",
        "        ['Harry Potter',\t'July 31, 1980',\t'Wizard'],\n",
        "        ['Ji-Sung Park',\t'February 25, 1981',\t'Footballer']\n",
        "        ]\n",
        "df = pd.DataFrame(lists, columns = ['name', 'birthday','occupation'])\n",
        "df"
      ],
      "execution_count": null,
      "outputs": []
    },
    {
      "cell_type": "markdown",
      "metadata": {
        "id": "pNae2VDJKw1s"
      },
      "source": [
        "###Datatype\n",
        "\n",
        "- int64\t정수\n",
        "- float64\t소수\n",
        "- object\t텍스트\n",
        "- bool\t불린(참과 거짓)\n",
        "- datetime64\t날짜와 시간\n",
        "- category\t카테고리\n"
      ]
    },
    {
      "cell_type": "markdown",
      "metadata": {
        "id": "aaQf4Lpxw2xb"
      },
      "source": [
        "### Pandas 로 데이터 읽어들이기"
      ]
    },
    {
      "cell_type": "code",
      "metadata": {
        "id": "8OvnWPQNKddz",
        "colab": {
          "base_uri": "https://localhost:8080/",
          "height": 266
        },
        "outputId": "c065dd0b-3927-4e01-fb9b-5fb8b497e9c9"
      },
      "source": [
        "import pandas as pd\n",
        "iphone_df = pd.read_csv('iphone.csv', index_col = 0) # 파일 위치 폴더 경로 작성('~/~'), 0 해당 column을 index로 설정하기 (혹은 열 이름을 직접 지정해도됨)\n",
        "#iphone_df = pd.read_csv('iphone.csv', index_col = 'Draw Date')\n",
        "\n",
        "iphone_df"
      ],
      "execution_count": null,
      "outputs": [
        {
          "output_type": "execute_result",
          "data": {
            "text/html": [
              "<div>\n",
              "<style scoped>\n",
              "    .dataframe tbody tr th:only-of-type {\n",
              "        vertical-align: middle;\n",
              "    }\n",
              "\n",
              "    .dataframe tbody tr th {\n",
              "        vertical-align: top;\n",
              "    }\n",
              "\n",
              "    .dataframe thead th {\n",
              "        text-align: right;\n",
              "    }\n",
              "</style>\n",
              "<table border=\"1\" class=\"dataframe\">\n",
              "  <thead>\n",
              "    <tr style=\"text-align: right;\">\n",
              "      <th></th>\n",
              "      <th>출시일</th>\n",
              "      <th>디스플레이</th>\n",
              "      <th>메모리</th>\n",
              "      <th>출시 버전</th>\n",
              "      <th>Face ID</th>\n",
              "    </tr>\n",
              "  </thead>\n",
              "  <tbody>\n",
              "    <tr>\n",
              "      <th>iPhone 7</th>\n",
              "      <td>2016-09-16</td>\n",
              "      <td>4.7</td>\n",
              "      <td>2GB</td>\n",
              "      <td>iOS 10.0</td>\n",
              "      <td>No</td>\n",
              "    </tr>\n",
              "    <tr>\n",
              "      <th>iPhone 7 Plus</th>\n",
              "      <td>2016-09-16</td>\n",
              "      <td>5.5</td>\n",
              "      <td>3GB</td>\n",
              "      <td>iOS 10.0</td>\n",
              "      <td>No</td>\n",
              "    </tr>\n",
              "    <tr>\n",
              "      <th>iPhone 8</th>\n",
              "      <td>2017-09-22</td>\n",
              "      <td>4.7</td>\n",
              "      <td>2GB</td>\n",
              "      <td>iOS 11.0</td>\n",
              "      <td>No</td>\n",
              "    </tr>\n",
              "    <tr>\n",
              "      <th>iPhone 8 Plus</th>\n",
              "      <td>2017-09-22</td>\n",
              "      <td>5.5</td>\n",
              "      <td>3GB</td>\n",
              "      <td>iOS 11.0</td>\n",
              "      <td>No</td>\n",
              "    </tr>\n",
              "    <tr>\n",
              "      <th>iPhone X</th>\n",
              "      <td>2017-11-03</td>\n",
              "      <td>5.8</td>\n",
              "      <td>3GB</td>\n",
              "      <td>iOS 11.1</td>\n",
              "      <td>Yes</td>\n",
              "    </tr>\n",
              "    <tr>\n",
              "      <th>iPhone XS</th>\n",
              "      <td>2018-09-21</td>\n",
              "      <td>5.8</td>\n",
              "      <td>4GB</td>\n",
              "      <td>iOS 12.0</td>\n",
              "      <td>Yes</td>\n",
              "    </tr>\n",
              "    <tr>\n",
              "      <th>iPhone XS Max</th>\n",
              "      <td>2018-09-21</td>\n",
              "      <td>6.5</td>\n",
              "      <td>4GB</td>\n",
              "      <td>iOS 12.0</td>\n",
              "      <td>Yes</td>\n",
              "    </tr>\n",
              "  </tbody>\n",
              "</table>\n",
              "</div>"
            ],
            "text/plain": [
              "                      출시일  디스플레이  메모리     출시 버전 Face ID\n",
              "iPhone 7       2016-09-16    4.7  2GB  iOS 10.0      No\n",
              "iPhone 7 Plus  2016-09-16    5.5  3GB  iOS 10.0      No\n",
              "iPhone 8       2017-09-22    4.7  2GB  iOS 11.0      No\n",
              "iPhone 8 Plus  2017-09-22    5.5  3GB  iOS 11.0      No\n",
              "iPhone X       2017-11-03    5.8  3GB  iOS 11.1     Yes\n",
              "iPhone XS      2018-09-21    5.8  4GB  iOS 12.0     Yes\n",
              "iPhone XS Max  2018-09-21    6.5  4GB  iOS 12.0     Yes"
            ]
          },
          "metadata": {
            "tags": []
          },
          "execution_count": 9
        }
      ]
    },
    {
      "cell_type": "markdown",
      "metadata": {
        "id": "iXwTGGM3zZND"
      },
      "source": [
        "## **데이터프레임 인덱싱 (1)**"
      ]
    },
    {
      "cell_type": "markdown",
      "metadata": {
        "id": "cPrF2St0zZFN"
      },
      "source": [
        "* loc\n",
        "++ 인덱스를 기준으로 행 데이터 추출 (특정 index number/name 기준)\n",
        "```\n",
        "df.loc[row, column]\n",
        "```\n",
        "* iloc\n",
        "++ 행 번호를 기준으로 행 데이터 추출(데이터의 순서, 몇 번째 행)"
      ]
    },
    {
      "cell_type": "code",
      "metadata": {
        "id": "J4o5sLohzYv-"
      },
      "source": [
        "import pandas as pd\n",
        "iphone_df = pd.read_csv('iphone.csv', index_col = 0)"
      ],
      "execution_count": null,
      "outputs": []
    },
    {
      "cell_type": "markdown",
      "metadata": {
        "id": "IjFdjtAq09BV"
      },
      "source": [
        ""
      ]
    },
    {
      "cell_type": "code",
      "metadata": {
        "id": "k6vfZdr8zla5",
        "colab": {
          "base_uri": "https://localhost:8080/",
          "height": 35
        },
        "outputId": "128bef20-2200-42a9-d26f-d8a8947d4215"
      },
      "source": [
        "#인덱싱하기\n",
        "\n",
        "iphone_df.loc['iPhone 8', '메모리'] #['행','열']"
      ],
      "execution_count": null,
      "outputs": [
        {
          "output_type": "execute_result",
          "data": {
            "application/vnd.google.colaboratory.intrinsic+json": {
              "type": "string"
            },
            "text/plain": [
              "'2GB'"
            ]
          },
          "metadata": {
            "tags": []
          },
          "execution_count": 11
        }
      ]
    },
    {
      "cell_type": "code",
      "metadata": {
        "id": "DyLoDhINxr9l",
        "colab": {
          "base_uri": "https://localhost:8080/"
        },
        "outputId": "4f1f1157-68e2-4fc2-ee95-7aa85598c01e"
      },
      "source": [
        "iphone_df.loc['iPhone X', :] # :의 의미: 처음부터 끝까지"
      ],
      "execution_count": null,
      "outputs": [
        {
          "output_type": "execute_result",
          "data": {
            "text/plain": [
              "출시일        2017-11-03\n",
              "디스플레이             5.8\n",
              "메모리               3GB\n",
              "출시 버전        iOS 11.1\n",
              "Face ID           Yes\n",
              "Name: iPhone X, dtype: object"
            ]
          },
          "metadata": {
            "tags": []
          },
          "execution_count": 12
        }
      ]
    },
    {
      "cell_type": "code",
      "metadata": {
        "id": "tVCiicgGxsYQ",
        "colab": {
          "base_uri": "https://localhost:8080/"
        },
        "outputId": "d9ee530f-a3d3-4c1e-9977-6864f3a16e6a"
      },
      "source": [
        "#위와 비교\n",
        "print(iphone_df.loc['iPhone X']) #열 기준 조회!!\n",
        "print(type(iphone_df.loc['iPhone X'])) #시리즈(판다스의 1차원 자료형)"
      ],
      "execution_count": null,
      "outputs": [
        {
          "output_type": "stream",
          "text": [
            "출시일        2017-11-03\n",
            "디스플레이             5.8\n",
            "메모리               3GB\n",
            "출시 버전        iOS 11.1\n",
            "Face ID           Yes\n",
            "Name: iPhone X, dtype: object\n",
            "<class 'pandas.core.series.Series'>\n"
          ],
          "name": "stdout"
        }
      ]
    },
    {
      "cell_type": "code",
      "metadata": {
        "id": "MIP5O9LA0MLj",
        "colab": {
          "base_uri": "https://localhost:8080/"
        },
        "outputId": "51a021e5-be64-475f-c12f-c7ea00ff656c"
      },
      "source": [
        "iphone_df.loc[:,'출시일'] #모든 row[:]"
      ],
      "execution_count": null,
      "outputs": [
        {
          "output_type": "execute_result",
          "data": {
            "text/plain": [
              "iPhone 7         2016-09-16\n",
              "iPhone 7 Plus    2016-09-16\n",
              "iPhone 8         2017-09-22\n",
              "iPhone 8 Plus    2017-09-22\n",
              "iPhone X         2017-11-03\n",
              "iPhone XS        2018-09-21\n",
              "iPhone XS Max    2018-09-21\n",
              "Name: 출시일, dtype: object"
            ]
          },
          "metadata": {
            "tags": []
          },
          "execution_count": 14
        }
      ]
    },
    {
      "cell_type": "code",
      "metadata": {
        "id": "-PjsG9uF0i0y",
        "colab": {
          "base_uri": "https://localhost:8080/"
        },
        "outputId": "7365b421-3d1b-4c5f-cec4-3abb66f58030"
      },
      "source": [
        "iphone_df['출시일']"
      ],
      "execution_count": null,
      "outputs": [
        {
          "output_type": "execute_result",
          "data": {
            "text/plain": [
              "iPhone 7         2016-09-16\n",
              "iPhone 7 Plus    2016-09-16\n",
              "iPhone 8         2017-09-22\n",
              "iPhone 8 Plus    2017-09-22\n",
              "iPhone X         2017-11-03\n",
              "iPhone XS        2018-09-21\n",
              "iPhone XS Max    2018-09-21\n",
              "Name: 출시일, dtype: object"
            ]
          },
          "metadata": {
            "tags": []
          },
          "execution_count": 15
        }
      ]
    },
    {
      "cell_type": "markdown",
      "metadata": {
        "id": "jIEAnYGK5W5q"
      },
      "source": [
        "**2개 이상의 칼럼의 모든 행을 가져오고 싶을 때**\n",
        "```\n",
        "columns = [column1, column2]\n",
        "df[columns]\n",
        "df[[column1, column2]]\n",
        "```\n",
        "\n"
      ]
    },
    {
      "cell_type": "code",
      "metadata": {
        "id": "wmTVO2n884QY"
      },
      "source": [
        "#실습과제 (내가 푼 것 concat 활용)\n",
        "import pandas as pd\n",
        "\n",
        "samsong_df = pd.read_csv('data/samsong.csv')\n",
        "hyundee_df = pd.read_csv('data/hyundee.csv')\n",
        "\n",
        "df1= samsong_df.loc[:, ['요일', '문화생활비']]\n",
        "df2= hyundee_df.loc[:, '문화생활비']\n",
        "\n",
        "df = pd.concat([df1, df2], axis=1)\n",
        "df.columns = ['day','samsong','hyundee']\n",
        "df"
      ],
      "execution_count": null,
      "outputs": []
    },
    {
      "cell_type": "code",
      "metadata": {
        "id": "cMyE0n7f0oab"
      },
      "source": [
        "#비교 \n",
        "#1. 활요할 데이터 컬럼만 확인\n",
        "samsong_df['요일']\n",
        "samsong_df['문화생활비']\n",
        "hyundee_df['문화생활비']\n",
        "\n",
        "#2. 파이썬 사전 만들기\n",
        "dict = {\n",
        "    'day' : samsong_df['요일'],\n",
        "    'samsong' : samsong_df['문화생활비'],\n",
        "    'hyundee' : hyundee_df['문화생활비']\n",
        "}\n",
        "\n",
        "#3. 데이터 프레임 만들기\n",
        "combined_df = pd.DataFrame(dict)\n",
        "combined df"
      ],
      "execution_count": null,
      "outputs": []
    },
    {
      "cell_type": "markdown",
      "metadata": {
        "id": "wurVuxKp1oGY"
      },
      "source": [
        "## **데이터프레임 인덱싱 (2)**"
      ]
    },
    {
      "cell_type": "code",
      "metadata": {
        "colab": {
          "base_uri": "https://localhost:8080/",
          "height": 266
        },
        "id": "O8XJigpzkatQ",
        "outputId": "266d69c6-d48b-4210-aa8c-79ad27227583"
      },
      "source": [
        "iphone_df"
      ],
      "execution_count": null,
      "outputs": [
        {
          "output_type": "execute_result",
          "data": {
            "text/html": [
              "<div>\n",
              "<style scoped>\n",
              "    .dataframe tbody tr th:only-of-type {\n",
              "        vertical-align: middle;\n",
              "    }\n",
              "\n",
              "    .dataframe tbody tr th {\n",
              "        vertical-align: top;\n",
              "    }\n",
              "\n",
              "    .dataframe thead th {\n",
              "        text-align: right;\n",
              "    }\n",
              "</style>\n",
              "<table border=\"1\" class=\"dataframe\">\n",
              "  <thead>\n",
              "    <tr style=\"text-align: right;\">\n",
              "      <th></th>\n",
              "      <th>출시일</th>\n",
              "      <th>디스플레이</th>\n",
              "      <th>메모리</th>\n",
              "      <th>출시 버전</th>\n",
              "      <th>Face ID</th>\n",
              "    </tr>\n",
              "  </thead>\n",
              "  <tbody>\n",
              "    <tr>\n",
              "      <th>iPhone 7</th>\n",
              "      <td>2016-09-16</td>\n",
              "      <td>4.7</td>\n",
              "      <td>2GB</td>\n",
              "      <td>iOS 10.0</td>\n",
              "      <td>No</td>\n",
              "    </tr>\n",
              "    <tr>\n",
              "      <th>iPhone 7 Plus</th>\n",
              "      <td>2016-09-16</td>\n",
              "      <td>5.5</td>\n",
              "      <td>3GB</td>\n",
              "      <td>iOS 10.0</td>\n",
              "      <td>No</td>\n",
              "    </tr>\n",
              "    <tr>\n",
              "      <th>iPhone 8</th>\n",
              "      <td>2017-09-22</td>\n",
              "      <td>4.7</td>\n",
              "      <td>2GB</td>\n",
              "      <td>iOS 11.0</td>\n",
              "      <td>No</td>\n",
              "    </tr>\n",
              "    <tr>\n",
              "      <th>iPhone 8 Plus</th>\n",
              "      <td>2017-09-22</td>\n",
              "      <td>5.5</td>\n",
              "      <td>3GB</td>\n",
              "      <td>iOS 11.0</td>\n",
              "      <td>No</td>\n",
              "    </tr>\n",
              "    <tr>\n",
              "      <th>iPhone X</th>\n",
              "      <td>2017-11-03</td>\n",
              "      <td>5.8</td>\n",
              "      <td>3GB</td>\n",
              "      <td>iOS 11.1</td>\n",
              "      <td>Yes</td>\n",
              "    </tr>\n",
              "    <tr>\n",
              "      <th>iPhone XS</th>\n",
              "      <td>2018-09-21</td>\n",
              "      <td>5.8</td>\n",
              "      <td>4GB</td>\n",
              "      <td>iOS 12.0</td>\n",
              "      <td>Yes</td>\n",
              "    </tr>\n",
              "    <tr>\n",
              "      <th>iPhone XS Max</th>\n",
              "      <td>2018-09-21</td>\n",
              "      <td>6.5</td>\n",
              "      <td>4GB</td>\n",
              "      <td>iOS 12.0</td>\n",
              "      <td>Yes</td>\n",
              "    </tr>\n",
              "  </tbody>\n",
              "</table>\n",
              "</div>"
            ],
            "text/plain": [
              "                      출시일  디스플레이  메모리     출시 버전 Face ID\n",
              "iPhone 7       2016-09-16    4.7  2GB  iOS 10.0      No\n",
              "iPhone 7 Plus  2016-09-16    5.5  3GB  iOS 10.0      No\n",
              "iPhone 8       2017-09-22    4.7  2GB  iOS 11.0      No\n",
              "iPhone 8 Plus  2017-09-22    5.5  3GB  iOS 11.0      No\n",
              "iPhone X       2017-11-03    5.8  3GB  iOS 11.1     Yes\n",
              "iPhone XS      2018-09-21    5.8  4GB  iOS 12.0     Yes\n",
              "iPhone XS Max  2018-09-21    6.5  4GB  iOS 12.0     Yes"
            ]
          },
          "metadata": {
            "tags": []
          },
          "execution_count": 21
        }
      ]
    },
    {
      "cell_type": "code",
      "metadata": {
        "id": "CXYKnOFe5QTy",
        "colab": {
          "base_uri": "https://localhost:8080/"
        },
        "outputId": "106ade9b-d6a3-439a-9cbb-aee658b348a3"
      },
      "source": [
        "iphone_df.loc['iPhone X']"
      ],
      "execution_count": null,
      "outputs": [
        {
          "output_type": "execute_result",
          "data": {
            "text/plain": [
              "출시일        2017-11-03\n",
              "디스플레이             5.8\n",
              "메모리               3GB\n",
              "출시 버전        iOS 11.1\n",
              "Face ID           Yes\n",
              "Name: iPhone X, dtype: object"
            ]
          },
          "metadata": {
            "tags": []
          },
          "execution_count": 19
        }
      ]
    },
    {
      "cell_type": "code",
      "metadata": {
        "id": "HIIjBKHT1wUi",
        "colab": {
          "base_uri": "https://localhost:8080/",
          "height": 111
        },
        "outputId": "e2d422bf-24b5-4912-dfd8-0773aa5cac57"
      },
      "source": [
        "iphone_df.loc[['iPhone X', 'iPhone 8']] # 괄호 2개"
      ],
      "execution_count": null,
      "outputs": [
        {
          "output_type": "execute_result",
          "data": {
            "text/html": [
              "<div>\n",
              "<style scoped>\n",
              "    .dataframe tbody tr th:only-of-type {\n",
              "        vertical-align: middle;\n",
              "    }\n",
              "\n",
              "    .dataframe tbody tr th {\n",
              "        vertical-align: top;\n",
              "    }\n",
              "\n",
              "    .dataframe thead th {\n",
              "        text-align: right;\n",
              "    }\n",
              "</style>\n",
              "<table border=\"1\" class=\"dataframe\">\n",
              "  <thead>\n",
              "    <tr style=\"text-align: right;\">\n",
              "      <th></th>\n",
              "      <th>출시일</th>\n",
              "      <th>디스플레이</th>\n",
              "      <th>메모리</th>\n",
              "      <th>출시 버전</th>\n",
              "      <th>Face ID</th>\n",
              "    </tr>\n",
              "  </thead>\n",
              "  <tbody>\n",
              "    <tr>\n",
              "      <th>iPhone X</th>\n",
              "      <td>2017-11-03</td>\n",
              "      <td>5.8</td>\n",
              "      <td>3GB</td>\n",
              "      <td>iOS 11.1</td>\n",
              "      <td>Yes</td>\n",
              "    </tr>\n",
              "    <tr>\n",
              "      <th>iPhone 8</th>\n",
              "      <td>2017-09-22</td>\n",
              "      <td>4.7</td>\n",
              "      <td>2GB</td>\n",
              "      <td>iOS 11.0</td>\n",
              "      <td>No</td>\n",
              "    </tr>\n",
              "  </tbody>\n",
              "</table>\n",
              "</div>"
            ],
            "text/plain": [
              "                 출시일  디스플레이  메모리     출시 버전 Face ID\n",
              "iPhone X  2017-11-03    5.8  3GB  iOS 11.1     Yes\n",
              "iPhone 8  2017-09-22    4.7  2GB  iOS 11.0      No"
            ]
          },
          "metadata": {
            "tags": []
          },
          "execution_count": 24
        }
      ]
    },
    {
      "cell_type": "code",
      "metadata": {
        "colab": {
          "base_uri": "https://localhost:8080/",
          "height": 173
        },
        "id": "5IsT4Du1kYIe",
        "outputId": "f2463110-901a-4b01-a7e1-6717448d60ba"
      },
      "source": [
        "iphone_df.loc['iPhone 8':'iPhone XS'] #슬라이싱을 통한 여러 건의 데이터프레임 조회"
      ],
      "execution_count": null,
      "outputs": [
        {
          "output_type": "execute_result",
          "data": {
            "text/html": [
              "<div>\n",
              "<style scoped>\n",
              "    .dataframe tbody tr th:only-of-type {\n",
              "        vertical-align: middle;\n",
              "    }\n",
              "\n",
              "    .dataframe tbody tr th {\n",
              "        vertical-align: top;\n",
              "    }\n",
              "\n",
              "    .dataframe thead th {\n",
              "        text-align: right;\n",
              "    }\n",
              "</style>\n",
              "<table border=\"1\" class=\"dataframe\">\n",
              "  <thead>\n",
              "    <tr style=\"text-align: right;\">\n",
              "      <th></th>\n",
              "      <th>출시일</th>\n",
              "      <th>디스플레이</th>\n",
              "      <th>메모리</th>\n",
              "      <th>출시 버전</th>\n",
              "      <th>Face ID</th>\n",
              "    </tr>\n",
              "  </thead>\n",
              "  <tbody>\n",
              "    <tr>\n",
              "      <th>iPhone 8</th>\n",
              "      <td>2017-09-22</td>\n",
              "      <td>4.7</td>\n",
              "      <td>2GB</td>\n",
              "      <td>iOS 11.0</td>\n",
              "      <td>No</td>\n",
              "    </tr>\n",
              "    <tr>\n",
              "      <th>iPhone 8 Plus</th>\n",
              "      <td>2017-09-22</td>\n",
              "      <td>5.5</td>\n",
              "      <td>3GB</td>\n",
              "      <td>iOS 11.0</td>\n",
              "      <td>No</td>\n",
              "    </tr>\n",
              "    <tr>\n",
              "      <th>iPhone X</th>\n",
              "      <td>2017-11-03</td>\n",
              "      <td>5.8</td>\n",
              "      <td>3GB</td>\n",
              "      <td>iOS 11.1</td>\n",
              "      <td>Yes</td>\n",
              "    </tr>\n",
              "    <tr>\n",
              "      <th>iPhone XS</th>\n",
              "      <td>2018-09-21</td>\n",
              "      <td>5.8</td>\n",
              "      <td>4GB</td>\n",
              "      <td>iOS 12.0</td>\n",
              "      <td>Yes</td>\n",
              "    </tr>\n",
              "  </tbody>\n",
              "</table>\n",
              "</div>"
            ],
            "text/plain": [
              "                      출시일  디스플레이  메모리     출시 버전 Face ID\n",
              "iPhone 8       2017-09-22    4.7  2GB  iOS 11.0      No\n",
              "iPhone 8 Plus  2017-09-22    5.5  3GB  iOS 11.0      No\n",
              "iPhone X       2017-11-03    5.8  3GB  iOS 11.1     Yes\n",
              "iPhone XS      2018-09-21    5.8  4GB  iOS 12.0     Yes"
            ]
          },
          "metadata": {
            "tags": []
          },
          "execution_count": 27
        }
      ]
    },
    {
      "cell_type": "code",
      "metadata": {
        "colab": {
          "base_uri": "https://localhost:8080/",
          "height": 235
        },
        "id": "NlLkgGCUkrKL",
        "outputId": "b3dd95fc-9f40-49a4-e681-a3c8029d8f53"
      },
      "source": [
        "iphone_df.loc[:'iPhone XS'] #슬라이싱을 통한 여러 건의 데이터프레임 조회"
      ],
      "execution_count": null,
      "outputs": [
        {
          "output_type": "execute_result",
          "data": {
            "text/html": [
              "<div>\n",
              "<style scoped>\n",
              "    .dataframe tbody tr th:only-of-type {\n",
              "        vertical-align: middle;\n",
              "    }\n",
              "\n",
              "    .dataframe tbody tr th {\n",
              "        vertical-align: top;\n",
              "    }\n",
              "\n",
              "    .dataframe thead th {\n",
              "        text-align: right;\n",
              "    }\n",
              "</style>\n",
              "<table border=\"1\" class=\"dataframe\">\n",
              "  <thead>\n",
              "    <tr style=\"text-align: right;\">\n",
              "      <th></th>\n",
              "      <th>출시일</th>\n",
              "      <th>디스플레이</th>\n",
              "      <th>메모리</th>\n",
              "      <th>출시 버전</th>\n",
              "      <th>Face ID</th>\n",
              "    </tr>\n",
              "  </thead>\n",
              "  <tbody>\n",
              "    <tr>\n",
              "      <th>iPhone 7</th>\n",
              "      <td>2016-09-16</td>\n",
              "      <td>4.7</td>\n",
              "      <td>2GB</td>\n",
              "      <td>iOS 10.0</td>\n",
              "      <td>No</td>\n",
              "    </tr>\n",
              "    <tr>\n",
              "      <th>iPhone 7 Plus</th>\n",
              "      <td>2016-09-16</td>\n",
              "      <td>5.5</td>\n",
              "      <td>3GB</td>\n",
              "      <td>iOS 10.0</td>\n",
              "      <td>No</td>\n",
              "    </tr>\n",
              "    <tr>\n",
              "      <th>iPhone 8</th>\n",
              "      <td>2017-09-22</td>\n",
              "      <td>4.7</td>\n",
              "      <td>2GB</td>\n",
              "      <td>iOS 11.0</td>\n",
              "      <td>No</td>\n",
              "    </tr>\n",
              "    <tr>\n",
              "      <th>iPhone 8 Plus</th>\n",
              "      <td>2017-09-22</td>\n",
              "      <td>5.5</td>\n",
              "      <td>3GB</td>\n",
              "      <td>iOS 11.0</td>\n",
              "      <td>No</td>\n",
              "    </tr>\n",
              "    <tr>\n",
              "      <th>iPhone X</th>\n",
              "      <td>2017-11-03</td>\n",
              "      <td>5.8</td>\n",
              "      <td>3GB</td>\n",
              "      <td>iOS 11.1</td>\n",
              "      <td>Yes</td>\n",
              "    </tr>\n",
              "    <tr>\n",
              "      <th>iPhone XS</th>\n",
              "      <td>2018-09-21</td>\n",
              "      <td>5.8</td>\n",
              "      <td>4GB</td>\n",
              "      <td>iOS 12.0</td>\n",
              "      <td>Yes</td>\n",
              "    </tr>\n",
              "  </tbody>\n",
              "</table>\n",
              "</div>"
            ],
            "text/plain": [
              "                      출시일  디스플레이  메모리     출시 버전 Face ID\n",
              "iPhone 7       2016-09-16    4.7  2GB  iOS 10.0      No\n",
              "iPhone 7 Plus  2016-09-16    5.5  3GB  iOS 10.0      No\n",
              "iPhone 8       2017-09-22    4.7  2GB  iOS 11.0      No\n",
              "iPhone 8 Plus  2017-09-22    5.5  3GB  iOS 11.0      No\n",
              "iPhone X       2017-11-03    5.8  3GB  iOS 11.1     Yes\n",
              "iPhone XS      2018-09-21    5.8  4GB  iOS 12.0     Yes"
            ]
          },
          "metadata": {
            "tags": []
          },
          "execution_count": 28
        }
      ]
    },
    {
      "cell_type": "code",
      "metadata": {
        "colab": {
          "base_uri": "https://localhost:8080/",
          "height": 266
        },
        "id": "vbi0BNIIkvBk",
        "outputId": "dd90dbe1-35d3-4ec3-be73-72adccd808f6"
      },
      "source": [
        "#컬럼으로 슬래시 (모든 열에 대해, 조회하고싶은 컬럼)\n",
        "iphone_df.loc[:, '메모리':'Face ID']"
      ],
      "execution_count": null,
      "outputs": [
        {
          "output_type": "execute_result",
          "data": {
            "text/html": [
              "<div>\n",
              "<style scoped>\n",
              "    .dataframe tbody tr th:only-of-type {\n",
              "        vertical-align: middle;\n",
              "    }\n",
              "\n",
              "    .dataframe tbody tr th {\n",
              "        vertical-align: top;\n",
              "    }\n",
              "\n",
              "    .dataframe thead th {\n",
              "        text-align: right;\n",
              "    }\n",
              "</style>\n",
              "<table border=\"1\" class=\"dataframe\">\n",
              "  <thead>\n",
              "    <tr style=\"text-align: right;\">\n",
              "      <th></th>\n",
              "      <th>메모리</th>\n",
              "      <th>출시 버전</th>\n",
              "      <th>Face ID</th>\n",
              "    </tr>\n",
              "  </thead>\n",
              "  <tbody>\n",
              "    <tr>\n",
              "      <th>iPhone 7</th>\n",
              "      <td>2GB</td>\n",
              "      <td>iOS 10.0</td>\n",
              "      <td>No</td>\n",
              "    </tr>\n",
              "    <tr>\n",
              "      <th>iPhone 7 Plus</th>\n",
              "      <td>3GB</td>\n",
              "      <td>iOS 10.0</td>\n",
              "      <td>No</td>\n",
              "    </tr>\n",
              "    <tr>\n",
              "      <th>iPhone 8</th>\n",
              "      <td>2GB</td>\n",
              "      <td>iOS 11.0</td>\n",
              "      <td>No</td>\n",
              "    </tr>\n",
              "    <tr>\n",
              "      <th>iPhone 8 Plus</th>\n",
              "      <td>3GB</td>\n",
              "      <td>iOS 11.0</td>\n",
              "      <td>No</td>\n",
              "    </tr>\n",
              "    <tr>\n",
              "      <th>iPhone X</th>\n",
              "      <td>3GB</td>\n",
              "      <td>iOS 11.1</td>\n",
              "      <td>Yes</td>\n",
              "    </tr>\n",
              "    <tr>\n",
              "      <th>iPhone XS</th>\n",
              "      <td>4GB</td>\n",
              "      <td>iOS 12.0</td>\n",
              "      <td>Yes</td>\n",
              "    </tr>\n",
              "    <tr>\n",
              "      <th>iPhone XS Max</th>\n",
              "      <td>4GB</td>\n",
              "      <td>iOS 12.0</td>\n",
              "      <td>Yes</td>\n",
              "    </tr>\n",
              "  </tbody>\n",
              "</table>\n",
              "</div>"
            ],
            "text/plain": [
              "               메모리     출시 버전 Face ID\n",
              "iPhone 7       2GB  iOS 10.0      No\n",
              "iPhone 7 Plus  3GB  iOS 10.0      No\n",
              "iPhone 8       2GB  iOS 11.0      No\n",
              "iPhone 8 Plus  3GB  iOS 11.0      No\n",
              "iPhone X       3GB  iOS 11.1     Yes\n",
              "iPhone XS      4GB  iOS 12.0     Yes\n",
              "iPhone XS Max  4GB  iOS 12.0     Yes"
            ]
          },
          "metadata": {
            "tags": []
          },
          "execution_count": 29
        }
      ]
    },
    {
      "cell_type": "markdown",
      "metadata": {
        "id": "cc-GGNSTmO6N"
      },
      "source": [
        "- bolean으로 불러오기"
      ]
    },
    {
      "cell_type": "code",
      "metadata": {
        "colab": {
          "base_uri": "https://localhost:8080/",
          "height": 173
        },
        "id": "3WxdUduAk7Dk",
        "outputId": "c17317da-99a8-406f-84ec-ad37aede6503"
      },
      "source": [
        "iphone_df.loc[[True, False, True, True, False, True, False]]"
      ],
      "execution_count": null,
      "outputs": [
        {
          "output_type": "execute_result",
          "data": {
            "text/html": [
              "<div>\n",
              "<style scoped>\n",
              "    .dataframe tbody tr th:only-of-type {\n",
              "        vertical-align: middle;\n",
              "    }\n",
              "\n",
              "    .dataframe tbody tr th {\n",
              "        vertical-align: top;\n",
              "    }\n",
              "\n",
              "    .dataframe thead th {\n",
              "        text-align: right;\n",
              "    }\n",
              "</style>\n",
              "<table border=\"1\" class=\"dataframe\">\n",
              "  <thead>\n",
              "    <tr style=\"text-align: right;\">\n",
              "      <th></th>\n",
              "      <th>출시일</th>\n",
              "      <th>디스플레이</th>\n",
              "      <th>메모리</th>\n",
              "      <th>출시 버전</th>\n",
              "      <th>Face ID</th>\n",
              "    </tr>\n",
              "  </thead>\n",
              "  <tbody>\n",
              "    <tr>\n",
              "      <th>iPhone 7</th>\n",
              "      <td>2016-09-16</td>\n",
              "      <td>4.7</td>\n",
              "      <td>2GB</td>\n",
              "      <td>iOS 10.0</td>\n",
              "      <td>No</td>\n",
              "    </tr>\n",
              "    <tr>\n",
              "      <th>iPhone 8</th>\n",
              "      <td>2017-09-22</td>\n",
              "      <td>4.7</td>\n",
              "      <td>2GB</td>\n",
              "      <td>iOS 11.0</td>\n",
              "      <td>No</td>\n",
              "    </tr>\n",
              "    <tr>\n",
              "      <th>iPhone 8 Plus</th>\n",
              "      <td>2017-09-22</td>\n",
              "      <td>5.5</td>\n",
              "      <td>3GB</td>\n",
              "      <td>iOS 11.0</td>\n",
              "      <td>No</td>\n",
              "    </tr>\n",
              "    <tr>\n",
              "      <th>iPhone XS</th>\n",
              "      <td>2018-09-21</td>\n",
              "      <td>5.8</td>\n",
              "      <td>4GB</td>\n",
              "      <td>iOS 12.0</td>\n",
              "      <td>Yes</td>\n",
              "    </tr>\n",
              "  </tbody>\n",
              "</table>\n",
              "</div>"
            ],
            "text/plain": [
              "                      출시일  디스플레이  메모리     출시 버전 Face ID\n",
              "iPhone 7       2016-09-16    4.7  2GB  iOS 10.0      No\n",
              "iPhone 8       2017-09-22    4.7  2GB  iOS 11.0      No\n",
              "iPhone 8 Plus  2017-09-22    5.5  3GB  iOS 11.0      No\n",
              "iPhone XS      2018-09-21    5.8  4GB  iOS 12.0     Yes"
            ]
          },
          "metadata": {
            "tags": []
          },
          "execution_count": 30
        }
      ]
    },
    {
      "cell_type": "code",
      "metadata": {
        "colab": {
          "base_uri": "https://localhost:8080/",
          "height": 266
        },
        "id": "wh0IPW63mcjV",
        "outputId": "29f6cdc7-3bfb-41ce-ca45-6671b9da14cb"
      },
      "source": [
        "iphone_df.loc[:, [True, False,True, True, False]]"
      ],
      "execution_count": null,
      "outputs": [
        {
          "output_type": "execute_result",
          "data": {
            "text/html": [
              "<div>\n",
              "<style scoped>\n",
              "    .dataframe tbody tr th:only-of-type {\n",
              "        vertical-align: middle;\n",
              "    }\n",
              "\n",
              "    .dataframe tbody tr th {\n",
              "        vertical-align: top;\n",
              "    }\n",
              "\n",
              "    .dataframe thead th {\n",
              "        text-align: right;\n",
              "    }\n",
              "</style>\n",
              "<table border=\"1\" class=\"dataframe\">\n",
              "  <thead>\n",
              "    <tr style=\"text-align: right;\">\n",
              "      <th></th>\n",
              "      <th>출시일</th>\n",
              "      <th>메모리</th>\n",
              "      <th>출시 버전</th>\n",
              "    </tr>\n",
              "  </thead>\n",
              "  <tbody>\n",
              "    <tr>\n",
              "      <th>iPhone 7</th>\n",
              "      <td>2016-09-16</td>\n",
              "      <td>2GB</td>\n",
              "      <td>iOS 10.0</td>\n",
              "    </tr>\n",
              "    <tr>\n",
              "      <th>iPhone 7 Plus</th>\n",
              "      <td>2016-09-16</td>\n",
              "      <td>3GB</td>\n",
              "      <td>iOS 10.0</td>\n",
              "    </tr>\n",
              "    <tr>\n",
              "      <th>iPhone 8</th>\n",
              "      <td>2017-09-22</td>\n",
              "      <td>2GB</td>\n",
              "      <td>iOS 11.0</td>\n",
              "    </tr>\n",
              "    <tr>\n",
              "      <th>iPhone 8 Plus</th>\n",
              "      <td>2017-09-22</td>\n",
              "      <td>3GB</td>\n",
              "      <td>iOS 11.0</td>\n",
              "    </tr>\n",
              "    <tr>\n",
              "      <th>iPhone X</th>\n",
              "      <td>2017-11-03</td>\n",
              "      <td>3GB</td>\n",
              "      <td>iOS 11.1</td>\n",
              "    </tr>\n",
              "    <tr>\n",
              "      <th>iPhone XS</th>\n",
              "      <td>2018-09-21</td>\n",
              "      <td>4GB</td>\n",
              "      <td>iOS 12.0</td>\n",
              "    </tr>\n",
              "    <tr>\n",
              "      <th>iPhone XS Max</th>\n",
              "      <td>2018-09-21</td>\n",
              "      <td>4GB</td>\n",
              "      <td>iOS 12.0</td>\n",
              "    </tr>\n",
              "  </tbody>\n",
              "</table>\n",
              "</div>"
            ],
            "text/plain": [
              "                      출시일  메모리     출시 버전\n",
              "iPhone 7       2016-09-16  2GB  iOS 10.0\n",
              "iPhone 7 Plus  2016-09-16  3GB  iOS 10.0\n",
              "iPhone 8       2017-09-22  2GB  iOS 11.0\n",
              "iPhone 8 Plus  2017-09-22  3GB  iOS 11.0\n",
              "iPhone X       2017-11-03  3GB  iOS 11.1\n",
              "iPhone XS      2018-09-21  4GB  iOS 12.0\n",
              "iPhone XS Max  2018-09-21  4GB  iOS 12.0"
            ]
          },
          "metadata": {
            "tags": []
          },
          "execution_count": 34
        }
      ]
    },
    {
      "cell_type": "code",
      "metadata": {
        "colab": {
          "base_uri": "https://localhost:8080/"
        },
        "id": "CoRAYfbNmr63",
        "outputId": "6c44bf84-ea8a-4c37-f4b0-d4c0a4226e88"
      },
      "source": [
        "#데이터프레임 내 특정값과 비교하기 (bool)|\n",
        "iphone_df['디스플레이'] > 5\n",
        "print(iphone_df.loc[iphone_df['디스플레이'] > 5])"
      ],
      "execution_count": null,
      "outputs": [
        {
          "output_type": "stream",
          "text": [
            "                      출시일  디스플레이  메모리     출시 버전 Face ID\n",
            "iPhone 7 Plus  2016-09-16    5.5  3GB  iOS 10.0      No\n",
            "iPhone 8 Plus  2017-09-22    5.5  3GB  iOS 11.0      No\n",
            "iPhone X       2017-11-03    5.8  3GB  iOS 11.1     Yes\n",
            "iPhone XS      2018-09-21    5.8  4GB  iOS 12.0     Yes\n",
            "iPhone XS Max  2018-09-21    6.5  4GB  iOS 12.0     Yes\n"
          ],
          "name": "stdout"
        }
      ]
    },
    {
      "cell_type": "code",
      "metadata": {
        "colab": {
          "base_uri": "https://localhost:8080/",
          "height": 142
        },
        "id": "8QrYbUnFm3e0",
        "outputId": "7bdc9c64-f7f8-475e-dfa9-f926b88375b1"
      },
      "source": [
        "iphone_df.loc[iphone_df['Face ID'] == 'Yes']"
      ],
      "execution_count": null,
      "outputs": [
        {
          "output_type": "execute_result",
          "data": {
            "text/html": [
              "<div>\n",
              "<style scoped>\n",
              "    .dataframe tbody tr th:only-of-type {\n",
              "        vertical-align: middle;\n",
              "    }\n",
              "\n",
              "    .dataframe tbody tr th {\n",
              "        vertical-align: top;\n",
              "    }\n",
              "\n",
              "    .dataframe thead th {\n",
              "        text-align: right;\n",
              "    }\n",
              "</style>\n",
              "<table border=\"1\" class=\"dataframe\">\n",
              "  <thead>\n",
              "    <tr style=\"text-align: right;\">\n",
              "      <th></th>\n",
              "      <th>출시일</th>\n",
              "      <th>디스플레이</th>\n",
              "      <th>메모리</th>\n",
              "      <th>출시 버전</th>\n",
              "      <th>Face ID</th>\n",
              "    </tr>\n",
              "  </thead>\n",
              "  <tbody>\n",
              "    <tr>\n",
              "      <th>iPhone X</th>\n",
              "      <td>2017-11-03</td>\n",
              "      <td>5.8</td>\n",
              "      <td>3GB</td>\n",
              "      <td>iOS 11.1</td>\n",
              "      <td>Yes</td>\n",
              "    </tr>\n",
              "    <tr>\n",
              "      <th>iPhone XS</th>\n",
              "      <td>2018-09-21</td>\n",
              "      <td>5.8</td>\n",
              "      <td>4GB</td>\n",
              "      <td>iOS 12.0</td>\n",
              "      <td>Yes</td>\n",
              "    </tr>\n",
              "    <tr>\n",
              "      <th>iPhone XS Max</th>\n",
              "      <td>2018-09-21</td>\n",
              "      <td>6.5</td>\n",
              "      <td>4GB</td>\n",
              "      <td>iOS 12.0</td>\n",
              "      <td>Yes</td>\n",
              "    </tr>\n",
              "  </tbody>\n",
              "</table>\n",
              "</div>"
            ],
            "text/plain": [
              "                      출시일  디스플레이  메모리     출시 버전 Face ID\n",
              "iPhone X       2017-11-03    5.8  3GB  iOS 11.1     Yes\n",
              "iPhone XS      2018-09-21    5.8  4GB  iOS 12.0     Yes\n",
              "iPhone XS Max  2018-09-21    6.5  4GB  iOS 12.0     Yes"
            ]
          },
          "metadata": {
            "tags": []
          },
          "execution_count": 40
        }
      ]
    },
    {
      "cell_type": "markdown",
      "metadata": {
        "id": "DnWqpyOUnvh2"
      },
      "source": [
        "- 여러가지 조건을 설정할 때\n",
        " >  & , | "
      ]
    },
    {
      "cell_type": "code",
      "metadata": {
        "colab": {
          "base_uri": "https://localhost:8080/",
          "height": 142
        },
        "id": "FvVPzuQTnLWT",
        "outputId": "6553c9c5-6f0f-4927-adb3-da811a9f9328"
      },
      "source": [
        "#두 조건 이상을 만족하는 값을 찾기\n",
        "condition = (iphone_df['디스플레이'] > 5) & (iphone_df['Face ID'] == 'Yes')\n",
        "#한가지 조건만 충족시켜도 되는경우는 (|) 기호 활용\n",
        "iphone_df[condition]"
      ],
      "execution_count": null,
      "outputs": [
        {
          "output_type": "execute_result",
          "data": {
            "text/html": [
              "<div>\n",
              "<style scoped>\n",
              "    .dataframe tbody tr th:only-of-type {\n",
              "        vertical-align: middle;\n",
              "    }\n",
              "\n",
              "    .dataframe tbody tr th {\n",
              "        vertical-align: top;\n",
              "    }\n",
              "\n",
              "    .dataframe thead th {\n",
              "        text-align: right;\n",
              "    }\n",
              "</style>\n",
              "<table border=\"1\" class=\"dataframe\">\n",
              "  <thead>\n",
              "    <tr style=\"text-align: right;\">\n",
              "      <th></th>\n",
              "      <th>출시일</th>\n",
              "      <th>디스플레이</th>\n",
              "      <th>메모리</th>\n",
              "      <th>출시 버전</th>\n",
              "      <th>Face ID</th>\n",
              "    </tr>\n",
              "  </thead>\n",
              "  <tbody>\n",
              "    <tr>\n",
              "      <th>iPhone X</th>\n",
              "      <td>2017-11-03</td>\n",
              "      <td>5.8</td>\n",
              "      <td>3GB</td>\n",
              "      <td>iOS 11.1</td>\n",
              "      <td>Yes</td>\n",
              "    </tr>\n",
              "    <tr>\n",
              "      <th>iPhone XS</th>\n",
              "      <td>2018-09-21</td>\n",
              "      <td>5.8</td>\n",
              "      <td>4GB</td>\n",
              "      <td>iOS 12.0</td>\n",
              "      <td>Yes</td>\n",
              "    </tr>\n",
              "    <tr>\n",
              "      <th>iPhone XS Max</th>\n",
              "      <td>2018-09-21</td>\n",
              "      <td>6.5</td>\n",
              "      <td>4GB</td>\n",
              "      <td>iOS 12.0</td>\n",
              "      <td>Yes</td>\n",
              "    </tr>\n",
              "  </tbody>\n",
              "</table>\n",
              "</div>"
            ],
            "text/plain": [
              "                      출시일  디스플레이  메모리     출시 버전 Face ID\n",
              "iPhone X       2017-11-03    5.8  3GB  iOS 11.1     Yes\n",
              "iPhone XS      2018-09-21    5.8  4GB  iOS 12.0     Yes\n",
              "iPhone XS Max  2018-09-21    6.5  4GB  iOS 12.0     Yes"
            ]
          },
          "metadata": {
            "tags": []
          },
          "execution_count": 44
        }
      ]
    },
    {
      "cell_type": "markdown",
      "metadata": {
        "id": "Dg8BZ1jVpI0C"
      },
      "source": [
        "- iloc: 데이터프레임 위치로 인덱싱하기"
      ]
    },
    {
      "cell_type": "code",
      "metadata": {
        "colab": {
          "base_uri": "https://localhost:8080/",
          "height": 35
        },
        "id": "PFaT7biZnbPU",
        "outputId": "b005c737-28ee-4113-98fa-ced8ed66e669"
      },
      "source": [
        "iphone_df.iloc[2,4]"
      ],
      "execution_count": null,
      "outputs": [
        {
          "output_type": "execute_result",
          "data": {
            "application/vnd.google.colaboratory.intrinsic+json": {
              "type": "string"
            },
            "text/plain": [
              "'No'"
            ]
          },
          "metadata": {
            "tags": []
          },
          "execution_count": 45
        }
      ]
    },
    {
      "cell_type": "code",
      "metadata": {
        "colab": {
          "base_uri": "https://localhost:8080/",
          "height": 111
        },
        "id": "IVrlbL_tpNmy",
        "outputId": "d5179980-4469-412c-f01a-faa1257e4cd3"
      },
      "source": [
        "iphone_df.iloc[[1,3],[1,4]]"
      ],
      "execution_count": null,
      "outputs": [
        {
          "output_type": "execute_result",
          "data": {
            "text/html": [
              "<div>\n",
              "<style scoped>\n",
              "    .dataframe tbody tr th:only-of-type {\n",
              "        vertical-align: middle;\n",
              "    }\n",
              "\n",
              "    .dataframe tbody tr th {\n",
              "        vertical-align: top;\n",
              "    }\n",
              "\n",
              "    .dataframe thead th {\n",
              "        text-align: right;\n",
              "    }\n",
              "</style>\n",
              "<table border=\"1\" class=\"dataframe\">\n",
              "  <thead>\n",
              "    <tr style=\"text-align: right;\">\n",
              "      <th></th>\n",
              "      <th>디스플레이</th>\n",
              "      <th>Face ID</th>\n",
              "    </tr>\n",
              "  </thead>\n",
              "  <tbody>\n",
              "    <tr>\n",
              "      <th>iPhone 7 Plus</th>\n",
              "      <td>5.5</td>\n",
              "      <td>No</td>\n",
              "    </tr>\n",
              "    <tr>\n",
              "      <th>iPhone 8 Plus</th>\n",
              "      <td>5.5</td>\n",
              "      <td>No</td>\n",
              "    </tr>\n",
              "  </tbody>\n",
              "</table>\n",
              "</div>"
            ],
            "text/plain": [
              "               디스플레이 Face ID\n",
              "iPhone 7 Plus    5.5      No\n",
              "iPhone 8 Plus    5.5      No"
            ]
          },
          "metadata": {
            "tags": []
          },
          "execution_count": 47
        }
      ]
    },
    {
      "cell_type": "code",
      "metadata": {
        "colab": {
          "base_uri": "https://localhost:8080/",
          "height": 173
        },
        "id": "zjFBDOfYpTTG",
        "outputId": "0ad839d2-356f-4136-f770-f525b1b8bbcd"
      },
      "source": [
        "iphone_df.iloc[3:, 1:4] #행 3~마지막까지, 열은 1,2,3열까지"
      ],
      "execution_count": null,
      "outputs": [
        {
          "output_type": "execute_result",
          "data": {
            "text/html": [
              "<div>\n",
              "<style scoped>\n",
              "    .dataframe tbody tr th:only-of-type {\n",
              "        vertical-align: middle;\n",
              "    }\n",
              "\n",
              "    .dataframe tbody tr th {\n",
              "        vertical-align: top;\n",
              "    }\n",
              "\n",
              "    .dataframe thead th {\n",
              "        text-align: right;\n",
              "    }\n",
              "</style>\n",
              "<table border=\"1\" class=\"dataframe\">\n",
              "  <thead>\n",
              "    <tr style=\"text-align: right;\">\n",
              "      <th></th>\n",
              "      <th>디스플레이</th>\n",
              "      <th>메모리</th>\n",
              "      <th>출시 버전</th>\n",
              "    </tr>\n",
              "  </thead>\n",
              "  <tbody>\n",
              "    <tr>\n",
              "      <th>iPhone 8 Plus</th>\n",
              "      <td>5.5</td>\n",
              "      <td>3GB</td>\n",
              "      <td>iOS 11.0</td>\n",
              "    </tr>\n",
              "    <tr>\n",
              "      <th>iPhone X</th>\n",
              "      <td>5.8</td>\n",
              "      <td>3GB</td>\n",
              "      <td>iOS 11.1</td>\n",
              "    </tr>\n",
              "    <tr>\n",
              "      <th>iPhone XS</th>\n",
              "      <td>5.8</td>\n",
              "      <td>4GB</td>\n",
              "      <td>iOS 12.0</td>\n",
              "    </tr>\n",
              "    <tr>\n",
              "      <th>iPhone XS Max</th>\n",
              "      <td>6.5</td>\n",
              "      <td>4GB</td>\n",
              "      <td>iOS 12.0</td>\n",
              "    </tr>\n",
              "  </tbody>\n",
              "</table>\n",
              "</div>"
            ],
            "text/plain": [
              "               디스플레이  메모리     출시 버전\n",
              "iPhone 8 Plus    5.5  3GB  iOS 11.0\n",
              "iPhone X         5.8  3GB  iOS 11.1\n",
              "iPhone XS        5.8  4GB  iOS 12.0\n",
              "iPhone XS Max    6.5  4GB  iOS 12.0"
            ]
          },
          "metadata": {
            "tags": []
          },
          "execution_count": 49
        }
      ]
    },
    {
      "cell_type": "markdown",
      "metadata": {
        "id": "UoJgMhm6p-w1"
      },
      "source": [
        "> df['x']는 'x'라는 column을 추출하고, df[slice]는 slice에 해당되는 row들을 추출합니다. "
      ]
    },
    {
      "cell_type": "markdown",
      "metadata": {
        "id": "iOQFF9qUqZYc"
      },
      "source": [
        "## **데이터프레임에 값 쓰기**"
      ]
    },
    {
      "cell_type": "code",
      "metadata": {
        "colab": {
          "base_uri": "https://localhost:8080/",
          "height": 266
        },
        "id": "AQWeiVF0pd4B",
        "outputId": "b3b22383-73e5-46bc-bcc4-a588303c0ef8"
      },
      "source": [
        "iphone_df"
      ],
      "execution_count": null,
      "outputs": [
        {
          "output_type": "execute_result",
          "data": {
            "text/html": [
              "<div>\n",
              "<style scoped>\n",
              "    .dataframe tbody tr th:only-of-type {\n",
              "        vertical-align: middle;\n",
              "    }\n",
              "\n",
              "    .dataframe tbody tr th {\n",
              "        vertical-align: top;\n",
              "    }\n",
              "\n",
              "    .dataframe thead th {\n",
              "        text-align: right;\n",
              "    }\n",
              "</style>\n",
              "<table border=\"1\" class=\"dataframe\">\n",
              "  <thead>\n",
              "    <tr style=\"text-align: right;\">\n",
              "      <th></th>\n",
              "      <th>출시일</th>\n",
              "      <th>디스플레이</th>\n",
              "      <th>메모리</th>\n",
              "      <th>출시 버전</th>\n",
              "      <th>Face ID</th>\n",
              "    </tr>\n",
              "  </thead>\n",
              "  <tbody>\n",
              "    <tr>\n",
              "      <th>iPhone 7</th>\n",
              "      <td>2016-09-16</td>\n",
              "      <td>4.7</td>\n",
              "      <td>2GB</td>\n",
              "      <td>iOS 10.0</td>\n",
              "      <td>No</td>\n",
              "    </tr>\n",
              "    <tr>\n",
              "      <th>iPhone 7 Plus</th>\n",
              "      <td>2016-09-16</td>\n",
              "      <td>5.5</td>\n",
              "      <td>3GB</td>\n",
              "      <td>iOS 10.0</td>\n",
              "      <td>No</td>\n",
              "    </tr>\n",
              "    <tr>\n",
              "      <th>iPhone 8</th>\n",
              "      <td>2017-09-22</td>\n",
              "      <td>4.7</td>\n",
              "      <td>2GB</td>\n",
              "      <td>iOS 11.0</td>\n",
              "      <td>No</td>\n",
              "    </tr>\n",
              "    <tr>\n",
              "      <th>iPhone 8 Plus</th>\n",
              "      <td>2017-09-22</td>\n",
              "      <td>5.5</td>\n",
              "      <td>3GB</td>\n",
              "      <td>iOS 11.0</td>\n",
              "      <td>No</td>\n",
              "    </tr>\n",
              "    <tr>\n",
              "      <th>iPhone X</th>\n",
              "      <td>2017-11-03</td>\n",
              "      <td>5.8</td>\n",
              "      <td>3GB</td>\n",
              "      <td>iOS 11.1</td>\n",
              "      <td>Yes</td>\n",
              "    </tr>\n",
              "    <tr>\n",
              "      <th>iPhone XS</th>\n",
              "      <td>2018-09-21</td>\n",
              "      <td>5.8</td>\n",
              "      <td>4GB</td>\n",
              "      <td>iOS 12.0</td>\n",
              "      <td>Yes</td>\n",
              "    </tr>\n",
              "    <tr>\n",
              "      <th>iPhone XS Max</th>\n",
              "      <td>2018-09-21</td>\n",
              "      <td>6.5</td>\n",
              "      <td>4GB</td>\n",
              "      <td>iOS 12.0</td>\n",
              "      <td>Yes</td>\n",
              "    </tr>\n",
              "  </tbody>\n",
              "</table>\n",
              "</div>"
            ],
            "text/plain": [
              "                      출시일  디스플레이  메모리     출시 버전 Face ID\n",
              "iPhone 7       2016-09-16    4.7  2GB  iOS 10.0      No\n",
              "iPhone 7 Plus  2016-09-16    5.5  3GB  iOS 10.0      No\n",
              "iPhone 8       2017-09-22    4.7  2GB  iOS 11.0      No\n",
              "iPhone 8 Plus  2017-09-22    5.5  3GB  iOS 11.0      No\n",
              "iPhone X       2017-11-03    5.8  3GB  iOS 11.1     Yes\n",
              "iPhone XS      2018-09-21    5.8  4GB  iOS 12.0     Yes\n",
              "iPhone XS Max  2018-09-21    6.5  4GB  iOS 12.0     Yes"
            ]
          },
          "metadata": {
            "tags": []
          },
          "execution_count": 51
        }
      ]
    },
    {
      "cell_type": "code",
      "metadata": {
        "id": "I5oKFohLqgJh"
      },
      "source": [
        "#새로운 값으로 지정학리\n",
        "iphone_df.loc['iPhone 8', '메모리'] = '2.5G'"
      ],
      "execution_count": null,
      "outputs": []
    },
    {
      "cell_type": "code",
      "metadata": {
        "id": "aqFumgf8rQzy"
      },
      "source": [
        "iphone_df.loc['iPhone 8', '출시버전'] = 'iOS 10.2'"
      ],
      "execution_count": null,
      "outputs": []
    },
    {
      "cell_type": "code",
      "metadata": {
        "colab": {
          "base_uri": "https://localhost:8080/",
          "height": 266
        },
        "id": "iv3rUd4LrXWs",
        "outputId": "23a53f7e-ab82-45fe-b384-ff0c1b426a09"
      },
      "source": [
        "#특정 행의 열 값들을 바꿔주기\n",
        "iphone_df.loc['iPhone 8'] = ['2016-09-22', '4.7', '2GB', 'iOS 11.0', 'No', '']\n",
        "iphone_df"
      ],
      "execution_count": null,
      "outputs": [
        {
          "output_type": "execute_result",
          "data": {
            "text/html": [
              "<div>\n",
              "<style scoped>\n",
              "    .dataframe tbody tr th:only-of-type {\n",
              "        vertical-align: middle;\n",
              "    }\n",
              "\n",
              "    .dataframe tbody tr th {\n",
              "        vertical-align: top;\n",
              "    }\n",
              "\n",
              "    .dataframe thead th {\n",
              "        text-align: right;\n",
              "    }\n",
              "</style>\n",
              "<table border=\"1\" class=\"dataframe\">\n",
              "  <thead>\n",
              "    <tr style=\"text-align: right;\">\n",
              "      <th></th>\n",
              "      <th>출시일</th>\n",
              "      <th>디스플레이</th>\n",
              "      <th>메모리</th>\n",
              "      <th>출시 버전</th>\n",
              "      <th>Face ID</th>\n",
              "      <th>출시버전</th>\n",
              "    </tr>\n",
              "  </thead>\n",
              "  <tbody>\n",
              "    <tr>\n",
              "      <th>iPhone 7</th>\n",
              "      <td>2016-09-16</td>\n",
              "      <td>4.7</td>\n",
              "      <td>2GB</td>\n",
              "      <td>iOS 10.0</td>\n",
              "      <td>No</td>\n",
              "      <td>NaN</td>\n",
              "    </tr>\n",
              "    <tr>\n",
              "      <th>iPhone 7 Plus</th>\n",
              "      <td>2016-09-16</td>\n",
              "      <td>5.5</td>\n",
              "      <td>3GB</td>\n",
              "      <td>iOS 10.0</td>\n",
              "      <td>No</td>\n",
              "      <td>NaN</td>\n",
              "    </tr>\n",
              "    <tr>\n",
              "      <th>iPhone 8</th>\n",
              "      <td>2016-09-22</td>\n",
              "      <td>4.7</td>\n",
              "      <td>2GB</td>\n",
              "      <td>iOS 11.0</td>\n",
              "      <td>No</td>\n",
              "      <td></td>\n",
              "    </tr>\n",
              "    <tr>\n",
              "      <th>iPhone 8 Plus</th>\n",
              "      <td>2017-09-22</td>\n",
              "      <td>5.5</td>\n",
              "      <td>3GB</td>\n",
              "      <td>iOS 11.0</td>\n",
              "      <td>No</td>\n",
              "      <td>NaN</td>\n",
              "    </tr>\n",
              "    <tr>\n",
              "      <th>iPhone X</th>\n",
              "      <td>2017-11-03</td>\n",
              "      <td>5.8</td>\n",
              "      <td>3GB</td>\n",
              "      <td>iOS 11.1</td>\n",
              "      <td>Yes</td>\n",
              "      <td>NaN</td>\n",
              "    </tr>\n",
              "    <tr>\n",
              "      <th>iPhone XS</th>\n",
              "      <td>2018-09-21</td>\n",
              "      <td>5.8</td>\n",
              "      <td>4GB</td>\n",
              "      <td>iOS 12.0</td>\n",
              "      <td>Yes</td>\n",
              "      <td>NaN</td>\n",
              "    </tr>\n",
              "    <tr>\n",
              "      <th>iPhone XS Max</th>\n",
              "      <td>2018-09-21</td>\n",
              "      <td>6.5</td>\n",
              "      <td>4GB</td>\n",
              "      <td>iOS 12.0</td>\n",
              "      <td>Yes</td>\n",
              "      <td>NaN</td>\n",
              "    </tr>\n",
              "  </tbody>\n",
              "</table>\n",
              "</div>"
            ],
            "text/plain": [
              "                      출시일 디스플레이  메모리     출시 버전 Face ID 출시버전\n",
              "iPhone 7       2016-09-16   4.7  2GB  iOS 10.0      No  NaN\n",
              "iPhone 7 Plus  2016-09-16   5.5  3GB  iOS 10.0      No  NaN\n",
              "iPhone 8       2016-09-22   4.7  2GB  iOS 11.0      No     \n",
              "iPhone 8 Plus  2017-09-22   5.5  3GB  iOS 11.0      No  NaN\n",
              "iPhone X       2017-11-03   5.8  3GB  iOS 11.1     Yes  NaN\n",
              "iPhone XS      2018-09-21   5.8  4GB  iOS 12.0     Yes  NaN\n",
              "iPhone XS Max  2018-09-21   6.5  4GB  iOS 12.0     Yes  NaN"
            ]
          },
          "metadata": {
            "tags": []
          },
          "execution_count": 68
        }
      ]
    },
    {
      "cell_type": "code",
      "metadata": {
        "colab": {
          "base_uri": "https://localhost:8080/",
          "height": 266
        },
        "id": "JIZeaZetrZJq",
        "outputId": "d25229fd-340c-4320-fc46-3420fd2b1930"
      },
      "source": [
        "#특정 컬럼의 값들을 바꿔주기\n",
        "iphone_df['디스플레이'] = ['4.7 in', '5.5 in', '4.7 in', '4.7 in', '4.7 in', '4.7 in', '4.7 in']\n",
        "iphone_df"
      ],
      "execution_count": null,
      "outputs": [
        {
          "output_type": "execute_result",
          "data": {
            "text/html": [
              "<div>\n",
              "<style scoped>\n",
              "    .dataframe tbody tr th:only-of-type {\n",
              "        vertical-align: middle;\n",
              "    }\n",
              "\n",
              "    .dataframe tbody tr th {\n",
              "        vertical-align: top;\n",
              "    }\n",
              "\n",
              "    .dataframe thead th {\n",
              "        text-align: right;\n",
              "    }\n",
              "</style>\n",
              "<table border=\"1\" class=\"dataframe\">\n",
              "  <thead>\n",
              "    <tr style=\"text-align: right;\">\n",
              "      <th></th>\n",
              "      <th>출시일</th>\n",
              "      <th>디스플레이</th>\n",
              "      <th>메모리</th>\n",
              "      <th>출시 버전</th>\n",
              "      <th>Face ID</th>\n",
              "      <th>출시버전</th>\n",
              "    </tr>\n",
              "  </thead>\n",
              "  <tbody>\n",
              "    <tr>\n",
              "      <th>iPhone 7</th>\n",
              "      <td>2016-09-16</td>\n",
              "      <td>4.7 in</td>\n",
              "      <td>2GB</td>\n",
              "      <td>iOS 10.0</td>\n",
              "      <td>No</td>\n",
              "      <td>NaN</td>\n",
              "    </tr>\n",
              "    <tr>\n",
              "      <th>iPhone 7 Plus</th>\n",
              "      <td>2016-09-16</td>\n",
              "      <td>5.5 in</td>\n",
              "      <td>3GB</td>\n",
              "      <td>iOS 10.0</td>\n",
              "      <td>No</td>\n",
              "      <td>NaN</td>\n",
              "    </tr>\n",
              "    <tr>\n",
              "      <th>iPhone 8</th>\n",
              "      <td>2016-09-22</td>\n",
              "      <td>4.7 in</td>\n",
              "      <td>2GB</td>\n",
              "      <td>iOS 11.0</td>\n",
              "      <td>No</td>\n",
              "      <td></td>\n",
              "    </tr>\n",
              "    <tr>\n",
              "      <th>iPhone 8 Plus</th>\n",
              "      <td>2017-09-22</td>\n",
              "      <td>4.7 in</td>\n",
              "      <td>3GB</td>\n",
              "      <td>iOS 11.0</td>\n",
              "      <td>No</td>\n",
              "      <td>NaN</td>\n",
              "    </tr>\n",
              "    <tr>\n",
              "      <th>iPhone X</th>\n",
              "      <td>2017-11-03</td>\n",
              "      <td>4.7 in</td>\n",
              "      <td>3GB</td>\n",
              "      <td>iOS 11.1</td>\n",
              "      <td>Yes</td>\n",
              "      <td>NaN</td>\n",
              "    </tr>\n",
              "    <tr>\n",
              "      <th>iPhone XS</th>\n",
              "      <td>2018-09-21</td>\n",
              "      <td>4.7 in</td>\n",
              "      <td>4GB</td>\n",
              "      <td>iOS 12.0</td>\n",
              "      <td>Yes</td>\n",
              "      <td>NaN</td>\n",
              "    </tr>\n",
              "    <tr>\n",
              "      <th>iPhone XS Max</th>\n",
              "      <td>2018-09-21</td>\n",
              "      <td>4.7 in</td>\n",
              "      <td>4GB</td>\n",
              "      <td>iOS 12.0</td>\n",
              "      <td>Yes</td>\n",
              "      <td>NaN</td>\n",
              "    </tr>\n",
              "  </tbody>\n",
              "</table>\n",
              "</div>"
            ],
            "text/plain": [
              "                      출시일   디스플레이  메모리     출시 버전 Face ID 출시버전\n",
              "iPhone 7       2016-09-16  4.7 in  2GB  iOS 10.0      No  NaN\n",
              "iPhone 7 Plus  2016-09-16  5.5 in  3GB  iOS 10.0      No  NaN\n",
              "iPhone 8       2016-09-22  4.7 in  2GB  iOS 11.0      No     \n",
              "iPhone 8 Plus  2017-09-22  4.7 in  3GB  iOS 11.0      No  NaN\n",
              "iPhone X       2017-11-03  4.7 in  3GB  iOS 11.1     Yes  NaN\n",
              "iPhone XS      2018-09-21  4.7 in  4GB  iOS 12.0     Yes  NaN\n",
              "iPhone XS Max  2018-09-21  4.7 in  4GB  iOS 12.0     Yes  NaN"
            ]
          },
          "metadata": {
            "tags": []
          },
          "execution_count": 72
        }
      ]
    },
    {
      "cell_type": "code",
      "metadata": {
        "colab": {
          "base_uri": "https://localhost:8080/",
          "height": 266
        },
        "id": "gUyK3dJsshKP",
        "outputId": "27c5cd6b-e35d-4cff-b793-85b95a35eacd"
      },
      "source": [
        "#모두 같은 값으로 바꿀 때\n",
        "iphone_df['Face ID'] = 'Yes'\n",
        "iphone_df"
      ],
      "execution_count": null,
      "outputs": [
        {
          "output_type": "execute_result",
          "data": {
            "text/html": [
              "<div>\n",
              "<style scoped>\n",
              "    .dataframe tbody tr th:only-of-type {\n",
              "        vertical-align: middle;\n",
              "    }\n",
              "\n",
              "    .dataframe tbody tr th {\n",
              "        vertical-align: top;\n",
              "    }\n",
              "\n",
              "    .dataframe thead th {\n",
              "        text-align: right;\n",
              "    }\n",
              "</style>\n",
              "<table border=\"1\" class=\"dataframe\">\n",
              "  <thead>\n",
              "    <tr style=\"text-align: right;\">\n",
              "      <th></th>\n",
              "      <th>출시일</th>\n",
              "      <th>디스플레이</th>\n",
              "      <th>메모리</th>\n",
              "      <th>출시 버전</th>\n",
              "      <th>Face ID</th>\n",
              "      <th>출시버전</th>\n",
              "    </tr>\n",
              "  </thead>\n",
              "  <tbody>\n",
              "    <tr>\n",
              "      <th>iPhone 7</th>\n",
              "      <td>2016-09-16</td>\n",
              "      <td>4.7 in</td>\n",
              "      <td>2GB</td>\n",
              "      <td>iOS 10.0</td>\n",
              "      <td>Yes</td>\n",
              "      <td>NaN</td>\n",
              "    </tr>\n",
              "    <tr>\n",
              "      <th>iPhone 7 Plus</th>\n",
              "      <td>2016-09-16</td>\n",
              "      <td>5.5 in</td>\n",
              "      <td>3GB</td>\n",
              "      <td>iOS 10.0</td>\n",
              "      <td>Yes</td>\n",
              "      <td>NaN</td>\n",
              "    </tr>\n",
              "    <tr>\n",
              "      <th>iPhone 8</th>\n",
              "      <td>2016-09-22</td>\n",
              "      <td>4.7 in</td>\n",
              "      <td>2GB</td>\n",
              "      <td>iOS 11.0</td>\n",
              "      <td>Yes</td>\n",
              "      <td></td>\n",
              "    </tr>\n",
              "    <tr>\n",
              "      <th>iPhone 8 Plus</th>\n",
              "      <td>2017-09-22</td>\n",
              "      <td>4.7 in</td>\n",
              "      <td>3GB</td>\n",
              "      <td>iOS 11.0</td>\n",
              "      <td>Yes</td>\n",
              "      <td>NaN</td>\n",
              "    </tr>\n",
              "    <tr>\n",
              "      <th>iPhone X</th>\n",
              "      <td>2017-11-03</td>\n",
              "      <td>4.7 in</td>\n",
              "      <td>3GB</td>\n",
              "      <td>iOS 11.1</td>\n",
              "      <td>Yes</td>\n",
              "      <td>NaN</td>\n",
              "    </tr>\n",
              "    <tr>\n",
              "      <th>iPhone XS</th>\n",
              "      <td>2018-09-21</td>\n",
              "      <td>4.7 in</td>\n",
              "      <td>4GB</td>\n",
              "      <td>iOS 12.0</td>\n",
              "      <td>Yes</td>\n",
              "      <td>NaN</td>\n",
              "    </tr>\n",
              "    <tr>\n",
              "      <th>iPhone XS Max</th>\n",
              "      <td>2018-09-21</td>\n",
              "      <td>4.7 in</td>\n",
              "      <td>4GB</td>\n",
              "      <td>iOS 12.0</td>\n",
              "      <td>Yes</td>\n",
              "      <td>NaN</td>\n",
              "    </tr>\n",
              "  </tbody>\n",
              "</table>\n",
              "</div>"
            ],
            "text/plain": [
              "                      출시일   디스플레이  메모리     출시 버전 Face ID 출시버전\n",
              "iPhone 7       2016-09-16  4.7 in  2GB  iOS 10.0     Yes  NaN\n",
              "iPhone 7 Plus  2016-09-16  5.5 in  3GB  iOS 10.0     Yes  NaN\n",
              "iPhone 8       2016-09-22  4.7 in  2GB  iOS 11.0     Yes     \n",
              "iPhone 8 Plus  2017-09-22  4.7 in  3GB  iOS 11.0     Yes  NaN\n",
              "iPhone X       2017-11-03  4.7 in  3GB  iOS 11.1     Yes  NaN\n",
              "iPhone XS      2018-09-21  4.7 in  4GB  iOS 12.0     Yes  NaN\n",
              "iPhone XS Max  2018-09-21  4.7 in  4GB  iOS 12.0     Yes  NaN"
            ]
          },
          "metadata": {
            "tags": []
          },
          "execution_count": 75
        }
      ]
    },
    {
      "cell_type": "markdown",
      "metadata": {
        "id": "ng8Nnm4LtCd0"
      },
      "source": [
        "- 여러 줄을 한꺼번에 바꾸기"
      ]
    },
    {
      "cell_type": "code",
      "metadata": {
        "colab": {
          "base_uri": "https://localhost:8080/",
          "height": 266
        },
        "id": "BIFd08-Es28M",
        "outputId": "9c83b440-5e08-4da3-a867-926e9120e03f"
      },
      "source": [
        "iphone_df[['디스플레이', 'Face ID']] = 'x'\n",
        "iphone_df"
      ],
      "execution_count": null,
      "outputs": [
        {
          "output_type": "execute_result",
          "data": {
            "text/html": [
              "<div>\n",
              "<style scoped>\n",
              "    .dataframe tbody tr th:only-of-type {\n",
              "        vertical-align: middle;\n",
              "    }\n",
              "\n",
              "    .dataframe tbody tr th {\n",
              "        vertical-align: top;\n",
              "    }\n",
              "\n",
              "    .dataframe thead th {\n",
              "        text-align: right;\n",
              "    }\n",
              "</style>\n",
              "<table border=\"1\" class=\"dataframe\">\n",
              "  <thead>\n",
              "    <tr style=\"text-align: right;\">\n",
              "      <th></th>\n",
              "      <th>출시일</th>\n",
              "      <th>디스플레이</th>\n",
              "      <th>메모리</th>\n",
              "      <th>출시 버전</th>\n",
              "      <th>Face ID</th>\n",
              "      <th>출시버전</th>\n",
              "    </tr>\n",
              "  </thead>\n",
              "  <tbody>\n",
              "    <tr>\n",
              "      <th>iPhone 7</th>\n",
              "      <td>2016-09-16</td>\n",
              "      <td>x</td>\n",
              "      <td>2GB</td>\n",
              "      <td>iOS 10.0</td>\n",
              "      <td>x</td>\n",
              "      <td>NaN</td>\n",
              "    </tr>\n",
              "    <tr>\n",
              "      <th>iPhone 7 Plus</th>\n",
              "      <td>2016-09-16</td>\n",
              "      <td>x</td>\n",
              "      <td>3GB</td>\n",
              "      <td>iOS 10.0</td>\n",
              "      <td>x</td>\n",
              "      <td>NaN</td>\n",
              "    </tr>\n",
              "    <tr>\n",
              "      <th>iPhone 8</th>\n",
              "      <td>2016-09-22</td>\n",
              "      <td>x</td>\n",
              "      <td>2GB</td>\n",
              "      <td>iOS 11.0</td>\n",
              "      <td>x</td>\n",
              "      <td></td>\n",
              "    </tr>\n",
              "    <tr>\n",
              "      <th>iPhone 8 Plus</th>\n",
              "      <td>2017-09-22</td>\n",
              "      <td>x</td>\n",
              "      <td>3GB</td>\n",
              "      <td>iOS 11.0</td>\n",
              "      <td>x</td>\n",
              "      <td>NaN</td>\n",
              "    </tr>\n",
              "    <tr>\n",
              "      <th>iPhone X</th>\n",
              "      <td>2017-11-03</td>\n",
              "      <td>x</td>\n",
              "      <td>3GB</td>\n",
              "      <td>iOS 11.1</td>\n",
              "      <td>x</td>\n",
              "      <td>NaN</td>\n",
              "    </tr>\n",
              "    <tr>\n",
              "      <th>iPhone XS</th>\n",
              "      <td>2018-09-21</td>\n",
              "      <td>x</td>\n",
              "      <td>4GB</td>\n",
              "      <td>iOS 12.0</td>\n",
              "      <td>x</td>\n",
              "      <td>NaN</td>\n",
              "    </tr>\n",
              "    <tr>\n",
              "      <th>iPhone XS Max</th>\n",
              "      <td>2018-09-21</td>\n",
              "      <td>x</td>\n",
              "      <td>4GB</td>\n",
              "      <td>iOS 12.0</td>\n",
              "      <td>x</td>\n",
              "      <td>NaN</td>\n",
              "    </tr>\n",
              "  </tbody>\n",
              "</table>\n",
              "</div>"
            ],
            "text/plain": [
              "                      출시일 디스플레이  메모리     출시 버전 Face ID 출시버전\n",
              "iPhone 7       2016-09-16     x  2GB  iOS 10.0       x  NaN\n",
              "iPhone 7 Plus  2016-09-16     x  3GB  iOS 10.0       x  NaN\n",
              "iPhone 8       2016-09-22     x  2GB  iOS 11.0       x     \n",
              "iPhone 8 Plus  2017-09-22     x  3GB  iOS 11.0       x  NaN\n",
              "iPhone X       2017-11-03     x  3GB  iOS 11.1       x  NaN\n",
              "iPhone XS      2018-09-21     x  4GB  iOS 12.0       x  NaN\n",
              "iPhone XS Max  2018-09-21     x  4GB  iOS 12.0       x  NaN"
            ]
          },
          "metadata": {
            "tags": []
          },
          "execution_count": 77
        }
      ]
    },
    {
      "cell_type": "code",
      "metadata": {
        "colab": {
          "base_uri": "https://localhost:8080/",
          "height": 266
        },
        "id": "DMHYKB4OtIoT",
        "outputId": "132b9552-7bdf-481c-cf96-6042349c9b4c"
      },
      "source": [
        "iphone_df.loc[['iPhone 7', 'iPhone X']] = 'o'\n",
        "iphone_df"
      ],
      "execution_count": null,
      "outputs": [
        {
          "output_type": "execute_result",
          "data": {
            "text/html": [
              "<div>\n",
              "<style scoped>\n",
              "    .dataframe tbody tr th:only-of-type {\n",
              "        vertical-align: middle;\n",
              "    }\n",
              "\n",
              "    .dataframe tbody tr th {\n",
              "        vertical-align: top;\n",
              "    }\n",
              "\n",
              "    .dataframe thead th {\n",
              "        text-align: right;\n",
              "    }\n",
              "</style>\n",
              "<table border=\"1\" class=\"dataframe\">\n",
              "  <thead>\n",
              "    <tr style=\"text-align: right;\">\n",
              "      <th></th>\n",
              "      <th>출시일</th>\n",
              "      <th>디스플레이</th>\n",
              "      <th>메모리</th>\n",
              "      <th>출시 버전</th>\n",
              "      <th>Face ID</th>\n",
              "      <th>출시버전</th>\n",
              "    </tr>\n",
              "  </thead>\n",
              "  <tbody>\n",
              "    <tr>\n",
              "      <th>iPhone 7</th>\n",
              "      <td>o</td>\n",
              "      <td>o</td>\n",
              "      <td>o</td>\n",
              "      <td>o</td>\n",
              "      <td>o</td>\n",
              "      <td>o</td>\n",
              "    </tr>\n",
              "    <tr>\n",
              "      <th>iPhone 7 Plus</th>\n",
              "      <td>2016-09-16</td>\n",
              "      <td>x</td>\n",
              "      <td>3GB</td>\n",
              "      <td>iOS 10.0</td>\n",
              "      <td>x</td>\n",
              "      <td>NaN</td>\n",
              "    </tr>\n",
              "    <tr>\n",
              "      <th>iPhone 8</th>\n",
              "      <td>2016-09-22</td>\n",
              "      <td>x</td>\n",
              "      <td>2GB</td>\n",
              "      <td>iOS 11.0</td>\n",
              "      <td>x</td>\n",
              "      <td></td>\n",
              "    </tr>\n",
              "    <tr>\n",
              "      <th>iPhone 8 Plus</th>\n",
              "      <td>2017-09-22</td>\n",
              "      <td>x</td>\n",
              "      <td>3GB</td>\n",
              "      <td>iOS 11.0</td>\n",
              "      <td>x</td>\n",
              "      <td>NaN</td>\n",
              "    </tr>\n",
              "    <tr>\n",
              "      <th>iPhone X</th>\n",
              "      <td>o</td>\n",
              "      <td>o</td>\n",
              "      <td>o</td>\n",
              "      <td>o</td>\n",
              "      <td>o</td>\n",
              "      <td>o</td>\n",
              "    </tr>\n",
              "    <tr>\n",
              "      <th>iPhone XS</th>\n",
              "      <td>2018-09-21</td>\n",
              "      <td>x</td>\n",
              "      <td>4GB</td>\n",
              "      <td>iOS 12.0</td>\n",
              "      <td>x</td>\n",
              "      <td>NaN</td>\n",
              "    </tr>\n",
              "    <tr>\n",
              "      <th>iPhone XS Max</th>\n",
              "      <td>2018-09-21</td>\n",
              "      <td>x</td>\n",
              "      <td>4GB</td>\n",
              "      <td>iOS 12.0</td>\n",
              "      <td>x</td>\n",
              "      <td>NaN</td>\n",
              "    </tr>\n",
              "  </tbody>\n",
              "</table>\n",
              "</div>"
            ],
            "text/plain": [
              "                      출시일 디스플레이  메모리     출시 버전 Face ID 출시버전\n",
              "iPhone 7                o     o    o         o       o    o\n",
              "iPhone 7 Plus  2016-09-16     x  3GB  iOS 10.0       x  NaN\n",
              "iPhone 8       2016-09-22     x  2GB  iOS 11.0       x     \n",
              "iPhone 8 Plus  2017-09-22     x  3GB  iOS 11.0       x  NaN\n",
              "iPhone X                o     o    o         o       o    o\n",
              "iPhone XS      2018-09-21     x  4GB  iOS 12.0       x  NaN\n",
              "iPhone XS Max  2018-09-21     x  4GB  iOS 12.0       x  NaN"
            ]
          },
          "metadata": {
            "tags": []
          },
          "execution_count": 81
        }
      ]
    },
    {
      "cell_type": "code",
      "metadata": {
        "colab": {
          "base_uri": "https://localhost:8080/",
          "height": 266
        },
        "id": "elMWTu1ItS2y",
        "outputId": "45d9c35f-a693-4e2d-d3ae-b0086cb86a67"
      },
      "source": [
        "#연속된 row 바꾸기\n",
        "iphone_df.loc['iPhone 7':'iPhone X'] = 'o'\n",
        "iphone_df"
      ],
      "execution_count": null,
      "outputs": [
        {
          "output_type": "execute_result",
          "data": {
            "text/html": [
              "<div>\n",
              "<style scoped>\n",
              "    .dataframe tbody tr th:only-of-type {\n",
              "        vertical-align: middle;\n",
              "    }\n",
              "\n",
              "    .dataframe tbody tr th {\n",
              "        vertical-align: top;\n",
              "    }\n",
              "\n",
              "    .dataframe thead th {\n",
              "        text-align: right;\n",
              "    }\n",
              "</style>\n",
              "<table border=\"1\" class=\"dataframe\">\n",
              "  <thead>\n",
              "    <tr style=\"text-align: right;\">\n",
              "      <th></th>\n",
              "      <th>출시일</th>\n",
              "      <th>디스플레이</th>\n",
              "      <th>메모리</th>\n",
              "      <th>출시 버전</th>\n",
              "      <th>Face ID</th>\n",
              "      <th>출시버전</th>\n",
              "    </tr>\n",
              "  </thead>\n",
              "  <tbody>\n",
              "    <tr>\n",
              "      <th>iPhone 7</th>\n",
              "      <td>o</td>\n",
              "      <td>o</td>\n",
              "      <td>o</td>\n",
              "      <td>o</td>\n",
              "      <td>o</td>\n",
              "      <td>o</td>\n",
              "    </tr>\n",
              "    <tr>\n",
              "      <th>iPhone 7 Plus</th>\n",
              "      <td>o</td>\n",
              "      <td>o</td>\n",
              "      <td>o</td>\n",
              "      <td>o</td>\n",
              "      <td>o</td>\n",
              "      <td>o</td>\n",
              "    </tr>\n",
              "    <tr>\n",
              "      <th>iPhone 8</th>\n",
              "      <td>o</td>\n",
              "      <td>o</td>\n",
              "      <td>o</td>\n",
              "      <td>o</td>\n",
              "      <td>o</td>\n",
              "      <td>o</td>\n",
              "    </tr>\n",
              "    <tr>\n",
              "      <th>iPhone 8 Plus</th>\n",
              "      <td>o</td>\n",
              "      <td>o</td>\n",
              "      <td>o</td>\n",
              "      <td>o</td>\n",
              "      <td>o</td>\n",
              "      <td>o</td>\n",
              "    </tr>\n",
              "    <tr>\n",
              "      <th>iPhone X</th>\n",
              "      <td>o</td>\n",
              "      <td>o</td>\n",
              "      <td>o</td>\n",
              "      <td>o</td>\n",
              "      <td>o</td>\n",
              "      <td>o</td>\n",
              "    </tr>\n",
              "    <tr>\n",
              "      <th>iPhone XS</th>\n",
              "      <td>2018-09-21</td>\n",
              "      <td>x</td>\n",
              "      <td>4GB</td>\n",
              "      <td>iOS 12.0</td>\n",
              "      <td>x</td>\n",
              "      <td>NaN</td>\n",
              "    </tr>\n",
              "    <tr>\n",
              "      <th>iPhone XS Max</th>\n",
              "      <td>2018-09-21</td>\n",
              "      <td>x</td>\n",
              "      <td>4GB</td>\n",
              "      <td>iOS 12.0</td>\n",
              "      <td>x</td>\n",
              "      <td>NaN</td>\n",
              "    </tr>\n",
              "  </tbody>\n",
              "</table>\n",
              "</div>"
            ],
            "text/plain": [
              "                      출시일 디스플레이  메모리     출시 버전 Face ID 출시버전\n",
              "iPhone 7                o     o    o         o       o    o\n",
              "iPhone 7 Plus           o     o    o         o       o    o\n",
              "iPhone 8                o     o    o         o       o    o\n",
              "iPhone 8 Plus           o     o    o         o       o    o\n",
              "iPhone X                o     o    o         o       o    o\n",
              "iPhone XS      2018-09-21     x  4GB  iOS 12.0       x  NaN\n",
              "iPhone XS Max  2018-09-21     x  4GB  iOS 12.0       x  NaN"
            ]
          },
          "metadata": {
            "tags": []
          },
          "execution_count": 83
        }
      ]
    },
    {
      "cell_type": "code",
      "metadata": {
        "colab": {
          "base_uri": "https://localhost:8080/",
          "height": 266
        },
        "id": "91X7B7AGvedh",
        "outputId": "09499d34-7403-4374-91f3-c4b8b114f441"
      },
      "source": [
        "import pandas as pd\n",
        "iphone_df = pd.read_csv('iphone.csv', index_col = 0)\n",
        "iphone_df"
      ],
      "execution_count": null,
      "outputs": [
        {
          "output_type": "execute_result",
          "data": {
            "text/html": [
              "<div>\n",
              "<style scoped>\n",
              "    .dataframe tbody tr th:only-of-type {\n",
              "        vertical-align: middle;\n",
              "    }\n",
              "\n",
              "    .dataframe tbody tr th {\n",
              "        vertical-align: top;\n",
              "    }\n",
              "\n",
              "    .dataframe thead th {\n",
              "        text-align: right;\n",
              "    }\n",
              "</style>\n",
              "<table border=\"1\" class=\"dataframe\">\n",
              "  <thead>\n",
              "    <tr style=\"text-align: right;\">\n",
              "      <th></th>\n",
              "      <th>출시일</th>\n",
              "      <th>디스플레이</th>\n",
              "      <th>메모리</th>\n",
              "      <th>출시 버전</th>\n",
              "      <th>Face ID</th>\n",
              "    </tr>\n",
              "  </thead>\n",
              "  <tbody>\n",
              "    <tr>\n",
              "      <th>iPhone 7</th>\n",
              "      <td>2016-09-16</td>\n",
              "      <td>4.7</td>\n",
              "      <td>2GB</td>\n",
              "      <td>iOS 10.0</td>\n",
              "      <td>No</td>\n",
              "    </tr>\n",
              "    <tr>\n",
              "      <th>iPhone 7 Plus</th>\n",
              "      <td>2016-09-16</td>\n",
              "      <td>5.5</td>\n",
              "      <td>3GB</td>\n",
              "      <td>iOS 10.0</td>\n",
              "      <td>No</td>\n",
              "    </tr>\n",
              "    <tr>\n",
              "      <th>iPhone 8</th>\n",
              "      <td>2017-09-22</td>\n",
              "      <td>4.7</td>\n",
              "      <td>2GB</td>\n",
              "      <td>iOS 11.0</td>\n",
              "      <td>No</td>\n",
              "    </tr>\n",
              "    <tr>\n",
              "      <th>iPhone 8 Plus</th>\n",
              "      <td>2017-09-22</td>\n",
              "      <td>5.5</td>\n",
              "      <td>3GB</td>\n",
              "      <td>iOS 11.0</td>\n",
              "      <td>No</td>\n",
              "    </tr>\n",
              "    <tr>\n",
              "      <th>iPhone X</th>\n",
              "      <td>2017-11-03</td>\n",
              "      <td>5.8</td>\n",
              "      <td>3GB</td>\n",
              "      <td>iOS 11.1</td>\n",
              "      <td>Yes</td>\n",
              "    </tr>\n",
              "    <tr>\n",
              "      <th>iPhone XS</th>\n",
              "      <td>2018-09-21</td>\n",
              "      <td>5.8</td>\n",
              "      <td>4GB</td>\n",
              "      <td>iOS 12.0</td>\n",
              "      <td>Yes</td>\n",
              "    </tr>\n",
              "    <tr>\n",
              "      <th>iPhone XS Max</th>\n",
              "      <td>2018-09-21</td>\n",
              "      <td>6.5</td>\n",
              "      <td>4GB</td>\n",
              "      <td>iOS 12.0</td>\n",
              "      <td>Yes</td>\n",
              "    </tr>\n",
              "  </tbody>\n",
              "</table>\n",
              "</div>"
            ],
            "text/plain": [
              "                      출시일  디스플레이  메모리     출시 버전 Face ID\n",
              "iPhone 7       2016-09-16    4.7  2GB  iOS 10.0      No\n",
              "iPhone 7 Plus  2016-09-16    5.5  3GB  iOS 10.0      No\n",
              "iPhone 8       2017-09-22    4.7  2GB  iOS 11.0      No\n",
              "iPhone 8 Plus  2017-09-22    5.5  3GB  iOS 11.0      No\n",
              "iPhone X       2017-11-03    5.8  3GB  iOS 11.1     Yes\n",
              "iPhone XS      2018-09-21    5.8  4GB  iOS 12.0     Yes\n",
              "iPhone XS Max  2018-09-21    6.5  4GB  iOS 12.0     Yes"
            ]
          },
          "metadata": {
            "tags": []
          },
          "execution_count": 96
        }
      ]
    },
    {
      "cell_type": "code",
      "metadata": {
        "colab": {
          "base_uri": "https://localhost:8080/"
        },
        "id": "Tz-s0F65vmDv",
        "outputId": "7683e045-2020-43b3-8471-9a2cfad23219"
      },
      "source": [
        "iphone_df['디스플레이'] > 5"
      ],
      "execution_count": null,
      "outputs": [
        {
          "output_type": "execute_result",
          "data": {
            "text/plain": [
              "iPhone 7         False\n",
              "iPhone 7 Plus     True\n",
              "iPhone 8         False\n",
              "iPhone 8 Plus     True\n",
              "iPhone X          True\n",
              "iPhone XS         True\n",
              "iPhone XS Max     True\n",
              "Name: 디스플레이, dtype: bool"
            ]
          },
          "metadata": {
            "tags": []
          },
          "execution_count": 99
        }
      ]
    },
    {
      "cell_type": "code",
      "metadata": {
        "colab": {
          "base_uri": "https://localhost:8080/",
          "height": 266
        },
        "id": "Oj7UXocSvpWT",
        "outputId": "384a98b0-eec0-4c21-8b67-0c462916b129"
      },
      "source": [
        "iphone_df.loc[iphone_df['디스플레이'] > 5] = 'p'\n",
        "iphone_df"
      ],
      "execution_count": null,
      "outputs": [
        {
          "output_type": "execute_result",
          "data": {
            "text/html": [
              "<div>\n",
              "<style scoped>\n",
              "    .dataframe tbody tr th:only-of-type {\n",
              "        vertical-align: middle;\n",
              "    }\n",
              "\n",
              "    .dataframe tbody tr th {\n",
              "        vertical-align: top;\n",
              "    }\n",
              "\n",
              "    .dataframe thead th {\n",
              "        text-align: right;\n",
              "    }\n",
              "</style>\n",
              "<table border=\"1\" class=\"dataframe\">\n",
              "  <thead>\n",
              "    <tr style=\"text-align: right;\">\n",
              "      <th></th>\n",
              "      <th>출시일</th>\n",
              "      <th>디스플레이</th>\n",
              "      <th>메모리</th>\n",
              "      <th>출시 버전</th>\n",
              "      <th>Face ID</th>\n",
              "    </tr>\n",
              "  </thead>\n",
              "  <tbody>\n",
              "    <tr>\n",
              "      <th>iPhone 7</th>\n",
              "      <td>2016-09-16</td>\n",
              "      <td>4.7</td>\n",
              "      <td>2GB</td>\n",
              "      <td>iOS 10.0</td>\n",
              "      <td>No</td>\n",
              "    </tr>\n",
              "    <tr>\n",
              "      <th>iPhone 7 Plus</th>\n",
              "      <td>p</td>\n",
              "      <td>p</td>\n",
              "      <td>p</td>\n",
              "      <td>p</td>\n",
              "      <td>p</td>\n",
              "    </tr>\n",
              "    <tr>\n",
              "      <th>iPhone 8</th>\n",
              "      <td>2017-09-22</td>\n",
              "      <td>4.7</td>\n",
              "      <td>2GB</td>\n",
              "      <td>iOS 11.0</td>\n",
              "      <td>No</td>\n",
              "    </tr>\n",
              "    <tr>\n",
              "      <th>iPhone 8 Plus</th>\n",
              "      <td>p</td>\n",
              "      <td>p</td>\n",
              "      <td>p</td>\n",
              "      <td>p</td>\n",
              "      <td>p</td>\n",
              "    </tr>\n",
              "    <tr>\n",
              "      <th>iPhone X</th>\n",
              "      <td>p</td>\n",
              "      <td>p</td>\n",
              "      <td>p</td>\n",
              "      <td>p</td>\n",
              "      <td>p</td>\n",
              "    </tr>\n",
              "    <tr>\n",
              "      <th>iPhone XS</th>\n",
              "      <td>p</td>\n",
              "      <td>p</td>\n",
              "      <td>p</td>\n",
              "      <td>p</td>\n",
              "      <td>p</td>\n",
              "    </tr>\n",
              "    <tr>\n",
              "      <th>iPhone XS Max</th>\n",
              "      <td>p</td>\n",
              "      <td>p</td>\n",
              "      <td>p</td>\n",
              "      <td>p</td>\n",
              "      <td>p</td>\n",
              "    </tr>\n",
              "  </tbody>\n",
              "</table>\n",
              "</div>"
            ],
            "text/plain": [
              "                      출시일 디스플레이  메모리     출시 버전 Face ID\n",
              "iPhone 7       2016-09-16   4.7  2GB  iOS 10.0      No\n",
              "iPhone 7 Plus           p     p    p         p       p\n",
              "iPhone 8       2017-09-22   4.7  2GB  iOS 11.0      No\n",
              "iPhone 8 Plus           p     p    p         p       p\n",
              "iPhone X                p     p    p         p       p\n",
              "iPhone XS               p     p    p         p       p\n",
              "iPhone XS Max           p     p    p         p       p"
            ]
          },
          "metadata": {
            "tags": []
          },
          "execution_count": 100
        }
      ]
    },
    {
      "cell_type": "code",
      "metadata": {
        "colab": {
          "base_uri": "https://localhost:8080/",
          "height": 266
        },
        "id": "kXk9RuNKvw_8",
        "outputId": "601c00bf-bd48-40ac-b921-7f8e16f834fc"
      },
      "source": [
        "iphone_df.iloc[[1,3],[1,4]] = 'v'\n",
        "iphone_df"
      ],
      "execution_count": null,
      "outputs": [
        {
          "output_type": "execute_result",
          "data": {
            "text/html": [
              "<div>\n",
              "<style scoped>\n",
              "    .dataframe tbody tr th:only-of-type {\n",
              "        vertical-align: middle;\n",
              "    }\n",
              "\n",
              "    .dataframe tbody tr th {\n",
              "        vertical-align: top;\n",
              "    }\n",
              "\n",
              "    .dataframe thead th {\n",
              "        text-align: right;\n",
              "    }\n",
              "</style>\n",
              "<table border=\"1\" class=\"dataframe\">\n",
              "  <thead>\n",
              "    <tr style=\"text-align: right;\">\n",
              "      <th></th>\n",
              "      <th>출시일</th>\n",
              "      <th>디스플레이</th>\n",
              "      <th>메모리</th>\n",
              "      <th>출시 버전</th>\n",
              "      <th>Face ID</th>\n",
              "    </tr>\n",
              "  </thead>\n",
              "  <tbody>\n",
              "    <tr>\n",
              "      <th>iPhone 7</th>\n",
              "      <td>2016-09-16</td>\n",
              "      <td>4.7</td>\n",
              "      <td>2GB</td>\n",
              "      <td>iOS 10.0</td>\n",
              "      <td>No</td>\n",
              "    </tr>\n",
              "    <tr>\n",
              "      <th>iPhone 7 Plus</th>\n",
              "      <td>p</td>\n",
              "      <td>v</td>\n",
              "      <td>p</td>\n",
              "      <td>p</td>\n",
              "      <td>v</td>\n",
              "    </tr>\n",
              "    <tr>\n",
              "      <th>iPhone 8</th>\n",
              "      <td>2017-09-22</td>\n",
              "      <td>4.7</td>\n",
              "      <td>2GB</td>\n",
              "      <td>iOS 11.0</td>\n",
              "      <td>No</td>\n",
              "    </tr>\n",
              "    <tr>\n",
              "      <th>iPhone 8 Plus</th>\n",
              "      <td>p</td>\n",
              "      <td>v</td>\n",
              "      <td>p</td>\n",
              "      <td>p</td>\n",
              "      <td>v</td>\n",
              "    </tr>\n",
              "    <tr>\n",
              "      <th>iPhone X</th>\n",
              "      <td>p</td>\n",
              "      <td>p</td>\n",
              "      <td>p</td>\n",
              "      <td>p</td>\n",
              "      <td>p</td>\n",
              "    </tr>\n",
              "    <tr>\n",
              "      <th>iPhone XS</th>\n",
              "      <td>p</td>\n",
              "      <td>p</td>\n",
              "      <td>p</td>\n",
              "      <td>p</td>\n",
              "      <td>p</td>\n",
              "    </tr>\n",
              "    <tr>\n",
              "      <th>iPhone XS Max</th>\n",
              "      <td>p</td>\n",
              "      <td>p</td>\n",
              "      <td>p</td>\n",
              "      <td>p</td>\n",
              "      <td>p</td>\n",
              "    </tr>\n",
              "  </tbody>\n",
              "</table>\n",
              "</div>"
            ],
            "text/plain": [
              "                      출시일 디스플레이  메모리     출시 버전 Face ID\n",
              "iPhone 7       2016-09-16   4.7  2GB  iOS 10.0      No\n",
              "iPhone 7 Plus           p     v    p         p       v\n",
              "iPhone 8       2017-09-22   4.7  2GB  iOS 11.0      No\n",
              "iPhone 8 Plus           p     v    p         p       v\n",
              "iPhone X                p     p    p         p       p\n",
              "iPhone XS               p     p    p         p       p\n",
              "iPhone XS Max           p     p    p         p       p"
            ]
          },
          "metadata": {
            "tags": []
          },
          "execution_count": 101
        }
      ]
    },
    {
      "cell_type": "markdown",
      "metadata": {
        "id": "M565u552wUmf"
      },
      "source": [
        "## **데이터프레임 값 추가/삭제**"
      ]
    },
    {
      "cell_type": "code",
      "metadata": {
        "colab": {
          "base_uri": "https://localhost:8080/",
          "height": 266
        },
        "id": "Jtu2QBAHv68v",
        "outputId": "28194f11-0808-45b7-eb08-b5b36f3bfbc0"
      },
      "source": [
        "import pandas as pd\n",
        "iphone_df = pd.read_csv('iphone.csv', index_col = 0)\n",
        "iphone_df"
      ],
      "execution_count": null,
      "outputs": [
        {
          "output_type": "execute_result",
          "data": {
            "text/html": [
              "<div>\n",
              "<style scoped>\n",
              "    .dataframe tbody tr th:only-of-type {\n",
              "        vertical-align: middle;\n",
              "    }\n",
              "\n",
              "    .dataframe tbody tr th {\n",
              "        vertical-align: top;\n",
              "    }\n",
              "\n",
              "    .dataframe thead th {\n",
              "        text-align: right;\n",
              "    }\n",
              "</style>\n",
              "<table border=\"1\" class=\"dataframe\">\n",
              "  <thead>\n",
              "    <tr style=\"text-align: right;\">\n",
              "      <th></th>\n",
              "      <th>출시일</th>\n",
              "      <th>디스플레이</th>\n",
              "      <th>메모리</th>\n",
              "      <th>출시 버전</th>\n",
              "      <th>Face ID</th>\n",
              "    </tr>\n",
              "  </thead>\n",
              "  <tbody>\n",
              "    <tr>\n",
              "      <th>iPhone 7</th>\n",
              "      <td>2016-09-16</td>\n",
              "      <td>4.7</td>\n",
              "      <td>2GB</td>\n",
              "      <td>iOS 10.0</td>\n",
              "      <td>No</td>\n",
              "    </tr>\n",
              "    <tr>\n",
              "      <th>iPhone 7 Plus</th>\n",
              "      <td>2016-09-16</td>\n",
              "      <td>5.5</td>\n",
              "      <td>3GB</td>\n",
              "      <td>iOS 10.0</td>\n",
              "      <td>No</td>\n",
              "    </tr>\n",
              "    <tr>\n",
              "      <th>iPhone 8</th>\n",
              "      <td>2017-09-22</td>\n",
              "      <td>4.7</td>\n",
              "      <td>2GB</td>\n",
              "      <td>iOS 11.0</td>\n",
              "      <td>No</td>\n",
              "    </tr>\n",
              "    <tr>\n",
              "      <th>iPhone 8 Plus</th>\n",
              "      <td>2017-09-22</td>\n",
              "      <td>5.5</td>\n",
              "      <td>3GB</td>\n",
              "      <td>iOS 11.0</td>\n",
              "      <td>No</td>\n",
              "    </tr>\n",
              "    <tr>\n",
              "      <th>iPhone X</th>\n",
              "      <td>2017-11-03</td>\n",
              "      <td>5.8</td>\n",
              "      <td>3GB</td>\n",
              "      <td>iOS 11.1</td>\n",
              "      <td>Yes</td>\n",
              "    </tr>\n",
              "    <tr>\n",
              "      <th>iPhone XS</th>\n",
              "      <td>2018-09-21</td>\n",
              "      <td>5.8</td>\n",
              "      <td>4GB</td>\n",
              "      <td>iOS 12.0</td>\n",
              "      <td>Yes</td>\n",
              "    </tr>\n",
              "    <tr>\n",
              "      <th>iPhone XS Max</th>\n",
              "      <td>2018-09-21</td>\n",
              "      <td>6.5</td>\n",
              "      <td>4GB</td>\n",
              "      <td>iOS 12.0</td>\n",
              "      <td>Yes</td>\n",
              "    </tr>\n",
              "  </tbody>\n",
              "</table>\n",
              "</div>"
            ],
            "text/plain": [
              "                      출시일  디스플레이  메모리     출시 버전 Face ID\n",
              "iPhone 7       2016-09-16    4.7  2GB  iOS 10.0      No\n",
              "iPhone 7 Plus  2016-09-16    5.5  3GB  iOS 10.0      No\n",
              "iPhone 8       2017-09-22    4.7  2GB  iOS 11.0      No\n",
              "iPhone 8 Plus  2017-09-22    5.5  3GB  iOS 11.0      No\n",
              "iPhone X       2017-11-03    5.8  3GB  iOS 11.1     Yes\n",
              "iPhone XS      2018-09-21    5.8  4GB  iOS 12.0     Yes\n",
              "iPhone XS Max  2018-09-21    6.5  4GB  iOS 12.0     Yes"
            ]
          },
          "metadata": {
            "tags": []
          },
          "execution_count": 133
        }
      ]
    },
    {
      "cell_type": "markdown",
      "metadata": {
        "id": "ODysxPsiwyOo"
      },
      "source": [
        "*  행(row) 추가하기"
      ]
    },
    {
      "cell_type": "code",
      "metadata": {
        "colab": {
          "base_uri": "https://localhost:8080/",
          "height": 297
        },
        "id": "6csPNN8Nwal9",
        "outputId": "ee9ba14c-050f-4878-d219-2690c762d51f"
      },
      "source": [
        "#행 추가하기\n",
        "iphone_df.loc['iPhone XR'] = ['2018-10-26', '6.1', '3GB', 'iOS 11.0', 'No']\n",
        "iphone_df"
      ],
      "execution_count": null,
      "outputs": [
        {
          "output_type": "execute_result",
          "data": {
            "text/html": [
              "<div>\n",
              "<style scoped>\n",
              "    .dataframe tbody tr th:only-of-type {\n",
              "        vertical-align: middle;\n",
              "    }\n",
              "\n",
              "    .dataframe tbody tr th {\n",
              "        vertical-align: top;\n",
              "    }\n",
              "\n",
              "    .dataframe thead th {\n",
              "        text-align: right;\n",
              "    }\n",
              "</style>\n",
              "<table border=\"1\" class=\"dataframe\">\n",
              "  <thead>\n",
              "    <tr style=\"text-align: right;\">\n",
              "      <th></th>\n",
              "      <th>출시일</th>\n",
              "      <th>디스플레이</th>\n",
              "      <th>메모리</th>\n",
              "      <th>출시 버전</th>\n",
              "      <th>Face ID</th>\n",
              "    </tr>\n",
              "  </thead>\n",
              "  <tbody>\n",
              "    <tr>\n",
              "      <th>iPhone 7</th>\n",
              "      <td>2016-09-16</td>\n",
              "      <td>4.7</td>\n",
              "      <td>2GB</td>\n",
              "      <td>iOS 10.0</td>\n",
              "      <td>No</td>\n",
              "    </tr>\n",
              "    <tr>\n",
              "      <th>iPhone 7 Plus</th>\n",
              "      <td>2016-09-16</td>\n",
              "      <td>5.5</td>\n",
              "      <td>3GB</td>\n",
              "      <td>iOS 10.0</td>\n",
              "      <td>No</td>\n",
              "    </tr>\n",
              "    <tr>\n",
              "      <th>iPhone 8</th>\n",
              "      <td>2017-09-22</td>\n",
              "      <td>4.7</td>\n",
              "      <td>2GB</td>\n",
              "      <td>iOS 11.0</td>\n",
              "      <td>No</td>\n",
              "    </tr>\n",
              "    <tr>\n",
              "      <th>iPhone 8 Plus</th>\n",
              "      <td>2017-09-22</td>\n",
              "      <td>5.5</td>\n",
              "      <td>3GB</td>\n",
              "      <td>iOS 11.0</td>\n",
              "      <td>No</td>\n",
              "    </tr>\n",
              "    <tr>\n",
              "      <th>iPhone X</th>\n",
              "      <td>2017-11-03</td>\n",
              "      <td>5.8</td>\n",
              "      <td>3GB</td>\n",
              "      <td>iOS 11.1</td>\n",
              "      <td>Yes</td>\n",
              "    </tr>\n",
              "    <tr>\n",
              "      <th>iPhone XS</th>\n",
              "      <td>2018-09-21</td>\n",
              "      <td>5.8</td>\n",
              "      <td>4GB</td>\n",
              "      <td>iOS 12.0</td>\n",
              "      <td>Yes</td>\n",
              "    </tr>\n",
              "    <tr>\n",
              "      <th>iPhone XS Max</th>\n",
              "      <td>2018-09-21</td>\n",
              "      <td>6.5</td>\n",
              "      <td>4GB</td>\n",
              "      <td>iOS 12.0</td>\n",
              "      <td>Yes</td>\n",
              "    </tr>\n",
              "    <tr>\n",
              "      <th>iPhone XR</th>\n",
              "      <td>2018-10-26</td>\n",
              "      <td>6.1</td>\n",
              "      <td>3GB</td>\n",
              "      <td>iOS 11.0</td>\n",
              "      <td>No</td>\n",
              "    </tr>\n",
              "  </tbody>\n",
              "</table>\n",
              "</div>"
            ],
            "text/plain": [
              "                      출시일 디스플레이  메모리     출시 버전 Face ID\n",
              "iPhone 7       2016-09-16   4.7  2GB  iOS 10.0      No\n",
              "iPhone 7 Plus  2016-09-16   5.5  3GB  iOS 10.0      No\n",
              "iPhone 8       2017-09-22   4.7  2GB  iOS 11.0      No\n",
              "iPhone 8 Plus  2017-09-22   5.5  3GB  iOS 11.0      No\n",
              "iPhone X       2017-11-03   5.8  3GB  iOS 11.1     Yes\n",
              "iPhone XS      2018-09-21   5.8  4GB  iOS 12.0     Yes\n",
              "iPhone XS Max  2018-09-21   6.5  4GB  iOS 12.0     Yes\n",
              "iPhone XR      2018-10-26   6.1  3GB  iOS 11.0      No"
            ]
          },
          "metadata": {
            "tags": []
          },
          "execution_count": 134
        }
      ]
    },
    {
      "cell_type": "markdown",
      "metadata": {
        "id": "yaVgToC4w16e"
      },
      "source": [
        "*  열(column) 추가하기"
      ]
    },
    {
      "cell_type": "code",
      "metadata": {
        "colab": {
          "base_uri": "https://localhost:8080/",
          "height": 297
        },
        "id": "8y6wBW5Nwi2Y",
        "outputId": "599a210b-b66a-4349-eebc-315207c0f3c9"
      },
      "source": [
        "# 열추가\n",
        "iphone_df['제조사'] = 'Apple'\n",
        "iphone_df"
      ],
      "execution_count": null,
      "outputs": [
        {
          "output_type": "execute_result",
          "data": {
            "text/html": [
              "<div>\n",
              "<style scoped>\n",
              "    .dataframe tbody tr th:only-of-type {\n",
              "        vertical-align: middle;\n",
              "    }\n",
              "\n",
              "    .dataframe tbody tr th {\n",
              "        vertical-align: top;\n",
              "    }\n",
              "\n",
              "    .dataframe thead th {\n",
              "        text-align: right;\n",
              "    }\n",
              "</style>\n",
              "<table border=\"1\" class=\"dataframe\">\n",
              "  <thead>\n",
              "    <tr style=\"text-align: right;\">\n",
              "      <th></th>\n",
              "      <th>출시일</th>\n",
              "      <th>디스플레이</th>\n",
              "      <th>메모리</th>\n",
              "      <th>출시 버전</th>\n",
              "      <th>Face ID</th>\n",
              "      <th>제조사</th>\n",
              "    </tr>\n",
              "  </thead>\n",
              "  <tbody>\n",
              "    <tr>\n",
              "      <th>iPhone 7</th>\n",
              "      <td>2016-09-16</td>\n",
              "      <td>4.7</td>\n",
              "      <td>2GB</td>\n",
              "      <td>iOS 10.0</td>\n",
              "      <td>No</td>\n",
              "      <td>Apple</td>\n",
              "    </tr>\n",
              "    <tr>\n",
              "      <th>iPhone 7 Plus</th>\n",
              "      <td>2016-09-16</td>\n",
              "      <td>5.5</td>\n",
              "      <td>3GB</td>\n",
              "      <td>iOS 10.0</td>\n",
              "      <td>No</td>\n",
              "      <td>Apple</td>\n",
              "    </tr>\n",
              "    <tr>\n",
              "      <th>iPhone 8</th>\n",
              "      <td>2017-09-22</td>\n",
              "      <td>4.7</td>\n",
              "      <td>2GB</td>\n",
              "      <td>iOS 11.0</td>\n",
              "      <td>No</td>\n",
              "      <td>Apple</td>\n",
              "    </tr>\n",
              "    <tr>\n",
              "      <th>iPhone 8 Plus</th>\n",
              "      <td>2017-09-22</td>\n",
              "      <td>5.5</td>\n",
              "      <td>3GB</td>\n",
              "      <td>iOS 11.0</td>\n",
              "      <td>No</td>\n",
              "      <td>Apple</td>\n",
              "    </tr>\n",
              "    <tr>\n",
              "      <th>iPhone X</th>\n",
              "      <td>2017-11-03</td>\n",
              "      <td>5.8</td>\n",
              "      <td>3GB</td>\n",
              "      <td>iOS 11.1</td>\n",
              "      <td>Yes</td>\n",
              "      <td>Apple</td>\n",
              "    </tr>\n",
              "    <tr>\n",
              "      <th>iPhone XS</th>\n",
              "      <td>2018-09-21</td>\n",
              "      <td>5.8</td>\n",
              "      <td>4GB</td>\n",
              "      <td>iOS 12.0</td>\n",
              "      <td>Yes</td>\n",
              "      <td>Apple</td>\n",
              "    </tr>\n",
              "    <tr>\n",
              "      <th>iPhone XS Max</th>\n",
              "      <td>2018-09-21</td>\n",
              "      <td>6.5</td>\n",
              "      <td>4GB</td>\n",
              "      <td>iOS 12.0</td>\n",
              "      <td>Yes</td>\n",
              "      <td>Apple</td>\n",
              "    </tr>\n",
              "    <tr>\n",
              "      <th>iPhone XR</th>\n",
              "      <td>2018-10-26</td>\n",
              "      <td>6.1</td>\n",
              "      <td>3GB</td>\n",
              "      <td>iOS 11.0</td>\n",
              "      <td>No</td>\n",
              "      <td>Apple</td>\n",
              "    </tr>\n",
              "  </tbody>\n",
              "</table>\n",
              "</div>"
            ],
            "text/plain": [
              "                      출시일 디스플레이  메모리     출시 버전 Face ID    제조사\n",
              "iPhone 7       2016-09-16   4.7  2GB  iOS 10.0      No  Apple\n",
              "iPhone 7 Plus  2016-09-16   5.5  3GB  iOS 10.0      No  Apple\n",
              "iPhone 8       2017-09-22   4.7  2GB  iOS 11.0      No  Apple\n",
              "iPhone 8 Plus  2017-09-22   5.5  3GB  iOS 11.0      No  Apple\n",
              "iPhone X       2017-11-03   5.8  3GB  iOS 11.1     Yes  Apple\n",
              "iPhone XS      2018-09-21   5.8  4GB  iOS 12.0     Yes  Apple\n",
              "iPhone XS Max  2018-09-21   6.5  4GB  iOS 12.0     Yes  Apple\n",
              "iPhone XR      2018-10-26   6.1  3GB  iOS 11.0      No  Apple"
            ]
          },
          "metadata": {
            "tags": []
          },
          "execution_count": 135
        }
      ]
    },
    {
      "cell_type": "markdown",
      "metadata": {
        "id": "A5ccEJ-1xFZM"
      },
      "source": [
        "*  행 삭제 (aixs = 'index', inplace 옵션)"
      ]
    },
    {
      "cell_type": "code",
      "metadata": {
        "colab": {
          "base_uri": "https://localhost:8080/",
          "height": 266
        },
        "id": "y5xMZrgVxACT",
        "outputId": "40e4c02c-3760-46e2-84e7-a1ee9c04afe3"
      },
      "source": [
        "iphone_df.drop('iPhone XR', axis = 'index', inplace= True) \n",
        "#inplace = Flase이면 데이터프레임에 영향을 주지 않음\n",
        "iphone_df"
      ],
      "execution_count": null,
      "outputs": [
        {
          "output_type": "execute_result",
          "data": {
            "text/html": [
              "<div>\n",
              "<style scoped>\n",
              "    .dataframe tbody tr th:only-of-type {\n",
              "        vertical-align: middle;\n",
              "    }\n",
              "\n",
              "    .dataframe tbody tr th {\n",
              "        vertical-align: top;\n",
              "    }\n",
              "\n",
              "    .dataframe thead th {\n",
              "        text-align: right;\n",
              "    }\n",
              "</style>\n",
              "<table border=\"1\" class=\"dataframe\">\n",
              "  <thead>\n",
              "    <tr style=\"text-align: right;\">\n",
              "      <th></th>\n",
              "      <th>출시일</th>\n",
              "      <th>디스플레이</th>\n",
              "      <th>메모리</th>\n",
              "      <th>출시 버전</th>\n",
              "      <th>Face ID</th>\n",
              "      <th>제조사</th>\n",
              "    </tr>\n",
              "  </thead>\n",
              "  <tbody>\n",
              "    <tr>\n",
              "      <th>iPhone 7</th>\n",
              "      <td>2016-09-16</td>\n",
              "      <td>4.7</td>\n",
              "      <td>2GB</td>\n",
              "      <td>iOS 10.0</td>\n",
              "      <td>No</td>\n",
              "      <td>Apple</td>\n",
              "    </tr>\n",
              "    <tr>\n",
              "      <th>iPhone 7 Plus</th>\n",
              "      <td>2016-09-16</td>\n",
              "      <td>5.5</td>\n",
              "      <td>3GB</td>\n",
              "      <td>iOS 10.0</td>\n",
              "      <td>No</td>\n",
              "      <td>Apple</td>\n",
              "    </tr>\n",
              "    <tr>\n",
              "      <th>iPhone 8</th>\n",
              "      <td>2017-09-22</td>\n",
              "      <td>4.7</td>\n",
              "      <td>2GB</td>\n",
              "      <td>iOS 11.0</td>\n",
              "      <td>No</td>\n",
              "      <td>Apple</td>\n",
              "    </tr>\n",
              "    <tr>\n",
              "      <th>iPhone 8 Plus</th>\n",
              "      <td>2017-09-22</td>\n",
              "      <td>5.5</td>\n",
              "      <td>3GB</td>\n",
              "      <td>iOS 11.0</td>\n",
              "      <td>No</td>\n",
              "      <td>Apple</td>\n",
              "    </tr>\n",
              "    <tr>\n",
              "      <th>iPhone X</th>\n",
              "      <td>2017-11-03</td>\n",
              "      <td>5.8</td>\n",
              "      <td>3GB</td>\n",
              "      <td>iOS 11.1</td>\n",
              "      <td>Yes</td>\n",
              "      <td>Apple</td>\n",
              "    </tr>\n",
              "    <tr>\n",
              "      <th>iPhone XS</th>\n",
              "      <td>2018-09-21</td>\n",
              "      <td>5.8</td>\n",
              "      <td>4GB</td>\n",
              "      <td>iOS 12.0</td>\n",
              "      <td>Yes</td>\n",
              "      <td>Apple</td>\n",
              "    </tr>\n",
              "    <tr>\n",
              "      <th>iPhone XS Max</th>\n",
              "      <td>2018-09-21</td>\n",
              "      <td>6.5</td>\n",
              "      <td>4GB</td>\n",
              "      <td>iOS 12.0</td>\n",
              "      <td>Yes</td>\n",
              "      <td>Apple</td>\n",
              "    </tr>\n",
              "  </tbody>\n",
              "</table>\n",
              "</div>"
            ],
            "text/plain": [
              "                      출시일 디스플레이  메모리     출시 버전 Face ID    제조사\n",
              "iPhone 7       2016-09-16   4.7  2GB  iOS 10.0      No  Apple\n",
              "iPhone 7 Plus  2016-09-16   5.5  3GB  iOS 10.0      No  Apple\n",
              "iPhone 8       2017-09-22   4.7  2GB  iOS 11.0      No  Apple\n",
              "iPhone 8 Plus  2017-09-22   5.5  3GB  iOS 11.0      No  Apple\n",
              "iPhone X       2017-11-03   5.8  3GB  iOS 11.1     Yes  Apple\n",
              "iPhone XS      2018-09-21   5.8  4GB  iOS 12.0     Yes  Apple\n",
              "iPhone XS Max  2018-09-21   6.5  4GB  iOS 12.0     Yes  Apple"
            ]
          },
          "metadata": {
            "tags": []
          },
          "execution_count": 136
        }
      ]
    },
    {
      "cell_type": "markdown",
      "metadata": {
        "id": "LI-HFDuyxY7c"
      },
      "source": [
        "* 열 삭제(axis = 'columns')"
      ]
    },
    {
      "cell_type": "code",
      "metadata": {
        "colab": {
          "base_uri": "https://localhost:8080/",
          "height": 266
        },
        "id": "3QoIUlhuxL7g",
        "outputId": "fc2acbaf-d00e-4057-f778-8c25d20c3d07"
      },
      "source": [
        "iphone_df.drop('제조사', axis = 'columns', inplace = True)\n",
        "iphone_df"
      ],
      "execution_count": null,
      "outputs": [
        {
          "output_type": "execute_result",
          "data": {
            "text/html": [
              "<div>\n",
              "<style scoped>\n",
              "    .dataframe tbody tr th:only-of-type {\n",
              "        vertical-align: middle;\n",
              "    }\n",
              "\n",
              "    .dataframe tbody tr th {\n",
              "        vertical-align: top;\n",
              "    }\n",
              "\n",
              "    .dataframe thead th {\n",
              "        text-align: right;\n",
              "    }\n",
              "</style>\n",
              "<table border=\"1\" class=\"dataframe\">\n",
              "  <thead>\n",
              "    <tr style=\"text-align: right;\">\n",
              "      <th></th>\n",
              "      <th>출시일</th>\n",
              "      <th>디스플레이</th>\n",
              "      <th>메모리</th>\n",
              "      <th>출시 버전</th>\n",
              "      <th>Face ID</th>\n",
              "    </tr>\n",
              "  </thead>\n",
              "  <tbody>\n",
              "    <tr>\n",
              "      <th>iPhone 7</th>\n",
              "      <td>2016-09-16</td>\n",
              "      <td>4.7</td>\n",
              "      <td>2GB</td>\n",
              "      <td>iOS 10.0</td>\n",
              "      <td>No</td>\n",
              "    </tr>\n",
              "    <tr>\n",
              "      <th>iPhone 7 Plus</th>\n",
              "      <td>2016-09-16</td>\n",
              "      <td>5.5</td>\n",
              "      <td>3GB</td>\n",
              "      <td>iOS 10.0</td>\n",
              "      <td>No</td>\n",
              "    </tr>\n",
              "    <tr>\n",
              "      <th>iPhone 8</th>\n",
              "      <td>2017-09-22</td>\n",
              "      <td>4.7</td>\n",
              "      <td>2GB</td>\n",
              "      <td>iOS 11.0</td>\n",
              "      <td>No</td>\n",
              "    </tr>\n",
              "    <tr>\n",
              "      <th>iPhone 8 Plus</th>\n",
              "      <td>2017-09-22</td>\n",
              "      <td>5.5</td>\n",
              "      <td>3GB</td>\n",
              "      <td>iOS 11.0</td>\n",
              "      <td>No</td>\n",
              "    </tr>\n",
              "    <tr>\n",
              "      <th>iPhone X</th>\n",
              "      <td>2017-11-03</td>\n",
              "      <td>5.8</td>\n",
              "      <td>3GB</td>\n",
              "      <td>iOS 11.1</td>\n",
              "      <td>Yes</td>\n",
              "    </tr>\n",
              "    <tr>\n",
              "      <th>iPhone XS</th>\n",
              "      <td>2018-09-21</td>\n",
              "      <td>5.8</td>\n",
              "      <td>4GB</td>\n",
              "      <td>iOS 12.0</td>\n",
              "      <td>Yes</td>\n",
              "    </tr>\n",
              "    <tr>\n",
              "      <th>iPhone XS Max</th>\n",
              "      <td>2018-09-21</td>\n",
              "      <td>6.5</td>\n",
              "      <td>4GB</td>\n",
              "      <td>iOS 12.0</td>\n",
              "      <td>Yes</td>\n",
              "    </tr>\n",
              "  </tbody>\n",
              "</table>\n",
              "</div>"
            ],
            "text/plain": [
              "                      출시일 디스플레이  메모리     출시 버전 Face ID\n",
              "iPhone 7       2016-09-16   4.7  2GB  iOS 10.0      No\n",
              "iPhone 7 Plus  2016-09-16   5.5  3GB  iOS 10.0      No\n",
              "iPhone 8       2017-09-22   4.7  2GB  iOS 11.0      No\n",
              "iPhone 8 Plus  2017-09-22   5.5  3GB  iOS 11.0      No\n",
              "iPhone X       2017-11-03   5.8  3GB  iOS 11.1     Yes\n",
              "iPhone XS      2018-09-21   5.8  4GB  iOS 12.0     Yes\n",
              "iPhone XS Max  2018-09-21   6.5  4GB  iOS 12.0     Yes"
            ]
          },
          "metadata": {
            "tags": []
          },
          "execution_count": 137
        }
      ]
    },
    {
      "cell_type": "code",
      "metadata": {
        "colab": {
          "base_uri": "https://localhost:8080/",
          "height": 173
        },
        "id": "yORv1kyGxN-o",
        "outputId": "2f1dc9e5-f5fd-4f3c-a4d6-76db432cfa01"
      },
      "source": [
        "#여러 열을 없애줄 때는, 리스트[] 안에 넣어주면 됨\n",
        "iphone_df.drop(['iPhone 7', 'iPhone 8', 'iPhone X'], axis = 'index', inplace= True) \n",
        "#inplace = Flase이면 데이터프레임에 영향을 주지 않음\n",
        "iphone_df"
      ],
      "execution_count": null,
      "outputs": [
        {
          "output_type": "execute_result",
          "data": {
            "text/html": [
              "<div>\n",
              "<style scoped>\n",
              "    .dataframe tbody tr th:only-of-type {\n",
              "        vertical-align: middle;\n",
              "    }\n",
              "\n",
              "    .dataframe tbody tr th {\n",
              "        vertical-align: top;\n",
              "    }\n",
              "\n",
              "    .dataframe thead th {\n",
              "        text-align: right;\n",
              "    }\n",
              "</style>\n",
              "<table border=\"1\" class=\"dataframe\">\n",
              "  <thead>\n",
              "    <tr style=\"text-align: right;\">\n",
              "      <th></th>\n",
              "      <th>출시일</th>\n",
              "      <th>디스플레이</th>\n",
              "      <th>메모리</th>\n",
              "      <th>출시 버전</th>\n",
              "      <th>Face ID</th>\n",
              "    </tr>\n",
              "  </thead>\n",
              "  <tbody>\n",
              "    <tr>\n",
              "      <th>iPhone 7 Plus</th>\n",
              "      <td>2016-09-16</td>\n",
              "      <td>5.5</td>\n",
              "      <td>3GB</td>\n",
              "      <td>iOS 10.0</td>\n",
              "      <td>No</td>\n",
              "    </tr>\n",
              "    <tr>\n",
              "      <th>iPhone 8 Plus</th>\n",
              "      <td>2017-09-22</td>\n",
              "      <td>5.5</td>\n",
              "      <td>3GB</td>\n",
              "      <td>iOS 11.0</td>\n",
              "      <td>No</td>\n",
              "    </tr>\n",
              "    <tr>\n",
              "      <th>iPhone XS</th>\n",
              "      <td>2018-09-21</td>\n",
              "      <td>5.8</td>\n",
              "      <td>4GB</td>\n",
              "      <td>iOS 12.0</td>\n",
              "      <td>Yes</td>\n",
              "    </tr>\n",
              "    <tr>\n",
              "      <th>iPhone XS Max</th>\n",
              "      <td>2018-09-21</td>\n",
              "      <td>6.5</td>\n",
              "      <td>4GB</td>\n",
              "      <td>iOS 12.0</td>\n",
              "      <td>Yes</td>\n",
              "    </tr>\n",
              "  </tbody>\n",
              "</table>\n",
              "</div>"
            ],
            "text/plain": [
              "                      출시일 디스플레이  메모리     출시 버전 Face ID\n",
              "iPhone 7 Plus  2016-09-16   5.5  3GB  iOS 10.0      No\n",
              "iPhone 8 Plus  2017-09-22   5.5  3GB  iOS 11.0      No\n",
              "iPhone XS      2018-09-21   5.8  4GB  iOS 12.0     Yes\n",
              "iPhone XS Max  2018-09-21   6.5  4GB  iOS 12.0     Yes"
            ]
          },
          "metadata": {
            "tags": []
          },
          "execution_count": 138
        }
      ]
    },
    {
      "cell_type": "code",
      "metadata": {
        "id": "mnkBW4BhyOKe"
      },
      "source": [
        "##연습문제 (값 넣을 때 인덱스 타입 확인)\n",
        "\n",
        "df.loc[1, 'Weight (Pound)'] = 200 #특정 행,열의 값 바꾸기(데이터프레임.loc[행,열])\n",
        "df.drop(21, axis='index', inplace = True)\n",
        "df.loc[20] = [70, 200]"
      ],
      "execution_count": null,
      "outputs": []
    },
    {
      "cell_type": "markdown",
      "metadata": {
        "id": "zyHe-rHP7MrG"
      },
      "source": [
        "### index/column 생성하기"
      ]
    },
    {
      "cell_type": "code",
      "metadata": {
        "id": "Upsr6GZX7QM8"
      },
      "source": [
        "import pandas as pd\n",
        "liverpool_df = pd.read_csv('liverpool.csv', index_col = 0)"
      ],
      "execution_count": null,
      "outputs": []
    },
    {
      "cell_type": "code",
      "metadata": {
        "colab": {
          "base_uri": "https://localhost:8080/",
          "height": 203
        },
        "id": "OeAdU3Gq_3m4",
        "outputId": "d4ff47a7-9e67-438e-c16d-badde4fabb60"
      },
      "source": [
        "liverpool_df"
      ],
      "execution_count": null,
      "outputs": [
        {
          "output_type": "execute_result",
          "data": {
            "text/html": [
              "<div>\n",
              "<style scoped>\n",
              "    .dataframe tbody tr th:only-of-type {\n",
              "        vertical-align: middle;\n",
              "    }\n",
              "\n",
              "    .dataframe tbody tr th {\n",
              "        vertical-align: top;\n",
              "    }\n",
              "\n",
              "    .dataframe thead th {\n",
              "        text-align: right;\n",
              "    }\n",
              "</style>\n",
              "<table border=\"1\" class=\"dataframe\">\n",
              "  <thead>\n",
              "    <tr style=\"text-align: right;\">\n",
              "      <th></th>\n",
              "      <th>position</th>\n",
              "      <th>born</th>\n",
              "      <th>number</th>\n",
              "      <th>nationality</th>\n",
              "    </tr>\n",
              "  </thead>\n",
              "  <tbody>\n",
              "    <tr>\n",
              "      <th>Roberto Firmino</th>\n",
              "      <td>FW</td>\n",
              "      <td>1991</td>\n",
              "      <td>no. 9</td>\n",
              "      <td>Brazil</td>\n",
              "    </tr>\n",
              "    <tr>\n",
              "      <th>Sadio Mane</th>\n",
              "      <td>FW</td>\n",
              "      <td>1992</td>\n",
              "      <td>no. 10</td>\n",
              "      <td>Senegal</td>\n",
              "    </tr>\n",
              "    <tr>\n",
              "      <th>Mohamed Salah</th>\n",
              "      <td>FW</td>\n",
              "      <td>1992</td>\n",
              "      <td>no. 11</td>\n",
              "      <td>Egypt</td>\n",
              "    </tr>\n",
              "    <tr>\n",
              "      <th>Joe Gomez</th>\n",
              "      <td>DF</td>\n",
              "      <td>1997</td>\n",
              "      <td>no. 12</td>\n",
              "      <td>England</td>\n",
              "    </tr>\n",
              "    <tr>\n",
              "      <th>Alisson Becker</th>\n",
              "      <td>GK</td>\n",
              "      <td>1992</td>\n",
              "      <td>no. 13</td>\n",
              "      <td>Brazil</td>\n",
              "    </tr>\n",
              "  </tbody>\n",
              "</table>\n",
              "</div>"
            ],
            "text/plain": [
              "                position  born  number nationality\n",
              "Roberto Firmino       FW  1991   no. 9      Brazil\n",
              "Sadio Mane            FW  1992  no. 10     Senegal\n",
              "Mohamed Salah         FW  1992  no. 11       Egypt\n",
              "Joe Gomez             DF  1997  no. 12     England\n",
              "Alisson Becker        GK  1992  no. 13      Brazil"
            ]
          },
          "metadata": {
            "tags": []
          },
          "execution_count": 5
        }
      ]
    },
    {
      "cell_type": "code",
      "metadata": {
        "colab": {
          "base_uri": "https://localhost:8080/",
          "height": 203
        },
        "id": "9wLP2aAj_4yH",
        "outputId": "6e05e24d-aa4b-4f1a-ee44-834fa94c97be"
      },
      "source": [
        "#컬럼명 변경하기 (새로운 데이터프레임으로 생성, 실제 DF바꾸려면 inplace = True 설정)\n",
        "liverpool_df.rename(columns={'position': 'Position', 'born':'Born', 'number':'Number', 'nationality':'Nationality'}, inplace = True)\n",
        "liverpool_df"
      ],
      "execution_count": null,
      "outputs": [
        {
          "output_type": "execute_result",
          "data": {
            "text/html": [
              "<div>\n",
              "<style scoped>\n",
              "    .dataframe tbody tr th:only-of-type {\n",
              "        vertical-align: middle;\n",
              "    }\n",
              "\n",
              "    .dataframe tbody tr th {\n",
              "        vertical-align: top;\n",
              "    }\n",
              "\n",
              "    .dataframe thead th {\n",
              "        text-align: right;\n",
              "    }\n",
              "</style>\n",
              "<table border=\"1\" class=\"dataframe\">\n",
              "  <thead>\n",
              "    <tr style=\"text-align: right;\">\n",
              "      <th></th>\n",
              "      <th>Position</th>\n",
              "      <th>Born</th>\n",
              "      <th>Number</th>\n",
              "      <th>Nationality</th>\n",
              "    </tr>\n",
              "  </thead>\n",
              "  <tbody>\n",
              "    <tr>\n",
              "      <th>Roberto Firmino</th>\n",
              "      <td>FW</td>\n",
              "      <td>1991</td>\n",
              "      <td>no. 9</td>\n",
              "      <td>Brazil</td>\n",
              "    </tr>\n",
              "    <tr>\n",
              "      <th>Sadio Mane</th>\n",
              "      <td>FW</td>\n",
              "      <td>1992</td>\n",
              "      <td>no. 10</td>\n",
              "      <td>Senegal</td>\n",
              "    </tr>\n",
              "    <tr>\n",
              "      <th>Mohamed Salah</th>\n",
              "      <td>FW</td>\n",
              "      <td>1992</td>\n",
              "      <td>no. 11</td>\n",
              "      <td>Egypt</td>\n",
              "    </tr>\n",
              "    <tr>\n",
              "      <th>Joe Gomez</th>\n",
              "      <td>DF</td>\n",
              "      <td>1997</td>\n",
              "      <td>no. 12</td>\n",
              "      <td>England</td>\n",
              "    </tr>\n",
              "    <tr>\n",
              "      <th>Alisson Becker</th>\n",
              "      <td>GK</td>\n",
              "      <td>1992</td>\n",
              "      <td>no. 13</td>\n",
              "      <td>Brazil</td>\n",
              "    </tr>\n",
              "  </tbody>\n",
              "</table>\n",
              "</div>"
            ],
            "text/plain": [
              "                Position  Born  Number Nationality\n",
              "Roberto Firmino       FW  1991   no. 9      Brazil\n",
              "Sadio Mane            FW  1992  no. 10     Senegal\n",
              "Mohamed Salah         FW  1992  no. 11       Egypt\n",
              "Joe Gomez             DF  1997  no. 12     England\n",
              "Alisson Becker        GK  1992  no. 13      Brazil"
            ]
          },
          "metadata": {
            "tags": []
          },
          "execution_count": 11
        }
      ]
    },
    {
      "cell_type": "code",
      "metadata": {
        "colab": {
          "base_uri": "https://localhost:8080/",
          "height": 234
        },
        "id": "W4BsoIcIAJIW",
        "outputId": "00953b5c-7c7b-429d-9726-34fb0098883c"
      },
      "source": [
        "#인덱스 이름 변경하기\n",
        "liverpool_df.index.name = 'Player Name'\n",
        "liverpool_df"
      ],
      "execution_count": null,
      "outputs": [
        {
          "output_type": "execute_result",
          "data": {
            "text/html": [
              "<div>\n",
              "<style scoped>\n",
              "    .dataframe tbody tr th:only-of-type {\n",
              "        vertical-align: middle;\n",
              "    }\n",
              "\n",
              "    .dataframe tbody tr th {\n",
              "        vertical-align: top;\n",
              "    }\n",
              "\n",
              "    .dataframe thead th {\n",
              "        text-align: right;\n",
              "    }\n",
              "</style>\n",
              "<table border=\"1\" class=\"dataframe\">\n",
              "  <thead>\n",
              "    <tr style=\"text-align: right;\">\n",
              "      <th></th>\n",
              "      <th>Position</th>\n",
              "      <th>Born</th>\n",
              "      <th>Number</th>\n",
              "      <th>Nationality</th>\n",
              "    </tr>\n",
              "    <tr>\n",
              "      <th>Player Name</th>\n",
              "      <th></th>\n",
              "      <th></th>\n",
              "      <th></th>\n",
              "      <th></th>\n",
              "    </tr>\n",
              "  </thead>\n",
              "  <tbody>\n",
              "    <tr>\n",
              "      <th>Roberto Firmino</th>\n",
              "      <td>FW</td>\n",
              "      <td>1991</td>\n",
              "      <td>no. 9</td>\n",
              "      <td>Brazil</td>\n",
              "    </tr>\n",
              "    <tr>\n",
              "      <th>Sadio Mane</th>\n",
              "      <td>FW</td>\n",
              "      <td>1992</td>\n",
              "      <td>no. 10</td>\n",
              "      <td>Senegal</td>\n",
              "    </tr>\n",
              "    <tr>\n",
              "      <th>Mohamed Salah</th>\n",
              "      <td>FW</td>\n",
              "      <td>1992</td>\n",
              "      <td>no. 11</td>\n",
              "      <td>Egypt</td>\n",
              "    </tr>\n",
              "    <tr>\n",
              "      <th>Joe Gomez</th>\n",
              "      <td>DF</td>\n",
              "      <td>1997</td>\n",
              "      <td>no. 12</td>\n",
              "      <td>England</td>\n",
              "    </tr>\n",
              "    <tr>\n",
              "      <th>Alisson Becker</th>\n",
              "      <td>GK</td>\n",
              "      <td>1992</td>\n",
              "      <td>no. 13</td>\n",
              "      <td>Brazil</td>\n",
              "    </tr>\n",
              "  </tbody>\n",
              "</table>\n",
              "</div>"
            ],
            "text/plain": [
              "                Position  Born  Number Nationality\n",
              "Player Name                                       \n",
              "Roberto Firmino       FW  1991   no. 9      Brazil\n",
              "Sadio Mane            FW  1992  no. 10     Senegal\n",
              "Mohamed Salah         FW  1992  no. 11       Egypt\n",
              "Joe Gomez             DF  1997  no. 12     England\n",
              "Alisson Becker        GK  1992  no. 13      Brazil"
            ]
          },
          "metadata": {
            "tags": []
          },
          "execution_count": 12
        }
      ]
    },
    {
      "cell_type": "code",
      "metadata": {
        "colab": {
          "base_uri": "https://localhost:8080/",
          "height": 234
        },
        "id": "bAsbArr-AnqF",
        "outputId": "8adb14ff-0067-431a-d0d3-dd15ff85cdf9"
      },
      "source": [
        "#다른 컬럼을 인덱스로 사용하고 싶을 때 (df.set_index(''))\n",
        "liverpool_df.set_index('Number') \n",
        "#단, 없어지는 기존 컬럼을 새로운 컬럼으로 지정해줘야함"
      ],
      "execution_count": null,
      "outputs": [
        {
          "output_type": "execute_result",
          "data": {
            "text/html": [
              "<div>\n",
              "<style scoped>\n",
              "    .dataframe tbody tr th:only-of-type {\n",
              "        vertical-align: middle;\n",
              "    }\n",
              "\n",
              "    .dataframe tbody tr th {\n",
              "        vertical-align: top;\n",
              "    }\n",
              "\n",
              "    .dataframe thead th {\n",
              "        text-align: right;\n",
              "    }\n",
              "</style>\n",
              "<table border=\"1\" class=\"dataframe\">\n",
              "  <thead>\n",
              "    <tr style=\"text-align: right;\">\n",
              "      <th></th>\n",
              "      <th>Position</th>\n",
              "      <th>Born</th>\n",
              "      <th>Nationality</th>\n",
              "      <th>Player Name</th>\n",
              "    </tr>\n",
              "    <tr>\n",
              "      <th>Number</th>\n",
              "      <th></th>\n",
              "      <th></th>\n",
              "      <th></th>\n",
              "      <th></th>\n",
              "    </tr>\n",
              "  </thead>\n",
              "  <tbody>\n",
              "    <tr>\n",
              "      <th>no. 9</th>\n",
              "      <td>FW</td>\n",
              "      <td>1991</td>\n",
              "      <td>Brazil</td>\n",
              "      <td>Roberto Firmino</td>\n",
              "    </tr>\n",
              "    <tr>\n",
              "      <th>no. 10</th>\n",
              "      <td>FW</td>\n",
              "      <td>1992</td>\n",
              "      <td>Senegal</td>\n",
              "      <td>Sadio Mane</td>\n",
              "    </tr>\n",
              "    <tr>\n",
              "      <th>no. 11</th>\n",
              "      <td>FW</td>\n",
              "      <td>1992</td>\n",
              "      <td>Egypt</td>\n",
              "      <td>Mohamed Salah</td>\n",
              "    </tr>\n",
              "    <tr>\n",
              "      <th>no. 12</th>\n",
              "      <td>DF</td>\n",
              "      <td>1997</td>\n",
              "      <td>England</td>\n",
              "      <td>Joe Gomez</td>\n",
              "    </tr>\n",
              "    <tr>\n",
              "      <th>no. 13</th>\n",
              "      <td>GK</td>\n",
              "      <td>1992</td>\n",
              "      <td>Brazil</td>\n",
              "      <td>Alisson Becker</td>\n",
              "    </tr>\n",
              "  </tbody>\n",
              "</table>\n",
              "</div>"
            ],
            "text/plain": [
              "       Position  Born Nationality      Player Name\n",
              "Number                                            \n",
              "no. 9        FW  1991      Brazil  Roberto Firmino\n",
              "no. 10       FW  1992     Senegal       Sadio Mane\n",
              "no. 11       FW  1992       Egypt    Mohamed Salah\n",
              "no. 12       DF  1997     England        Joe Gomez\n",
              "no. 13       GK  1992      Brazil   Alisson Becker"
            ]
          },
          "metadata": {
            "tags": []
          },
          "execution_count": 20
        }
      ]
    },
    {
      "cell_type": "code",
      "metadata": {
        "colab": {
          "base_uri": "https://localhost:8080/",
          "height": 234
        },
        "id": "CmYY9JhQAxQQ",
        "outputId": "4193337d-0212-40cb-8c66-d1bcd18f4d62"
      },
      "source": [
        "#인덱스를 바꾸기 전에, 미리 새로운 컬럼으로 지정해줘야함(바꿀 컬럼)\n",
        "liverpool_df['Player Name'] = liverpool_df.index\n",
        "liverpool_df"
      ],
      "execution_count": null,
      "outputs": [
        {
          "output_type": "execute_result",
          "data": {
            "text/html": [
              "<div>\n",
              "<style scoped>\n",
              "    .dataframe tbody tr th:only-of-type {\n",
              "        vertical-align: middle;\n",
              "    }\n",
              "\n",
              "    .dataframe tbody tr th {\n",
              "        vertical-align: top;\n",
              "    }\n",
              "\n",
              "    .dataframe thead th {\n",
              "        text-align: right;\n",
              "    }\n",
              "</style>\n",
              "<table border=\"1\" class=\"dataframe\">\n",
              "  <thead>\n",
              "    <tr style=\"text-align: right;\">\n",
              "      <th></th>\n",
              "      <th>Position</th>\n",
              "      <th>Born</th>\n",
              "      <th>Number</th>\n",
              "      <th>Nationality</th>\n",
              "      <th>Player Name</th>\n",
              "    </tr>\n",
              "    <tr>\n",
              "      <th>Player Name</th>\n",
              "      <th></th>\n",
              "      <th></th>\n",
              "      <th></th>\n",
              "      <th></th>\n",
              "      <th></th>\n",
              "    </tr>\n",
              "  </thead>\n",
              "  <tbody>\n",
              "    <tr>\n",
              "      <th>Roberto Firmino</th>\n",
              "      <td>FW</td>\n",
              "      <td>1991</td>\n",
              "      <td>no. 9</td>\n",
              "      <td>Brazil</td>\n",
              "      <td>Roberto Firmino</td>\n",
              "    </tr>\n",
              "    <tr>\n",
              "      <th>Sadio Mane</th>\n",
              "      <td>FW</td>\n",
              "      <td>1992</td>\n",
              "      <td>no. 10</td>\n",
              "      <td>Senegal</td>\n",
              "      <td>Sadio Mane</td>\n",
              "    </tr>\n",
              "    <tr>\n",
              "      <th>Mohamed Salah</th>\n",
              "      <td>FW</td>\n",
              "      <td>1992</td>\n",
              "      <td>no. 11</td>\n",
              "      <td>Egypt</td>\n",
              "      <td>Mohamed Salah</td>\n",
              "    </tr>\n",
              "    <tr>\n",
              "      <th>Joe Gomez</th>\n",
              "      <td>DF</td>\n",
              "      <td>1997</td>\n",
              "      <td>no. 12</td>\n",
              "      <td>England</td>\n",
              "      <td>Joe Gomez</td>\n",
              "    </tr>\n",
              "    <tr>\n",
              "      <th>Alisson Becker</th>\n",
              "      <td>GK</td>\n",
              "      <td>1992</td>\n",
              "      <td>no. 13</td>\n",
              "      <td>Brazil</td>\n",
              "      <td>Alisson Becker</td>\n",
              "    </tr>\n",
              "  </tbody>\n",
              "</table>\n",
              "</div>"
            ],
            "text/plain": [
              "                Position  Born  Number Nationality      Player Name\n",
              "Player Name                                                        \n",
              "Roberto Firmino       FW  1991   no. 9      Brazil  Roberto Firmino\n",
              "Sadio Mane            FW  1992  no. 10     Senegal       Sadio Mane\n",
              "Mohamed Salah         FW  1992  no. 11       Egypt    Mohamed Salah\n",
              "Joe Gomez             DF  1997  no. 12     England        Joe Gomez\n",
              "Alisson Becker        GK  1992  no. 13      Brazil   Alisson Becker"
            ]
          },
          "metadata": {
            "tags": []
          },
          "execution_count": 21
        }
      ]
    },
    {
      "cell_type": "code",
      "metadata": {
        "colab": {
          "base_uri": "https://localhost:8080/",
          "height": 234
        },
        "id": "CuLBtAL3BRks",
        "outputId": "7c685f07-612f-4a75-825c-62cdeef7229e"
      },
      "source": [
        "liverpool_df.set_index('Number', inplace=True)\n",
        "liverpool_df"
      ],
      "execution_count": null,
      "outputs": [
        {
          "output_type": "execute_result",
          "data": {
            "text/html": [
              "<div>\n",
              "<style scoped>\n",
              "    .dataframe tbody tr th:only-of-type {\n",
              "        vertical-align: middle;\n",
              "    }\n",
              "\n",
              "    .dataframe tbody tr th {\n",
              "        vertical-align: top;\n",
              "    }\n",
              "\n",
              "    .dataframe thead th {\n",
              "        text-align: right;\n",
              "    }\n",
              "</style>\n",
              "<table border=\"1\" class=\"dataframe\">\n",
              "  <thead>\n",
              "    <tr style=\"text-align: right;\">\n",
              "      <th></th>\n",
              "      <th>Position</th>\n",
              "      <th>Born</th>\n",
              "      <th>Nationality</th>\n",
              "      <th>Player Name</th>\n",
              "    </tr>\n",
              "    <tr>\n",
              "      <th>Number</th>\n",
              "      <th></th>\n",
              "      <th></th>\n",
              "      <th></th>\n",
              "      <th></th>\n",
              "    </tr>\n",
              "  </thead>\n",
              "  <tbody>\n",
              "    <tr>\n",
              "      <th>no. 9</th>\n",
              "      <td>FW</td>\n",
              "      <td>1991</td>\n",
              "      <td>Brazil</td>\n",
              "      <td>Roberto Firmino</td>\n",
              "    </tr>\n",
              "    <tr>\n",
              "      <th>no. 10</th>\n",
              "      <td>FW</td>\n",
              "      <td>1992</td>\n",
              "      <td>Senegal</td>\n",
              "      <td>Sadio Mane</td>\n",
              "    </tr>\n",
              "    <tr>\n",
              "      <th>no. 11</th>\n",
              "      <td>FW</td>\n",
              "      <td>1992</td>\n",
              "      <td>Egypt</td>\n",
              "      <td>Mohamed Salah</td>\n",
              "    </tr>\n",
              "    <tr>\n",
              "      <th>no. 12</th>\n",
              "      <td>DF</td>\n",
              "      <td>1997</td>\n",
              "      <td>England</td>\n",
              "      <td>Joe Gomez</td>\n",
              "    </tr>\n",
              "    <tr>\n",
              "      <th>no. 13</th>\n",
              "      <td>GK</td>\n",
              "      <td>1992</td>\n",
              "      <td>Brazil</td>\n",
              "      <td>Alisson Becker</td>\n",
              "    </tr>\n",
              "  </tbody>\n",
              "</table>\n",
              "</div>"
            ],
            "text/plain": [
              "       Position  Born Nationality      Player Name\n",
              "Number                                            \n",
              "no. 9        FW  1991      Brazil  Roberto Firmino\n",
              "no. 10       FW  1992     Senegal       Sadio Mane\n",
              "no. 11       FW  1992       Egypt    Mohamed Salah\n",
              "no. 12       DF  1997     England        Joe Gomez\n",
              "no. 13       GK  1992      Brazil   Alisson Becker"
            ]
          },
          "metadata": {
            "tags": []
          },
          "execution_count": 23
        }
      ]
    },
    {
      "cell_type": "markdown",
      "metadata": {
        "id": "wTeb_GCBBsLL"
      },
      "source": [
        "* 인덱스는 겹치는 값이 없어야함(고유)"
      ]
    },
    {
      "cell_type": "code",
      "metadata": {
        "id": "pWQflFwyBm3g"
      },
      "source": [
        "##연습문제\n",
        "\n",
        "import pandas as pd\n",
        "    \n",
        "df = pd.read_csv('data/toeic.csv')\n",
        "\n",
        "# 코드를 작성하세요.\n",
        "a = (df['LC'] >= 250) & (df['RC'] >= 250) & (df['LC'] + df['RC'] > 600)\n",
        "\n",
        "\"\"\"\n",
        "pass_total = df['LC'] + df['RC'] > 600\n",
        "pass_both = (df['LC'] >= 250) & (df['RC'] >= 250)\n",
        "\"\"\"\n",
        "\n",
        "df['합격 여부'] = a\n",
        "# 정답 출력\n",
        "df"
      ],
      "execution_count": null,
      "outputs": []
    },
    {
      "cell_type": "code",
      "metadata": {
        "id": "sRg7LRFNQET8"
      },
      "source": [
        "##연습문제 (2)\n",
        "#'B'에서 'E'까지의 column은 80보다 큰 것은 1, 작은 것은 0으로 바뀌었습니다.\n",
        "\n",
        "# 80보다 작은 값은 0으로 변경\n",
        "lowers = df.loc[:, 'B':'E'] < 80\n",
        "df[lowers] = 0\n",
        "\n",
        "# 80 이상의 값은 1로 변경\n",
        "highers = df.loc[:, 'B':'E'] >= 80\n",
        "df[highers] = 1\n",
        "\n",
        "#혹은 아래와 같이 작성\n",
        "df[df.loc[:, 'B':'E'] < 80] = 0\n",
        "df[df.loc[:, 'B':'E'] >= 80] = 11"
      ],
      "execution_count": null,
      "outputs": []
    },
    {
      "cell_type": "markdown",
      "metadata": {
        "id": "T7pxRBjsQb6M"
      },
      "source": [
        "## **큰 데이터 다루기**"
      ]
    },
    {
      "cell_type": "markdown",
      "metadata": {
        "id": "BoPWQcO4RWlZ"
      },
      "source": [
        "\n",
        "\n",
        "> * laptops_df.shape\n",
        "> * laptops_df.head()\n",
        "* laptops_df.tail()\n",
        "* laptops_df.columns\n",
        "* laptops_df.info() : 컬럼, 데이터 타입 등\n",
        "*  laptops_df.describe() : 통계 데이터"
      ]
    },
    {
      "cell_type": "code",
      "metadata": {
        "colab": {
          "base_uri": "https://localhost:8080/",
          "height": 419
        },
        "id": "kKg0haA1QfFg",
        "outputId": "72ed33a4-b71a-42f1-d437-586e237a6da9"
      },
      "source": [
        "import pandas as pd\n",
        "laptops_df = pd.read_csv('laptops.csv')\n",
        "laptops_df"
      ],
      "execution_count": null,
      "outputs": [
        {
          "output_type": "execute_result",
          "data": {
            "text/html": [
              "<div>\n",
              "<style scoped>\n",
              "    .dataframe tbody tr th:only-of-type {\n",
              "        vertical-align: middle;\n",
              "    }\n",
              "\n",
              "    .dataframe tbody tr th {\n",
              "        vertical-align: top;\n",
              "    }\n",
              "\n",
              "    .dataframe thead th {\n",
              "        text-align: right;\n",
              "    }\n",
              "</style>\n",
              "<table border=\"1\" class=\"dataframe\">\n",
              "  <thead>\n",
              "    <tr style=\"text-align: right;\">\n",
              "      <th></th>\n",
              "      <th>brand</th>\n",
              "      <th>model</th>\n",
              "      <th>ram</th>\n",
              "      <th>hd_type</th>\n",
              "      <th>hd_size</th>\n",
              "      <th>screen_size</th>\n",
              "      <th>price</th>\n",
              "      <th>processor_brand</th>\n",
              "      <th>processor_model</th>\n",
              "      <th>clock_speed</th>\n",
              "      <th>graphic_card_brand</th>\n",
              "      <th>graphic_card_size</th>\n",
              "      <th>os</th>\n",
              "      <th>weight</th>\n",
              "      <th>comments</th>\n",
              "    </tr>\n",
              "  </thead>\n",
              "  <tbody>\n",
              "    <tr>\n",
              "      <th>0</th>\n",
              "      <td>Dell</td>\n",
              "      <td>Inspiron 15-3567</td>\n",
              "      <td>4</td>\n",
              "      <td>hdd</td>\n",
              "      <td>1024</td>\n",
              "      <td>15.6</td>\n",
              "      <td>40000</td>\n",
              "      <td>intel</td>\n",
              "      <td>i5</td>\n",
              "      <td>2.5</td>\n",
              "      <td>intel</td>\n",
              "      <td>NaN</td>\n",
              "      <td>linux</td>\n",
              "      <td>2.50</td>\n",
              "      <td>NaN</td>\n",
              "    </tr>\n",
              "    <tr>\n",
              "      <th>1</th>\n",
              "      <td>Apple</td>\n",
              "      <td>MacBook Air</td>\n",
              "      <td>8</td>\n",
              "      <td>ssd</td>\n",
              "      <td>128</td>\n",
              "      <td>13.3</td>\n",
              "      <td>55499</td>\n",
              "      <td>intel</td>\n",
              "      <td>i5</td>\n",
              "      <td>1.8</td>\n",
              "      <td>intel</td>\n",
              "      <td>2.0</td>\n",
              "      <td>mac</td>\n",
              "      <td>1.35</td>\n",
              "      <td>NaN</td>\n",
              "    </tr>\n",
              "    <tr>\n",
              "      <th>2</th>\n",
              "      <td>Apple</td>\n",
              "      <td>MacBook Air</td>\n",
              "      <td>8</td>\n",
              "      <td>ssd</td>\n",
              "      <td>256</td>\n",
              "      <td>13.3</td>\n",
              "      <td>71500</td>\n",
              "      <td>intel</td>\n",
              "      <td>i5</td>\n",
              "      <td>1.8</td>\n",
              "      <td>intel</td>\n",
              "      <td>2.0</td>\n",
              "      <td>mac</td>\n",
              "      <td>1.35</td>\n",
              "      <td>NaN</td>\n",
              "    </tr>\n",
              "    <tr>\n",
              "      <th>3</th>\n",
              "      <td>Apple</td>\n",
              "      <td>MacBook Pro</td>\n",
              "      <td>8</td>\n",
              "      <td>ssd</td>\n",
              "      <td>128</td>\n",
              "      <td>13.3</td>\n",
              "      <td>96890</td>\n",
              "      <td>intel</td>\n",
              "      <td>i5</td>\n",
              "      <td>2.3</td>\n",
              "      <td>intel</td>\n",
              "      <td>2.0</td>\n",
              "      <td>mac</td>\n",
              "      <td>3.02</td>\n",
              "      <td>NaN</td>\n",
              "    </tr>\n",
              "    <tr>\n",
              "      <th>4</th>\n",
              "      <td>Apple</td>\n",
              "      <td>MacBook Pro</td>\n",
              "      <td>8</td>\n",
              "      <td>ssd</td>\n",
              "      <td>256</td>\n",
              "      <td>13.3</td>\n",
              "      <td>112666</td>\n",
              "      <td>intel</td>\n",
              "      <td>i5</td>\n",
              "      <td>2.3</td>\n",
              "      <td>intel</td>\n",
              "      <td>2.0</td>\n",
              "      <td>mac</td>\n",
              "      <td>3.02</td>\n",
              "      <td>NaN</td>\n",
              "    </tr>\n",
              "    <tr>\n",
              "      <th>...</th>\n",
              "      <td>...</td>\n",
              "      <td>...</td>\n",
              "      <td>...</td>\n",
              "      <td>...</td>\n",
              "      <td>...</td>\n",
              "      <td>...</td>\n",
              "      <td>...</td>\n",
              "      <td>...</td>\n",
              "      <td>...</td>\n",
              "      <td>...</td>\n",
              "      <td>...</td>\n",
              "      <td>...</td>\n",
              "      <td>...</td>\n",
              "      <td>...</td>\n",
              "      <td>...</td>\n",
              "    </tr>\n",
              "    <tr>\n",
              "      <th>162</th>\n",
              "      <td>Asus</td>\n",
              "      <td>A555LF</td>\n",
              "      <td>8</td>\n",
              "      <td>hdd</td>\n",
              "      <td>1024</td>\n",
              "      <td>15.6</td>\n",
              "      <td>39961</td>\n",
              "      <td>intel</td>\n",
              "      <td>i3 4th gen</td>\n",
              "      <td>1.7</td>\n",
              "      <td>nvidia</td>\n",
              "      <td>2.0</td>\n",
              "      <td>windows</td>\n",
              "      <td>2.30</td>\n",
              "      <td>NaN</td>\n",
              "    </tr>\n",
              "    <tr>\n",
              "      <th>163</th>\n",
              "      <td>Asus</td>\n",
              "      <td>X555LA-XX172D</td>\n",
              "      <td>4</td>\n",
              "      <td>hdd</td>\n",
              "      <td>500</td>\n",
              "      <td>15.6</td>\n",
              "      <td>28489</td>\n",
              "      <td>intel</td>\n",
              "      <td>i3 4th gen</td>\n",
              "      <td>1.9</td>\n",
              "      <td>intel</td>\n",
              "      <td>NaN</td>\n",
              "      <td>linux</td>\n",
              "      <td>2.30</td>\n",
              "      <td>NaN</td>\n",
              "    </tr>\n",
              "    <tr>\n",
              "      <th>164</th>\n",
              "      <td>Asus</td>\n",
              "      <td>X554LD</td>\n",
              "      <td>2</td>\n",
              "      <td>hdd</td>\n",
              "      <td>500</td>\n",
              "      <td>15.6</td>\n",
              "      <td>29199</td>\n",
              "      <td>intel</td>\n",
              "      <td>i3 4th gen</td>\n",
              "      <td>1.9</td>\n",
              "      <td>intel</td>\n",
              "      <td>1.0</td>\n",
              "      <td>linux</td>\n",
              "      <td>2.30</td>\n",
              "      <td>NaN</td>\n",
              "    </tr>\n",
              "    <tr>\n",
              "      <th>165</th>\n",
              "      <td>Asus</td>\n",
              "      <td>X550LAV-XX771D</td>\n",
              "      <td>2</td>\n",
              "      <td>hdd</td>\n",
              "      <td>500</td>\n",
              "      <td>15.6</td>\n",
              "      <td>29990</td>\n",
              "      <td>intel</td>\n",
              "      <td>i3 4th gen</td>\n",
              "      <td>1.7</td>\n",
              "      <td>intel</td>\n",
              "      <td>NaN</td>\n",
              "      <td>linux</td>\n",
              "      <td>2.50</td>\n",
              "      <td>NaN</td>\n",
              "    </tr>\n",
              "    <tr>\n",
              "      <th>166</th>\n",
              "      <td>Asus</td>\n",
              "      <td>X540LA-XX538T</td>\n",
              "      <td>4</td>\n",
              "      <td>hdd</td>\n",
              "      <td>1024</td>\n",
              "      <td>15.6</td>\n",
              "      <td>30899</td>\n",
              "      <td>intel</td>\n",
              "      <td>i3 5th gen</td>\n",
              "      <td>2.0</td>\n",
              "      <td>intel</td>\n",
              "      <td>NaN</td>\n",
              "      <td>windows</td>\n",
              "      <td>2.30</td>\n",
              "      <td>NaN</td>\n",
              "    </tr>\n",
              "  </tbody>\n",
              "</table>\n",
              "<p>167 rows × 15 columns</p>\n",
              "</div>"
            ],
            "text/plain": [
              "     brand             model  ram  ...       os  weight  comments\n",
              "0     Dell  Inspiron 15-3567    4  ...    linux    2.50       NaN\n",
              "1    Apple       MacBook Air    8  ...      mac    1.35       NaN\n",
              "2    Apple       MacBook Air    8  ...      mac    1.35       NaN\n",
              "3    Apple       MacBook Pro    8  ...      mac    3.02       NaN\n",
              "4    Apple       MacBook Pro    8  ...      mac    3.02       NaN\n",
              "..     ...               ...  ...  ...      ...     ...       ...\n",
              "162   Asus            A555LF    8  ...  windows    2.30       NaN\n",
              "163   Asus     X555LA-XX172D    4  ...    linux    2.30       NaN\n",
              "164   Asus            X554LD    2  ...    linux    2.30       NaN\n",
              "165   Asus    X550LAV-XX771D    2  ...    linux    2.50       NaN\n",
              "166   Asus     X540LA-XX538T    4  ...  windows    2.30       NaN\n",
              "\n",
              "[167 rows x 15 columns]"
            ]
          },
          "metadata": {
            "tags": []
          },
          "execution_count": 1
        }
      ]
    },
    {
      "cell_type": "code",
      "metadata": {
        "colab": {
          "base_uri": "https://localhost:8080/",
          "height": 328
        },
        "id": "DPtTFkitQ6Rk",
        "outputId": "dddf90a4-c290-437c-90fb-1359b05eb747"
      },
      "source": [
        "laptops_df.head(9)"
      ],
      "execution_count": null,
      "outputs": [
        {
          "output_type": "execute_result",
          "data": {
            "text/html": [
              "<div>\n",
              "<style scoped>\n",
              "    .dataframe tbody tr th:only-of-type {\n",
              "        vertical-align: middle;\n",
              "    }\n",
              "\n",
              "    .dataframe tbody tr th {\n",
              "        vertical-align: top;\n",
              "    }\n",
              "\n",
              "    .dataframe thead th {\n",
              "        text-align: right;\n",
              "    }\n",
              "</style>\n",
              "<table border=\"1\" class=\"dataframe\">\n",
              "  <thead>\n",
              "    <tr style=\"text-align: right;\">\n",
              "      <th></th>\n",
              "      <th>brand</th>\n",
              "      <th>model</th>\n",
              "      <th>ram</th>\n",
              "      <th>hd_type</th>\n",
              "      <th>hd_size</th>\n",
              "      <th>screen_size</th>\n",
              "      <th>price</th>\n",
              "      <th>processor_brand</th>\n",
              "      <th>processor_model</th>\n",
              "      <th>clock_speed</th>\n",
              "      <th>graphic_card_brand</th>\n",
              "      <th>graphic_card_size</th>\n",
              "      <th>os</th>\n",
              "      <th>weight</th>\n",
              "      <th>comments</th>\n",
              "    </tr>\n",
              "  </thead>\n",
              "  <tbody>\n",
              "    <tr>\n",
              "      <th>0</th>\n",
              "      <td>Dell</td>\n",
              "      <td>Inspiron 15-3567</td>\n",
              "      <td>4</td>\n",
              "      <td>hdd</td>\n",
              "      <td>1024</td>\n",
              "      <td>15.6</td>\n",
              "      <td>40000</td>\n",
              "      <td>intel</td>\n",
              "      <td>i5</td>\n",
              "      <td>2.5</td>\n",
              "      <td>intel</td>\n",
              "      <td>NaN</td>\n",
              "      <td>linux</td>\n",
              "      <td>2.50</td>\n",
              "      <td>NaN</td>\n",
              "    </tr>\n",
              "    <tr>\n",
              "      <th>1</th>\n",
              "      <td>Apple</td>\n",
              "      <td>MacBook Air</td>\n",
              "      <td>8</td>\n",
              "      <td>ssd</td>\n",
              "      <td>128</td>\n",
              "      <td>13.3</td>\n",
              "      <td>55499</td>\n",
              "      <td>intel</td>\n",
              "      <td>i5</td>\n",
              "      <td>1.8</td>\n",
              "      <td>intel</td>\n",
              "      <td>2.0</td>\n",
              "      <td>mac</td>\n",
              "      <td>1.35</td>\n",
              "      <td>NaN</td>\n",
              "    </tr>\n",
              "    <tr>\n",
              "      <th>2</th>\n",
              "      <td>Apple</td>\n",
              "      <td>MacBook Air</td>\n",
              "      <td>8</td>\n",
              "      <td>ssd</td>\n",
              "      <td>256</td>\n",
              "      <td>13.3</td>\n",
              "      <td>71500</td>\n",
              "      <td>intel</td>\n",
              "      <td>i5</td>\n",
              "      <td>1.8</td>\n",
              "      <td>intel</td>\n",
              "      <td>2.0</td>\n",
              "      <td>mac</td>\n",
              "      <td>1.35</td>\n",
              "      <td>NaN</td>\n",
              "    </tr>\n",
              "    <tr>\n",
              "      <th>3</th>\n",
              "      <td>Apple</td>\n",
              "      <td>MacBook Pro</td>\n",
              "      <td>8</td>\n",
              "      <td>ssd</td>\n",
              "      <td>128</td>\n",
              "      <td>13.3</td>\n",
              "      <td>96890</td>\n",
              "      <td>intel</td>\n",
              "      <td>i5</td>\n",
              "      <td>2.3</td>\n",
              "      <td>intel</td>\n",
              "      <td>2.0</td>\n",
              "      <td>mac</td>\n",
              "      <td>3.02</td>\n",
              "      <td>NaN</td>\n",
              "    </tr>\n",
              "    <tr>\n",
              "      <th>4</th>\n",
              "      <td>Apple</td>\n",
              "      <td>MacBook Pro</td>\n",
              "      <td>8</td>\n",
              "      <td>ssd</td>\n",
              "      <td>256</td>\n",
              "      <td>13.3</td>\n",
              "      <td>112666</td>\n",
              "      <td>intel</td>\n",
              "      <td>i5</td>\n",
              "      <td>2.3</td>\n",
              "      <td>intel</td>\n",
              "      <td>2.0</td>\n",
              "      <td>mac</td>\n",
              "      <td>3.02</td>\n",
              "      <td>NaN</td>\n",
              "    </tr>\n",
              "    <tr>\n",
              "      <th>5</th>\n",
              "      <td>Apple</td>\n",
              "      <td>MacBook Pro (TouchBar)</td>\n",
              "      <td>16</td>\n",
              "      <td>ssd</td>\n",
              "      <td>512</td>\n",
              "      <td>15.0</td>\n",
              "      <td>226000</td>\n",
              "      <td>intel</td>\n",
              "      <td>i7</td>\n",
              "      <td>2.7</td>\n",
              "      <td>intel</td>\n",
              "      <td>2.0</td>\n",
              "      <td>mac</td>\n",
              "      <td>2.50</td>\n",
              "      <td>NaN</td>\n",
              "    </tr>\n",
              "    <tr>\n",
              "      <th>6</th>\n",
              "      <td>Apple</td>\n",
              "      <td>MacBook Pro (TouchBar)</td>\n",
              "      <td>16</td>\n",
              "      <td>ssd</td>\n",
              "      <td>512</td>\n",
              "      <td>13.3</td>\n",
              "      <td>158000</td>\n",
              "      <td>intel</td>\n",
              "      <td>i5</td>\n",
              "      <td>2.9</td>\n",
              "      <td>intel</td>\n",
              "      <td>2.0</td>\n",
              "      <td>mac</td>\n",
              "      <td>1.37</td>\n",
              "      <td>NaN</td>\n",
              "    </tr>\n",
              "    <tr>\n",
              "      <th>7</th>\n",
              "      <td>Apple</td>\n",
              "      <td>MacBook</td>\n",
              "      <td>8</td>\n",
              "      <td>ssd</td>\n",
              "      <td>256</td>\n",
              "      <td>12.0</td>\n",
              "      <td>96990</td>\n",
              "      <td>intel</td>\n",
              "      <td>core m</td>\n",
              "      <td>1.2</td>\n",
              "      <td>intel</td>\n",
              "      <td>2.0</td>\n",
              "      <td>mac</td>\n",
              "      <td>0.92</td>\n",
              "      <td>NaN</td>\n",
              "    </tr>\n",
              "    <tr>\n",
              "      <th>8</th>\n",
              "      <td>Dell</td>\n",
              "      <td>Vostro 3468</td>\n",
              "      <td>4</td>\n",
              "      <td>hdd</td>\n",
              "      <td>1024</td>\n",
              "      <td>14.0</td>\n",
              "      <td>33225</td>\n",
              "      <td>intel</td>\n",
              "      <td>i3</td>\n",
              "      <td>2.4</td>\n",
              "      <td>intel</td>\n",
              "      <td>NaN</td>\n",
              "      <td>linux</td>\n",
              "      <td>1.76</td>\n",
              "      <td>Integrated Graphics</td>\n",
              "    </tr>\n",
              "  </tbody>\n",
              "</table>\n",
              "</div>"
            ],
            "text/plain": [
              "   brand                   model  ram  ...     os  weight             comments\n",
              "0   Dell        Inspiron 15-3567    4  ...  linux    2.50                  NaN\n",
              "1  Apple             MacBook Air    8  ...    mac    1.35                  NaN\n",
              "2  Apple             MacBook Air    8  ...    mac    1.35                  NaN\n",
              "3  Apple             MacBook Pro    8  ...    mac    3.02                  NaN\n",
              "4  Apple             MacBook Pro    8  ...    mac    3.02                  NaN\n",
              "5  Apple  MacBook Pro (TouchBar)   16  ...    mac    2.50                  NaN\n",
              "6  Apple  MacBook Pro (TouchBar)   16  ...    mac    1.37                  NaN\n",
              "7  Apple                MacBook     8  ...    mac    0.92                  NaN\n",
              "8   Dell             Vostro 3468    4  ...  linux    1.76  Integrated Graphics\n",
              "\n",
              "[9 rows x 15 columns]"
            ]
          },
          "metadata": {
            "tags": []
          },
          "execution_count": 4
        }
      ]
    },
    {
      "cell_type": "code",
      "metadata": {
        "colab": {
          "base_uri": "https://localhost:8080/",
          "height": 204
        },
        "id": "BrMH_tJaRFi4",
        "outputId": "8a837c0e-5896-4da2-fb64-ed8be890b050"
      },
      "source": [
        "laptops_df.tail()"
      ],
      "execution_count": null,
      "outputs": [
        {
          "output_type": "execute_result",
          "data": {
            "text/html": [
              "<div>\n",
              "<style scoped>\n",
              "    .dataframe tbody tr th:only-of-type {\n",
              "        vertical-align: middle;\n",
              "    }\n",
              "\n",
              "    .dataframe tbody tr th {\n",
              "        vertical-align: top;\n",
              "    }\n",
              "\n",
              "    .dataframe thead th {\n",
              "        text-align: right;\n",
              "    }\n",
              "</style>\n",
              "<table border=\"1\" class=\"dataframe\">\n",
              "  <thead>\n",
              "    <tr style=\"text-align: right;\">\n",
              "      <th></th>\n",
              "      <th>brand</th>\n",
              "      <th>model</th>\n",
              "      <th>ram</th>\n",
              "      <th>hd_type</th>\n",
              "      <th>hd_size</th>\n",
              "      <th>screen_size</th>\n",
              "      <th>price</th>\n",
              "      <th>processor_brand</th>\n",
              "      <th>processor_model</th>\n",
              "      <th>clock_speed</th>\n",
              "      <th>graphic_card_brand</th>\n",
              "      <th>graphic_card_size</th>\n",
              "      <th>os</th>\n",
              "      <th>weight</th>\n",
              "      <th>comments</th>\n",
              "    </tr>\n",
              "  </thead>\n",
              "  <tbody>\n",
              "    <tr>\n",
              "      <th>162</th>\n",
              "      <td>Asus</td>\n",
              "      <td>A555LF</td>\n",
              "      <td>8</td>\n",
              "      <td>hdd</td>\n",
              "      <td>1024</td>\n",
              "      <td>15.6</td>\n",
              "      <td>39961</td>\n",
              "      <td>intel</td>\n",
              "      <td>i3 4th gen</td>\n",
              "      <td>1.7</td>\n",
              "      <td>nvidia</td>\n",
              "      <td>2.0</td>\n",
              "      <td>windows</td>\n",
              "      <td>2.3</td>\n",
              "      <td>NaN</td>\n",
              "    </tr>\n",
              "    <tr>\n",
              "      <th>163</th>\n",
              "      <td>Asus</td>\n",
              "      <td>X555LA-XX172D</td>\n",
              "      <td>4</td>\n",
              "      <td>hdd</td>\n",
              "      <td>500</td>\n",
              "      <td>15.6</td>\n",
              "      <td>28489</td>\n",
              "      <td>intel</td>\n",
              "      <td>i3 4th gen</td>\n",
              "      <td>1.9</td>\n",
              "      <td>intel</td>\n",
              "      <td>NaN</td>\n",
              "      <td>linux</td>\n",
              "      <td>2.3</td>\n",
              "      <td>NaN</td>\n",
              "    </tr>\n",
              "    <tr>\n",
              "      <th>164</th>\n",
              "      <td>Asus</td>\n",
              "      <td>X554LD</td>\n",
              "      <td>2</td>\n",
              "      <td>hdd</td>\n",
              "      <td>500</td>\n",
              "      <td>15.6</td>\n",
              "      <td>29199</td>\n",
              "      <td>intel</td>\n",
              "      <td>i3 4th gen</td>\n",
              "      <td>1.9</td>\n",
              "      <td>intel</td>\n",
              "      <td>1.0</td>\n",
              "      <td>linux</td>\n",
              "      <td>2.3</td>\n",
              "      <td>NaN</td>\n",
              "    </tr>\n",
              "    <tr>\n",
              "      <th>165</th>\n",
              "      <td>Asus</td>\n",
              "      <td>X550LAV-XX771D</td>\n",
              "      <td>2</td>\n",
              "      <td>hdd</td>\n",
              "      <td>500</td>\n",
              "      <td>15.6</td>\n",
              "      <td>29990</td>\n",
              "      <td>intel</td>\n",
              "      <td>i3 4th gen</td>\n",
              "      <td>1.7</td>\n",
              "      <td>intel</td>\n",
              "      <td>NaN</td>\n",
              "      <td>linux</td>\n",
              "      <td>2.5</td>\n",
              "      <td>NaN</td>\n",
              "    </tr>\n",
              "    <tr>\n",
              "      <th>166</th>\n",
              "      <td>Asus</td>\n",
              "      <td>X540LA-XX538T</td>\n",
              "      <td>4</td>\n",
              "      <td>hdd</td>\n",
              "      <td>1024</td>\n",
              "      <td>15.6</td>\n",
              "      <td>30899</td>\n",
              "      <td>intel</td>\n",
              "      <td>i3 5th gen</td>\n",
              "      <td>2.0</td>\n",
              "      <td>intel</td>\n",
              "      <td>NaN</td>\n",
              "      <td>windows</td>\n",
              "      <td>2.3</td>\n",
              "      <td>NaN</td>\n",
              "    </tr>\n",
              "  </tbody>\n",
              "</table>\n",
              "</div>"
            ],
            "text/plain": [
              "    brand           model  ram  ...       os  weight  comments\n",
              "162  Asus          A555LF    8  ...  windows     2.3       NaN\n",
              "163  Asus   X555LA-XX172D    4  ...    linux     2.3       NaN\n",
              "164  Asus          X554LD    2  ...    linux     2.3       NaN\n",
              "165  Asus  X550LAV-XX771D    2  ...    linux     2.5       NaN\n",
              "166  Asus   X540LA-XX538T    4  ...  windows     2.3       NaN\n",
              "\n",
              "[5 rows x 15 columns]"
            ]
          },
          "metadata": {
            "tags": []
          },
          "execution_count": 6
        }
      ]
    },
    {
      "cell_type": "code",
      "metadata": {
        "colab": {
          "base_uri": "https://localhost:8080/"
        },
        "id": "C3aXaJP0RKIK",
        "outputId": "ab25f4f2-2203-4b17-caf7-d9411091cc47"
      },
      "source": [
        "laptops_df.shape"
      ],
      "execution_count": null,
      "outputs": [
        {
          "output_type": "execute_result",
          "data": {
            "text/plain": [
              "(167, 15)"
            ]
          },
          "metadata": {
            "tags": []
          },
          "execution_count": 9
        }
      ]
    },
    {
      "cell_type": "code",
      "metadata": {
        "colab": {
          "base_uri": "https://localhost:8080/"
        },
        "id": "xgZJpNVmROu-",
        "outputId": "ec0aadeb-2a0a-4331-dc09-abfb1514a9b7"
      },
      "source": [
        "laptops_df.columns"
      ],
      "execution_count": null,
      "outputs": [
        {
          "output_type": "execute_result",
          "data": {
            "text/plain": [
              "Index(['brand', 'model', 'ram', 'hd_type', 'hd_size', 'screen_size', 'price',\n",
              "       'processor_brand', 'processor_model', 'clock_speed',\n",
              "       'graphic_card_brand', 'graphic_card_size', 'os', 'weight', 'comments'],\n",
              "      dtype='object')"
            ]
          },
          "metadata": {
            "tags": []
          },
          "execution_count": 10
        }
      ]
    },
    {
      "cell_type": "code",
      "metadata": {
        "colab": {
          "base_uri": "https://localhost:8080/"
        },
        "id": "bn1n2T2eRVhz",
        "outputId": "58cf417c-b980-48f9-ced5-8832504a4f34"
      },
      "source": [
        "laptops_df.info()"
      ],
      "execution_count": null,
      "outputs": [
        {
          "output_type": "stream",
          "text": [
            "<class 'pandas.core.frame.DataFrame'>\n",
            "RangeIndex: 167 entries, 0 to 166\n",
            "Data columns (total 15 columns):\n",
            " #   Column              Non-Null Count  Dtype  \n",
            "---  ------              --------------  -----  \n",
            " 0   brand               167 non-null    object \n",
            " 1   model               167 non-null    object \n",
            " 2   ram                 167 non-null    int64  \n",
            " 3   hd_type             167 non-null    object \n",
            " 4   hd_size             167 non-null    int64  \n",
            " 5   screen_size         167 non-null    float64\n",
            " 6   price               167 non-null    int64  \n",
            " 7   processor_brand     167 non-null    object \n",
            " 8   processor_model     167 non-null    object \n",
            " 9   clock_speed         166 non-null    float64\n",
            " 10  graphic_card_brand  163 non-null    object \n",
            " 11  graphic_card_size   81 non-null     float64\n",
            " 12  os                  167 non-null    object \n",
            " 13  weight              160 non-null    float64\n",
            " 14  comments            55 non-null     object \n",
            "dtypes: float64(4), int64(3), object(8)\n",
            "memory usage: 19.7+ KB\n"
          ],
          "name": "stdout"
        }
      ]
    },
    {
      "cell_type": "code",
      "metadata": {
        "colab": {
          "base_uri": "https://localhost:8080/",
          "height": 297
        },
        "id": "np20SbwURgNH",
        "outputId": "d0684157-267d-4575-fc8c-7ee49a72e64d"
      },
      "source": [
        "laptops_df.describe()"
      ],
      "execution_count": null,
      "outputs": [
        {
          "output_type": "execute_result",
          "data": {
            "text/html": [
              "<div>\n",
              "<style scoped>\n",
              "    .dataframe tbody tr th:only-of-type {\n",
              "        vertical-align: middle;\n",
              "    }\n",
              "\n",
              "    .dataframe tbody tr th {\n",
              "        vertical-align: top;\n",
              "    }\n",
              "\n",
              "    .dataframe thead th {\n",
              "        text-align: right;\n",
              "    }\n",
              "</style>\n",
              "<table border=\"1\" class=\"dataframe\">\n",
              "  <thead>\n",
              "    <tr style=\"text-align: right;\">\n",
              "      <th></th>\n",
              "      <th>ram</th>\n",
              "      <th>hd_size</th>\n",
              "      <th>screen_size</th>\n",
              "      <th>price</th>\n",
              "      <th>clock_speed</th>\n",
              "      <th>graphic_card_size</th>\n",
              "      <th>weight</th>\n",
              "    </tr>\n",
              "  </thead>\n",
              "  <tbody>\n",
              "    <tr>\n",
              "      <th>count</th>\n",
              "      <td>167.000000</td>\n",
              "      <td>167.00000</td>\n",
              "      <td>167.000000</td>\n",
              "      <td>167.000000</td>\n",
              "      <td>166.000000</td>\n",
              "      <td>81.000000</td>\n",
              "      <td>160.000000</td>\n",
              "    </tr>\n",
              "    <tr>\n",
              "      <th>mean</th>\n",
              "      <td>6.898204</td>\n",
              "      <td>768.91018</td>\n",
              "      <td>14.775210</td>\n",
              "      <td>64132.898204</td>\n",
              "      <td>2.321084</td>\n",
              "      <td>52.160494</td>\n",
              "      <td>2.250812</td>\n",
              "    </tr>\n",
              "    <tr>\n",
              "      <th>std</th>\n",
              "      <td>3.787479</td>\n",
              "      <td>392.99080</td>\n",
              "      <td>1.376526</td>\n",
              "      <td>42797.674010</td>\n",
              "      <td>0.554187</td>\n",
              "      <td>444.134142</td>\n",
              "      <td>0.648446</td>\n",
              "    </tr>\n",
              "    <tr>\n",
              "      <th>min</th>\n",
              "      <td>2.000000</td>\n",
              "      <td>32.00000</td>\n",
              "      <td>10.100000</td>\n",
              "      <td>13872.000000</td>\n",
              "      <td>1.100000</td>\n",
              "      <td>1.000000</td>\n",
              "      <td>0.780000</td>\n",
              "    </tr>\n",
              "    <tr>\n",
              "      <th>25%</th>\n",
              "      <td>4.000000</td>\n",
              "      <td>500.00000</td>\n",
              "      <td>14.000000</td>\n",
              "      <td>35457.500000</td>\n",
              "      <td>1.900000</td>\n",
              "      <td>2.000000</td>\n",
              "      <td>1.900000</td>\n",
              "    </tr>\n",
              "    <tr>\n",
              "      <th>50%</th>\n",
              "      <td>8.000000</td>\n",
              "      <td>1024.00000</td>\n",
              "      <td>15.600000</td>\n",
              "      <td>47990.000000</td>\n",
              "      <td>2.300000</td>\n",
              "      <td>2.000000</td>\n",
              "      <td>2.200000</td>\n",
              "    </tr>\n",
              "    <tr>\n",
              "      <th>75%</th>\n",
              "      <td>8.000000</td>\n",
              "      <td>1024.00000</td>\n",
              "      <td>15.600000</td>\n",
              "      <td>77494.500000</td>\n",
              "      <td>2.600000</td>\n",
              "      <td>4.000000</td>\n",
              "      <td>2.600000</td>\n",
              "    </tr>\n",
              "    <tr>\n",
              "      <th>max</th>\n",
              "      <td>16.000000</td>\n",
              "      <td>2048.00000</td>\n",
              "      <td>17.600000</td>\n",
              "      <td>226000.000000</td>\n",
              "      <td>3.800000</td>\n",
              "      <td>4000.000000</td>\n",
              "      <td>4.200000</td>\n",
              "    </tr>\n",
              "  </tbody>\n",
              "</table>\n",
              "</div>"
            ],
            "text/plain": [
              "              ram     hd_size  ...  graphic_card_size      weight\n",
              "count  167.000000   167.00000  ...          81.000000  160.000000\n",
              "mean     6.898204   768.91018  ...          52.160494    2.250812\n",
              "std      3.787479   392.99080  ...         444.134142    0.648446\n",
              "min      2.000000    32.00000  ...           1.000000    0.780000\n",
              "25%      4.000000   500.00000  ...           2.000000    1.900000\n",
              "50%      8.000000  1024.00000  ...           2.000000    2.200000\n",
              "75%      8.000000  1024.00000  ...           4.000000    2.600000\n",
              "max     16.000000  2048.00000  ...        4000.000000    4.200000\n",
              "\n",
              "[8 rows x 7 columns]"
            ]
          },
          "metadata": {
            "tags": []
          },
          "execution_count": 12
        }
      ]
    },
    {
      "cell_type": "code",
      "metadata": {
        "id": "ivW-p59-Rpqx"
      },
      "source": [
        "laptops_df.sort_values(by = 'price', ascending = False, inplace= True) #내림차순 정렬. sort는 실제 df에 영향을 주지 않는다! df 정렬 바꾸려면 inplace=True"
      ],
      "execution_count": null,
      "outputs": []
    },
    {
      "cell_type": "code",
      "metadata": {
        "colab": {
          "base_uri": "https://localhost:8080/",
          "height": 657
        },
        "id": "yA2T8rcdRzSH",
        "outputId": "dc72abbc-2f55-44c2-8587-21d6f7634f36"
      },
      "source": [
        "laptops_df"
      ],
      "execution_count": null,
      "outputs": [
        {
          "output_type": "execute_result",
          "data": {
            "text/html": [
              "<div>\n",
              "<style scoped>\n",
              "    .dataframe tbody tr th:only-of-type {\n",
              "        vertical-align: middle;\n",
              "    }\n",
              "\n",
              "    .dataframe tbody tr th {\n",
              "        vertical-align: top;\n",
              "    }\n",
              "\n",
              "    .dataframe thead th {\n",
              "        text-align: right;\n",
              "    }\n",
              "</style>\n",
              "<table border=\"1\" class=\"dataframe\">\n",
              "  <thead>\n",
              "    <tr style=\"text-align: right;\">\n",
              "      <th></th>\n",
              "      <th>brand</th>\n",
              "      <th>model</th>\n",
              "      <th>ram</th>\n",
              "      <th>hd_type</th>\n",
              "      <th>hd_size</th>\n",
              "      <th>screen_size</th>\n",
              "      <th>price</th>\n",
              "      <th>processor_brand</th>\n",
              "      <th>processor_model</th>\n",
              "      <th>clock_speed</th>\n",
              "      <th>graphic_card_brand</th>\n",
              "      <th>graphic_card_size</th>\n",
              "      <th>os</th>\n",
              "      <th>weight</th>\n",
              "      <th>comments</th>\n",
              "    </tr>\n",
              "  </thead>\n",
              "  <tbody>\n",
              "    <tr>\n",
              "      <th>5</th>\n",
              "      <td>Apple</td>\n",
              "      <td>MacBook Pro (TouchBar)</td>\n",
              "      <td>16</td>\n",
              "      <td>ssd</td>\n",
              "      <td>512</td>\n",
              "      <td>15.0</td>\n",
              "      <td>226000</td>\n",
              "      <td>intel</td>\n",
              "      <td>i7</td>\n",
              "      <td>2.70</td>\n",
              "      <td>intel</td>\n",
              "      <td>2.0</td>\n",
              "      <td>mac</td>\n",
              "      <td>2.5</td>\n",
              "      <td>NaN</td>\n",
              "    </tr>\n",
              "    <tr>\n",
              "      <th>90</th>\n",
              "      <td>Alienware</td>\n",
              "      <td>15 Notebook</td>\n",
              "      <td>16</td>\n",
              "      <td>hdd</td>\n",
              "      <td>1024</td>\n",
              "      <td>15.6</td>\n",
              "      <td>199000</td>\n",
              "      <td>intel</td>\n",
              "      <td>i7</td>\n",
              "      <td>2.60</td>\n",
              "      <td>nvidia</td>\n",
              "      <td>8.0</td>\n",
              "      <td>windows</td>\n",
              "      <td>3.5</td>\n",
              "      <td>Maximum Display Resolution : 1920 x 1080 pixel</td>\n",
              "    </tr>\n",
              "    <tr>\n",
              "      <th>96</th>\n",
              "      <td>Alienware</td>\n",
              "      <td>AW13R3-7000SLV-PUS</td>\n",
              "      <td>8</td>\n",
              "      <td>ssd</td>\n",
              "      <td>256</td>\n",
              "      <td>13.3</td>\n",
              "      <td>190256</td>\n",
              "      <td>intel</td>\n",
              "      <td>i7</td>\n",
              "      <td>3.00</td>\n",
              "      <td>nvidia</td>\n",
              "      <td>6.0</td>\n",
              "      <td>windows</td>\n",
              "      <td>2.6</td>\n",
              "      <td>13.3 inch FHD (1920 x 1080) IPS Anti-Glare 300...</td>\n",
              "    </tr>\n",
              "    <tr>\n",
              "      <th>31</th>\n",
              "      <td>Acer</td>\n",
              "      <td>Predator 17</td>\n",
              "      <td>16</td>\n",
              "      <td>ssd</td>\n",
              "      <td>256</td>\n",
              "      <td>17.3</td>\n",
              "      <td>178912</td>\n",
              "      <td>intel</td>\n",
              "      <td>i7</td>\n",
              "      <td>2.60</td>\n",
              "      <td>nvidia</td>\n",
              "      <td>NaN</td>\n",
              "      <td>windows</td>\n",
              "      <td>4.2</td>\n",
              "      <td>Integrated Graphics</td>\n",
              "    </tr>\n",
              "    <tr>\n",
              "      <th>154</th>\n",
              "      <td>Microsoft</td>\n",
              "      <td>Surface Book CR9-00013</td>\n",
              "      <td>8</td>\n",
              "      <td>ssd</td>\n",
              "      <td>128</td>\n",
              "      <td>13.5</td>\n",
              "      <td>178799</td>\n",
              "      <td>intel</td>\n",
              "      <td>i5</td>\n",
              "      <td>1.80</td>\n",
              "      <td>intel</td>\n",
              "      <td>NaN</td>\n",
              "      <td>windows</td>\n",
              "      <td>1.5</td>\n",
              "      <td>NaN</td>\n",
              "    </tr>\n",
              "    <tr>\n",
              "      <th>...</th>\n",
              "      <td>...</td>\n",
              "      <td>...</td>\n",
              "      <td>...</td>\n",
              "      <td>...</td>\n",
              "      <td>...</td>\n",
              "      <td>...</td>\n",
              "      <td>...</td>\n",
              "      <td>...</td>\n",
              "      <td>...</td>\n",
              "      <td>...</td>\n",
              "      <td>...</td>\n",
              "      <td>...</td>\n",
              "      <td>...</td>\n",
              "      <td>...</td>\n",
              "      <td>...</td>\n",
              "    </tr>\n",
              "    <tr>\n",
              "      <th>73</th>\n",
              "      <td>Acer</td>\n",
              "      <td>Aspire ES1-523</td>\n",
              "      <td>4</td>\n",
              "      <td>hdd</td>\n",
              "      <td>1024</td>\n",
              "      <td>15.6</td>\n",
              "      <td>19465</td>\n",
              "      <td>amd</td>\n",
              "      <td>A4-7210</td>\n",
              "      <td>1.80</td>\n",
              "      <td>amd</td>\n",
              "      <td>NaN</td>\n",
              "      <td>linux</td>\n",
              "      <td>2.4</td>\n",
              "      <td>NaN</td>\n",
              "    </tr>\n",
              "    <tr>\n",
              "      <th>100</th>\n",
              "      <td>Acer</td>\n",
              "      <td>A315-31-P4CRUN.GNTSI.002</td>\n",
              "      <td>4</td>\n",
              "      <td>hdd</td>\n",
              "      <td>500</td>\n",
              "      <td>15.6</td>\n",
              "      <td>18990</td>\n",
              "      <td>intel</td>\n",
              "      <td>pentium</td>\n",
              "      <td>1.10</td>\n",
              "      <td>intel</td>\n",
              "      <td>NaN</td>\n",
              "      <td>windows</td>\n",
              "      <td>NaN</td>\n",
              "      <td>NaN</td>\n",
              "    </tr>\n",
              "    <tr>\n",
              "      <th>108</th>\n",
              "      <td>Acer</td>\n",
              "      <td>Aspire ES-15 NX.GKYSI.010</td>\n",
              "      <td>4</td>\n",
              "      <td>hdd</td>\n",
              "      <td>500</td>\n",
              "      <td>15.6</td>\n",
              "      <td>17990</td>\n",
              "      <td>amd</td>\n",
              "      <td>A4-7210</td>\n",
              "      <td>1.80</td>\n",
              "      <td>amd</td>\n",
              "      <td>NaN</td>\n",
              "      <td>windows</td>\n",
              "      <td>2.4</td>\n",
              "      <td>NaN</td>\n",
              "    </tr>\n",
              "    <tr>\n",
              "      <th>83</th>\n",
              "      <td>Acer</td>\n",
              "      <td>A315-31CDC UN.GNTSI.001</td>\n",
              "      <td>2</td>\n",
              "      <td>ssd</td>\n",
              "      <td>500</td>\n",
              "      <td>15.6</td>\n",
              "      <td>17990</td>\n",
              "      <td>intel</td>\n",
              "      <td>Celeron</td>\n",
              "      <td>1.10</td>\n",
              "      <td>intel</td>\n",
              "      <td>NaN</td>\n",
              "      <td>windows</td>\n",
              "      <td>2.1</td>\n",
              "      <td>NaN</td>\n",
              "    </tr>\n",
              "    <tr>\n",
              "      <th>148</th>\n",
              "      <td>Acer</td>\n",
              "      <td>Aspire SW3-016</td>\n",
              "      <td>2</td>\n",
              "      <td>ssd</td>\n",
              "      <td>32</td>\n",
              "      <td>10.1</td>\n",
              "      <td>13872</td>\n",
              "      <td>intel</td>\n",
              "      <td>Atom Z8300</td>\n",
              "      <td>1.44</td>\n",
              "      <td>intel</td>\n",
              "      <td>NaN</td>\n",
              "      <td>windows</td>\n",
              "      <td>1.2</td>\n",
              "      <td>NaN</td>\n",
              "    </tr>\n",
              "  </tbody>\n",
              "</table>\n",
              "<p>167 rows × 15 columns</p>\n",
              "</div>"
            ],
            "text/plain": [
              "         brand  ...                                           comments\n",
              "5        Apple  ...                                                NaN\n",
              "90   Alienware  ...     Maximum Display Resolution : 1920 x 1080 pixel\n",
              "96   Alienware  ...  13.3 inch FHD (1920 x 1080) IPS Anti-Glare 300...\n",
              "31        Acer  ...                                Integrated Graphics\n",
              "154  Microsoft  ...                                                NaN\n",
              "..         ...  ...                                                ...\n",
              "73        Acer  ...                                                NaN\n",
              "100       Acer  ...                                                NaN\n",
              "108       Acer  ...                                                NaN\n",
              "83        Acer  ...                                                NaN\n",
              "148       Acer  ...                                                NaN\n",
              "\n",
              "[167 rows x 15 columns]"
            ]
          },
          "metadata": {
            "tags": []
          },
          "execution_count": 20
        }
      ]
    },
    {
      "cell_type": "markdown",
      "metadata": {
        "id": "M4JJ6dH3SPuE"
      },
      "source": [
        "### 판다스 시리즈(series)로 조회"
      ]
    },
    {
      "cell_type": "code",
      "metadata": {
        "colab": {
          "base_uri": "https://localhost:8080/"
        },
        "id": "Bfj4D5qIR_WE",
        "outputId": "c05832e6-7780-43f5-db15-c3b2b425589a"
      },
      "source": [
        "laptops_df['brand'] #겹치는 브랜드명도 있음"
      ],
      "execution_count": null,
      "outputs": [
        {
          "output_type": "execute_result",
          "data": {
            "text/plain": [
              "5          Apple\n",
              "90     Alienware\n",
              "96     Alienware\n",
              "31          Acer\n",
              "154    Microsoft\n",
              "         ...    \n",
              "73          Acer\n",
              "100         Acer\n",
              "108         Acer\n",
              "83          Acer\n",
              "148         Acer\n",
              "Name: brand, Length: 167, dtype: object"
            ]
          },
          "metadata": {
            "tags": []
          },
          "execution_count": 23
        }
      ]
    },
    {
      "cell_type": "code",
      "metadata": {
        "colab": {
          "base_uri": "https://localhost:8080/"
        },
        "id": "PryGzT2_STzJ",
        "outputId": "d39ea80f-9aaa-4d6c-a90f-b665d74b3f03"
      },
      "source": [
        "laptops_df['brand'].unique() #중복제거"
      ],
      "execution_count": null,
      "outputs": [
        {
          "output_type": "execute_result",
          "data": {
            "text/plain": [
              "array(['Apple', 'Alienware', 'Acer', 'Microsoft', 'HP', 'Dell', 'Lenovo',\n",
              "       'Asus'], dtype=object)"
            ]
          },
          "metadata": {
            "tags": []
          },
          "execution_count": 24
        }
      ]
    },
    {
      "cell_type": "code",
      "metadata": {
        "colab": {
          "base_uri": "https://localhost:8080/"
        },
        "id": "2GMaSy9XSkzL",
        "outputId": "4b42fc45-a379-494c-c098-8a681cf95708"
      },
      "source": [
        "laptops_df['brand'].value_counts() #각 브랜드별 값 개수"
      ],
      "execution_count": null,
      "outputs": [
        {
          "output_type": "execute_result",
          "data": {
            "text/plain": [
              "HP           55\n",
              "Acer         35\n",
              "Dell         31\n",
              "Lenovo       18\n",
              "Asus          9\n",
              "Apple         7\n",
              "Alienware     6\n",
              "Microsoft     6\n",
              "Name: brand, dtype: int64"
            ]
          },
          "metadata": {
            "tags": []
          },
          "execution_count": 25
        }
      ]
    },
    {
      "cell_type": "code",
      "metadata": {
        "colab": {
          "base_uri": "https://localhost:8080/"
        },
        "id": "nfhG2n7wSpvw",
        "outputId": "0e315708-34af-4a91-d45c-ad2184a520ef"
      },
      "source": [
        "laptops_df['brand'].describe()"
      ],
      "execution_count": null,
      "outputs": [
        {
          "output_type": "execute_result",
          "data": {
            "text/plain": [
              "count     167\n",
              "unique      8\n",
              "top        HP\n",
              "freq       55\n",
              "Name: brand, dtype: object"
            ]
          },
          "metadata": {
            "tags": []
          },
          "execution_count": 26
        }
      ]
    },
    {
      "cell_type": "markdown",
      "metadata": {
        "id": "8W_yi4PnS3AO"
      },
      "source": [
        "### 실습문제 (여행지 선정하기)"
      ]
    },
    {
      "cell_type": "code",
      "metadata": {
        "id": "gM9vbfQGStnV"
      },
      "source": [
        "import pandas as pd\n",
        "world_cities = pd.read_csv('world_cities.csv')"
      ],
      "execution_count": 7,
      "outputs": []
    },
    {
      "cell_type": "code",
      "metadata": {
        "colab": {
          "base_uri": "https://localhost:8080/",
          "height": 419
        },
        "id": "6QaUSvDGTFum",
        "outputId": "d24108f0-1553-4301-c790-df8866c54245"
      },
      "source": [
        "world_cities"
      ],
      "execution_count": 8,
      "outputs": [
        {
          "output_type": "execute_result",
          "data": {
            "text/html": [
              "<div>\n",
              "<style scoped>\n",
              "    .dataframe tbody tr th:only-of-type {\n",
              "        vertical-align: middle;\n",
              "    }\n",
              "\n",
              "    .dataframe tbody tr th {\n",
              "        vertical-align: top;\n",
              "    }\n",
              "\n",
              "    .dataframe thead th {\n",
              "        text-align: right;\n",
              "    }\n",
              "</style>\n",
              "<table border=\"1\" class=\"dataframe\">\n",
              "  <thead>\n",
              "    <tr style=\"text-align: right;\">\n",
              "      <th></th>\n",
              "      <th>Unnamed: 0</th>\n",
              "      <th>City / Urban area</th>\n",
              "      <th>Country</th>\n",
              "      <th>Population</th>\n",
              "      <th>Land area (in sqKm)</th>\n",
              "    </tr>\n",
              "  </thead>\n",
              "  <tbody>\n",
              "    <tr>\n",
              "      <th>0</th>\n",
              "      <td>0</td>\n",
              "      <td>Buenos Aires</td>\n",
              "      <td>Argentina</td>\n",
              "      <td>11200000</td>\n",
              "      <td>2266</td>\n",
              "    </tr>\n",
              "    <tr>\n",
              "      <th>1</th>\n",
              "      <td>1</td>\n",
              "      <td>Melbourne</td>\n",
              "      <td>Australia</td>\n",
              "      <td>3162000</td>\n",
              "      <td>2080</td>\n",
              "    </tr>\n",
              "    <tr>\n",
              "      <th>2</th>\n",
              "      <td>2</td>\n",
              "      <td>Sydney</td>\n",
              "      <td>Australia</td>\n",
              "      <td>3502000</td>\n",
              "      <td>1687</td>\n",
              "    </tr>\n",
              "    <tr>\n",
              "      <th>3</th>\n",
              "      <td>3</td>\n",
              "      <td>Brisbane</td>\n",
              "      <td>Australia</td>\n",
              "      <td>1508000</td>\n",
              "      <td>1603</td>\n",
              "    </tr>\n",
              "    <tr>\n",
              "      <th>4</th>\n",
              "      <td>4</td>\n",
              "      <td>Perth</td>\n",
              "      <td>Australia</td>\n",
              "      <td>1177000</td>\n",
              "      <td>964</td>\n",
              "    </tr>\n",
              "    <tr>\n",
              "      <th>...</th>\n",
              "      <td>...</td>\n",
              "      <td>...</td>\n",
              "      <td>...</td>\n",
              "      <td>...</td>\n",
              "      <td>...</td>\n",
              "    </tr>\n",
              "    <tr>\n",
              "      <th>244</th>\n",
              "      <td>245</td>\n",
              "      <td>Canton</td>\n",
              "      <td>USA</td>\n",
              "      <td>267000</td>\n",
              "      <td>372</td>\n",
              "    </tr>\n",
              "    <tr>\n",
              "      <th>245</th>\n",
              "      <td>246</td>\n",
              "      <td>Spokane</td>\n",
              "      <td>USA</td>\n",
              "      <td>335000</td>\n",
              "      <td>371</td>\n",
              "    </tr>\n",
              "    <tr>\n",
              "      <th>246</th>\n",
              "      <td>247</td>\n",
              "      <td>Tashkent</td>\n",
              "      <td>Uzbekistan</td>\n",
              "      <td>2200000</td>\n",
              "      <td>531</td>\n",
              "    </tr>\n",
              "    <tr>\n",
              "      <th>247</th>\n",
              "      <td>248</td>\n",
              "      <td>Ho Chi Minh City</td>\n",
              "      <td>Vietnam</td>\n",
              "      <td>4900000</td>\n",
              "      <td>518</td>\n",
              "    </tr>\n",
              "    <tr>\n",
              "      <th>248</th>\n",
              "      <td>249</td>\n",
              "      <td>Harare</td>\n",
              "      <td>Zimbabwe</td>\n",
              "      <td>1750000</td>\n",
              "      <td>712</td>\n",
              "    </tr>\n",
              "  </tbody>\n",
              "</table>\n",
              "<p>249 rows × 5 columns</p>\n",
              "</div>"
            ],
            "text/plain": [
              "     Unnamed: 0 City / Urban area     Country  Population  Land area (in sqKm)\n",
              "0             0      Buenos Aires   Argentina    11200000                 2266\n",
              "1             1         Melbourne   Australia     3162000                 2080\n",
              "2             2            Sydney   Australia     3502000                 1687\n",
              "3             3          Brisbane   Australia     1508000                 1603\n",
              "4             4             Perth   Australia     1177000                  964\n",
              "..          ...               ...         ...         ...                  ...\n",
              "244         245            Canton         USA      267000                  372\n",
              "245         246           Spokane         USA      335000                  371\n",
              "246         247          Tashkent  Uzbekistan     2200000                  531\n",
              "247         248  Ho Chi Minh City     Vietnam     4900000                  518\n",
              "248         249            Harare    Zimbabwe     1750000                  712\n",
              "\n",
              "[249 rows x 5 columns]"
            ]
          },
          "metadata": {
            "tags": []
          },
          "execution_count": 8
        }
      ]
    },
    {
      "cell_type": "code",
      "metadata": {
        "colab": {
          "base_uri": "https://localhost:8080/"
        },
        "id": "tCGDft3RTIK2",
        "outputId": "5e44b983-05e4-4f1f-a380-f6ffd3fd6fc9"
      },
      "source": [
        "world_cities['Country'].value_counts()"
      ],
      "execution_count": 9,
      "outputs": [
        {
          "output_type": "execute_result",
          "data": {
            "text/plain": [
              "USA          105\n",
              "France        15\n",
              "Brazil        10\n",
              "Canada         9\n",
              "Germany        8\n",
              "            ... \n",
              "Ecuador        1\n",
              "Peru           1\n",
              "Argentina      1\n",
              "Iraq           1\n",
              "Greece         1\n",
              "Name: Country, Length: 61, dtype: int64"
            ]
          },
          "metadata": {
            "tags": []
          },
          "execution_count": 9
        }
      ]
    },
    {
      "cell_type": "code",
      "metadata": {
        "colab": {
          "base_uri": "https://localhost:8080/"
        },
        "id": "fKxReJNiTZsi",
        "outputId": "544fe216-cada-4f03-b7ba-017dd6977cda"
      },
      "source": [
        "world_cities['City / Urban area'].value_counts()"
      ],
      "execution_count": 10,
      "outputs": [
        {
          "output_type": "execute_result",
          "data": {
            "text/plain": [
              "Bangalore        1\n",
              "Poughkeepsie     1\n",
              "Chicago          1\n",
              "Lisbon           1\n",
              "Mobile           1\n",
              "                ..\n",
              "Youngstown       1\n",
              "Baku/Sumqayit    1\n",
              "Port St Lucie    1\n",
              "Washington       1\n",
              "Frankfurt        1\n",
              "Name: City / Urban area, Length: 249, dtype: int64"
            ]
          },
          "metadata": {
            "tags": []
          },
          "execution_count": 10
        }
      ]
    },
    {
      "cell_type": "code",
      "metadata": {
        "colab": {
          "base_uri": "https://localhost:8080/"
        },
        "id": "txk0FcUSTh5P",
        "outputId": "e6da6002-fe6c-497f-d566-057156ce8aa5"
      },
      "source": [
        "big_cities = world_cities.loc[world_cities['Population'] / world_cities['Land area (in sqKm)'] > 10000]\n",
        "big_cities['City / Urban area'].describe()"
      ],
      "execution_count": 11,
      "outputs": [
        {
          "output_type": "execute_result",
          "data": {
            "text/plain": [
              "count          19\n",
              "unique         19\n",
              "top       Chennai\n",
              "freq            1\n",
              "Name: City / Urban area, dtype: object"
            ]
          },
          "metadata": {
            "tags": []
          },
          "execution_count": 11
        }
      ]
    },
    {
      "cell_type": "code",
      "metadata": {
        "id": "hV5cHgp0T0OR"
      },
      "source": [
        "##예시답안\n",
        "df[\"Density\"] = df[\"Population\"] / df[\"Land area (in sqKm)\"]\n",
        "df_high_density = df[df[\"Density\"] > 10000]\n",
        "df_high_density.info()"
      ],
      "execution_count": null,
      "outputs": []
    },
    {
      "cell_type": "code",
      "metadata": {
        "id": "AlyFB4cxVhYp"
      },
      "source": [
        "#인구밀도 가장 높은 도시\n",
        "big_cities[\"Density\"] = big_cities[\"Population\"] / big_cities[\"Land area (in sqKm)\"]\n",
        "big_cities.sort_values(by = 'Density', ascending = False, inplace= True)\n",
        "big_cities['City / Urban area']"
      ],
      "execution_count": null,
      "outputs": []
    },
    {
      "cell_type": "code",
      "metadata": {
        "colab": {
          "base_uri": "https://localhost:8080/"
        },
        "id": "o2v0iohvFWXO",
        "outputId": "08cee5ce-c4e7-4b07-e8f1-8237b3adbbd8"
      },
      "source": [
        "#익중이는 누나에게 여행지를 추천 받으려고 합니다. 그런데 나라 이름이 기억나지 않고, 이 데이터에 4개의 도시가 나왔다는 것만 기억이 난다고 하네요. 이 나라는 무엇일까요?\n",
        "number_of_countries = world_cities['Country'].value_counts()\n",
        "number_of_countries[number_of_countries == 4]"
      ],
      "execution_count": 22,
      "outputs": [
        {
          "output_type": "execute_result",
          "data": {
            "text/plain": [
              "Italy    4\n",
              "Name: Country, dtype: int64"
            ]
          },
          "metadata": {
            "tags": []
          },
          "execution_count": 22
        }
      ]
    },
    {
      "cell_type": "markdown",
      "metadata": {
        "id": "UYzcs_q7FQZs"
      },
      "source": [
        "### 실습문제(2)"
      ]
    },
    {
      "cell_type": "markdown",
      "metadata": {
        "id": "hhubRpQBHp2x"
      },
      "source": [
        "* 기존 DataFrame에 “status”라는 이름의 column을 추가하고, 학생이 수강 가능한 상태이면 “allowed”, 수강 불가능한 상태이면 “not allowed”를 넣어주세요.\n",
        "\n",
        "1.   “information technology” 과목은 심화과목이라 1학년은 수강할 수 없습니다.\n",
        "2.   “commerce” 과목은 기초과목이고 많은 학생들이 듣는 수업이라 4학년은 수강할 수 없습니다.\n",
        "3. 수강생이 5명이 되지 않으면 강의는 폐강되어 수강할 수 없습니다.\n"
      ]
    },
    {
      "cell_type": "markdown",
      "metadata": {
        "id": "InzrfU6fJfCz"
      },
      "source": [
        "https://i.imgur.com/EAjEfBG.png"
      ]
    },
    {
      "cell_type": "code",
      "metadata": {
        "id": "NqcWw72UFRr3"
      },
      "source": [
        "#컬럼 만들기\n",
        "df['status'] = 'allowed'\n",
        "\n",
        "freshmen = (df['year'] == 1)\n",
        "info_tech = (df['course name'] == 'information technology')\n",
        "senior = (df['year'] == 4)\n",
        "commerce = (df['course name'] == 'commerce')\n",
        "\n",
        "#두 값에 & 불린 연산을 통해 두 조건을 동시에 만족하는 데이터 인덱싱\n",
        "df.loc[freshmen & info_tech, \"status\"] = \"not allowed\"\n",
        "df.loc[senior & commerce, \"status\"] = \"not allowed\"\n",
        "\n",
        "course_counts = df.loc[df['status'] == 'allowed', 'course name'].value_counts()\n",
        "#index만 골라서 리스트로 만들기 (신청자가 5명 이내인 경우)\n",
        "closed_courses = list(course_counts[course_counts < 5].index)\n",
        "\n",
        "for course in closed_courses:\n",
        "  df.loc[df['course name'] == course, 'status'] = 'not allowed'\n",
        "\n",
        "df"
      ],
      "execution_count": null,
      "outputs": []
    },
    {
      "cell_type": "code",
      "metadata": {
        "id": "Z5jXJHLKPxgh"
      },
      "source": [
        "#대학교 강의실 배정하기\n",
        "import pandas as pd\n",
        "\n",
        "df = pd.read_csv('data/enrolment_2.csv')\n",
        "\n",
        "# 코드를 작성하세요.\n",
        "df.loc[df['status'] == 'not allowed', 'room assignment'] = 'not assigned'\n",
        "# 취소된 강의에도 강의실 배정이 되지 않도록 하기 위해 \n",
        "allowed = df['status'] == 'allowed'\n",
        "course_counts = df.loc[df['status'] == 'allowed', 'course name'].value_counts()\n",
        "course_auditorium = list(course_counts[course_counts >= 80].index)\n",
        "course_largeroom = list(course_counts[(course_counts >= 40) & (course_counts < 80)].index)\n",
        "course_mediumroom = list(course_counts[(course_counts >= 15) & (course_counts < 40)].index)\n",
        "course_smallroom = list(course_counts[(course_counts >= 5) & (course_counts < 15)].index)\n",
        "\n",
        "for course in course_auditorium:\n",
        "    df.loc[(df['course name'] == course) & allowed, 'room assignment'] = 'Auditorium'\n",
        "for course in course_largeroom:\n",
        "    df.loc[(df['course name'] == course) & allowed,'room assignment'] = 'Large room'\n",
        "for course in course_mediumroom:\n",
        "    df.loc[(df['course name'] == course) & allowed,'room assignment'] = 'Medium room'\n",
        "for course in course_smallroom:\n",
        "    df.loc[(df['course name'] == course) & allowed,'room assignment'] = 'Small room'\n",
        "\n",
        "# 정답 출력\n",
        "df"
      ],
      "execution_count": null,
      "outputs": []
    },
    {
      "cell_type": "code",
      "metadata": {
        "id": "qUp3tTUEP2Jk"
      },
      "source": [
        "# 강의실 배정하기(2) - 이렇게 풀필요없음\n",
        "import pandas as pd\n",
        "\n",
        "df = pd.read_csv('data/enrolment_3.csv')\n",
        "\n",
        "# 코드를 작성하세요.\n",
        "#Auditorium (아래처럼 리스트 만들어줄 필요 없음!)\n",
        "adt = list(df[df['room assignment'] == 'Auditorium'].index)\n",
        "lr = list(df[df['room assignment'] == 'Large room'].index)\n",
        "mr = list(df[df['room assignment'] == 'Medium room'].index)\n",
        "sr = list(df[df['room assignment'] == 'Small room'].index)\n",
        "course_adt = df.loc[df['room assignment'] == 'Auditorium', 'course name'].unique()\n",
        "course_lr = df.loc[df['room assignment'] == 'Large room', 'course name'].unique()\n",
        "course_mr = df.loc[df['room assignment'] == 'Medium room', 'course name'].unique()\n",
        "course_sr = df.loc[df['room assignment'] == 'Small room', 'course name'].unique()\n",
        "course_list_adt = sorted(list(course_adt))\n",
        "course_list_lr = sorted(list(course_lr))\n",
        "course_list_mr = sorted(list(course_mr))\n",
        "course_list_sr = sorted(list(course_sr))\n",
        "#print(course_list_sm)\n",
        "for course in course_list_adt:\n",
        "    for room in adt:\n",
        "       df.loc[df['course name'] == course, 'room assignment'] = 'Auditorium-' + str(course_list_adt.index(course)+1)\n",
        "for course in course_list_lr:\n",
        "    for room in lr:\n",
        "       df.loc[df['course name'] == course, 'room assignment'] = 'Large room-' + str(course_list_lr.index(course)+1)\n",
        "for course in course_list_mr:\n",
        "    for room in mr:\n",
        "       df.loc[df['course name'] == course, 'room assignment'] = 'Medium room-' + str(course_list_mr.index(course)+1)\n",
        "for course in course_list_sr:\n",
        "    for room in sr:\n",
        "       df.loc[df['course name'] == course, 'room assignment'] = 'Small room-' + str(course_list_sr.index(course)+1)\n",
        "#status - not allowed면, not assigned로 남겨두기\n",
        "df.loc[df['status'] == 'not allowed', 'room assignment'] = 'not assigned'\n",
        "df.rename(columns={'room assignment':'room number'})\n",
        "# 정답 출력\n",
        "df"
      ],
      "execution_count": null,
      "outputs": []
    },
    {
      "cell_type": "code",
      "metadata": {
        "id": "7tOKwLcbjDzQ"
      },
      "source": [
        "#모범답안\n",
        "import pandas as pd\n",
        "\n",
        "df = pd.read_csv('data/enrolment_3.csv')\n",
        "\n",
        "# 과목별 인원 가져오기\n",
        "allowed = df[\"status\"] == \"allowed\"\n",
        "course_counts = df.loc[allowed, \"course name\"].value_counts()\n",
        "\n",
        "# 각 강의실 규모에 해당되는 과목 리스트 만들기\n",
        "auditorium_list = list(course_counts[course_counts >= 80].index)\n",
        "large_room_list = list(course_counts[(80 > course_counts) & (course_counts >= 40)].index)\n",
        "medium_room_list = list(course_counts[(40 > course_counts) & (course_counts >= 15)].index)\n",
        "small_room_list = list(course_counts[(15 > course_counts) & (course_counts > 4)].index)\n",
        "\n",
        "# 강의실 이름 붙이기\n",
        "for i in range(len(auditorium_list)):\n",
        "    df.loc[(df[\"course name\"] == sorted(auditorium_list)[i]) & allowed, \"room assignment\"] = \"Auditorium-\" + str(i + 1)\n",
        "\n",
        "for i in range(len(large_room_list)):\n",
        "    df.loc[(df[\"course name\"] == sorted(large_room_list)[i]) & allowed, \"room assignment\"] = \"Large-\" + str(i + 1)\n",
        "    \n",
        "for i in range(len(medium_room_list)):\n",
        "    df.loc[(df[\"course name\"] == sorted(medium_room_list)[i]) & allowed, \"room assignment\"] = \"Medium-\" + str(i + 1)\n",
        "    \n",
        "for i in range(len(small_room_list)):\n",
        "    df.loc[(df[\"course name\"] == sorted(small_room_list)[i]) & allowed, \"room assignment\"] = \"Small-\" + str(i + 1)\n",
        "\n",
        "# column 이름 바꾸기\n",
        "df.rename(columns={\"room assignment\": \"room number\"}, inplace = True)\n",
        "    \n",
        "# 정답 출력\n",
        "df"
      ],
      "execution_count": null,
      "outputs": []
    }
  ]
}