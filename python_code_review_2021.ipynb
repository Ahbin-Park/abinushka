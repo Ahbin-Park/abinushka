{
  "nbformat": 4,
  "nbformat_minor": 0,
  "metadata": {
    "colab": {
      "name": "python code review_2021.ipynb",
      "provenance": [],
      "collapsed_sections": [
        "9nDvJIdgw6F7",
        "MR870ZIxRnlY",
        "pSks9uJTtIRE",
        "_SoPyXjxN_3D",
        "l8hWvRbQPyQJ",
        "GbiiUj5ETiKn",
        "Gn75G-8wUDhi",
        "0dkdH9DBwyUe",
        "boywekrsmmkN",
        "pBvX-bu2y1RF",
        "e88qIMBWn6MD"
      ],
      "authorship_tag": "ABX9TyPCtygsthfc+c1AiFLt4/0s",
      "include_colab_link": true
    },
    "kernelspec": {
      "name": "python3",
      "display_name": "Python 3"
    },
    "language_info": {
      "name": "python"
    }
  },
  "cells": [
    {
      "cell_type": "markdown",
      "metadata": {
        "id": "view-in-github",
        "colab_type": "text"
      },
      "source": [
        "<a href=\"https://colab.research.google.com/github/Ahbin-Park/beluga/blob/main/python_code_review_2021.ipynb\" target=\"_parent\"><img src=\"https://colab.research.google.com/assets/colab-badge.svg\" alt=\"Open In Colab\"/></a>"
      ]
    },
    {
      "cell_type": "markdown",
      "metadata": {
        "id": "9nDvJIdgw6F7"
      },
      "source": [
        "## string"
      ]
    },
    {
      "cell_type": "code",
      "metadata": {
        "colab": {
          "base_uri": "https://localhost:8080/"
        },
        "id": "jmRkewomvDlU",
        "outputId": "f3c3d503-4acb-4d65-84f4-7abe0bf7f8c2"
      },
      "source": [
        "c = '''Hello\n",
        "World'''\n",
        "\n",
        "d = \"\"\"Hello\n",
        "World\"\"\"\n",
        "\n",
        "print(c)\n",
        "print(d)"
      ],
      "execution_count": null,
      "outputs": [
        {
          "output_type": "stream",
          "text": [
            "Hello\n",
            "World\n",
            "Hello\n",
            "World\n"
          ],
          "name": "stdout"
        }
      ]
    },
    {
      "cell_type": "code",
      "metadata": {
        "colab": {
          "base_uri": "https://localhost:8080/",
          "height": 134
        },
        "id": "lDYhfnofw2Z8",
        "outputId": "907b7a2b-4e0d-4068-cc58-b50b2ff6517c"
      },
      "source": [
        "#escape string\n",
        " print('Hello world\\n\\n') #\\n (new line)\n",
        " print('Ha\\thahaha') #\\t (tab)"
      ],
      "execution_count": null,
      "outputs": [
        {
          "output_type": "error",
          "ename": "IndentationError",
          "evalue": "ignored",
          "traceback": [
            "\u001b[0;36m  File \u001b[0;32m\"<ipython-input-1-52f406bee384>\"\u001b[0;36m, line \u001b[0;32m2\u001b[0m\n\u001b[0;31m    print('Hello world\\n\\n') #\\n (new line)\u001b[0m\n\u001b[0m    ^\u001b[0m\n\u001b[0;31mIndentationError\u001b[0m\u001b[0;31m:\u001b[0m unexpected indent\n"
          ]
        }
      ]
    },
    {
      "cell_type": "code",
      "metadata": {
        "colab": {
          "base_uri": "https://localhost:8080/"
        },
        "id": "FT-TZFrgyRsW",
        "outputId": "e1303bb1-a845-4f42-f1ac-2bcc47425ca2"
      },
      "source": [
        "#indexing & slicing string\n",
        "a = 'Hello World'\n",
        "print(a[3])\n",
        "\n",
        "print(a[0:4])\n",
        "print(a[:4])"
      ],
      "execution_count": null,
      "outputs": [
        {
          "output_type": "stream",
          "text": [
            "l\n",
            "Hell\n",
            "Hell\n"
          ],
          "name": "stdout"
        }
      ]
    },
    {
      "cell_type": "markdown",
      "metadata": {
        "id": "2lEAthvKHGIp"
      },
      "source": [
        "**문자열함수**\n",
        "- replace('a','b') : a -> b\n",
        "- format\n",
        "- split"
      ]
    },
    {
      "cell_type": "code",
      "metadata": {
        "colab": {
          "base_uri": "https://localhost:8080/",
          "height": 38
        },
        "id": "8e5-dt5PyRx-",
        "outputId": "ae4f332f-0e7e-47ba-91de-0af798b34a57"
      },
      "source": [
        "a = 'hello world'\n",
        "a.replace('h', 'b')"
      ],
      "execution_count": null,
      "outputs": [
        {
          "output_type": "execute_result",
          "data": {
            "application/vnd.google.colaboratory.intrinsic+json": {
              "type": "string"
            },
            "text/plain": [
              "'bello world'"
            ]
          },
          "metadata": {
            "tags": []
          },
          "execution_count": 3
        }
      ]
    },
    {
      "cell_type": "code",
      "metadata": {
        "colab": {
          "base_uri": "https://localhost:8080/"
        },
        "id": "KiWF_AxUyR1d",
        "outputId": "644cdafd-5214-48b6-e1c9-24ed9938a0fa"
      },
      "source": [
        "temperature = 25.5\n",
        "prob = 80.0\n",
        "\n",
        "a = \"today's temperature is {}, and {} % possibility of rain.\".format(temperature, prob)\n",
        "print(a)"
      ],
      "execution_count": null,
      "outputs": [
        {
          "output_type": "stream",
          "text": [
            "today's temperature is 25.5, 80.0 % possibility of rain.\n"
          ],
          "name": "stdout"
        }
      ]
    },
    {
      "cell_type": "code",
      "metadata": {
        "colab": {
          "base_uri": "https://localhost:8080/"
        },
        "id": "4cPYwzrpJr3B",
        "outputId": "653611ec-164c-47f6-bb7c-e51ed754c0c4"
      },
      "source": [
        "a = 'hello world what a nice weather'\n",
        "a.split('w')"
      ],
      "execution_count": null,
      "outputs": [
        {
          "output_type": "execute_result",
          "data": {
            "text/plain": [
              "['hello ', 'orld ', 'hat a nice ', 'eather']"
            ]
          },
          "metadata": {
            "tags": []
          },
          "execution_count": 9
        }
      ]
    },
    {
      "cell_type": "markdown",
      "metadata": {
        "id": "MR870ZIxRnlY"
      },
      "source": [
        "## dictionary"
      ]
    },
    {
      "cell_type": "code",
      "metadata": {
        "id": "irbOtFjNJr5s",
        "colab": {
          "base_uri": "https://localhost:8080/"
        },
        "outputId": "3be4f435-396d-4c2c-ff85-4c832575d88d"
      },
      "source": [
        "a = {'Korea':'Seoul', 'Canada':'Ottawa', 'USA':'Washington D.C'}\n",
        "b = {0:1, 1:6}\n",
        "print(b)"
      ],
      "execution_count": null,
      "outputs": [
        {
          "output_type": "stream",
          "text": [
            "{0: 1, 1: 6}\n"
          ],
          "name": "stdout"
        }
      ]
    },
    {
      "cell_type": "code",
      "metadata": {
        "id": "_72MWERcyR6U",
        "colab": {
          "base_uri": "https://localhost:8080/"
        },
        "outputId": "26cecf5f-8d69-4336-b08d-1ed3565339a8"
      },
      "source": [
        "#. key 업데이트\n",
        "a = {'Korea':'Seoul',\n",
        "     'Canada':'Ottawa',\n",
        "     'USA':'Washington D.C'}\n",
        "\n",
        "a['Japan'] = 'Tokyo'\n",
        "a['Japan'] = 'Kyoto'\n",
        "a['Japan2'] = 'Kyoto'\n",
        "a['China'] = 'Beijing'\n",
        "\n",
        "print(a)"
      ],
      "execution_count": null,
      "outputs": [
        {
          "output_type": "stream",
          "text": [
            "{'Korea': 'Seoul', 'Canada': 'Ottawa', 'USA': 'Washington D.C', 'Japan': 'Kyoto', 'Japan2': 'Kyoto', 'China': 'Beijing'}\n"
          ],
          "name": "stdout"
        }
      ]
    },
    {
      "cell_type": "markdown",
      "metadata": {
        "id": "tYtG6hiYj8lP"
      },
      "source": [
        "**update**\n",
        "- 두 딕셔너리의 병합\n",
        "- 겹치는 key 생길 시 parameter로 전달되는 키 값이 overwrite 된다\n",
        "- key 값 지울 때 (a.pop(index) 혹은 del a['key'])"
      ]
    },
    {
      "cell_type": "code",
      "metadata": {
        "colab": {
          "base_uri": "https://localhost:8080/"
        },
        "id": "v_kVlPSgjh_e",
        "outputId": "8e08aa9e-eb52-4dc5-e548-010d3fedb3b7"
      },
      "source": [
        "a = {'a':1 , 'b':2, 'c':3}\n",
        "print(a)\n",
        "\n",
        "#key를 삭제할 때\n",
        "a.pop('b')\n",
        "print(a)\n",
        "del a['c']\n",
        "print(a)"
      ],
      "execution_count": null,
      "outputs": [
        {
          "output_type": "stream",
          "text": [
            "{'a': 1, 'b': 2, 'c': 3}\n",
            "{'a': 1, 'c': 3}\n",
            "{'a': 1}\n"
          ],
          "name": "stdout"
        }
      ]
    },
    {
      "cell_type": "code",
      "metadata": {
        "colab": {
          "base_uri": "https://localhost:8080/"
        },
        "id": "5qFJS8vnj2PI",
        "outputId": "65cff755-3853-4bbc-bbd2-d4e3e2a2e1eb"
      },
      "source": [
        "#key값 존재 확인\n",
        "a = {'a' :1, 'b':2, 'c':3}\n",
        "b={1,2,3,4,5,6,7,8,9,10,100}\n",
        "print(100 in b)\n",
        "print(2 in a)\n",
        "print('a' in a)"
      ],
      "execution_count": null,
      "outputs": [
        {
          "output_type": "stream",
          "text": [
            "True\n",
            "False\n",
            "True\n"
          ],
          "name": "stdout"
        }
      ]
    },
    {
      "cell_type": "markdown",
      "metadata": {
        "id": "z7bI2tOKspxE"
      },
      "source": [
        "*이탤릭체 텍스트*### key, values 접근\n",
        "- keys() : 키만 반환\n",
        "- values() : 값만 반환\n",
        "- items() : 키, 값의 튜플 반환"
      ]
    },
    {
      "cell_type": "code",
      "metadata": {
        "colab": {
          "base_uri": "https://localhost:8080/"
        },
        "id": "BGRUVtZXjiBh",
        "outputId": "eec5e02a-b30e-402a-bf18-184ffec5950c"
      },
      "source": [
        "print(a)\n",
        "print(list(a.keys()))\n",
        "print(list(a.values()))\n",
        "list(a.items())"
      ],
      "execution_count": null,
      "outputs": [
        {
          "output_type": "stream",
          "text": [
            "{'a': 1, 'b': 2, 'c': 3}\n",
            "['a', 'b', 'c']\n",
            "[1, 2, 3]\n"
          ],
          "name": "stdout"
        },
        {
          "output_type": "execute_result",
          "data": {
            "text/plain": [
              "[('a', 1), ('b', 2), ('c', 3)]"
            ]
          },
          "metadata": {
            "tags": []
          },
          "execution_count": 13
        }
      ]
    },
    {
      "cell_type": "markdown",
      "metadata": {
        "id": "pSks9uJTtIRE"
      },
      "source": [
        "### set : 수학에서의 집합과 동일 개념, dictionary 에서 key만 활용하는 데이터 구조\n",
        "- set()"
      ]
    },
    {
      "cell_type": "code",
      "metadata": {
        "colab": {
          "base_uri": "https://localhost:8080/"
        },
        "id": "TPCXx4vWtGvU",
        "outputId": "86e314db-56bf-4a7f-d856-e78725fd526f"
      },
      "source": [
        "a = {1,1,2,3,3,4,1,6}\n",
        "print(a)"
      ],
      "execution_count": null,
      "outputs": [
        {
          "output_type": "stream",
          "text": [
            "{1, 2, 3, 4, 6}\n"
          ],
          "name": "stdout"
        }
      ]
    },
    {
      "cell_type": "code",
      "metadata": {
        "colab": {
          "base_uri": "https://localhost:8080/"
        },
        "id": "gaUaNyUGtG0J",
        "outputId": "ed41fc5d-ab9e-4dbb-a7b9-b63daa74b3d5"
      },
      "source": [
        "a = [1,1,2,3,3,4,1,6]\n",
        "print(a)\n",
        "print(type(a))\n",
        "\n",
        "b=set(a)\n",
        "print(b)\n",
        "print(type(b))"
      ],
      "execution_count": null,
      "outputs": [
        {
          "output_type": "stream",
          "text": [
            "[1, 1, 2, 3, 3, 4, 1, 6]\n",
            "<class 'list'>\n",
            "{1, 2, 3, 4, 6}\n",
            "<class 'set'>\n"
          ],
          "name": "stdout"
        }
      ]
    },
    {
      "cell_type": "markdown",
      "metadata": {
        "id": "xuqxovymtw5M"
      },
      "source": [
        "- set operations : 수학 연산과 동일 / 교집합, 합집합, 차집합 등"
      ]
    },
    {
      "cell_type": "code",
      "metadata": {
        "id": "vJFy-WFNtwcd"
      },
      "source": [
        "a = {1,2,3}\n",
        "b = {2,3,4}"
      ],
      "execution_count": null,
      "outputs": []
    },
    {
      "cell_type": "markdown",
      "metadata": {
        "id": "_SoPyXjxN_3D"
      },
      "source": [
        "## list, tuple"
      ]
    },
    {
      "cell_type": "markdown",
      "metadata": {
        "id": "4STCapQMO-wl"
      },
      "source": [
        "- list() : transform to list type"
      ]
    },
    {
      "cell_type": "code",
      "metadata": {
        "colab": {
          "base_uri": "https://localhost:8080/"
        },
        "id": "7k2-gdjwPEoi",
        "outputId": "198f4836-e5d2-4f50-fabf-9bbd82c6da5b"
      },
      "source": [
        "a = 'hello world'\n",
        "b = list(a)\n",
        "print(b)"
      ],
      "execution_count": null,
      "outputs": [
        {
          "output_type": "stream",
          "text": [
            "['h', 'e', 'l', 'l', 'o', ' ', 'w', 'o', 'r', 'l', 'd']\n"
          ],
          "name": "stdout"
        }
      ]
    },
    {
      "cell_type": "code",
      "metadata": {
        "colab": {
          "base_uri": "https://localhost:8080/"
        },
        "id": "ZHrxHmY8PJ6e",
        "outputId": "7a85fd39-3312-4018-e551-667c7e6e05f8"
      },
      "source": [
        "c = (1,2,3)\n",
        "d = list(c)\n",
        "print(d)"
      ],
      "execution_count": null,
      "outputs": [
        {
          "output_type": "stream",
          "text": [
            "[1, 2, 3]\n"
          ],
          "name": "stdout"
        }
      ]
    },
    {
      "cell_type": "markdown",
      "metadata": {
        "id": "0cOfEzcpPVYg"
      },
      "source": [
        "- string split"
      ]
    },
    {
      "cell_type": "code",
      "metadata": {
        "colab": {
          "base_uri": "https://localhost:8080/"
        },
        "id": "QRXPnssfPUvx",
        "outputId": "1d0c980d-8afc-41ea-8ed6-789f8cd14dea"
      },
      "source": [
        "a = 'hello world nice weather'\n",
        "b = a.split()\n",
        "print(b)\n",
        "\n",
        "c = a.split('w')\n",
        "print(c)"
      ],
      "execution_count": null,
      "outputs": [
        {
          "output_type": "stream",
          "text": [
            "['hello', 'world', 'nice', 'weather']\n",
            "['hello ', 'orld nice ', 'eather']\n"
          ],
          "name": "stdout"
        }
      ]
    },
    {
      "cell_type": "markdown",
      "metadata": {
        "id": "6UhN0sYLPp34"
      },
      "source": [
        "- indexing : list[n]\n",
        "- slicing : a[n1:n2] [:] [n: ] [ :n]"
      ]
    },
    {
      "cell_type": "code",
      "metadata": {
        "colab": {
          "base_uri": "https://localhost:8080/"
        },
        "id": "d2fY-RStPofZ",
        "outputId": "3c637d35-f814-44b8-c4f0-dad60628654e"
      },
      "source": [
        "a = [1,2,3,4,5,6,7]\n",
        "print(a[3])\n",
        "print(a[1:3])\n",
        "print(a[:3])"
      ],
      "execution_count": null,
      "outputs": [
        {
          "output_type": "stream",
          "text": [
            "4\n",
            "[2, 3]\n",
            "[1, 2, 3]\n"
          ],
          "name": "stdout"
        }
      ]
    },
    {
      "cell_type": "markdown",
      "metadata": {
        "id": "l8hWvRbQPyQJ"
      },
      "source": [
        "### list function\n",
        "- append()\n",
        "- extend()"
      ]
    },
    {
      "cell_type": "code",
      "metadata": {
        "colab": {
          "base_uri": "https://localhost:8080/"
        },
        "id": "_8hJKAYHRd4V",
        "outputId": "f17ca273-4e24-49d4-a07a-e71c93c84cb8"
      },
      "source": [
        "#append\n",
        "a = [1,2,3,4,5]\n",
        "a.append(10)\n",
        "a"
      ],
      "execution_count": null,
      "outputs": [
        {
          "output_type": "execute_result",
          "data": {
            "text/plain": [
              "[1, 2, 3, 4, 5, 10]"
            ]
          },
          "metadata": {
            "tags": []
          },
          "execution_count": 6
        }
      ]
    },
    {
      "cell_type": "code",
      "metadata": {
        "colab": {
          "base_uri": "https://localhost:8080/"
        },
        "id": "F2c3U_KmRd1P",
        "outputId": "309e6327-2432-4315-96ed-8b10dff2291e"
      },
      "source": [
        "#extend\n",
        "a = [1,2,3,4,5]\n",
        "b = [6,7,8,9,10]\n",
        "\n",
        "a.extend(b)\n",
        "a"
      ],
      "execution_count": null,
      "outputs": [
        {
          "output_type": "stream",
          "text": [
            "[1, 2, 3, 4, 5, 6, 7, 8, 9, 10, 6, 7, 8, 9, 10]\n"
          ],
          "name": "stdout"
        }
      ]
    },
    {
      "cell_type": "code",
      "metadata": {
        "colab": {
          "base_uri": "https://localhost:8080/"
        },
        "id": "OBzbnwrOR3HJ",
        "outputId": "a8dfc660-4163-4525-d4d0-52ce29da979a"
      },
      "source": [
        "a = [1,2,3,4,5]\n",
        "b = [6,7,8,9,10]\n",
        "\n",
        "a += b\n",
        "print(a)"
      ],
      "execution_count": null,
      "outputs": [
        {
          "output_type": "stream",
          "text": [
            "[1, 2, 3, 4, 5, 6, 7, 8, 9, 10]\n"
          ],
          "name": "stdout"
        }
      ]
    },
    {
      "cell_type": "markdown",
      "metadata": {
        "id": "v58gAKtsSVKn"
      },
      "source": [
        "- insert() : list.insert(index, item)"
      ]
    },
    {
      "cell_type": "code",
      "metadata": {
        "colab": {
          "base_uri": "https://localhost:8080/"
        },
        "id": "1KfT0CSuSZXw",
        "outputId": "4aa1ed73-a49b-4e5b-d73c-20e8e3b3081a"
      },
      "source": [
        "a = [1,2,3,6,8]\n",
        "a.insert(3, 27)\n",
        "a"
      ],
      "execution_count": null,
      "outputs": [
        {
          "output_type": "execute_result",
          "data": {
            "text/plain": [
              "[1, 2, 3, 27, 6, 8]"
            ]
          },
          "metadata": {
            "tags": []
          },
          "execution_count": 16
        }
      ]
    },
    {
      "cell_type": "markdown",
      "metadata": {
        "id": "74TfoJ5KSxbI"
      },
      "source": [
        "- remove() : remove(item)"
      ]
    },
    {
      "cell_type": "code",
      "metadata": {
        "colab": {
          "base_uri": "https://localhost:8080/"
        },
        "id": "koLDujB0S13t",
        "outputId": "d6bff484-1feb-452a-b8fa-b44ae997f0a0"
      },
      "source": [
        "a = [1,2,3,4]\n",
        "a.remove(3)\n",
        "a"
      ],
      "execution_count": null,
      "outputs": [
        {
          "output_type": "execute_result",
          "data": {
            "text/plain": [
              "[1, 2, 4]"
            ]
          },
          "metadata": {
            "tags": []
          },
          "execution_count": 18
        }
      ]
    },
    {
      "cell_type": "markdown",
      "metadata": {
        "id": "akphfwIvSxTN"
      },
      "source": [
        "- pop() : list.pop(index)"
      ]
    },
    {
      "cell_type": "code",
      "metadata": {
        "colab": {
          "base_uri": "https://localhost:8080/"
        },
        "id": "wUukDx2VSwZy",
        "outputId": "e57c4af5-04e9-41e5-969f-968c3100d12f"
      },
      "source": [
        "a = [1,2,3,4,5]\n",
        "b = a.pop(4)\n",
        "print(a)\n",
        "print(b)"
      ],
      "execution_count": null,
      "outputs": [
        {
          "output_type": "stream",
          "text": [
            "[1, 2, 3, 4]\n",
            "5\n"
          ],
          "name": "stdout"
        }
      ]
    },
    {
      "cell_type": "markdown",
      "metadata": {
        "id": "kNo5LomLTUeb"
      },
      "source": [
        "- index() : list.index(item)"
      ]
    },
    {
      "cell_type": "code",
      "metadata": {
        "colab": {
          "base_uri": "https://localhost:8080/"
        },
        "id": "Ndf0xm2wSZsT",
        "outputId": "afa573f3-5ecd-4537-ed99-b357250144a0"
      },
      "source": [
        "a = [3,4,5]\n",
        "a.index(3)\n",
        "print(a)"
      ],
      "execution_count": null,
      "outputs": [
        {
          "output_type": "stream",
          "text": [
            "[3, 4, 5]\n"
          ],
          "name": "stdout"
        }
      ]
    },
    {
      "cell_type": "markdown",
      "metadata": {
        "id": "GbiiUj5ETiKn"
      },
      "source": [
        "### else\n",
        "- in keyword : value in [list]\n",
        "- sort() : 정렬"
      ]
    },
    {
      "cell_type": "code",
      "metadata": {
        "colab": {
          "base_uri": "https://localhost:8080/"
        },
        "id": "QrDLg1axSaBo",
        "outputId": "9ea15c07-23e9-47be-e9bd-5e6f8acdf068"
      },
      "source": [
        "a = [1,3,5,20,4,64]\n",
        "6 in a\n",
        "1 in a"
      ],
      "execution_count": null,
      "outputs": [
        {
          "output_type": "execute_result",
          "data": {
            "text/plain": [
              "True"
            ]
          },
          "metadata": {
            "tags": []
          },
          "execution_count": 23
        }
      ]
    },
    {
      "cell_type": "code",
      "metadata": {
        "colab": {
          "base_uri": "https://localhost:8080/"
        },
        "id": "Wvb_jKj_Tz5B",
        "outputId": "86d13253-0ca5-4e8b-d81e-ee5255c8def8"
      },
      "source": [
        "a.sort()\n",
        "a"
      ],
      "execution_count": null,
      "outputs": [
        {
          "output_type": "execute_result",
          "data": {
            "text/plain": [
              "[1, 3, 4, 5, 20, 64]"
            ]
          },
          "metadata": {
            "tags": []
          },
          "execution_count": 26
        }
      ]
    },
    {
      "cell_type": "markdown",
      "metadata": {
        "id": "Gn75G-8wUDhi"
      },
      "source": [
        "### tuple : 변경 불가능"
      ]
    },
    {
      "cell_type": "markdown",
      "metadata": {
        "id": "QgY0coJaUVxu"
      },
      "source": [
        "## 조건문/반복문"
      ]
    },
    {
      "cell_type": "markdown",
      "metadata": {
        "id": "tl5NpQ7mUyiw"
      },
      "source": [
        "### condition\n",
        "- 특정 조건을 만족하는 경우에만 수행할 작업이 있는 경우 사용\n",
        "- 모든 조건은 boolean으로 표현\n",
        "- if, elif, else\n",
        "- 조건문의 경우 if, elif, else 블록에 종속된 코드는 들여쓰기로 표현 가능\n",
        "- 들여쓰기 된 코드를 블록(block), 또는 코드블록이라고 함\n",
        "- python에서 모든 블록의 시작점의 마지막에는 :(콜론, colon) 추가가 필요"
      ]
    },
    {
      "cell_type": "code",
      "metadata": {
        "colab": {
          "base_uri": "https://localhost:8080/"
        },
        "id": "HC8N45Dlr8l4",
        "outputId": "dbbabf6e-1450-4e02-fda8-197b90b8104d"
      },
      "source": [
        "if 6>=5:\n",
        "  print('6 is greater than 5')\n",
        "  print('Yeah, it is true')\n",
        "  print('This code is not belongs to if statements') "
      ],
      "execution_count": null,
      "outputs": [
        {
          "output_type": "stream",
          "text": [
            "6 is greater than 5\n",
            "Yeah, it is true\n",
            "This code is not belongs to if statements\n"
          ],
          "name": "stdout"
        }
      ]
    },
    {
      "cell_type": "code",
      "metadata": {
        "colab": {
          "base_uri": "https://localhost:8080/"
        },
        "id": "J_BfivFeUwNa",
        "outputId": "09777d39-642d-460a-9121-235bd8586046"
      },
      "source": [
        "if 6==5:\n",
        "  print('a')\n",
        "  print('b')\n",
        "print('c')"
      ],
      "execution_count": null,
      "outputs": [
        {
          "output_type": "stream",
          "text": [
            "c\n"
          ],
          "name": "stdout"
        }
      ]
    },
    {
      "cell_type": "markdown",
      "metadata": {
        "id": "D8BaPoriu-QI"
      },
      "source": [
        "logical AND, OR, NOT"
      ]
    },
    {
      "cell_type": "code",
      "metadata": {
        "id": "c8uyUPM6Uw24"
      },
      "source": [
        "a = 10\n",
        "b = 8\n",
        "c = 11\n",
        "\n",
        "if (a==10 or b==9) and c ==12:\n",
        "  print('that is true')\n",
        "\n",
        "if not a ==10:\n",
        "  print('a is ten')"
      ],
      "execution_count": null,
      "outputs": []
    },
    {
      "cell_type": "code",
      "metadata": {
        "id": "rYby4Lj3UxAN"
      },
      "source": [
        "#if 조건이 bool이 아닌 경우"
      ],
      "execution_count": null,
      "outputs": []
    },
    {
      "cell_type": "code",
      "metadata": {
        "id": "nZhul64-vkMI"
      },
      "source": [
        "a=[]\n",
        "if a :\n",
        "  print('print')"
      ],
      "execution_count": null,
      "outputs": []
    },
    {
      "cell_type": "markdown",
      "metadata": {
        "id": "-RuDZvBOvsRi"
      },
      "source": [
        "- if, else"
      ]
    },
    {
      "cell_type": "code",
      "metadata": {
        "colab": {
          "base_uri": "https://localhost:8080/"
        },
        "id": "FYTR_c9HUxKf",
        "outputId": "e1388ec8-dff0-439e-e359-36790310ad05"
      },
      "source": [
        "a = 12\n",
        "if a % 2 == 0 :\n",
        "  print(a/2)\n",
        "else:\n",
        "  print(a+1)"
      ],
      "execution_count": null,
      "outputs": [
        {
          "output_type": "stream",
          "text": [
            "6.0\n"
          ],
          "name": "stdout"
        }
      ]
    },
    {
      "cell_type": "markdown",
      "metadata": {
        "id": "mUwF3TB2wSFR"
      },
      "source": [
        "- if, elif, else"
      ]
    },
    {
      "cell_type": "code",
      "metadata": {
        "id": "rUzZ0aGGwUHk",
        "colab": {
          "base_uri": "https://localhost:8080/",
          "height": 136
        },
        "outputId": "aeb2bd22-dbc9-442b-e828-04183fb6acc1"
      },
      "source": [
        "a = 17\n",
        "if a % 4 == 0:\n",
        "  print 'a is divisible by 4'\n",
        "elif a % 4 == 1:\n",
        "  print('a % 4 is 1')\n",
        "elif a % 4 == 1:\n",
        "  print('a % 4 is 2')\n",
        "else:\n",
        "  print('a % 4 is 3')"
      ],
      "execution_count": null,
      "outputs": [
        {
          "output_type": "error",
          "ename": "SyntaxError",
          "evalue": "ignored",
          "traceback": [
            "\u001b[0;36m  File \u001b[0;32m\"<ipython-input-7-1188470e7051>\"\u001b[0;36m, line \u001b[0;32m3\u001b[0m\n\u001b[0;31m    print 'a is divisible by 4'\u001b[0m\n\u001b[0m                              ^\u001b[0m\n\u001b[0;31mSyntaxError\u001b[0m\u001b[0;31m:\u001b[0m Missing parentheses in call to 'print'. Did you mean print('a is divisible by 4')?\n"
          ]
        }
      ]
    },
    {
      "cell_type": "markdown",
      "metadata": {
        "id": "0dkdH9DBwyUe"
      },
      "source": [
        "### loop (while, for)\n",
        "- 특정 조건을 만족하는 경우 수행할 수 있음 (while)\n",
        "- 리스트, 문자열, 튜플 등 컬렉션 타입의 아이템을 하나씩 순회하면서 사용 가능 (for)"
      ]
    },
    {
      "cell_type": "markdown",
      "metadata": {
        "id": "boywekrsmmkN"
      },
      "source": [
        "### WHILE"
      ]
    },
    {
      "cell_type": "code",
      "metadata": {
        "colab": {
          "base_uri": "https://localhost:8080/"
        },
        "id": "JtSOzQK5wyEW",
        "outputId": "2f99578f-bcbb-4b2a-cdd9-bbf8530e796e"
      },
      "source": [
        "#while\n",
        "\n",
        "a = [1,10,9,24]\n",
        "\n",
        "i = 0\n",
        "while i < len(a):\n",
        "  print('value: ', a[i], ', index: ', i)\n",
        "  i += 1\n",
        "print('hahaha')"
      ],
      "execution_count": null,
      "outputs": [
        {
          "output_type": "stream",
          "text": [
            "value:  1 , index:  0\n",
            "value:  10 , index:  1\n",
            "value:  9 , index:  2\n",
            "value:  24 , index:  3\n",
            "hahaha\n"
          ],
          "name": "stdout"
        }
      ]
    },
    {
      "cell_type": "code",
      "metadata": {
        "colab": {
          "base_uri": "https://localhost:8080/"
        },
        "id": "f_8LMDZ2wRla",
        "outputId": "ddeb0071-92a8-4167-efa6-e6cc3e8d12ec"
      },
      "source": [
        "a = [1,10,9,24,25,26]\n",
        "\n",
        "# print only odd numbers\n",
        "\n",
        "i=0\n",
        "while i < len(a):\n",
        "  if a[i] % 2:\n",
        "    print(a[i])\n",
        "  else:\n",
        "    print(a[i]/2)\n",
        "  i+=1"
      ],
      "execution_count": null,
      "outputs": [
        {
          "output_type": "stream",
          "text": [
            "1\n",
            "5.0\n",
            "9\n",
            "12.0\n",
            "25\n",
            "13.0\n"
          ],
          "name": "stdout"
        }
      ]
    },
    {
      "cell_type": "markdown",
      "metadata": {
        "id": "D9ngVQ9AyodF"
      },
      "source": [
        "- 무한 loop (while)\n",
        "- break = stop the loop"
      ]
    },
    {
      "cell_type": "code",
      "metadata": {
        "colab": {
          "base_uri": "https://localhost:8080/"
        },
        "id": "ODcQlMU1y2nR",
        "outputId": "ab203ea7-bd06-48af-9e0d-a16dacc58979"
      },
      "source": [
        "a = [1,9,10,24,25,26]\n",
        "\n",
        "i=0\n",
        "while i<len(a):\n",
        "  if a[i]>20:\n",
        "    break\n",
        "  print(a[i])\n",
        "\n",
        "  i += 1\n",
        "print('hahaha')"
      ],
      "execution_count": null,
      "outputs": [
        {
          "output_type": "stream",
          "text": [
            "1\n",
            "9\n",
            "10\n",
            "hahaha\n"
          ],
          "name": "stdout"
        }
      ]
    },
    {
      "cell_type": "markdown",
      "metadata": {
        "id": "pBvX-bu2y1RF"
      },
      "source": [
        "### FOR 문\n",
        "- 리스트, 문자열 등 순회하면서 값을 처리할 때 사용\n",
        "- *i는 매번 수행될 때마다, a의 아이템으로 순차적으로 변경됨\n",
        "\n",
        "```\n",
        "a = [1, 2, 4, 3, 5]\n",
        "for i in a:\n",
        "    print (i, i * 2)\n",
        "```\n",
        "\n"
      ]
    },
    {
      "cell_type": "code",
      "metadata": {
        "colab": {
          "base_uri": "https://localhost:8080/"
        },
        "id": "WHBQSbSTnOnO",
        "outputId": "39680c3d-9bfa-4f24-9521-f426ad8ad70e"
      },
      "source": [
        "a = [2,3,4,5,6]\n",
        "for number in a:\n",
        "  print(number)\n",
        "print('end')"
      ],
      "execution_count": null,
      "outputs": [
        {
          "output_type": "stream",
          "text": [
            "2\n",
            "3\n",
            "4\n",
            "5\n",
            "6\n",
            "end\n"
          ],
          "name": "stdout"
        }
      ]
    },
    {
      "cell_type": "code",
      "metadata": {
        "colab": {
          "base_uri": "https://localhost:8080/"
        },
        "id": "3mHPho1bna1-",
        "outputId": "c78b544b-052b-44b5-8eaf-61bc31bdb441"
      },
      "source": [
        "#문자열의 아이템 출력하기\n",
        "\n",
        "for x in 'hello world':\n",
        "  print(x)\n",
        "\n",
        "a = 'hello world'\n",
        "for character in a:\n",
        "  print(character)"
      ],
      "execution_count": null,
      "outputs": [
        {
          "output_type": "stream",
          "text": [
            "h\n",
            "e\n",
            "l\n",
            "l\n",
            "o\n",
            " \n",
            "w\n",
            "o\n",
            "r\n",
            "l\n",
            "d\n",
            "h\n",
            "e\n",
            "l\n",
            "l\n",
            "o\n",
            " \n",
            "w\n",
            "o\n",
            "r\n",
            "l\n",
            "d\n"
          ],
          "name": "stdout"
        }
      ]
    },
    {
      "cell_type": "markdown",
      "metadata": {
        "id": "O29ZnyHbyzDB"
      },
      "source": [
        "- list 아이템 출력하기"
      ]
    },
    {
      "cell_type": "code",
      "metadata": {
        "colab": {
          "base_uri": "https://localhost:8080/"
        },
        "id": "ZLm_1sHZnuQo",
        "outputId": "d748575a-b6a9-4cd7-9914-f52248de573e"
      },
      "source": [
        "a= [1,10,3,5,2]\n",
        "for num in a:\n",
        "  if num % 2 == 0:\n",
        "    print(num/2)\n",
        "  else:\n",
        "    print(num+1)"
      ],
      "execution_count": null,
      "outputs": [
        {
          "output_type": "stream",
          "text": [
            "2\n",
            "5.0\n",
            "4\n",
            "6\n",
            "1.0\n"
          ],
          "name": "stdout"
        }
      ]
    },
    {
      "cell_type": "markdown",
      "metadata": {
        "id": "e88qIMBWn6MD"
      },
      "source": [
        "### dict 아이템 출력\n",
        "- key값을 기본적으로 참조하여 순회\n",
        "- keys() 함수를 이용해 key값만 순회 가능\n",
        "- values() 함수를 이용해 values 값만 순회 가능\n",
        "- items() 함수를 이용해 tuple 형태로 key, value 순회 가능 "
      ]
    },
    {
      "cell_type": "code",
      "metadata": {
        "colab": {
          "base_uri": "https://localhost:8080/"
        },
        "id": "158MXJftn7pQ",
        "outputId": "c3618cbf-20f1-44f7-f2c2-fdee08fa473e"
      },
      "source": [
        "a = {'korea':'seoul', 'japan':'tokyo', 'canada':'ottawa'}\n",
        "print(a['korea']) # key 값의 value 가져오기 (복습)\n",
        "\n",
        "for key in a:\n",
        "  print(key, ':', a[key])"
      ],
      "execution_count": null,
      "outputs": [
        {
          "output_type": "stream",
          "text": [
            "seoul\n",
            "korea : seoul\n",
            "japan : tokyo\n",
            "canada : ottawa\n"
          ],
          "name": "stdout"
        }
      ]
    },
    {
      "cell_type": "code",
      "metadata": {
        "colab": {
          "base_uri": "https://localhost:8080/"
        },
        "id": "7l0ZATq4orEX",
        "outputId": "8dad9cbd-11d8-4476-dca9-a667b6da07c2"
      },
      "source": [
        "for key in a:\n",
        "  print(key)"
      ],
      "execution_count": null,
      "outputs": [
        {
          "output_type": "stream",
          "text": [
            "korea\n",
            "japan\n",
            "canada\n"
          ],
          "name": "stdout"
        }
      ]
    },
    {
      "cell_type": "code",
      "metadata": {
        "colab": {
          "base_uri": "https://localhost:8080/"
        },
        "id": "775Xa6Lbou4_",
        "outputId": "73c7bbd7-cbc0-45f1-cc24-4e24b2ec62df"
      },
      "source": [
        "for value in a.values():\n",
        "  print(value)"
      ],
      "execution_count": null,
      "outputs": [
        {
          "output_type": "stream",
          "text": [
            "seoul\n",
            "tokyo\n",
            "ottawa\n"
          ],
          "name": "stdout"
        }
      ]
    },
    {
      "cell_type": "code",
      "metadata": {
        "colab": {
          "base_uri": "https://localhost:8080/"
        },
        "id": "JC12_R-oou2b",
        "outputId": "3dce1a7d-32d6-4ea3-c82e-1ef12083cbf3"
      },
      "source": [
        "# key만 출력됨\n",
        "for i in a:\n",
        "  print(i)"
      ],
      "execution_count": null,
      "outputs": [
        {
          "output_type": "stream",
          "text": [
            "korea\n",
            "japan\n",
            "canada\n"
          ],
          "name": "stdout"
        }
      ]
    },
    {
      "cell_type": "code",
      "metadata": {
        "colab": {
          "base_uri": "https://localhost:8080/"
        },
        "id": "PvS8b4rit48P",
        "outputId": "dc2ec263-04e6-4d15-99aa-922663ae2722"
      },
      "source": [
        "list(a.items())\n",
        "for key,value in a.items():\n",
        "  print(key, value)"
      ],
      "execution_count": null,
      "outputs": [
        {
          "output_type": "stream",
          "text": [
            "korea seoul\n",
            "japan tokyo\n",
            "canada ottawa\n"
          ],
          "name": "stdout"
        }
      ]
    },
    {
      "cell_type": "markdown",
      "metadata": {
        "id": "-3Wfh4w6t23d"
      },
      "source": [
        "**for에서 index 사용하기**\n",
        "- 기본적으로 for에 리스트를 순회하는 경우, 값만 추출\n",
        "- 인덱스와 값을 모두 사용하려면? [enumerate 함수] 이용\n",
        "\n",
        "\n",
        "```\n",
        "a = [1,2,3,4,5]\n",
        "for i, val in enumerate(a):\n",
        "    print (i, val)\n",
        "```\n",
        "\n"
      ]
    },
    {
      "cell_type": "code",
      "metadata": {
        "colab": {
          "base_uri": "https://localhost:8080/"
        },
        "id": "P6XGq_Olud9k",
        "outputId": "f8171485-d6b6-4d15-ad68-9d51c12d5b95"
      },
      "source": [
        "a = [1,2,3,4,5]\n",
        "for i, val in enumerate(a):\n",
        "    print (i, val)"
      ],
      "execution_count": null,
      "outputs": [
        {
          "output_type": "stream",
          "text": [
            "0 1\n",
            "1 2\n",
            "2 3\n",
            "3 4\n",
            "4 5\n"
          ],
          "name": "stdout"
        }
      ]
    },
    {
      "cell_type": "code",
      "metadata": {
        "id": "aAeZUIoevJFp"
      },
      "source": [
        "a = [1,2,3,4,5]\n",
        "for index, num in enumerate(a):\n",
        "  if index > 3:\n",
        "    print(index, num)"
      ],
      "execution_count": null,
      "outputs": []
    },
    {
      "cell_type": "markdown",
      "metadata": {
        "id": "2x-Lr2cyvo3H"
      },
      "source": [
        "**break**\n",
        "- for 의 경우에도 특정 조건일 때 loop 종료 가능"
      ]
    },
    {
      "cell_type": "code",
      "metadata": {
        "colab": {
          "base_uri": "https://localhost:8080/"
        },
        "id": "vpbolVP-vmgu",
        "outputId": "0bf9a44f-79e0-4fb3-96fd-f6231248d37c"
      },
      "source": [
        "a = [100, 90, 80, 70, 60, 50]\n",
        "for num in a:\n",
        "  if num < 80:\n",
        "    break\n",
        "  print(num)"
      ],
      "execution_count": null,
      "outputs": [
        {
          "output_type": "stream",
          "text": [
            "100\n",
            "90\n",
            "80\n"
          ],
          "name": "stdout"
        }
      ]
    },
    {
      "cell_type": "markdown",
      "metadata": {
        "id": "JJe6WoJGwJAt"
      },
      "source": [
        "**continue**\n",
        "- 해당 아이템을 건너뛰고 싶을 때 사용"
      ]
    },
    {
      "cell_type": "code",
      "metadata": {
        "colab": {
          "base_uri": "https://localhost:8080/"
        },
        "id": "-FuEY9tcwMVC",
        "outputId": "d527350b-d756-4478-d2b0-481c1e8e7626"
      },
      "source": [
        "a = [100,90,80,70,60,50]\n",
        "for num in a:\n",
        "  if num >= 60 and num <= 70:  #이 조건에 해당하는 value를 제외하고 계속함\n",
        "    continue\n",
        "  print(num)"
      ],
      "execution_count": null,
      "outputs": [
        {
          "output_type": "stream",
          "text": [
            "100\n",
            "90\n",
            "80\n",
            "50\n"
          ],
          "name": "stdout"
        }
      ]
    },
    {
      "cell_type": "markdown",
      "metadata": {
        "id": "M1WJxEVTwjwh"
      },
      "source": [
        "**loop중첩**\n",
        "- 반복문도 중첩하여 사용 가능 : 반복문 블록의 코드 안에 또 반복문의 코드가 작성되는 것을 의미\n",
        "- 내부 루프는 외부 루프가 수행되는만큼 반복 수행됨\n",
        "- 중첩은 무한히 가능"
      ]
    },
    {
      "cell_type": "code",
      "metadata": {
        "colab": {
          "base_uri": "https://localhost:8080/"
        },
        "id": "cELghhzbvmcZ",
        "outputId": "89d24dff-b50e-4efb-cf47-e1a53211bace"
      },
      "source": [
        " a = [1,2,3]\n",
        " for i in a:\n",
        "   for j in a:\n",
        "     print(i*j)"
      ],
      "execution_count": null,
      "outputs": [
        {
          "output_type": "stream",
          "text": [
            "1\n",
            "2\n",
            "3\n",
            "2\n",
            "4\n",
            "6\n",
            "3\n",
            "6\n",
            "9\n"
          ],
          "name": "stdout"
        }
      ]
    },
    {
      "cell_type": "code",
      "metadata": {
        "colab": {
          "base_uri": "https://localhost:8080/"
        },
        "id": "Q3WqYwjkxJFi",
        "outputId": "d85eec10-88e1-4b4b-fc4f-ac50ba7ae0be"
      },
      "source": [
        "#구구단 출력하기\n",
        "for i in range(2, 10, 1):\n",
        "  for j in range(1, 10, 1):\n",
        "    print(i, 'x', j, '=', i*j)"
      ],
      "execution_count": null,
      "outputs": [
        {
          "output_type": "stream",
          "text": [
            "2 x 1 = 2\n",
            "2 x 2 = 4\n",
            "2 x 3 = 6\n",
            "2 x 4 = 8\n",
            "2 x 5 = 10\n",
            "2 x 6 = 12\n",
            "2 x 7 = 14\n",
            "2 x 8 = 16\n",
            "2 x 9 = 18\n",
            "3 x 1 = 3\n",
            "3 x 2 = 6\n",
            "3 x 3 = 9\n",
            "3 x 4 = 12\n",
            "3 x 5 = 15\n",
            "3 x 6 = 18\n",
            "3 x 7 = 21\n",
            "3 x 8 = 24\n",
            "3 x 9 = 27\n",
            "4 x 1 = 4\n",
            "4 x 2 = 8\n",
            "4 x 3 = 12\n",
            "4 x 4 = 16\n",
            "4 x 5 = 20\n",
            "4 x 6 = 24\n",
            "4 x 7 = 28\n",
            "4 x 8 = 32\n",
            "4 x 9 = 36\n",
            "5 x 1 = 5\n",
            "5 x 2 = 10\n",
            "5 x 3 = 15\n",
            "5 x 4 = 20\n",
            "5 x 5 = 25\n",
            "5 x 6 = 30\n",
            "5 x 7 = 35\n",
            "5 x 8 = 40\n",
            "5 x 9 = 45\n",
            "6 x 1 = 6\n",
            "6 x 2 = 12\n",
            "6 x 3 = 18\n",
            "6 x 4 = 24\n",
            "6 x 5 = 30\n",
            "6 x 6 = 36\n",
            "6 x 7 = 42\n",
            "6 x 8 = 48\n",
            "6 x 9 = 54\n",
            "7 x 1 = 7\n",
            "7 x 2 = 14\n",
            "7 x 3 = 21\n",
            "7 x 4 = 28\n",
            "7 x 5 = 35\n",
            "7 x 6 = 42\n",
            "7 x 7 = 49\n",
            "7 x 8 = 56\n",
            "7 x 9 = 63\n",
            "8 x 1 = 8\n",
            "8 x 2 = 16\n",
            "8 x 3 = 24\n",
            "8 x 4 = 32\n",
            "8 x 5 = 40\n",
            "8 x 6 = 48\n",
            "8 x 7 = 56\n",
            "8 x 8 = 64\n",
            "8 x 9 = 72\n",
            "9 x 1 = 9\n",
            "9 x 2 = 18\n",
            "9 x 3 = 27\n",
            "9 x 4 = 36\n",
            "9 x 5 = 45\n",
            "9 x 6 = 54\n",
            "9 x 7 = 63\n",
            "9 x 8 = 72\n",
            "9 x 9 = 81\n"
          ],
          "name": "stdout"
        }
      ]
    },
    {
      "cell_type": "markdown",
      "metadata": {
        "id": "8IzDBM4Oxen6"
      },
      "source": [
        "**collection의 길이**\n",
        "- len(a) 내장함수로 계산 가능\n",
        "- abs, len, type, range  "
      ]
    },
    {
      "cell_type": "code",
      "metadata": {
        "colab": {
          "base_uri": "https://localhost:8080/"
        },
        "id": "iUGXQ5lgxmxL",
        "outputId": "ddc1340c-f77f-4f8a-fa6d-72291c04ca64"
      },
      "source": [
        "a = [1,2,3,4,5,6,7,1]\n",
        "len('hello world')\n",
        "\n",
        "print(a)\n",
        "print(len(a))"
      ],
      "execution_count": null,
      "outputs": [
        {
          "output_type": "stream",
          "text": [
            "[1, 2, 3, 4, 5, 6, 7, 1]\n",
            "8\n"
          ],
          "name": "stdout"
        }
      ]
    },
    {
      "cell_type": "markdown",
      "metadata": {
        "id": "vbXKcz9UxIsq"
      },
      "source": [
        "**range 함수**\n",
        "- 리스트를 쉽게 만들 수 있는 내장함수\n",
        "- 주어진 값에 따라 다양한 결과를 변환\n",
        "```\n",
        "range(10) -> [0,1,2,3,4,5,6,7,8,9]\n",
        "range(2, 10) -> [2,3,4,5,6,7,8,9]\n",
        "range(2, 10, 3) -> [2,5,8] ~ 간격(3)\n",
        "```\n",
        "\n"
      ]
    },
    {
      "cell_type": "code",
      "metadata": {
        "colab": {
          "base_uri": "https://localhost:8080/"
        },
        "id": "uJ9i4zFryCzG",
        "outputId": "a3891c81-565d-45b8-f424-065884d31781"
      },
      "source": [
        "#1-100 까지의 리스트 생성하기\n",
        "list(range(101))\n",
        "a=list(range(1,201))\n",
        "print(a)"
      ],
      "execution_count": null,
      "outputs": [
        {
          "output_type": "stream",
          "text": [
            "[1, 2, 3, 4, 5, 6, 7, 8, 9, 10, 11, 12, 13, 14, 15, 16, 17, 18, 19, 20, 21, 22, 23, 24, 25, 26, 27, 28, 29, 30, 31, 32, 33, 34, 35, 36, 37, 38, 39, 40, 41, 42, 43, 44, 45, 46, 47, 48, 49, 50, 51, 52, 53, 54, 55, 56, 57, 58, 59, 60, 61, 62, 63, 64, 65, 66, 67, 68, 69, 70, 71, 72, 73, 74, 75, 76, 77, 78, 79, 80, 81, 82, 83, 84, 85, 86, 87, 88, 89, 90, 91, 92, 93, 94, 95, 96, 97, 98, 99, 100, 101, 102, 103, 104, 105, 106, 107, 108, 109, 110, 111, 112, 113, 114, 115, 116, 117, 118, 119, 120, 121, 122, 123, 124, 125, 126, 127, 128, 129, 130, 131, 132, 133, 134, 135, 136, 137, 138, 139, 140, 141, 142, 143, 144, 145, 146, 147, 148, 149, 150, 151, 152, 153, 154, 155, 156, 157, 158, 159, 160, 161, 162, 163, 164, 165, 166, 167, 168, 169, 170, 171, 172, 173, 174, 175, 176, 177, 178, 179, 180, 181, 182, 183, 184, 185, 186, 187, 188, 189, 190, 191, 192, 193, 194, 195, 196, 197, 198, 199, 200]\n"
          ],
          "name": "stdout"
        }
      ]
    },
    {
      "cell_type": "code",
      "metadata": {
        "colab": {
          "base_uri": "https://localhost:8080/"
        },
        "id": "b5KcBGBtyP0B",
        "outputId": "3dcc13cc-e320-46ce-8378-d3251470e29b"
      },
      "source": [
        "#1~100사이의 5의 배수만을 갖는 리스트 생성\n",
        "a = list(range(1, 101, 5))\n",
        "print(a)"
      ],
      "execution_count": null,
      "outputs": [
        {
          "output_type": "stream",
          "text": [
            "[1, 6, 11, 16, 21, 26, 31, 36, 41, 46, 51, 56, 61, 66, 71, 76, 81, 86, 91, 96]\n"
          ],
          "name": "stdout"
        }
      ]
    },
    {
      "cell_type": "markdown",
      "metadata": {
        "id": "p-7KT35hzCzc"
      },
      "source": [
        "### if & for 연습문제\n",
        "1. 구구단을 2 - 9단까지 출력하시오.\n",
        "2. 1 - 100까지 정수 중 2의 배수 또는 11의 배수를 모두 출력하시오.\n",
        "3. a = [22, 1, 3, 4, 7, 98, 21, 55, 87, 99, 19, 20, 45] 에서 최대값과 최소값을 찾으시오. (sorted, sort 사용 금지)\n",
        "4. a = [22, 1, 3, 4, 7, 98, 21, 55, 87, 99, 19, 20, 45] 에서 평균을 구하세요."
      ]
    },
    {
      "cell_type": "code",
      "metadata": {
        "colab": {
          "base_uri": "https://localhost:8080/"
        },
        "collapsed": true,
        "id": "3m7t3i4qyQmR",
        "outputId": "1ed1d5d8-4793-45da-e7a0-f411803ddb78"
      },
      "source": [
        "for i in range(2,10):\n",
        "  for j in range(1,10):\n",
        "    print(i, 'x', j, '=', i*j)"
      ],
      "execution_count": null,
      "outputs": [
        {
          "output_type": "stream",
          "text": [
            "2 x 1 = 2\n",
            "2 x 2 = 4\n",
            "2 x 3 = 6\n",
            "2 x 4 = 8\n",
            "2 x 5 = 10\n",
            "2 x 6 = 12\n",
            "2 x 7 = 14\n",
            "2 x 8 = 16\n",
            "2 x 9 = 18\n",
            "3 x 1 = 3\n",
            "3 x 2 = 6\n",
            "3 x 3 = 9\n",
            "3 x 4 = 12\n",
            "3 x 5 = 15\n",
            "3 x 6 = 18\n",
            "3 x 7 = 21\n",
            "3 x 8 = 24\n",
            "3 x 9 = 27\n",
            "4 x 1 = 4\n",
            "4 x 2 = 8\n",
            "4 x 3 = 12\n",
            "4 x 4 = 16\n",
            "4 x 5 = 20\n",
            "4 x 6 = 24\n",
            "4 x 7 = 28\n",
            "4 x 8 = 32\n",
            "4 x 9 = 36\n",
            "5 x 1 = 5\n",
            "5 x 2 = 10\n",
            "5 x 3 = 15\n",
            "5 x 4 = 20\n",
            "5 x 5 = 25\n",
            "5 x 6 = 30\n",
            "5 x 7 = 35\n",
            "5 x 8 = 40\n",
            "5 x 9 = 45\n",
            "6 x 1 = 6\n",
            "6 x 2 = 12\n",
            "6 x 3 = 18\n",
            "6 x 4 = 24\n",
            "6 x 5 = 30\n",
            "6 x 6 = 36\n",
            "6 x 7 = 42\n",
            "6 x 8 = 48\n",
            "6 x 9 = 54\n",
            "7 x 1 = 7\n",
            "7 x 2 = 14\n",
            "7 x 3 = 21\n",
            "7 x 4 = 28\n",
            "7 x 5 = 35\n",
            "7 x 6 = 42\n",
            "7 x 7 = 49\n",
            "7 x 8 = 56\n",
            "7 x 9 = 63\n",
            "8 x 1 = 8\n",
            "8 x 2 = 16\n",
            "8 x 3 = 24\n",
            "8 x 4 = 32\n",
            "8 x 5 = 40\n",
            "8 x 6 = 48\n",
            "8 x 7 = 56\n",
            "8 x 8 = 64\n",
            "8 x 9 = 72\n",
            "9 x 1 = 9\n",
            "9 x 2 = 18\n",
            "9 x 3 = 27\n",
            "9 x 4 = 36\n",
            "9 x 5 = 45\n",
            "9 x 6 = 54\n",
            "9 x 7 = 63\n",
            "9 x 8 = 72\n",
            "9 x 9 = 81\n"
          ],
          "name": "stdout"
        }
      ]
    },
    {
      "cell_type": "code",
      "metadata": {
        "id": "zOsBH3Rt1Q4e"
      },
      "source": [
        "#다르게 쓸수도 있음\n",
        "x=2\n",
        "while x<= 9:\n",
        "  y = 1\n",
        "  while y <= 9:\n",
        "    print(x, 'x', y,'=',x*y)\n",
        "    y+=1\n",
        "  x+=1"
      ],
      "execution_count": null,
      "outputs": []
    },
    {
      "cell_type": "code",
      "metadata": {
        "id": "a5CniPZazl2y"
      },
      "source": [
        "for i in range(1, 101):\n",
        "  if i % 2 == 0 or i % 11 == 0 :\n",
        "    print(i)"
      ],
      "execution_count": null,
      "outputs": []
    },
    {
      "cell_type": "code",
      "metadata": {
        "colab": {
          "base_uri": "https://localhost:8080/"
        },
        "id": "nRhSXi_P0EEP",
        "outputId": "851ffcf3-8d8c-473f-d13c-1ef858843242"
      },
      "source": [
        "a = [22, 1, 3, 4, 7, 98, 21, 55, 87, 99, 19, 20, 45] \n",
        "print(max(a))\n",
        "print(min(a))"
      ],
      "execution_count": null,
      "outputs": [
        {
          "output_type": "stream",
          "text": [
            "99\n",
            "1\n"
          ],
          "name": "stdout"
        }
      ]
    },
    {
      "cell_type": "code",
      "metadata": {
        "colab": {
          "base_uri": "https://localhost:8080/"
        },
        "id": "4Pkq7fix0K2l",
        "outputId": "d00dec0e-4396-4f81-f894-a7d107d1e5b3"
      },
      "source": [
        "a = [22, 1, 3, 4, 7, 98, 21, 55, 87, 99, 19, 20, 45]\n",
        "\n",
        "sum(a)/len(a)\n"
      ],
      "execution_count": null,
      "outputs": [
        {
          "output_type": "execute_result",
          "data": {
            "text/plain": [
              "37.0"
            ]
          },
          "metadata": {
            "tags": []
          },
          "execution_count": 50
        }
      ]
    },
    {
      "cell_type": "markdown",
      "metadata": {
        "id": "bYt-6GguT6bo"
      },
      "source": [
        ""
      ]
    },
    {
      "cell_type": "markdown",
      "metadata": {
        "id": "3i24HJmGUKf2"
      },
      "source": [
        "## 함수(function)\n",
        "- 함수란 우리가 알고있는 개념처럼 주어진 입력(input)에 대해서 의도된 출력(output)를 전달하는 역할\n",
        "- sum, len, range 같은 내장함수(built-in function)\n",
        " - range : 정수를 전달하면 [0, 정수)로 이루어진 리스트를 생성\n",
        " - sum : 리스트, 튜플을 입력값으로 전달하면 전체 아이템의 합을 출력으로 전달\n",
        " - len : 리스트, 튜플을 입력값으로 전달하면 아이템의 개수를 출력으로 전달\n"
      ]
    },
    {
      "cell_type": "code",
      "metadata": {
        "colab": {
          "base_uri": "https://localhost:8080/"
        },
        "id": "5m_l7_4kVnzH",
        "outputId": "5258b40f-9784-4495-d3a6-46b232b117e3"
      },
      "source": [
        "a = [1,2,3,4]\n",
        "print(len(a))\n",
        "print(sum(a))"
      ],
      "execution_count": null,
      "outputs": [
        {
          "output_type": "stream",
          "text": [
            "4\n",
            "10\n"
          ],
          "name": "stdout"
        }
      ]
    },
    {
      "cell_type": "markdown",
      "metadata": {
        "id": "UUHYUAtIVmqf"
      },
      "source": [
        "### 함수의 정의\n",
        "- def 키워드 사용\n",
        "- argument : 함수에 입력으로 전달하는 값(argument or parameter)\n",
        "- :(콜론) 필요\n",
        "- body\n",
        " - 함수를 호출한 코드 (caller)로 함수가 해당 기능을 수행하고 완료된 값(output)을 전달하기 위해 return 키워드 사용\n",
        " - 즉, return 이후에 오는 값을 caller로 전달\n",
        "- 네이밍 : 어떤 기능을 하는 함수인지 명확히 나타낼 필요 "
      ]
    },
    {
      "cell_type": "code",
      "metadata": {
        "id": "aOMLQoUVWGoD"
      },
      "source": [
        "#더하기 함수\n",
        "def add(x,y):\n",
        "  n = x+y\n",
        "  return n\n",
        "\n",
        "#빼기 함수\n",
        "def substract(x,y):\n",
        "  sub=x-y\n",
        "  return sub"
      ],
      "execution_count": null,
      "outputs": []
    },
    {
      "cell_type": "markdown",
      "metadata": {
        "id": "GlqiPs7MXR6F"
      },
      "source": [
        "**함수의 사용(호출)**\n",
        "- 함수명(파라미터1, 파라미터2,...파라미터n)\n",
        "- 인자(파라미터)를 괄호안에 전달하여 함수 호출\n",
        "0 함수가 호출되면 실행 흐름이 호출자(caller)에서 함수(callee)로 변경됨"
      ]
    },
    {
      "cell_type": "code",
      "metadata": {
        "colab": {
          "base_uri": "https://localhost:8080/"
        },
        "id": "qNysohhaXREI",
        "outputId": "23ad4af9-90e0-44ab-d937-665cd9943ee3"
      },
      "source": [
        "a = add(30,40)\n",
        "print(a)\n",
        "\n",
        "s = substract(4,3)\n",
        "print(s)"
      ],
      "execution_count": null,
      "outputs": [
        {
          "output_type": "stream",
          "text": [
            "70\n",
            "1\n"
          ],
          "name": "stdout"
        }
      ]
    },
    {
      "cell_type": "markdown",
      "metadata": {
        "id": "FYycYhHJX_u-"
      },
      "source": [
        "**parameter(argument) (인자)**\n",
        "- 함수에 전달되는 입력(input)\n",
        "- 파라미터 <- int, string, float, boolm, list, dict 등 어떤 파이썬 객체도 전달 가능 (함수도 전달 가능)\n",
        "- python의 경우 타입 명시가 없기 때문에, 의도된 파라미터의 타입에 맞게 입력을 전달하는 것이 중요\n",
        "-정의된 파라미터 순서에 따라 값을 전달하는 것이 중요 "
      ]
    },
    {
      "cell_type": "code",
      "metadata": {
        "colab": {
          "base_uri": "https://localhost:8080/"
        },
        "id": "wSLYaezkX6Ch",
        "outputId": "4cbd1ee6-598f-43cf-e41b-408add1a3ea7"
      },
      "source": [
        "def substract(x,y):\n",
        "  sub=x-y\n",
        "  return sub\n",
        "\n",
        "a = substract(100,70)\n",
        "print(a)"
      ],
      "execution_count": null,
      "outputs": [
        {
          "output_type": "stream",
          "text": [
            "30\n"
          ],
          "name": "stdout"
        }
      ]
    },
    {
      "cell_type": "markdown",
      "metadata": {
        "id": "Mj7ADwwbaGOD"
      },
      "source": [
        "**Default parameter(기본인자)**\n",
        "- 파라미터에 기본값 지정 가능\n",
        "- 파라미터 명시 X -> 지정된 기본값으로 대체됨\n",
        " > e.g) 올바르지 않은 예 : def test(a, b = 1, c) , def test(a = 1, b, c) , def test(a = 1, b = 1, c)"
      ]
    },
    {
      "cell_type": "code",
      "metadata": {
        "colab": {
          "base_uri": "https://localhost:8080/"
        },
        "id": "boY__8BBX2SC",
        "outputId": "f91be900-6ce2-4bcc-c69a-132569d0913e"
      },
      "source": [
        "def add(x,y=10, z=3):\n",
        "  a= x+y+z\n",
        "  return a\n",
        "\n",
        "print(add(10,1,2))\n",
        "print(add(10,1))"
      ],
      "execution_count": null,
      "outputs": [
        {
          "output_type": "stream",
          "text": [
            "13\n",
            "14\n"
          ],
          "name": "stdout"
        }
      ]
    },
    {
      "cell_type": "markdown",
      "metadata": {
        "id": "R0IBrcNbabxl"
      },
      "source": [
        "- 기본 파라미터의 다른 예\n",
        " - sep, end, file"
      ]
    },
    {
      "cell_type": "code",
      "metadata": {
        "colab": {
          "base_uri": "https://localhost:8080/"
        },
        "id": "SKHzeH-Faorq",
        "outputId": "a08f1409-f43b-468d-9d8f-5caca83600d5"
      },
      "source": [
        "print(1,2,3, sep=\"!\", end = \"%%%\")\n",
        "\n",
        "print(2,3,4, sep='p')"
      ],
      "execution_count": null,
      "outputs": [
        {
          "output_type": "stream",
          "text": [
            "1!2!3%%%2p3p4\n"
          ],
          "name": "stdout"
        }
      ]
    },
    {
      "cell_type": "markdown",
      "metadata": {
        "id": "0qS3PD5Rfy4O"
      },
      "source": [
        "**return (리턴)**\n",
        "- 기본적으로 함수의 종료를 명시\n",
        "- return 옆에 값이나 수식이 있다면 해당 값을 호출자(caller)에게 반환(전달)\n",
        "- return 만 존재하면 None 반환\n",
        "- return이 없는 경우, 기본적으로 함수 코드 블록이 종료되면 종료로 간주. 이때도 None 반환."
      ]
    },
    {
      "cell_type": "code",
      "metadata": {
        "colab": {
          "base_uri": "https://localhost:8080/"
        },
        "id": "BamFzxFJfvgz",
        "outputId": "f8ebceed-5588-434b-fe3c-bc204675156d"
      },
      "source": [
        "def weird_mulitply(x,y):\n",
        "  if x>10:\n",
        "    return x*y\n",
        "  \n",
        "  print(x+y)\n",
        "  return(x+2)*y\n",
        "\n",
        "weird_mulitply(12,5)"
      ],
      "execution_count": null,
      "outputs": [
        {
          "output_type": "execute_result",
          "data": {
            "text/plain": [
              "60"
            ]
          },
          "metadata": {
            "tags": []
          },
          "execution_count": 26
        }
      ]
    },
    {
      "cell_type": "code",
      "metadata": {
        "colab": {
          "base_uri": "https://localhost:8080/"
        },
        "id": "9_vXqb9xgVTB",
        "outputId": "8b830708-30b7-40f1-c890-8fb9948bfcaa"
      },
      "source": [
        "def weird_mulitply(x,y):\n",
        "  if x>10:\n",
        "    return x*y\n",
        "\n",
        "c=weird_mulitply(2,5)\n",
        "print(c)"
      ],
      "execution_count": null,
      "outputs": [
        {
          "output_type": "stream",
          "text": [
            "None\n"
          ],
          "name": "stdout"
        }
      ]
    },
    {
      "cell_type": "code",
      "metadata": {
        "colab": {
          "base_uri": "https://localhost:8080/"
        },
        "id": "Oi7j045AgvFf",
        "outputId": "3e3c0a16-bc8b-4c38-c7e4-cdab24c0853e"
      },
      "source": [
        "#multiple return(복수값 반환)\n",
        "def add_mul(x,y):\n",
        "    s=x+y\n",
        "    m=x*y\n",
        "    return s,m\n",
        "\n",
        "a,b=add_mul(2,3)\n",
        "print(a,b)"
      ],
      "execution_count": null,
      "outputs": [
        {
          "output_type": "stream",
          "text": [
            "5 6\n"
          ],
          "name": "stdout"
        }
      ]
    },
    {
      "cell_type": "code",
      "metadata": {
        "colab": {
          "base_uri": "https://localhost:8080/"
        },
        "id": "DgbdvbOzi2yw",
        "outputId": "c8de71a3-6325-4c3c-f2e7-ef0d08dc7d0e"
      },
      "source": [
        "num1 = 10\n",
        "num2 = 20\n",
        "\n",
        "def test(num1, num2):\n",
        "  print(num1, num2)\n",
        "  return num1+num2\n",
        "\n",
        "test(30,40)"
      ],
      "execution_count": null,
      "outputs": [
        {
          "output_type": "stream",
          "text": [
            "30 40\n"
          ],
          "name": "stdout"
        },
        {
          "output_type": "execute_result",
          "data": {
            "text/plain": [
              "70"
            ]
          },
          "metadata": {
            "tags": []
          },
          "execution_count": 29
        }
      ]
    },
    {
      "cell_type": "markdown",
      "metadata": {
        "id": "ucaoH1s7jGoi"
      },
      "source": [
        "**variable length argument(가변길이 인자)**\n",
        "- *전달되는 파라미터 개수가 고정적이지 않은 경우 사용*\n",
        "- print, format 함수\n",
        "    > *args, ***kwargs\n",
        "\n",
        "    > *args : 파라미터를 튜플 형태로 전달\n",
        "\n",
        "    > **kwargs : 파라미터를 딕셔너리 형태로 전달"
      ]
    },
    {
      "cell_type": "code",
      "metadata": {
        "id": "uwDMHexYkOQ1",
        "colab": {
          "base_uri": "https://localhost:8080/"
        },
        "outputId": "82684e14-6d3b-44c0-efab-96fbe08d7407"
      },
      "source": [
        "def test(*args):\n",
        "  for item in args:\n",
        "    print(item)\n",
        "\n",
        "test(1,2,3,4,5,6,7)"
      ],
      "execution_count": 30,
      "outputs": [
        {
          "output_type": "stream",
          "text": [
            "1\n",
            "2\n",
            "3\n",
            "4\n",
            "5\n",
            "6\n",
            "7\n"
          ],
          "name": "stdout"
        }
      ]
    },
    {
      "cell_type": "markdown",
      "metadata": {
        "id": "2RiNQnxil0oS"
      },
      "source": [
        "**keyword 파라미터**\n",
        "- **가 붙은 경우 키워드 파라미터로 인식\n",
        "- 함수 호출 시, 파라미터의 이름과 값을 함께 전달 가능함"
      ]
    },
    {
      "cell_type": "code",
      "metadata": {
        "colab": {
          "base_uri": "https://localhost:8080/"
        },
        "id": "-VD498_ulxn2",
        "outputId": "ea364402-1a9f-435f-da14-f326f794daa4"
      },
      "source": [
        "def test2(**kwargs):\n",
        "  for key, value in kwargs.items():\n",
        "    print('key:', key, ',', 'value:' , value)\n",
        "\n",
        "test2(x=100, y=200, z='b')"
      ],
      "execution_count": 41,
      "outputs": [
        {
          "output_type": "stream",
          "text": [
            "key: x , value: 100\n",
            "key: y , value: 200\n",
            "key: z , value: b\n"
          ],
          "name": "stdout"
        }
      ]
    }
  ]
}