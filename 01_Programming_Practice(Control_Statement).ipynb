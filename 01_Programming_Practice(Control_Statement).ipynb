{
  "nbformat": 4,
  "nbformat_minor": 0,
  "metadata": {
    "kernelspec": {
      "display_name": "Python 3",
      "language": "python",
      "name": "python3"
    },
    "language_info": {
      "codemirror_mode": {
        "name": "ipython",
        "version": 3
      },
      "file_extension": ".py",
      "mimetype": "text/x-python",
      "name": "python",
      "nbconvert_exporter": "python",
      "pygments_lexer": "ipython3",
      "version": "3.8.8"
    },
    "colab": {
      "name": "01_Programming Practice(Control Statement).ipynb",
      "provenance": [],
      "collapsed_sections": [],
      "include_colab_link": true
    }
  },
  "cells": [
    {
      "cell_type": "markdown",
      "metadata": {
        "id": "view-in-github",
        "colab_type": "text"
      },
      "source": [
        "<a href=\"https://colab.research.google.com/github/Ahbin-Park/beluga/blob/main/01_Programming_Practice(Control_Statement).ipynb\" target=\"_parent\"><img src=\"https://colab.research.google.com/assets/colab-badge.svg\" alt=\"Open In Colab\"/></a>"
      ]
    },
    {
      "cell_type": "markdown",
      "metadata": {
        "id": "0_td60jI4KK8"
      },
      "source": [
        "## 1.  if 지옥\n",
        "\n",
        "* 다음 코드의 실행결과를 예측해보자."
      ]
    },
    {
      "cell_type": "code",
      "metadata": {
        "id": "OwOFwGwo4KLA",
        "colab": {
          "base_uri": "https://localhost:8080/"
        },
        "outputId": "c0cd7f84-6ed5-4d2c-f635-b64193a4f388"
      },
      "source": [
        "a  = \"Life is too short, you need python\"\n",
        "\n",
        "if \"wife\" in a:\n",
        "    print(\"wife\")\n",
        "elif \"python\" in a and \"you\" not in a:\n",
        "    print(\"python\")\n",
        "elif \"shirt\" not in a:\n",
        "    print(\"shirt\")\n",
        "elif \"need\" in a:\n",
        "    print(\"need\")\n",
        "else:\n",
        "    print(\"none\")"
      ],
      "execution_count": null,
      "outputs": [
        {
          "output_type": "stream",
          "text": [
            "shirt\n"
          ],
          "name": "stdout"
        }
      ]
    },
    {
      "cell_type": "markdown",
      "metadata": {
        "id": "jffEdxpa4KLB"
      },
      "source": [
        "## 2. 약수 찾기\n",
        "\n",
        "* 100 이하의 자연수 중에서 5의 배수를 모두 찾아서 출력해주세요."
      ]
    },
    {
      "cell_type": "code",
      "metadata": {
        "id": "TNnhs_tR4KLC",
        "colab": {
          "base_uri": "https://localhost:8080/"
        },
        "outputId": "3c3855cf-bdad-4b73-bc1d-ed3e1976e1ab"
      },
      "source": [
        "# 문제2의 코드를 작성하세요.\n",
        "for i in range(1,101):\n",
        "  if i % 5 == 0:\n",
        "    print(i)"
      ],
      "execution_count": null,
      "outputs": [
        {
          "output_type": "stream",
          "text": [
            "5\n",
            "10\n",
            "15\n",
            "20\n",
            "25\n",
            "30\n",
            "35\n",
            "40\n",
            "45\n",
            "50\n",
            "55\n",
            "60\n",
            "65\n",
            "70\n",
            "75\n",
            "80\n",
            "85\n",
            "90\n",
            "95\n",
            "100\n"
          ],
          "name": "stdout"
        }
      ]
    },
    {
      "cell_type": "markdown",
      "metadata": {
        "id": "qFikVw7D4KLC"
      },
      "source": [
        "# 3. 별 찍기!\n",
        "\n",
        "* 하늘의 아름다운 별을 따다 코드로 작성해보자."
      ]
    },
    {
      "cell_type": "code",
      "metadata": {
        "id": "aVOVsS-l4KLD"
      },
      "source": [
        "# number = 5\n",
        "*****\n",
        "****\n",
        "***\n",
        "**\n",
        "*"
      ],
      "execution_count": null,
      "outputs": []
    },
    {
      "cell_type": "markdown",
      "metadata": {
        "id": "EMzHEdt_6zzX"
      },
      "source": [
        "- 여러가지 가능한 답"
      ]
    },
    {
      "cell_type": "code",
      "metadata": {
        "id": "IYSCEi2p4KLD",
        "colab": {
          "base_uri": "https://localhost:8080/"
        },
        "outputId": "d3274440-e29c-4d51-ed09-a0f24a22949d"
      },
      "source": [
        "number = int(input(\"Input the number of lines : \"))\n",
        "\n",
        "while number >= 1:\n",
        "  print(number * '*')\n",
        "  number = number-1"
      ],
      "execution_count": null,
      "outputs": [
        {
          "output_type": "stream",
          "text": [
            "Input the number of lines : 5\n",
            "*****\n",
            "****\n",
            "***\n",
            "**\n",
            "*\n"
          ],
          "name": "stdout"
        }
      ]
    },
    {
      "cell_type": "code",
      "metadata": {
        "colab": {
          "base_uri": "https://localhost:8080/"
        },
        "id": "1c4bNLAO5sgw",
        "outputId": "905397cf-3dfa-4015-910d-e51b2ec137e5"
      },
      "source": [
        "number = int(input(\"Input the number of lines : \")) \n",
        "for i in range(number):\n",
        "  b = number - i\n",
        "  print(b * '*')"
      ],
      "execution_count": null,
      "outputs": [
        {
          "output_type": "stream",
          "text": [
            "Input the number of lines : 5\n",
            "*****\n",
            "****\n",
            "***\n",
            "**\n",
            "*\n"
          ],
          "name": "stdout"
        }
      ]
    },
    {
      "cell_type": "code",
      "metadata": {
        "colab": {
          "base_uri": "https://localhost:8080/"
        },
        "id": "dr1VmMeG6VB8",
        "outputId": "e6ed6b07-5436-4af6-b2fa-8f0424733d06"
      },
      "source": [
        "number = int(input(\"Input the number of lines : \")) \n",
        "for i in range(number):\n",
        "  for j in range(number-i):\n",
        "    print('*', end=\"\")\n",
        "  print()"
      ],
      "execution_count": null,
      "outputs": [
        {
          "output_type": "stream",
          "text": [
            "Input the number of lines : 5\n",
            "*****\n",
            "****\n",
            "***\n",
            "**\n",
            "*\n"
          ],
          "name": "stdout"
        }
      ]
    },
    {
      "cell_type": "markdown",
      "metadata": {
        "id": "rk5poCuy4KLD"
      },
      "source": [
        "# 4. 단어 갯수 구하기\n",
        "\n",
        "* 다음과 같은 영어기사 5개가 있다.\n",
        "* 철수는 다음 뉴스기사들의 어떤 단어가 얼마나 나왔는지 궁금해졌다.\n",
        "* 뉴스기사에서 등장하는 모든 단어마다 개수를 세어보자!"
      ]
    },
    {
      "cell_type": "code",
      "metadata": {
        "id": "QdjSOXCc4KLE"
      },
      "source": [
        "#아래 5개의 변수들은 각각 하나의 문서를 의미합니다.\n",
        "news1 = \"earn\tchampion products ch approves stock split champion products inc said its board of directors approved a two for one stock split of its common shares for shareholders of record as of april the company also said its board voted to recommend to shareholders at the annual meeting april an increase in the authorized capital stock from five mln to mln shares reuter\"\n",
        "news2 = \"acq\tcomputer terminal systems cpml completes sale computer terminal systems inc said it has completed the sale of shares of its common stock and warrants to acquire an additional one mln shares to sedio n v of lugano switzerland for dlrs the company said the warrants are exercisable for five years at a purchase price of dlrs per share computer terminal said sedio also has the right to buy additional shares and increase its total holdings up to pct of the computer terminal s outstanding common stock under certain circumstances involving change of control at the company the company said if the conditions occur the warrants would be exercisable at a price equal to pct of its common stock s market price at the time not to exceed dlrs per share computer terminal also said it sold the technolgy rights to its dot matrix impact technology including any future improvements to woodco inc of houston tex for dlrs but it said it would continue to be the exclusive worldwide licensee of the technology for woodco the company said the moves were part of its reorganization plan and would help pay current operation costs and ensure product delivery computer terminal makes computer generated labels forms tags and ticket printers and terminals reuter\"\n",
        "news3 = \"earn\tcobanco inc cbco year net shr cts vs dlrs net vs assets mln vs mln deposits mln vs mln loans mln vs mln note th qtr not available year includes extraordinary gain from tax carry forward of dlrs or five cts per shr reuter\"\n",
        "news4 = \"earn\tam international inc am nd qtr jan oper shr loss two cts vs profit seven cts oper shr profit vs profit revs mln vs mln avg shrs mln vs mln six mths oper shr profit nil vs profit cts oper net profit vs profit revs mln vs mln avg shrs mln vs mln note per shr calculated after payment of preferred dividends results exclude credits of or four cts and or nine cts for qtr and six mths vs or six cts and or cts for prior periods from operating loss carryforwards reuter\"\n",
        "news5 = \"earn\tbrown forman inc bfd th qtr net shr one dlr vs cts net mln vs mln revs mln vs mln nine mths shr dlrs vs dlrs net mln vs mln revs billion vs mln reuter\""
      ],
      "execution_count": null,
      "outputs": []
    },
    {
      "cell_type": "code",
      "metadata": {
        "id": "d1ocIXH24KLF",
        "colab": {
          "base_uri": "https://localhost:8080/"
        },
        "outputId": "c1475eca-4f32-4142-a324-5886688eb272"
      },
      "source": [
        "#news_list는 뉴스 5개가 원소인 리스트입니다.\n",
        "#word_Dict는 문서 하나당 단어와 단어 갯수가 저장되는 사전입니다. 하나만 사용하셔도 되고, 여러개를 사용하셔도 됩니다.\n",
        "\n",
        "\n",
        "#단어들을 리스트의 원소들로 가져와서 news_list에 담는다\n",
        "news_list = news1.split() + news2.split() + news3.split() + news4.split() + news5.split()\n",
        "print(news_list)\n",
        "\n",
        "#딕셔너리 생성\n",
        "#리터럴 표기법으로 생성 a = {}\n",
        "#dict클래스를 통한 생성 a = dict()\n",
        "\n",
        "word_Dict = {} #혹은 word_Dict = dict() 로 작성할 수 있음 \n",
        "\n",
        "#Key로 Value얻기(get) — get(x) 함수는 x라는 Key에 대응되는 Value를 돌려준다\n",
        "#a​.get(x, 오류일 때 디폴트 값)\n",
        "#key값에 대해 밸류값 넣기\n",
        "\n",
        "for word in news_list:\n",
        "  word_Dict[word] = word_Dict.get(word, 0) + 1\n",
        "\n",
        "print(word_Dict) \n"
      ],
      "execution_count": 40,
      "outputs": [
        {
          "output_type": "stream",
          "text": [
            "['earn', 'champion', 'products', 'ch', 'approves', 'stock', 'split', 'champion', 'products', 'inc', 'said', 'its', 'board', 'of', 'directors', 'approved', 'a', 'two', 'for', 'one', 'stock', 'split', 'of', 'its', 'common', 'shares', 'for', 'shareholders', 'of', 'record', 'as', 'of', 'april', 'the', 'company', 'also', 'said', 'its', 'board', 'voted', 'to', 'recommend', 'to', 'shareholders', 'at', 'the', 'annual', 'meeting', 'april', 'an', 'increase', 'in', 'the', 'authorized', 'capital', 'stock', 'from', 'five', 'mln', 'to', 'mln', 'shares', 'reuter', 'acq', 'computer', 'terminal', 'systems', 'cpml', 'completes', 'sale', 'computer', 'terminal', 'systems', 'inc', 'said', 'it', 'has', 'completed', 'the', 'sale', 'of', 'shares', 'of', 'its', 'common', 'stock', 'and', 'warrants', 'to', 'acquire', 'an', 'additional', 'one', 'mln', 'shares', 'to', 'sedio', 'n', 'v', 'of', 'lugano', 'switzerland', 'for', 'dlrs', 'the', 'company', 'said', 'the', 'warrants', 'are', 'exercisable', 'for', 'five', 'years', 'at', 'a', 'purchase', 'price', 'of', 'dlrs', 'per', 'share', 'computer', 'terminal', 'said', 'sedio', 'also', 'has', 'the', 'right', 'to', 'buy', 'additional', 'shares', 'and', 'increase', 'its', 'total', 'holdings', 'up', 'to', 'pct', 'of', 'the', 'computer', 'terminal', 's', 'outstanding', 'common', 'stock', 'under', 'certain', 'circumstances', 'involving', 'change', 'of', 'control', 'at', 'the', 'company', 'the', 'company', 'said', 'if', 'the', 'conditions', 'occur', 'the', 'warrants', 'would', 'be', 'exercisable', 'at', 'a', 'price', 'equal', 'to', 'pct', 'of', 'its', 'common', 'stock', 's', 'market', 'price', 'at', 'the', 'time', 'not', 'to', 'exceed', 'dlrs', 'per', 'share', 'computer', 'terminal', 'also', 'said', 'it', 'sold', 'the', 'technolgy', 'rights', 'to', 'its', 'dot', 'matrix', 'impact', 'technology', 'including', 'any', 'future', 'improvements', 'to', 'woodco', 'inc', 'of', 'houston', 'tex', 'for', 'dlrs', 'but', 'it', 'said', 'it', 'would', 'continue', 'to', 'be', 'the', 'exclusive', 'worldwide', 'licensee', 'of', 'the', 'technology', 'for', 'woodco', 'the', 'company', 'said', 'the', 'moves', 'were', 'part', 'of', 'its', 'reorganization', 'plan', 'and', 'would', 'help', 'pay', 'current', 'operation', 'costs', 'and', 'ensure', 'product', 'delivery', 'computer', 'terminal', 'makes', 'computer', 'generated', 'labels', 'forms', 'tags', 'and', 'ticket', 'printers', 'and', 'terminals', 'reuter', 'earn', 'cobanco', 'inc', 'cbco', 'year', 'net', 'shr', 'cts', 'vs', 'dlrs', 'net', 'vs', 'assets', 'mln', 'vs', 'mln', 'deposits', 'mln', 'vs', 'mln', 'loans', 'mln', 'vs', 'mln', 'note', 'th', 'qtr', 'not', 'available', 'year', 'includes', 'extraordinary', 'gain', 'from', 'tax', 'carry', 'forward', 'of', 'dlrs', 'or', 'five', 'cts', 'per', 'shr', 'reuter', 'earn', 'am', 'international', 'inc', 'am', 'nd', 'qtr', 'jan', 'oper', 'shr', 'loss', 'two', 'cts', 'vs', 'profit', 'seven', 'cts', 'oper', 'shr', 'profit', 'vs', 'profit', 'revs', 'mln', 'vs', 'mln', 'avg', 'shrs', 'mln', 'vs', 'mln', 'six', 'mths', 'oper', 'shr', 'profit', 'nil', 'vs', 'profit', 'cts', 'oper', 'net', 'profit', 'vs', 'profit', 'revs', 'mln', 'vs', 'mln', 'avg', 'shrs', 'mln', 'vs', 'mln', 'note', 'per', 'shr', 'calculated', 'after', 'payment', 'of', 'preferred', 'dividends', 'results', 'exclude', 'credits', 'of', 'or', 'four', 'cts', 'and', 'or', 'nine', 'cts', 'for', 'qtr', 'and', 'six', 'mths', 'vs', 'or', 'six', 'cts', 'and', 'or', 'cts', 'for', 'prior', 'periods', 'from', 'operating', 'loss', 'carryforwards', 'reuter', 'earn', 'brown', 'forman', 'inc', 'bfd', 'th', 'qtr', 'net', 'shr', 'one', 'dlr', 'vs', 'cts', 'net', 'mln', 'vs', 'mln', 'revs', 'mln', 'vs', 'mln', 'nine', 'mths', 'shr', 'dlrs', 'vs', 'dlrs', 'net', 'mln', 'vs', 'mln', 'revs', 'billion', 'vs', 'mln', 'reuter']\n",
            "{'earn': 4, 'champion': 2, 'products': 2, 'ch': 1, 'approves': 1, 'stock': 6, 'split': 2, 'inc': 6, 'said': 9, 'its': 8, 'board': 2, 'of': 17, 'directors': 1, 'approved': 1, 'a': 3, 'two': 2, 'for': 8, 'one': 3, 'common': 4, 'shares': 5, 'shareholders': 2, 'record': 1, 'as': 1, 'april': 2, 'the': 18, 'company': 5, 'also': 3, 'voted': 1, 'to': 12, 'recommend': 1, 'at': 5, 'annual': 1, 'meeting': 1, 'an': 2, 'increase': 2, 'in': 1, 'authorized': 1, 'capital': 1, 'from': 3, 'five': 3, 'mln': 24, 'reuter': 5, 'acq': 1, 'computer': 7, 'terminal': 6, 'systems': 2, 'cpml': 1, 'completes': 1, 'sale': 2, 'it': 4, 'has': 2, 'completed': 1, 'and': 9, 'warrants': 3, 'acquire': 1, 'additional': 2, 'sedio': 2, 'n': 1, 'v': 1, 'lugano': 1, 'switzerland': 1, 'dlrs': 8, 'are': 1, 'exercisable': 2, 'years': 1, 'purchase': 1, 'price': 3, 'per': 4, 'share': 2, 'right': 1, 'buy': 1, 'total': 1, 'holdings': 1, 'up': 1, 'pct': 2, 's': 2, 'outstanding': 1, 'under': 1, 'certain': 1, 'circumstances': 1, 'involving': 1, 'change': 1, 'control': 1, 'if': 1, 'conditions': 1, 'occur': 1, 'would': 3, 'be': 2, 'equal': 1, 'market': 1, 'time': 1, 'not': 2, 'exceed': 1, 'sold': 1, 'technolgy': 1, 'rights': 1, 'dot': 1, 'matrix': 1, 'impact': 1, 'technology': 2, 'including': 1, 'any': 1, 'future': 1, 'improvements': 1, 'woodco': 2, 'houston': 1, 'tex': 1, 'but': 1, 'continue': 1, 'exclusive': 1, 'worldwide': 1, 'licensee': 1, 'moves': 1, 'were': 1, 'part': 1, 'reorganization': 1, 'plan': 1, 'help': 1, 'pay': 1, 'current': 1, 'operation': 1, 'costs': 1, 'ensure': 1, 'product': 1, 'delivery': 1, 'makes': 1, 'generated': 1, 'labels': 1, 'forms': 1, 'tags': 1, 'ticket': 1, 'printers': 1, 'terminals': 1, 'cobanco': 1, 'cbco': 1, 'year': 2, 'net': 6, 'shr': 8, 'cts': 10, 'vs': 20, 'assets': 1, 'deposits': 1, 'loans': 1, 'note': 2, 'th': 2, 'qtr': 4, 'available': 1, 'includes': 1, 'extraordinary': 1, 'gain': 1, 'tax': 1, 'carry': 1, 'forward': 1, 'or': 5, 'am': 2, 'international': 1, 'nd': 1, 'jan': 1, 'oper': 4, 'loss': 2, 'profit': 7, 'seven': 1, 'revs': 4, 'avg': 2, 'shrs': 2, 'six': 3, 'mths': 3, 'nil': 1, 'calculated': 1, 'after': 1, 'payment': 1, 'preferred': 1, 'dividends': 1, 'results': 1, 'exclude': 1, 'credits': 1, 'four': 1, 'nine': 2, 'prior': 1, 'periods': 1, 'operating': 1, 'carryforwards': 1, 'brown': 1, 'forman': 1, 'bfd': 1, 'dlr': 1, 'billion': 1}\n"
          ],
          "name": "stdout"
        }
      ]
    },
    {
      "cell_type": "code",
      "metadata": {
        "id": "hWqRrloMEuW9"
      },
      "source": [
        "# 노가다로 초기화 하는 버전\n",
        "\n",
        "#딕셔너리 생성\n",
        "word_Dict = {}\n",
        "\n",
        "#\n",
        "for word in news_list:\n",
        "  word_Dict[word] = 0\n",
        "\n",
        "for word in news_list:\n",
        "  word_Dict[word] += 1\n",
        "\n",
        "print(word_Dict)"
      ],
      "execution_count": null,
      "outputs": []
    },
    {
      "cell_type": "code",
      "metadata": {
        "id": "Kwu4qUd-FMPT"
      },
      "source": [
        "# (OPTIONAL Version) 심화 버전 (OPTIONAL Version) 심화 버전\n",
        "from collections import defaultdict\n",
        "\n",
        "word_Dict = defaultdict(int)\n",
        "\n",
        "for word in news_list:\n",
        "  word_Dict[word] += 1\n",
        "\n",
        "  print(word_Dict)\n",
        "from collections import defaultdict\n",
        "\n",
        "word_Dict = defaultdict(int)\n",
        "\n",
        "for word in news_list:\n",
        "  word_Dict[word] += 1\n",
        "\n",
        "print(word_Dict)"
      ],
      "execution_count": null,
      "outputs": []
    }
  ]
}