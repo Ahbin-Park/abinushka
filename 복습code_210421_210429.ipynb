{
  "nbformat": 4,
  "nbformat_minor": 0,
  "metadata": {
    "colab": {
      "name": "복습code_210421-210429.ipynb",
      "provenance": [],
      "authorship_tag": "ABX9TyOgZKZw+z1tpd8FBWvlfbB1",
      "include_colab_link": true
    },
    "kernelspec": {
      "name": "python3",
      "display_name": "Python 3"
    },
    "language_info": {
      "name": "python"
    }
  },
  "cells": [
    {
      "cell_type": "markdown",
      "metadata": {
        "id": "view-in-github",
        "colab_type": "text"
      },
      "source": [
        "<a href=\"https://colab.research.google.com/github/Ahbin-Park/beluga/blob/main/%EB%B3%B5%EC%8A%B5code_210421_210429.ipynb\" target=\"_parent\"><img src=\"https://colab.research.google.com/assets/colab-badge.svg\" alt=\"Open In Colab\"/></a>"
      ]
    },
    {
      "cell_type": "code",
      "metadata": {
        "colab": {
          "base_uri": "https://localhost:8080/"
        },
        "id": "Fl5zAyB3j77K",
        "outputId": "4b1ca58b-3261-4473-adf2-b4151b53acef"
      },
      "source": [
        "q = [30, 10, 20, 50, 40, 60]\n",
        "\n",
        "print(q.pop(2))"
      ],
      "execution_count": null,
      "outputs": [
        {
          "output_type": "stream",
          "text": [
            "20\n"
          ],
          "name": "stdout"
        }
      ]
    }
  ]
}