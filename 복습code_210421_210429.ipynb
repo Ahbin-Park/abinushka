{
  "nbformat": 4,
  "nbformat_minor": 0,
  "metadata": {
    "colab": {
      "name": "복습code_210421-210429.ipynb",
      "provenance": [],
      "collapsed_sections": [],
      "authorship_tag": "ABX9TyNU7Wu427qHftxR5C33QFD9",
      "include_colab_link": true
    },
    "kernelspec": {
      "name": "python3",
      "display_name": "Python 3"
    },
    "language_info": {
      "name": "python"
    }
  },
  "cells": [
    {
      "cell_type": "markdown",
      "metadata": {
        "id": "view-in-github",
        "colab_type": "text"
      },
      "source": [
        "<a href=\"https://colab.research.google.com/github/Ahbin-Park/beluga/blob/main/%EB%B3%B5%EC%8A%B5code_210421_210429.ipynb\" target=\"_parent\"><img src=\"https://colab.research.google.com/assets/colab-badge.svg\" alt=\"Open In Colab\"/></a>"
      ]
    },
    {
      "cell_type": "markdown",
      "metadata": {
        "id": "9nDvJIdgw6F7"
      },
      "source": [
        "### string"
      ]
    },
    {
      "cell_type": "code",
      "metadata": {
        "colab": {
          "base_uri": "https://localhost:8080/"
        },
        "id": "jmRkewomvDlU",
        "outputId": "f3c3d503-4acb-4d65-84f4-7abe0bf7f8c2"
      },
      "source": [
        "c = '''Hello\n",
        "World'''\n",
        "\n",
        "d = \"\"\"Hello\n",
        "World\"\"\"\n",
        "\n",
        "print(c)\n",
        "print(d)"
      ],
      "execution_count": null,
      "outputs": [
        {
          "output_type": "stream",
          "text": [
            "Hello\n",
            "World\n",
            "Hello\n",
            "World\n"
          ],
          "name": "stdout"
        }
      ]
    },
    {
      "cell_type": "code",
      "metadata": {
        "colab": {
          "base_uri": "https://localhost:8080/",
          "height": 134
        },
        "id": "lDYhfnofw2Z8",
        "outputId": "907b7a2b-4e0d-4068-cc58-b50b2ff6517c"
      },
      "source": [
        "#escape string\n",
        " print('Hello world\\n\\n') #\\n (new line)\n",
        " print('Ha\\thahaha') #\\t (tab)"
      ],
      "execution_count": null,
      "outputs": [
        {
          "output_type": "error",
          "ename": "IndentationError",
          "evalue": "ignored",
          "traceback": [
            "\u001b[0;36m  File \u001b[0;32m\"<ipython-input-1-52f406bee384>\"\u001b[0;36m, line \u001b[0;32m2\u001b[0m\n\u001b[0;31m    print('Hello world\\n\\n') #\\n (new line)\u001b[0m\n\u001b[0m    ^\u001b[0m\n\u001b[0;31mIndentationError\u001b[0m\u001b[0;31m:\u001b[0m unexpected indent\n"
          ]
        }
      ]
    },
    {
      "cell_type": "code",
      "metadata": {
        "colab": {
          "base_uri": "https://localhost:8080/"
        },
        "id": "FT-TZFrgyRsW",
        "outputId": "e1303bb1-a845-4f42-f1ac-2bcc47425ca2"
      },
      "source": [
        "#indexing & slicing string\n",
        "a = 'Hello World'\n",
        "print(a[3])\n",
        "\n",
        "print(a[0:4])\n",
        "print(a[:4])"
      ],
      "execution_count": null,
      "outputs": [
        {
          "output_type": "stream",
          "text": [
            "l\n",
            "Hell\n",
            "Hell\n"
          ],
          "name": "stdout"
        }
      ]
    },
    {
      "cell_type": "markdown",
      "metadata": {
        "id": "2lEAthvKHGIp"
      },
      "source": [
        "**문자열함수**\n",
        "- replace('a','b') : a -> b\n",
        "- format\n",
        "- split"
      ]
    },
    {
      "cell_type": "code",
      "metadata": {
        "colab": {
          "base_uri": "https://localhost:8080/",
          "height": 38
        },
        "id": "8e5-dt5PyRx-",
        "outputId": "ae4f332f-0e7e-47ba-91de-0af798b34a57"
      },
      "source": [
        "a = 'hello world'\n",
        "a.replace('h', 'b')"
      ],
      "execution_count": null,
      "outputs": [
        {
          "output_type": "execute_result",
          "data": {
            "application/vnd.google.colaboratory.intrinsic+json": {
              "type": "string"
            },
            "text/plain": [
              "'bello world'"
            ]
          },
          "metadata": {
            "tags": []
          },
          "execution_count": 3
        }
      ]
    },
    {
      "cell_type": "code",
      "metadata": {
        "colab": {
          "base_uri": "https://localhost:8080/"
        },
        "id": "KiWF_AxUyR1d",
        "outputId": "644cdafd-5214-48b6-e1c9-24ed9938a0fa"
      },
      "source": [
        "temperature = 25.5\n",
        "prob = 80.0\n",
        "\n",
        "a = \"today's temperature is {}, and {} % possibility of rain.\".format(temperature, prob)\n",
        "print(a)"
      ],
      "execution_count": null,
      "outputs": [
        {
          "output_type": "stream",
          "text": [
            "today's temperature is 25.5, 80.0 % possibility of rain.\n"
          ],
          "name": "stdout"
        }
      ]
    },
    {
      "cell_type": "code",
      "metadata": {
        "colab": {
          "base_uri": "https://localhost:8080/"
        },
        "id": "4cPYwzrpJr3B",
        "outputId": "653611ec-164c-47f6-bb7c-e51ed754c0c4"
      },
      "source": [
        "a = 'hello world what a nice weather'\n",
        "a.split('w')"
      ],
      "execution_count": null,
      "outputs": [
        {
          "output_type": "execute_result",
          "data": {
            "text/plain": [
              "['hello ', 'orld ', 'hat a nice ', 'eather']"
            ]
          },
          "metadata": {
            "tags": []
          },
          "execution_count": 9
        }
      ]
    },
    {
      "cell_type": "markdown",
      "metadata": {
        "id": "MR870ZIxRnlY"
      },
      "source": [
        "### dictionary"
      ]
    },
    {
      "cell_type": "code",
      "metadata": {
        "id": "irbOtFjNJr5s",
        "colab": {
          "base_uri": "https://localhost:8080/"
        },
        "outputId": "3be4f435-396d-4c2c-ff85-4c832575d88d"
      },
      "source": [
        "a = {'Korea':'Seoul', 'Canada':'Ottawa', 'USA':'Washington D.C'}\n",
        "b = {0:1, 1:6}\n",
        "print(b)"
      ],
      "execution_count": null,
      "outputs": [
        {
          "output_type": "stream",
          "text": [
            "{0: 1, 1: 6}\n"
          ],
          "name": "stdout"
        }
      ]
    },
    {
      "cell_type": "code",
      "metadata": {
        "id": "_72MWERcyR6U",
        "colab": {
          "base_uri": "https://localhost:8080/"
        },
        "outputId": "26cecf5f-8d69-4336-b08d-1ed3565339a8"
      },
      "source": [
        "#. key 업데이트\n",
        "a = {'Korea':'Seoul',\n",
        "     'Canada':'Ottawa',\n",
        "     'USA':'Washington D.C'}\n",
        "\n",
        "a['Japan'] = 'Tokyo'\n",
        "a['Japan'] = 'Kyoto'\n",
        "a['Japan2'] = 'Kyoto'\n",
        "a['China'] = 'Beijing'\n",
        "\n",
        "print(a)"
      ],
      "execution_count": null,
      "outputs": [
        {
          "output_type": "stream",
          "text": [
            "{'Korea': 'Seoul', 'Canada': 'Ottawa', 'USA': 'Washington D.C', 'Japan': 'Kyoto', 'Japan2': 'Kyoto', 'China': 'Beijing'}\n"
          ],
          "name": "stdout"
        }
      ]
    },
    {
      "cell_type": "markdown",
      "metadata": {
        "id": "tYtG6hiYj8lP"
      },
      "source": [
        "**update**\n",
        "- 두 딕셔너리의 병합\n",
        "- 겹치는 key 생길 시 parameter로 전달되는 키 값이 overwrite 된다\n",
        "- key 값 지울 때 (a.pop(index) 혹은 del a['key'])"
      ]
    },
    {
      "cell_type": "code",
      "metadata": {
        "colab": {
          "base_uri": "https://localhost:8080/"
        },
        "id": "v_kVlPSgjh_e",
        "outputId": "8e08aa9e-eb52-4dc5-e548-010d3fedb3b7"
      },
      "source": [
        "a = {'a':1 , 'b':2, 'c':3}\n",
        "print(a)\n",
        "\n",
        "#key를 삭제할 때\n",
        "a.pop('b')\n",
        "print(a)\n",
        "del a['c']\n",
        "print(a)"
      ],
      "execution_count": null,
      "outputs": [
        {
          "output_type": "stream",
          "text": [
            "{'a': 1, 'b': 2, 'c': 3}\n",
            "{'a': 1, 'c': 3}\n",
            "{'a': 1}\n"
          ],
          "name": "stdout"
        }
      ]
    },
    {
      "cell_type": "code",
      "metadata": {
        "colab": {
          "base_uri": "https://localhost:8080/"
        },
        "id": "5qFJS8vnj2PI",
        "outputId": "65cff755-3853-4bbc-bbd2-d4e3e2a2e1eb"
      },
      "source": [
        "#key값 존재 확인\n",
        "a = {'a' :1, 'b':2, 'c':3}\n",
        "b={1,2,3,4,5,6,7,8,9,10,100}\n",
        "print(100 in b)\n",
        "print(2 in a)\n",
        "print('a' in a)"
      ],
      "execution_count": null,
      "outputs": [
        {
          "output_type": "stream",
          "text": [
            "True\n",
            "False\n",
            "True\n"
          ],
          "name": "stdout"
        }
      ]
    },
    {
      "cell_type": "markdown",
      "metadata": {
        "id": "z7bI2tOKspxE"
      },
      "source": [
        "### key, values 접근\n",
        "- keys() : 키만 반환\n",
        "- values() : 값만 반환\n",
        "- items() : 키, 값의 튜플 반환"
      ]
    },
    {
      "cell_type": "code",
      "metadata": {
        "colab": {
          "base_uri": "https://localhost:8080/"
        },
        "id": "BGRUVtZXjiBh",
        "outputId": "eec5e02a-b30e-402a-bf18-184ffec5950c"
      },
      "source": [
        "print(a)\n",
        "print(list(a.keys()))\n",
        "print(list(a.values()))\n",
        "list(a.items())"
      ],
      "execution_count": null,
      "outputs": [
        {
          "output_type": "stream",
          "text": [
            "{'a': 1, 'b': 2, 'c': 3}\n",
            "['a', 'b', 'c']\n",
            "[1, 2, 3]\n"
          ],
          "name": "stdout"
        },
        {
          "output_type": "execute_result",
          "data": {
            "text/plain": [
              "[('a', 1), ('b', 2), ('c', 3)]"
            ]
          },
          "metadata": {
            "tags": []
          },
          "execution_count": 13
        }
      ]
    },
    {
      "cell_type": "markdown",
      "metadata": {
        "id": "pSks9uJTtIRE"
      },
      "source": [
        "### set : 수학에서의 집합과 동일 개념, dictionary 에서 key만 활용하는 데이터 구조\n",
        "- set()"
      ]
    },
    {
      "cell_type": "code",
      "metadata": {
        "colab": {
          "base_uri": "https://localhost:8080/"
        },
        "id": "TPCXx4vWtGvU",
        "outputId": "86e314db-56bf-4a7f-d856-e78725fd526f"
      },
      "source": [
        "a = {1,1,2,3,3,4,1,6}\n",
        "print(a)"
      ],
      "execution_count": null,
      "outputs": [
        {
          "output_type": "stream",
          "text": [
            "{1, 2, 3, 4, 6}\n"
          ],
          "name": "stdout"
        }
      ]
    },
    {
      "cell_type": "code",
      "metadata": {
        "colab": {
          "base_uri": "https://localhost:8080/"
        },
        "id": "gaUaNyUGtG0J",
        "outputId": "ed41fc5d-ab9e-4dbb-a7b9-b63daa74b3d5"
      },
      "source": [
        "a = [1,1,2,3,3,4,1,6]\n",
        "print(a)\n",
        "print(type(a))\n",
        "\n",
        "b=set(a)\n",
        "print(b)\n",
        "print(type(b))"
      ],
      "execution_count": null,
      "outputs": [
        {
          "output_type": "stream",
          "text": [
            "[1, 1, 2, 3, 3, 4, 1, 6]\n",
            "<class 'list'>\n",
            "{1, 2, 3, 4, 6}\n",
            "<class 'set'>\n"
          ],
          "name": "stdout"
        }
      ]
    },
    {
      "cell_type": "markdown",
      "metadata": {
        "id": "xuqxovymtw5M"
      },
      "source": [
        "- set operations : 수학 연산과 동일 / 교집합, 합집합, 차집합 등"
      ]
    },
    {
      "cell_type": "code",
      "metadata": {
        "id": "vJFy-WFNtwcd"
      },
      "source": [
        "a = {1,2,3}\n",
        "b = {2,3,4}"
      ],
      "execution_count": null,
      "outputs": []
    },
    {
      "cell_type": "markdown",
      "metadata": {
        "id": "_SoPyXjxN_3D"
      },
      "source": [
        "## list, tuple"
      ]
    },
    {
      "cell_type": "markdown",
      "metadata": {
        "id": "4STCapQMO-wl"
      },
      "source": [
        "- list() : transform to list type"
      ]
    },
    {
      "cell_type": "code",
      "metadata": {
        "colab": {
          "base_uri": "https://localhost:8080/"
        },
        "id": "7k2-gdjwPEoi",
        "outputId": "198f4836-e5d2-4f50-fabf-9bbd82c6da5b"
      },
      "source": [
        "a = 'hello world'\n",
        "b = list(a)\n",
        "print(b)"
      ],
      "execution_count": null,
      "outputs": [
        {
          "output_type": "stream",
          "text": [
            "['h', 'e', 'l', 'l', 'o', ' ', 'w', 'o', 'r', 'l', 'd']\n"
          ],
          "name": "stdout"
        }
      ]
    },
    {
      "cell_type": "code",
      "metadata": {
        "colab": {
          "base_uri": "https://localhost:8080/"
        },
        "id": "ZHrxHmY8PJ6e",
        "outputId": "7a85fd39-3312-4018-e551-667c7e6e05f8"
      },
      "source": [
        "c = (1,2,3)\n",
        "d = list(c)\n",
        "print(d)"
      ],
      "execution_count": null,
      "outputs": [
        {
          "output_type": "stream",
          "text": [
            "[1, 2, 3]\n"
          ],
          "name": "stdout"
        }
      ]
    },
    {
      "cell_type": "markdown",
      "metadata": {
        "id": "0cOfEzcpPVYg"
      },
      "source": [
        "- string split"
      ]
    },
    {
      "cell_type": "code",
      "metadata": {
        "colab": {
          "base_uri": "https://localhost:8080/"
        },
        "id": "QRXPnssfPUvx",
        "outputId": "1d0c980d-8afc-41ea-8ed6-789f8cd14dea"
      },
      "source": [
        "a = 'hello world nice weather'\n",
        "b = a.split()\n",
        "print(b)\n",
        "\n",
        "c = a.split('w')\n",
        "print(c)"
      ],
      "execution_count": null,
      "outputs": [
        {
          "output_type": "stream",
          "text": [
            "['hello', 'world', 'nice', 'weather']\n",
            "['hello ', 'orld nice ', 'eather']\n"
          ],
          "name": "stdout"
        }
      ]
    },
    {
      "cell_type": "markdown",
      "metadata": {
        "id": "6UhN0sYLPp34"
      },
      "source": [
        "- indexing : list[n]\n",
        "- slicing : a[n1:n2] [:] [n: ] [ :n]"
      ]
    },
    {
      "cell_type": "code",
      "metadata": {
        "colab": {
          "base_uri": "https://localhost:8080/"
        },
        "id": "d2fY-RStPofZ",
        "outputId": "3c637d35-f814-44b8-c4f0-dad60628654e"
      },
      "source": [
        "a = [1,2,3,4,5,6,7]\n",
        "print(a[3])\n",
        "print(a[1:3])\n",
        "print(a[:3])"
      ],
      "execution_count": null,
      "outputs": [
        {
          "output_type": "stream",
          "text": [
            "4\n",
            "[2, 3]\n",
            "[1, 2, 3]\n"
          ],
          "name": "stdout"
        }
      ]
    },
    {
      "cell_type": "markdown",
      "metadata": {
        "id": "l8hWvRbQPyQJ"
      },
      "source": [
        "### list function\n",
        "- append()\n",
        "- extend()"
      ]
    },
    {
      "cell_type": "code",
      "metadata": {
        "colab": {
          "base_uri": "https://localhost:8080/"
        },
        "id": "_8hJKAYHRd4V",
        "outputId": "f17ca273-4e24-49d4-a07a-e71c93c84cb8"
      },
      "source": [
        "#append\n",
        "a = [1,2,3,4,5]\n",
        "a.append(10)\n",
        "a"
      ],
      "execution_count": null,
      "outputs": [
        {
          "output_type": "execute_result",
          "data": {
            "text/plain": [
              "[1, 2, 3, 4, 5, 10]"
            ]
          },
          "metadata": {
            "tags": []
          },
          "execution_count": 6
        }
      ]
    },
    {
      "cell_type": "code",
      "metadata": {
        "colab": {
          "base_uri": "https://localhost:8080/"
        },
        "id": "F2c3U_KmRd1P",
        "outputId": "309e6327-2432-4315-96ed-8b10dff2291e"
      },
      "source": [
        "#extend\n",
        "a = [1,2,3,4,5]\n",
        "b = [6,7,8,9,10]\n",
        "\n",
        "a.extend(b)\n",
        "a"
      ],
      "execution_count": null,
      "outputs": [
        {
          "output_type": "stream",
          "text": [
            "[1, 2, 3, 4, 5, 6, 7, 8, 9, 10, 6, 7, 8, 9, 10]\n"
          ],
          "name": "stdout"
        }
      ]
    },
    {
      "cell_type": "code",
      "metadata": {
        "colab": {
          "base_uri": "https://localhost:8080/"
        },
        "id": "OBzbnwrOR3HJ",
        "outputId": "a8dfc660-4163-4525-d4d0-52ce29da979a"
      },
      "source": [
        "a = [1,2,3,4,5]\n",
        "b = [6,7,8,9,10]\n",
        "\n",
        "a += b\n",
        "print(a)"
      ],
      "execution_count": null,
      "outputs": [
        {
          "output_type": "stream",
          "text": [
            "[1, 2, 3, 4, 5, 6, 7, 8, 9, 10]\n"
          ],
          "name": "stdout"
        }
      ]
    },
    {
      "cell_type": "markdown",
      "metadata": {
        "id": "v58gAKtsSVKn"
      },
      "source": [
        "- insert() : list.insert(index, item)"
      ]
    },
    {
      "cell_type": "code",
      "metadata": {
        "colab": {
          "base_uri": "https://localhost:8080/"
        },
        "id": "1KfT0CSuSZXw",
        "outputId": "4aa1ed73-a49b-4e5b-d73c-20e8e3b3081a"
      },
      "source": [
        "a = [1,2,3,6,8]\n",
        "a.insert(3, 27)\n",
        "a"
      ],
      "execution_count": null,
      "outputs": [
        {
          "output_type": "execute_result",
          "data": {
            "text/plain": [
              "[1, 2, 3, 27, 6, 8]"
            ]
          },
          "metadata": {
            "tags": []
          },
          "execution_count": 16
        }
      ]
    },
    {
      "cell_type": "markdown",
      "metadata": {
        "id": "74TfoJ5KSxbI"
      },
      "source": [
        "- remove() : remove(item)"
      ]
    },
    {
      "cell_type": "code",
      "metadata": {
        "colab": {
          "base_uri": "https://localhost:8080/"
        },
        "id": "koLDujB0S13t",
        "outputId": "d6bff484-1feb-452a-b8fa-b44ae997f0a0"
      },
      "source": [
        "a = [1,2,3,4]\n",
        "a.remove(3)\n",
        "a"
      ],
      "execution_count": null,
      "outputs": [
        {
          "output_type": "execute_result",
          "data": {
            "text/plain": [
              "[1, 2, 4]"
            ]
          },
          "metadata": {
            "tags": []
          },
          "execution_count": 18
        }
      ]
    },
    {
      "cell_type": "markdown",
      "metadata": {
        "id": "akphfwIvSxTN"
      },
      "source": [
        "- pop() : list.pop(index)"
      ]
    },
    {
      "cell_type": "code",
      "metadata": {
        "colab": {
          "base_uri": "https://localhost:8080/"
        },
        "id": "wUukDx2VSwZy",
        "outputId": "e57c4af5-04e9-41e5-969f-968c3100d12f"
      },
      "source": [
        "a = [1,2,3,4,5]\n",
        "b = a.pop(4)\n",
        "print(a)\n",
        "print(b)"
      ],
      "execution_count": null,
      "outputs": [
        {
          "output_type": "stream",
          "text": [
            "[1, 2, 3, 4]\n",
            "5\n"
          ],
          "name": "stdout"
        }
      ]
    },
    {
      "cell_type": "markdown",
      "metadata": {
        "id": "kNo5LomLTUeb"
      },
      "source": [
        "- index() : list.index(item)"
      ]
    },
    {
      "cell_type": "code",
      "metadata": {
        "colab": {
          "base_uri": "https://localhost:8080/"
        },
        "id": "Ndf0xm2wSZsT",
        "outputId": "afa573f3-5ecd-4537-ed99-b357250144a0"
      },
      "source": [
        "a = [3,4,5]\n",
        "a.index(3)\n",
        "print(a)"
      ],
      "execution_count": null,
      "outputs": [
        {
          "output_type": "stream",
          "text": [
            "[3, 4, 5]\n"
          ],
          "name": "stdout"
        }
      ]
    },
    {
      "cell_type": "markdown",
      "metadata": {
        "id": "GbiiUj5ETiKn"
      },
      "source": [
        "### else\n",
        "- in keyword : value in [list]\n",
        "- sort() : 정렬"
      ]
    },
    {
      "cell_type": "code",
      "metadata": {
        "colab": {
          "base_uri": "https://localhost:8080/"
        },
        "id": "QrDLg1axSaBo",
        "outputId": "9ea15c07-23e9-47be-e9bd-5e6f8acdf068"
      },
      "source": [
        "a = [1,3,5,20,4,64]\n",
        "6 in a\n",
        "1 in a"
      ],
      "execution_count": null,
      "outputs": [
        {
          "output_type": "execute_result",
          "data": {
            "text/plain": [
              "True"
            ]
          },
          "metadata": {
            "tags": []
          },
          "execution_count": 23
        }
      ]
    },
    {
      "cell_type": "code",
      "metadata": {
        "colab": {
          "base_uri": "https://localhost:8080/"
        },
        "id": "Wvb_jKj_Tz5B",
        "outputId": "86d13253-0ca5-4e8b-d81e-ee5255c8def8"
      },
      "source": [
        "a.sort()\n",
        "a"
      ],
      "execution_count": null,
      "outputs": [
        {
          "output_type": "execute_result",
          "data": {
            "text/plain": [
              "[1, 3, 4, 5, 20, 64]"
            ]
          },
          "metadata": {
            "tags": []
          },
          "execution_count": 26
        }
      ]
    },
    {
      "cell_type": "markdown",
      "metadata": {
        "id": "Gn75G-8wUDhi"
      },
      "source": [
        "### tuple : 변경 불가능"
      ]
    },
    {
      "cell_type": "markdown",
      "metadata": {
        "id": "QgY0coJaUVxu"
      },
      "source": [
        "## 조건문/반복문"
      ]
    },
    {
      "cell_type": "markdown",
      "metadata": {
        "id": "tl5NpQ7mUyiw"
      },
      "source": [
        "### condition\n",
        "- 특정 조건을 만족하는 경우에만 수행할 작업이 있는 경우 사용\n",
        "- 모든 조건은 boolean으로 표현\n",
        "- if, elif, else\n",
        "- 조건문의 경우 if, elif, else 블록에 종속된 코드는 들여쓰기로 표현 가능\n",
        "- 들여쓰기 된 코드를 블록(block), 또는 코드블록이라고 함\n",
        "- python에서 모든 블록의 시작점의 마지막에는 :(콜론, colon) 추가가 필요"
      ]
    },
    {
      "cell_type": "code",
      "metadata": {
        "colab": {
          "base_uri": "https://localhost:8080/"
        },
        "id": "HC8N45Dlr8l4",
        "outputId": "636f9c57-632b-41c5-8375-0266984db4a8"
      },
      "source": [
        "if 6>=5:\n",
        "  print('6 is greater than 5')\n",
        "  print('Yeah, it is true')\n",
        "  print('This code is not belongs to if statements') "
      ],
      "execution_count": null,
      "outputs": [
        {
          "output_type": "stream",
          "text": [
            "6 is greater than 5\n",
            "Yeah, it is true\n",
            "This code is not belongs to if statements\n"
          ],
          "name": "stdout"
        }
      ]
    },
    {
      "cell_type": "code",
      "metadata": {
        "colab": {
          "base_uri": "https://localhost:8080/"
        },
        "id": "J_BfivFeUwNa",
        "outputId": "80572070-7e6a-4f07-90c7-3b1fb03028df"
      },
      "source": [
        "if 6==5:\n",
        "  print('a')\n",
        "  print('b')\n",
        "print('c')"
      ],
      "execution_count": null,
      "outputs": [
        {
          "output_type": "stream",
          "text": [
            "c\n"
          ],
          "name": "stdout"
        }
      ]
    },
    {
      "cell_type": "markdown",
      "metadata": {
        "id": "D8BaPoriu-QI"
      },
      "source": [
        "logical AND, OR, NOT"
      ]
    },
    {
      "cell_type": "code",
      "metadata": {
        "id": "c8uyUPM6Uw24"
      },
      "source": [
        "a = 10\n",
        "b = 8\n",
        "c = 11\n",
        "\n",
        "if (a==10 or b==9) and c ==12:\n",
        "  print('that is true')\n",
        "\n",
        "if not a ==10:\n",
        "  print('a is ten')"
      ],
      "execution_count": null,
      "outputs": []
    },
    {
      "cell_type": "code",
      "metadata": {
        "id": "rYby4Lj3UxAN"
      },
      "source": [
        "#if 조건이 bool이 아닌 경우"
      ],
      "execution_count": null,
      "outputs": []
    },
    {
      "cell_type": "code",
      "metadata": {
        "id": "nZhul64-vkMI"
      },
      "source": [
        "a=[]\n",
        "if a :\n",
        "  print('print')"
      ],
      "execution_count": null,
      "outputs": []
    },
    {
      "cell_type": "markdown",
      "metadata": {
        "id": "-RuDZvBOvsRi"
      },
      "source": [
        "- if, else"
      ]
    },
    {
      "cell_type": "code",
      "metadata": {
        "colab": {
          "base_uri": "https://localhost:8080/"
        },
        "id": "FYTR_c9HUxKf",
        "outputId": "fe4ae2a9-1ab9-43aa-efae-0431017148fe"
      },
      "source": [
        "a = 12\n",
        "if a % 2 == 0 :\n",
        "  print(a/2)\n",
        "else:\n",
        "  print(a+1)"
      ],
      "execution_count": null,
      "outputs": [
        {
          "output_type": "stream",
          "text": [
            "6.0\n"
          ],
          "name": "stdout"
        }
      ]
    },
    {
      "cell_type": "markdown",
      "metadata": {
        "id": "mUwF3TB2wSFR"
      },
      "source": [
        "- if, elif, else"
      ]
    },
    {
      "cell_type": "code",
      "metadata": {
        "id": "rUzZ0aGGwUHk"
      },
      "source": [
        "a = 17\n",
        "if a % 4 == 0:\n",
        "  print 'a is divisible by 4'\n",
        "elif a % 4 == 1:\n",
        "  print('a % 4 is 1')\n",
        "elif a % 4 == 1:\n",
        "  print('a % 4 is 2')\n",
        "else:\n",
        "  print('a % 4 is 3')"
      ],
      "execution_count": null,
      "outputs": []
    },
    {
      "cell_type": "markdown",
      "metadata": {
        "id": "0dkdH9DBwyUe"
      },
      "source": [
        "# loop (while, for)\n",
        "- 특정 조건을 만족하는 경우 수행할 수 있음 (while)\n",
        "- 리스트, 문자열, 튜플 등 컬렉션 타입의 아이템을 하나씩 순회하면서 사용 가능 (for)"
      ]
    },
    {
      "cell_type": "markdown",
      "metadata": {
        "id": "boywekrsmmkN"
      },
      "source": [
        "### WHILE"
      ]
    },
    {
      "cell_type": "code",
      "metadata": {
        "colab": {
          "base_uri": "https://localhost:8080/"
        },
        "id": "JtSOzQK5wyEW",
        "outputId": "2f99578f-bcbb-4b2a-cdd9-bbf8530e796e"
      },
      "source": [
        "#while\n",
        "\n",
        "a = [1,10,9,24]\n",
        "\n",
        "i = 0\n",
        "while i < len(a):\n",
        "  print('value: ', a[i], ', index: ', i)\n",
        "  i += 1\n",
        "print('hahaha')"
      ],
      "execution_count": null,
      "outputs": [
        {
          "output_type": "stream",
          "text": [
            "value:  1 , index:  0\n",
            "value:  10 , index:  1\n",
            "value:  9 , index:  2\n",
            "value:  24 , index:  3\n",
            "hahaha\n"
          ],
          "name": "stdout"
        }
      ]
    },
    {
      "cell_type": "code",
      "metadata": {
        "colab": {
          "base_uri": "https://localhost:8080/"
        },
        "id": "f_8LMDZ2wRla",
        "outputId": "ddeb0071-92a8-4167-efa6-e6cc3e8d12ec"
      },
      "source": [
        "a = [1,10,9,24,25,26]\n",
        "\n",
        "# print only odd numbers\n",
        "\n",
        "i=0\n",
        "while i < len(a):\n",
        "  if a[i] % 2:\n",
        "    print(a[i])\n",
        "  else:\n",
        "    print(a[i]/2)\n",
        "  i+=1"
      ],
      "execution_count": null,
      "outputs": [
        {
          "output_type": "stream",
          "text": [
            "1\n",
            "5.0\n",
            "9\n",
            "12.0\n",
            "25\n",
            "13.0\n"
          ],
          "name": "stdout"
        }
      ]
    },
    {
      "cell_type": "markdown",
      "metadata": {
        "id": "D9ngVQ9AyodF"
      },
      "source": [
        "- 무한 loop (while)\n",
        "- break = stop the loop"
      ]
    },
    {
      "cell_type": "code",
      "metadata": {
        "colab": {
          "base_uri": "https://localhost:8080/"
        },
        "id": "ODcQlMU1y2nR",
        "outputId": "ab203ea7-bd06-48af-9e0d-a16dacc58979"
      },
      "source": [
        "a = [1,9,10,24,25,26]\n",
        "\n",
        "i=0\n",
        "while i<len(a):\n",
        "  if a[i]>20:\n",
        "    break\n",
        "  print(a[i])\n",
        "\n",
        "  i += 1\n",
        "print('hahaha')"
      ],
      "execution_count": null,
      "outputs": [
        {
          "output_type": "stream",
          "text": [
            "1\n",
            "9\n",
            "10\n",
            "hahaha\n"
          ],
          "name": "stdout"
        }
      ]
    },
    {
      "cell_type": "markdown",
      "metadata": {
        "id": "pBvX-bu2y1RF"
      },
      "source": [
        "### FOR 문\n",
        "- 리스트, 문자열 등 순회하면서 값을 처리할 때 사용\n",
        "- *i는 매번 수행될 때마다, a의 아이템으로 순차적으로 변경됨\n",
        "\n",
        "```\n",
        "a = [1, 2, 4, 3, 5]\n",
        "for i in a:\n",
        "    print (i, i * 2)\n",
        "```\n",
        "\n"
      ]
    },
    {
      "cell_type": "code",
      "metadata": {
        "colab": {
          "base_uri": "https://localhost:8080/"
        },
        "id": "WHBQSbSTnOnO",
        "outputId": "39680c3d-9bfa-4f24-9521-f426ad8ad70e"
      },
      "source": [
        "a = [2,3,4,5,6]\n",
        "for number in a:\n",
        "  print(number)\n",
        "print('end')"
      ],
      "execution_count": 1,
      "outputs": [
        {
          "output_type": "stream",
          "text": [
            "2\n",
            "3\n",
            "4\n",
            "5\n",
            "6\n",
            "end\n"
          ],
          "name": "stdout"
        }
      ]
    },
    {
      "cell_type": "code",
      "metadata": {
        "colab": {
          "base_uri": "https://localhost:8080/"
        },
        "id": "3mHPho1bna1-",
        "outputId": "c78b544b-052b-44b5-8eaf-61bc31bdb441"
      },
      "source": [
        "#문자열의 아이템 출력하기\n",
        "\n",
        "for x in 'hello world':\n",
        "  print(x)\n",
        "\n",
        "a = 'hello world'\n",
        "for character in a:\n",
        "  print(character)"
      ],
      "execution_count": 4,
      "outputs": [
        {
          "output_type": "stream",
          "text": [
            "h\n",
            "e\n",
            "l\n",
            "l\n",
            "o\n",
            " \n",
            "w\n",
            "o\n",
            "r\n",
            "l\n",
            "d\n",
            "h\n",
            "e\n",
            "l\n",
            "l\n",
            "o\n",
            " \n",
            "w\n",
            "o\n",
            "r\n",
            "l\n",
            "d\n"
          ],
          "name": "stdout"
        }
      ]
    },
    {
      "cell_type": "markdown",
      "metadata": {
        "id": "O29ZnyHbyzDB"
      },
      "source": [
        "- list 아이템 출력하기"
      ]
    },
    {
      "cell_type": "code",
      "metadata": {
        "colab": {
          "base_uri": "https://localhost:8080/"
        },
        "id": "ZLm_1sHZnuQo",
        "outputId": "d748575a-b6a9-4cd7-9914-f52248de573e"
      },
      "source": [
        "a= [1,10,3,5,2]\n",
        "for num in a:\n",
        "  if num % 2 == 0:\n",
        "    print(num/2)\n",
        "  else:\n",
        "    print(num+1)"
      ],
      "execution_count": 5,
      "outputs": [
        {
          "output_type": "stream",
          "text": [
            "2\n",
            "5.0\n",
            "4\n",
            "6\n",
            "1.0\n"
          ],
          "name": "stdout"
        }
      ]
    },
    {
      "cell_type": "markdown",
      "metadata": {
        "id": "e88qIMBWn6MD"
      },
      "source": [
        "### dict 아이템 출력\n",
        "- key값을 기본적으로 참조하여 순회\n",
        "- keys() 함수를 이용해 key값만 순회 가능\n",
        "- values() 함수를 이용해 values 값만 순회 가능\n",
        "- items() 함수를 이용해 tuple 형태로 key, value 순회 가능 "
      ]
    },
    {
      "cell_type": "code",
      "metadata": {
        "colab": {
          "base_uri": "https://localhost:8080/"
        },
        "id": "158MXJftn7pQ",
        "outputId": "c3618cbf-20f1-44f7-f2c2-fdee08fa473e"
      },
      "source": [
        "a = {'korea':'seoul', 'japan':'tokyo', 'canada':'ottawa'}\n",
        "print(a['korea']) # key 값의 value 가져오기 (복습)\n",
        "\n",
        "for key in a:\n",
        "  print(key, ':', a[key])"
      ],
      "execution_count": 16,
      "outputs": [
        {
          "output_type": "stream",
          "text": [
            "seoul\n",
            "korea : seoul\n",
            "japan : tokyo\n",
            "canada : ottawa\n"
          ],
          "name": "stdout"
        }
      ]
    },
    {
      "cell_type": "code",
      "metadata": {
        "colab": {
          "base_uri": "https://localhost:8080/"
        },
        "id": "7l0ZATq4orEX",
        "outputId": "8dad9cbd-11d8-4476-dca9-a667b6da07c2"
      },
      "source": [
        "for key in a:\n",
        "  print(key)"
      ],
      "execution_count": 10,
      "outputs": [
        {
          "output_type": "stream",
          "text": [
            "korea\n",
            "japan\n",
            "canada\n"
          ],
          "name": "stdout"
        }
      ]
    },
    {
      "cell_type": "code",
      "metadata": {
        "colab": {
          "base_uri": "https://localhost:8080/"
        },
        "id": "775Xa6Lbou4_",
        "outputId": "73c7bbd7-cbc0-45f1-cc24-4e24b2ec62df"
      },
      "source": [
        "for value in a.values():\n",
        "  print(value)"
      ],
      "execution_count": 11,
      "outputs": [
        {
          "output_type": "stream",
          "text": [
            "seoul\n",
            "tokyo\n",
            "ottawa\n"
          ],
          "name": "stdout"
        }
      ]
    },
    {
      "cell_type": "code",
      "metadata": {
        "colab": {
          "base_uri": "https://localhost:8080/"
        },
        "id": "JC12_R-oou2b",
        "outputId": "3dce1a7d-32d6-4ea3-c82e-1ef12083cbf3"
      },
      "source": [
        "# key만 출력됨\n",
        "for i in a:\n",
        "  print(i)"
      ],
      "execution_count": 12,
      "outputs": [
        {
          "output_type": "stream",
          "text": [
            "korea\n",
            "japan\n",
            "canada\n"
          ],
          "name": "stdout"
        }
      ]
    },
    {
      "cell_type": "code",
      "metadata": {
        "colab": {
          "base_uri": "https://localhost:8080/"
        },
        "id": "PvS8b4rit48P",
        "outputId": "dc2ec263-04e6-4d15-99aa-922663ae2722"
      },
      "source": [
        "list(a.items())\n",
        "for key,value in a.items():\n",
        "  print(key, value)"
      ],
      "execution_count": 14,
      "outputs": [
        {
          "output_type": "stream",
          "text": [
            "korea seoul\n",
            "japan tokyo\n",
            "canada ottawa\n"
          ],
          "name": "stdout"
        }
      ]
    },
    {
      "cell_type": "markdown",
      "metadata": {
        "id": "-3Wfh4w6t23d"
      },
      "source": [
        "**for에서 index 사용하기**\n",
        "- 기본적으로 for에 리스트를 순회하는 경우, 값만 추출\n",
        "- 인덱스와 값을 모두 사용하려면? [enumerate 함수] 이용\n",
        "\n",
        "\n",
        "```\n",
        "a = [1,2,3,4,5]\n",
        "for i, val in enumerate(a):\n",
        "    print (i, val)\n",
        "```\n",
        "\n"
      ]
    },
    {
      "cell_type": "code",
      "metadata": {
        "colab": {
          "base_uri": "https://localhost:8080/"
        },
        "id": "P6XGq_Olud9k",
        "outputId": "f8171485-d6b6-4d15-ad68-9d51c12d5b95"
      },
      "source": [
        "a = [1,2,3,4,5]\n",
        "for i, val in enumerate(a):\n",
        "    print (i, val)"
      ],
      "execution_count": 19,
      "outputs": [
        {
          "output_type": "stream",
          "text": [
            "0 1\n",
            "1 2\n",
            "2 3\n",
            "3 4\n",
            "4 5\n"
          ],
          "name": "stdout"
        }
      ]
    },
    {
      "cell_type": "code",
      "metadata": {
        "id": "aAeZUIoevJFp"
      },
      "source": [
        "a = [1,2,3,4,5]\n",
        "for index, num in enumerate(a):\n",
        "  if index > 3:\n",
        "    print(index, num)"
      ],
      "execution_count": null,
      "outputs": []
    },
    {
      "cell_type": "markdown",
      "metadata": {
        "id": "2x-Lr2cyvo3H"
      },
      "source": [
        "**break**\n",
        "- for 의 경우에도 특정 조건일 때 loop 종료 가능"
      ]
    },
    {
      "cell_type": "code",
      "metadata": {
        "colab": {
          "base_uri": "https://localhost:8080/"
        },
        "id": "vpbolVP-vmgu",
        "outputId": "0bf9a44f-79e0-4fb3-96fd-f6231248d37c"
      },
      "source": [
        "a = [100, 90, 80, 70, 60, 50]\n",
        "for num in a:\n",
        "  if num < 80:\n",
        "    break\n",
        "  print(num)"
      ],
      "execution_count": 25,
      "outputs": [
        {
          "output_type": "stream",
          "text": [
            "100\n",
            "90\n",
            "80\n"
          ],
          "name": "stdout"
        }
      ]
    },
    {
      "cell_type": "markdown",
      "metadata": {
        "id": "JJe6WoJGwJAt"
      },
      "source": [
        "**continue**\n",
        "- 해당 아이템을 건너뛰고 싶을 때 사용"
      ]
    },
    {
      "cell_type": "code",
      "metadata": {
        "colab": {
          "base_uri": "https://localhost:8080/"
        },
        "id": "-FuEY9tcwMVC",
        "outputId": "d527350b-d756-4478-d2b0-481c1e8e7626"
      },
      "source": [
        "a = [100,90,80,70,60,50]\n",
        "for num in a:\n",
        "  if num >= 60 and num <= 70:  #이 조건에 해당하는 value를 제외하고 계속함\n",
        "    continue\n",
        "  print(num)"
      ],
      "execution_count": 26,
      "outputs": [
        {
          "output_type": "stream",
          "text": [
            "100\n",
            "90\n",
            "80\n",
            "50\n"
          ],
          "name": "stdout"
        }
      ]
    },
    {
      "cell_type": "markdown",
      "metadata": {
        "id": "M1WJxEVTwjwh"
      },
      "source": [
        "**loop중첩"
      ]
    },
    {
      "cell_type": "code",
      "metadata": {
        "id": "cELghhzbvmcZ"
      },
      "source": [
        ""
      ],
      "execution_count": null,
      "outputs": []
    }
  ]
}