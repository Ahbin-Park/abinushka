{
  "nbformat": 4,
  "nbformat_minor": 0,
  "metadata": {
    "colab": {
      "name": "Codeit_데이터사이언스_Topic5. 데이터 만들기 (1).ipynb",
      "provenance": [],
      "collapsed_sections": [
        "tEtTd6kOSZNX",
        "-V0ZNyJhStGl",
        "a3ZLh591V52_"
      ],
      "authorship_tag": "ABX9TyPrXKVnAH8jHGiQsNsiuNkj",
      "include_colab_link": true
    },
    "kernelspec": {
      "name": "python3",
      "display_name": "Python 3"
    },
    "language_info": {
      "name": "python"
    }
  },
  "cells": [
    {
      "cell_type": "markdown",
      "metadata": {
        "id": "view-in-github",
        "colab_type": "text"
      },
      "source": [
        "<a href=\"https://colab.research.google.com/github/Ahbin-Park/abinushka/blob/Python/Codeit_%EB%8D%B0%EC%9D%B4%ED%84%B0%EC%82%AC%EC%9D%B4%EC%96%B8%EC%8A%A4_Topic5_%EB%8D%B0%EC%9D%B4%ED%84%B0_%EB%A7%8C%EB%93%A4%EA%B8%B0(1).ipynb\" target=\"_parent\"><img src=\"https://colab.research.google.com/assets/colab-badge.svg\" alt=\"Open In Colab\"/></a>"
      ]
    },
    {
      "cell_type": "markdown",
      "metadata": {
        "id": "ZC_mMJg9F1kw"
      },
      "source": [
        "## 웹사이트에서 HTML 코드 받아오기"
      ]
    },
    {
      "cell_type": "code",
      "metadata": {
        "id": "LuRSW0RN-HSw"
      },
      "source": [
        "import requests"
      ],
      "execution_count": 1,
      "outputs": []
    },
    {
      "cell_type": "code",
      "metadata": {
        "colab": {
          "base_uri": "https://localhost:8080/"
        },
        "id": "L4spSXgj-LNr",
        "outputId": "1da77d16-dcb4-4f51-b72b-d6dcf70bb45b"
      },
      "source": [
        "page = requests.get(\"https://www.google.com\")\n",
        "type(page)"
      ],
      "execution_count": 2,
      "outputs": [
        {
          "output_type": "execute_result",
          "data": {
            "text/plain": [
              "requests.models.Response"
            ]
          },
          "metadata": {
            "tags": []
          },
          "execution_count": 2
        }
      ]
    },
    {
      "cell_type": "code",
      "metadata": {
        "colab": {
          "base_uri": "https://localhost:8080/"
        },
        "id": "jhazro5O-R_z",
        "outputId": "444f036f-ab8e-45b8-f5be-55bbb23267fa"
      },
      "source": [
        "print(page.text)"
      ],
      "execution_count": 4,
      "outputs": [
        {
          "output_type": "stream",
          "text": [
            "<!doctype html><html itemscope=\"\" itemtype=\"http://schema.org/WebPage\" lang=\"en\"><head><meta content=\"Search the world's information, including webpages, images, videos and more. Google has many special features to help you find exactly what you're looking for.\" name=\"description\"><meta content=\"noodp\" name=\"robots\"><meta content=\"text/html; charset=UTF-8\" http-equiv=\"Content-Type\"><meta content=\"/images/branding/googleg/1x/googleg_standard_color_128dp.png\" itemprop=\"image\"><title>Google</title><script nonce=\"8J3D2QxiF9+7vSUmg8VV0A==\">(function(){window.google={kEI:'josXYaS1GL6r5NoPytOLyAg',kEXPI:'0,18168,754047,1,530320,54246,2627,954,5105,206,4804,2316,383,246,5,1354,4936,314,1122516,1197747,536,328984,51224,16114,17444,1953,9287,17572,4858,1362,9290,3024,4751,12834,4020,978,13228,3847,4192,6430,1142,13385,235,4283,2779,917,5081,889,704,1279,2212,239,291,149,1103,841,1982,213,4101,108,3406,606,2023,2297,14670,2269,1,957,2845,7,4773,7581,5096,7876,5037,1483,1924,908,2,941,15324,432,3,1590,1,5445,148,11323,2652,4,1253,275,2304,1236,5226,577,74,1983,2627,2014,1300,2767,7434,3824,3050,2658,4164,78,3114,31,11413,2215,2305,638,37,1457,5586,3772,5993,1435,652,1869,3306,2530,4094,20,3120,5,612,295,3,3541,1,5349,9367,1,1807,283,38,874,5992,12346,2332,769,8,1,1272,1344,371,2,3057,5439,716,12,615,4,32,4,5396,4,674,442,342,255,55,4,434,2377,123,1557,743,1275,4578,1576,3,472,2923,2,1541,2,1,2,2799,412,730,1160,1365,2738,2305,291,302,22,2057,2719,3708,2,835,3,123,5350,1460,87,3673,169,295,164,2363,64,1,8,950,1296,512,643,1766,616,1509,425,606,522,647,17,141,190,893,90,1462,1385,95,117,1364,257,563,78,1839,555,10,578,1067,3393,114,211,1264,92,1,757,49,27,2,4,714,198,8,165,483,59,49,590,475,3,473,512,464,1055,84,379,218,809,4,7,2371,428,662,22,1,32,478,65,27,5594453,3904,226,220,82,33,31,85,5996638,2800696,882,444,1,2,80,1,1796,1,9,2553,1,748,141,795,563,1,4265,1,1,2,1331,4142,2609,155,17,13,72,139,4,2,20,2,169,13,19,46,5,39,96,548,29,2,2,1,2,1,2,2,7,4,1,2,2,2,2,2,2,353,513,186,1,1,158,3,2,2,2,2,2,4,2,3,3,269,121,91,10,5,2,1,23654627,299866,2772894,1268457,338,3,1454,960,906,7,172,111,685,1167,711,336,141,770889',kBL:'2ZIV'};google.sn='webhp';google.kHL='en';})();(function(){\n",
            "var f=this||self;var h,k=[];function l(a){for(var b;a&&(!a.getAttribute||!(b=a.getAttribute(\"eid\")));)a=a.parentNode;return b||h}function m(a){for(var b=null;a&&(!a.getAttribute||!(b=a.getAttribute(\"leid\")));)a=a.parentNode;return b}\n",
            "function n(a,b,c,d,g){var e=\"\";c||-1!==b.search(\"&ei=\")||(e=\"&ei=\"+l(d),-1===b.search(\"&lei=\")&&(d=m(d))&&(e+=\"&lei=\"+d));d=\"\";!c&&f._cshid&&-1===b.search(\"&cshid=\")&&\"slh\"!==a&&(d=\"&cshid=\"+f._cshid);c=c||\"/\"+(g||\"gen_204\")+\"?atyp=i&ct=\"+a+\"&cad=\"+b+e+\"&zx=\"+Date.now()+d;/^http:/i.test(c)&&\"https:\"===window.location.protocol&&(google.ml&&google.ml(Error(\"a\"),!1,{src:c,glmm:1}),c=\"\");return c};h=google.kEI;google.getEI=l;google.getLEI=m;google.ml=function(){return null};google.log=function(a,b,c,d,g){if(c=n(a,b,c,d,g)){a=new Image;var e=k.length;k[e]=a;a.onerror=a.onload=a.onabort=function(){delete k[e]};a.src=c}};google.logUrl=n;}).call(this);(function(){\n",
            "google.y={};google.sy=[];google.x=function(a,b){if(a)var c=a.id;else{do c=Math.random();while(google.y[c])}google.y[c]=[a,b];return!1};google.sx=function(a){google.sy.push(a)};google.lm=[];google.plm=function(a){google.lm.push.apply(google.lm,a)};google.lq=[];google.load=function(a,b,c){google.lq.push([[a],b,c])};google.loadAll=function(a,b){google.lq.push([a,b])};google.bx=!1;google.lx=function(){};}).call(this);google.f={};(function(){\n",
            "document.documentElement.addEventListener(\"submit\",function(b){var a;if(a=b.target){var c=a.getAttribute(\"data-submitfalse\");a=\"1\"==c||\"q\"==c&&!a.elements.q.value?!0:!1}else a=!1;a&&(b.preventDefault(),b.stopPropagation())},!0);document.documentElement.addEventListener(\"click\",function(b){var a;a:{for(a=b.target;a&&a!=document.documentElement;a=a.parentElement)if(\"A\"==a.tagName){a=\"1\"==a.getAttribute(\"data-nohref\");break a}a=!1}a&&b.preventDefault()},!0);}).call(this);</script><style>#gbar,#guser{font-size:13px;padding-top:1px !important;}#gbar{height:22px}#guser{padding-bottom:7px !important;text-align:right}.gbh,.gbd{border-top:1px solid #c9d7f1;font-size:1px}.gbh{height:0;position:absolute;top:24px;width:100%}@media all{.gb1{height:22px;margin-right:.5em;vertical-align:top}#gbar{float:left}}a.gb1,a.gb4{text-decoration:underline !important}a.gb1,a.gb4{color:#00c !important}.gbi .gb4{color:#dd8e27 !important}.gbf .gb4{color:#900 !important}\n",
            "</style><style>body,td,a,p,.h{font-family:arial,sans-serif}body{margin:0;overflow-y:scroll}#gog{padding:3px 8px 0}td{line-height:.8em}.gac_m td{line-height:17px}form{margin-bottom:20px}.h{color:#1558d6}em{font-weight:bold;font-style:normal}.lst{height:25px;width:496px}.gsfi,.lst{font:18px arial,sans-serif}.gsfs{font:17px arial,sans-serif}.ds{display:inline-box;display:inline-block;margin:3px 0 4px;margin-left:4px}input{font-family:inherit}body{background:#fff;color:#000}a{color:#4b11a8;text-decoration:none}a:hover,a:active{text-decoration:underline}.fl a{color:#1558d6}a:visited{color:#4b11a8}.sblc{padding-top:5px}.sblc a{display:block;margin:2px 0;margin-left:13px;font-size:11px}.lsbb{background:#f8f9fa;border:solid 1px;border-color:#dadce0 #70757a #70757a #dadce0;height:30px}.lsbb{display:block}#WqQANb a{display:inline-block;margin:0 12px}.lsb{background:url(/images/nav_logo229.png) 0 -261px repeat-x;border:none;color:#000;cursor:pointer;height:30px;margin:0;outline:0;font:15px arial,sans-serif;vertical-align:top}.lsb:active{background:#dadce0}.lst:focus{outline:none}</style><script nonce=\"8J3D2QxiF9+7vSUmg8VV0A==\"></script></head><body bgcolor=\"#fff\"><script nonce=\"8J3D2QxiF9+7vSUmg8VV0A==\">(function(){var src='/images/nav_logo229.png';var iesg=false;document.body.onload = function(){window.n && window.n();if (document.images){new Image().src=src;}\n",
            "if (!iesg){document.f&&document.f.q.focus();document.gbqf&&document.gbqf.q.focus();}\n",
            "}\n",
            "})();</script><div id=\"mngb\"><div id=gbar><nobr><b class=gb1>Search</b> <a class=gb1 href=\"https://www.google.com/imghp?hl=en&tab=wi\">Images</a> <a class=gb1 href=\"https://maps.google.com/maps?hl=en&tab=wl\">Maps</a> <a class=gb1 href=\"https://play.google.com/?hl=en&tab=w8\">Play</a> <a class=gb1 href=\"https://www.youtube.com/?gl=US&tab=w1\">YouTube</a> <a class=gb1 href=\"https://news.google.com/?tab=wn\">News</a> <a class=gb1 href=\"https://mail.google.com/mail/?tab=wm\">Gmail</a> <a class=gb1 href=\"https://drive.google.com/?tab=wo\">Drive</a> <a class=gb1 style=\"text-decoration:none\" href=\"https://www.google.com/intl/en/about/products?tab=wh\"><u>More</u> &raquo;</a></nobr></div><div id=guser width=100%><nobr><span id=gbn class=gbi></span><span id=gbf class=gbf></span><span id=gbe></span><a href=\"http://www.google.com/history/optout?hl=en\" class=gb4>Web History</a> | <a  href=\"/preferences?hl=en\" class=gb4>Settings</a> | <a target=_top id=gb_70 href=\"https://accounts.google.com/ServiceLogin?hl=en&passive=true&continue=https://www.google.com/&ec=GAZAAQ\" class=gb4>Sign in</a></nobr></div><div class=gbh style=left:0></div><div class=gbh style=right:0></div></div><center><br clear=\"all\" id=\"lgpd\"><div id=\"lga\"><img alt=\"Google\" height=\"92\" src=\"/images/branding/googlelogo/1x/googlelogo_white_background_color_272x92dp.png\" style=\"padding:28px 0 14px\" width=\"272\" id=\"hplogo\"><br><br></div><form action=\"/search\" name=\"f\"><table cellpadding=\"0\" cellspacing=\"0\"><tr valign=\"top\"><td width=\"25%\">&nbsp;</td><td align=\"center\" nowrap=\"\"><input name=\"ie\" value=\"ISO-8859-1\" type=\"hidden\"><input value=\"en\" name=\"hl\" type=\"hidden\"><input name=\"source\" type=\"hidden\" value=\"hp\"><input name=\"biw\" type=\"hidden\"><input name=\"bih\" type=\"hidden\"><div class=\"ds\" style=\"height:32px;margin:4px 0\"><input class=\"lst\" style=\"margin:0;padding:5px 8px 0 6px;vertical-align:top;color:#000\" autocomplete=\"off\" value=\"\" title=\"Google Search\" maxlength=\"2048\" name=\"q\" size=\"57\"></div><br style=\"line-height:0\"><span class=\"ds\"><span class=\"lsbb\"><input class=\"lsb\" value=\"Google Search\" name=\"btnG\" type=\"submit\"></span></span><span class=\"ds\"><span class=\"lsbb\"><input class=\"lsb\" id=\"tsuid1\" value=\"I'm Feeling Lucky\" name=\"btnI\" type=\"submit\"><script nonce=\"8J3D2QxiF9+7vSUmg8VV0A==\">(function(){var id='tsuid1';document.getElementById(id).onclick = function(){if (this.form.q.value){this.checked = 1;if (this.form.iflsig)this.form.iflsig.disabled = false;}\n",
            "else top.location='/doodles/';};})();</script><input value=\"AINFCbYAAAAAYReZnlK1HKbWjP7yr0r885QUjOFiSHBu\" name=\"iflsig\" type=\"hidden\"></span></span></td><td class=\"fl sblc\" align=\"left\" nowrap=\"\" width=\"25%\"><a href=\"/advanced_search?hl=en&amp;authuser=0\">Advanced search</a></td></tr></table><input id=\"gbv\" name=\"gbv\" type=\"hidden\" value=\"1\"><script nonce=\"8J3D2QxiF9+7vSUmg8VV0A==\">(function(){\n",
            "var a,b=\"1\";if(document&&document.getElementById)if(\"undefined\"!=typeof XMLHttpRequest)b=\"2\";else if(\"undefined\"!=typeof ActiveXObject){var c,d,e=[\"MSXML2.XMLHTTP.6.0\",\"MSXML2.XMLHTTP.3.0\",\"MSXML2.XMLHTTP\",\"Microsoft.XMLHTTP\"];for(c=0;d=e[c++];)try{new ActiveXObject(d),b=\"2\"}catch(h){}}a=b;if(\"2\"==a&&-1==location.search.indexOf(\"&gbv=2\")){var f=google.gbvu,g=document.getElementById(\"gbv\");g&&(g.value=a);f&&window.setTimeout(function(){location.href=f},0)};}).call(this);</script></form><div id=\"gac_scont\"></div><div style=\"font-size:83%;min-height:3.5em\"><br></div><span id=\"footer\"><div style=\"font-size:10pt\"><div style=\"margin:19px auto;text-align:center\" id=\"WqQANb\"><a href=\"/intl/en/ads/\">Advertising Programs</a><a href=\"/services/\">Business Solutions</a><a href=\"/intl/en/about.html\">About Google</a></div></div><p style=\"font-size:8pt;color:#70757a\">&copy; 2021 - <a href=\"/intl/en/policies/privacy/\">Privacy</a> - <a href=\"/intl/en/policies/terms/\">Terms</a></p></span></center><script nonce=\"8J3D2QxiF9+7vSUmg8VV0A==\">(function(){window.google.cdo={height:757,width:1440};(function(){\n",
            "var a=window.innerWidth,b=window.innerHeight;if(!a||!b){var c=window.document,d=\"CSS1Compat\"==c.compatMode?c.documentElement:c.body;a=d.clientWidth;b=d.clientHeight}a&&b&&(a!=google.cdo.width||b!=google.cdo.height)&&google.log(\"\",\"\",\"/client_204?&atyp=i&biw=\"+a+\"&bih=\"+b+\"&ei=\"+google.kEI);}).call(this);})();</script> <script nonce=\"8J3D2QxiF9+7vSUmg8VV0A==\">(function(){google.xjs={ck:'',cs:'',excm:[]};})();</script>  <script nonce=\"8J3D2QxiF9+7vSUmg8VV0A==\">(function(){var u='/xjs/_/js/k\\x3dxjs.hp.en_US.WBbAaXN_nsw.O/am\\x3dAPgEmA/d\\x3d1/ed\\x3d1/rs\\x3dACT90oEUgeWD8ze2H-JmOdKuOahXPaSyjg/m\\x3dsb_he,d';\n",
            "var e=this||self,f=function(a){return a};var g;var l=function(a,b){this.g=b===h?a:\"\"};l.prototype.toString=function(){return this.g+\"\"};var h={};function m(){var a=u;google.lx=function(){n(a);google.lx=function(){}};google.bx||google.lx()}\n",
            "function n(a){google.timers&&google.timers.load&&google.tick&&google.tick(\"load\",\"xjsls\");var b=document;var c=\"SCRIPT\";\"application/xhtml+xml\"===b.contentType&&(c=c.toLowerCase());c=b.createElement(c);if(void 0===g){b=null;var k=e.trustedTypes;if(k&&k.createPolicy){try{b=k.createPolicy(\"goog#html\",{createHTML:f,createScript:f,createScriptURL:f})}catch(p){e.console&&e.console.error(p.message)}g=b}else g=b}a=(b=g)?b.createScriptURL(a):a;a=new l(a,h);c.src=a instanceof l&&a.constructor===l?a.g:\"type_error:TrustedResourceUrl\";var d;a=(c.ownerDocument&&c.ownerDocument.defaultView||window).document;(d=(a=null===(d=a.querySelector)||void 0===d?void 0:d.call(a,\"script[nonce]\"))?a.nonce||a.getAttribute(\"nonce\")||\"\":\"\")&&c.setAttribute(\"nonce\",d);document.body.appendChild(c);google.psa=!0};setTimeout(function(){m()},0);})();(function(){window.google.xjsu='/xjs/_/js/k\\x3dxjs.hp.en_US.WBbAaXN_nsw.O/am\\x3dAPgEmA/d\\x3d1/ed\\x3d1/rs\\x3dACT90oEUgeWD8ze2H-JmOdKuOahXPaSyjg/m\\x3dsb_he,d';})();function _DumpException(e){throw e;}\n",
            "function _F_installCss(c){}\n",
            "(function(){google.jl={attn:false,blt:'none',chnk:0,dw:false,emtn:0,end:0,ine:false,lls:'default',pdt:0,rep:0,sif:true,snet:true,strt:0,ubm:false,uwp:true};})();(function(){var pmc='{\\x22d\\x22:{},\\x22sb_he\\x22:{\\x22agen\\x22:true,\\x22cgen\\x22:true,\\x22client\\x22:\\x22heirloom-hp\\x22,\\x22dh\\x22:true,\\x22dhqt\\x22:true,\\x22ds\\x22:\\x22\\x22,\\x22ffql\\x22:\\x22en\\x22,\\x22fl\\x22:true,\\x22host\\x22:\\x22google.com\\x22,\\x22isbh\\x22:28,\\x22jsonp\\x22:true,\\x22msgs\\x22:{\\x22cibl\\x22:\\x22Clear Search\\x22,\\x22dym\\x22:\\x22Did you mean:\\x22,\\x22lcky\\x22:\\x22I\\\\u0026#39;m Feeling Lucky\\x22,\\x22lml\\x22:\\x22Learn more\\x22,\\x22oskt\\x22:\\x22Input tools\\x22,\\x22psrc\\x22:\\x22This search was removed from your \\\\u003Ca href\\x3d\\\\\\x22/history\\\\\\x22\\\\u003EWeb History\\\\u003C/a\\\\u003E\\x22,\\x22psrl\\x22:\\x22Remove\\x22,\\x22sbit\\x22:\\x22Search by image\\x22,\\x22srch\\x22:\\x22Google Search\\x22},\\x22ovr\\x22:{},\\x22pq\\x22:\\x22\\x22,\\x22refpd\\x22:true,\\x22rfs\\x22:[],\\x22sbas\\x22:\\x220 3px 8px 0 rgba(0,0,0,0.2),0 0 0 1px rgba(0,0,0,0.08)\\x22,\\x22sbpl\\x22:16,\\x22sbpr\\x22:16,\\x22scd\\x22:10,\\x22stok\\x22:\\x22LRuz8BUIehXkY_3NleAYvPuxY_k\\x22,\\x22uhde\\x22:false}}';google.pmc=JSON.parse(pmc);})();</script>        </body></html>\n"
          ],
          "name": "stdout"
        }
      ]
    },
    {
      "cell_type": "markdown",
      "metadata": {
        "id": "k6_LKT5pB6B3"
      },
      "source": [
        "### url 해부"
      ]
    },
    {
      "cell_type": "markdown",
      "metadata": {
        "id": "yDgvIfuhB2BU"
      },
      "source": [
        "![url해부.PNG](data:image/png;base64,iVBORw0KGgoAAAANSUhEUgAAA4oAAAHLCAYAAACOFmYYAAAAAXNSR0IArs4c6QAAAARnQU1BAACxjwv8YQUAAAAJcEhZcwAAEnQAABJ0Ad5mH3gAAMRhSURBVHhe7J0HmF5VubY97T/HcyzHRkkymT6TnpCQnkAqqSQhBFKA0EIV7AIKCoqIoIAKCirHhihNUERAUQRsqBQbSO9VUJo0SbL+db/re7/Z+5s9LZmS8uzruvNN9l579fastl/XUF8ThBBCCCGEEEIImDRlQZBQFEIIIYQQQghRZvLUhRKKQgghhBBCCCFa0IyiEEIIIYQQQogcmlEUQgghhBBCCJFDM4pCCCGEEEIIIXJoRlEIIYQQQgghRA7NKAohhBBCCCGEyKEZRSGEEEIIIYQQOTSjKIQQQgghhBAih2YUhRBCCCGEEELk0IyiEEIIIYQQQogcmlEUQgghhBBCCJFDM4pCCCGEEEIIIXJoRlEIIYQQQgghRA7NKAohhBBCCCGEyKEZRSGEEEIIIYQQOTSjKIQQQgghhBAih2YUhRBCCCGEEELk0IyiEEIIIYQQQogck6ZoRlEIIYQQQgghRAbNKAohhBBCCCGEyKE9ikIIIYQQQgghcmhGUQghhBBCCCFEDu1RFEIIIYQQQgiRQzOKQgghhBBCCCFyaI+iEEIIIYQQQogcmlEUQgghhBBCCJFDexSFEEIIIYQQQuTQjKIQQgghhBBCiByaURRCCCGEEEIIkUMzikIIIYQQQgghcmhGUQghhBBCCCFEDs0oCiGEEEIIIYTIoRlFIYQQQgghhBA5NKMohBBCCCGEECKHZhSFEEIIIYQQQuTQjKIQQgghhBBCiByaURRCCCGEEEIIkUMzikIIIYQQQgghcmhGUQghhBBCCCFEDs0oCiGEEEIIIYTIoRlFIYQQQgghhBA5NKMohBBCCCGEECKHhKIQQgghhBBCiBwSikIIIYQQQgghcmiPohBCCCGEEEKIHJpRFEIIIYQQQgiRQ0JRCCGEEEIIIUQOCUUhhBBCCCGEEDm0R1EIIYQQQgghRA7NKAohhBBCCCGEyCGhKIQQQgghhBAih4SiEEIIIYQQQogc2qMohBBCCCGEECKHZhSFEEIIIYQQQuSQUBRCCCGEEEIIkUNCUQghhBBCCCFEDu1RFEIIIYQQQgiRQzOKQgghhBBCCCFySCgKIYQQQgghhMghoSiEEEIIIYQQIoeEohBCCCGEEEKIHBKKQgghhBBCCCFySCgKIYQQQgghhMgxcbKEohBCCCGEEEKIDJpRFEIIIYQQQgiRQ0JRCCGEEEIIIUQOCUUhhBBCCCGEEDm0R1EIIYQQQgghRA7NKAohhBBCCCGEyCGhKIQQQgghhBAih4SiEEIIIYQQQogc2qMohBBCCCGEECKHZhSFEEIIIYQQQuTQjKIQQgghhBBCiByaURRCCCGEEEIIkUMzikIIIYQQQgghcmhGUQghhBBCCCFEDs0oCiGEEEIIIYTIoRlFIYQQQgghhBA5NKMohBBCCCGEECKHZhSFEEIIIYQQQuTQjKIQQgghhBBCiByaURRCCCGEEEIIkUMzikIIIYQQQgghcmhGUQghhBBCCCFEDs0oCiGEEEIIIYTIoRlFIYQQQgghhBA5NKMohBBCCCGEECKHZhSFEEIIIYQQQuSYOHm+hKIQQgghhBBCiBa09FQIIYQQQgghRA4JRSGEEEIIIYQQObRHUQghhBBCCCFEDu1RFEIIIYQQQgiRQ0tPhRBCCCGEEELk0IyiEEIIIYQQQogc2qMohBBCCCGEECKHZhSFEEIIIYQQQuTQHkUhhBBCCCGEEDk0oyiEEEIIIYQQIodmFIUQQgghhBBC5NCMohBCCCGEEEKIHJpRFEIIIYQQQgiRQzOKQgghhBBCCCFyaEZRCCGEEEIIIUQOzSgKIYQQQgghhMihGUUhhBBCCCGEEDk0oyiEEEIIIYQQIodmFIUQQgghhBBC5NCMohBCCCGEEEKIHJpRFEIIIYQQQgiRQzOKQgghhBBCCCFyaEZRCCGEEEIIIUQOzSgKIYQQQgghhMihGUUhhBBCCCGEEDk0oyiEEEIIIYQQIodmFIUQQgghhBBC5NCMohBCCCGEEEKIHJpRFEIIIYQQQgiRQzOKQgghhBBCCCFyaEZRCCGEEEIIIUQOzSgKIYQQQgghhMihGUUhhBBCCCGEEDk0oyiEEEIIIYQQIodmFIUQQgghhBBC5NCMohBCCCGEEEKIHJpRFEIIIYQQQgiRQzOKQgghhBBCCCFyaEZRCCGEEEIIIUQOzSgKIYQQQgghhMihGUUhhBBCCCGEEDk0oyiEEEIIIYQQIodmFIUQQgghhBBC5JgwSTOKQgghhBBCCCEyaEZRCCGEEEIIIUQO7VEUQgghhBBCCJFDM4pCCCGEEEIIIXJoj6IQQgghhBBCiByaURRCCCGEEEIIkUN7FIUQQgghhBBC5NCMohBCCCGEEEKIHNqjKIQQQgghhBAih5aeCiGEEEIIIYTIIaEohBBCCCGEECKH9igKIYQQQgghhMihPYpCCCGEEEIIIXJo6akQQgghhBBCiByaURRCCCGEEEIIkUN7FIUQQgghhBBC5NCMohBCCCGEEEKIHNqjKIQQQgghhBAih2YUhRBCCCGEEELk0B5FIYQQQgghhBA5NKMohBBCCCGEECKH9igKIYQQQgghhMihGUUhhBBCCCGEEDk0oyiEEEIIIYQQIodmFIUQQgghhBBC5NCMohBCCCGEEEKIHJpRFEIIIYQQQgiRQzOKQgghhBBCCCFyaEZRCCGEEEIIIUQOzSgKIYQQQgghhMihGUUhhBBCCCGEEDk0oyiEEEIIIYQQIodmFIUQQgghhBBC5NCMohBCCCGEEEKIHJpRFEIIIYQQQgiRQzOKQgghhBBCCCFyaEZRCCGEEEIIIUQOzSgKIYQQQgghhMihGUUhhBBCCCGEEDk0oyiEEEIIIYQQIodmFIUQQgghhBBC5NCMohBCCCGEEEKIHJpRFEIIIYQQQgiRQzOKQgghhBBCCCFyaEZRCCGEEEIIIUQOCUUhhBBCCCGEEDkkFIUQQgghhBBC5NAeRSGEEEIIIYQQOTSjKEQvUl9XXXi/CMx2xbzT1XcaG2oL7wshhOgeNqQu35ToS/97W5ilyNyG0t32dYXecLu+vjNuxHjtlDmxtSGhKLY4ED5doaGh5d1sRZkzU7rnYI4Kvq52YLoX7aitqWr5fwE8A3u39D6Vc9YM99weMxv/b1SYK5sv2cXf7tdkb4XZ6L+snX7f3mmszbsVcbNl6hLZd/m//y2EEKIYq1Mz9We5DaiAZ16PA/+vqR5Qvt/UVFe+77RlR/b/QLtif2fau65QvwH1fdZ9D1NHZN8Hb5MqacsMdhBWKLKvFTE+svY1bkD80Eam+M37qyMsjXA7uunu1tQMKPunrTjpDG63wz23K93Lt/mVJD/FvkE0R/jsXsZ+7mX/L7ZcJBTFFkNzc739euXaWajwWhrgWElWVLCVFSRwD/PDhw0Og5obzI599l4Z9t9vn1ZmAbO8U1tbZQ1BudEugZvcGzF8SDjyiMPCwgVzo51ZM639kL2f9WsR+G/xogXhve85Muw4ZpS909RYV+404PbgQY0WFuKR+OC509xUHwYNaiiZiX9Hc253i1+EEEJUYnVw7HB7m5MEVGvS/ZY2bPy4MeE9735nmDp1Yvl+1t5E3o6yG6X6GcaNHR2OOup9Yfeli9uwo2NoQ6ytbGxpO4vALL+0GQxCWrgyfukMyc3UbiGgaJ8QzJXwvHpg/5K5JBBpr979rneGRbvONzPZMLQF7+w0dVKpH9Bxe1rJnnssDYcfdnAYMqQpZ6/7KXsvC88tXksifJfZM8KHjvlAmDJ5vL2Xjc8spEEWv5+1e8qUCeGYoz8Qpk+ban7MPmuLrD34i/eIm6OPen/YY9luObOjdxhh/RX+9nwrtky0R1FsUVCxIWKowIYNHdQphgxussrQK8gkFAfmGiQq7WxliOBbc+B+geuQQw4M/bbfJtxw/bXh5pt+Y++2qphj44M7kyeND2N33MHczVbK2I2dc+fMCq+8/I9w9tlnlhu9nD1OSeABZgYPbrQwA27zbm4EO/5+9f++HNatfTUsWbzQ3MJt7gMdiDvvuC08+MC94b5772rF/ffdHe67767wwP33hMcffzhcdunF1kC7/UIIIdrG60objIsiqgiESnOE+ps6evmeu8cWZn045OADreNOXZ/sSR14b0OyYA8Derjls0G7LdnV2qpvfP3/zEzWX52Bd0aNHGaiY4dRw1s9y5K9R3gYWMQ/HRLbsKFDms2/WXFJXMyfv0vYdeG8HAymLlw4N8yZM9PiFFGKWQY0X/zHc+Gb3/hq2G7bt+f8WgTv0u4++siDYb999y4LpK7w/e99N/z1ycdMkOfsz7TTRVj7XhKmuHvssUdbOh20Zv8wsKqf3cdc+k2DAJV2OJV9hTVrUv/kPe8+omyPm6MvQpy3yosxrfglHnGL98aMHmn2fOfb55WFN/ev/emPwuc+e5r6AVsBmlEUWxRUWMcc/f5w911/SdzdmnuMO4x777kznPSJj4UB/bctV4zYs2z3JeGdhx9is3uHH36w/R7xzkPDoYeusYaSivSwQw+yChRzNEjX/PjK8Otf/dyepcYujcph/lMnfyL88Q+3hMcefSg88fgj9vcnT/p4GD58cEvDFBuCObvMDM8/97dw1pmfNXuyYSsTGxZGEanU8TP++OlPfmSC7o6//Dmc/cUzrcHifQ8Pjeg5Z58VXn7peWtgqdzpiADuT5ww1kYfP3TMB+23LRhZvOvO200QV1enkdxW/hNCCFHG6vcInfAfXH5ZqX26vRV3/OVPVk8jEuiU0w699s+Xw4EH7Gt1rbdR03aeYvZcfdUVrbjyh5eHK37wvfJMEu8tXrzA2qovnfOFdsVGK2Jb424eesiB4dlnnw4fOe5D8V6LGZ63BYOi1/z4qnDjr38RfvfbXyd+l6F07ze/+WX4beRn115TalPSDCyrbxhUJb4ee+yhVvzjhWes3aP98jgeOrQ5/O3pJ8P/nful0D+267nwFFA1YHsze9PvbjS3iPv583ax9vnEjx8fTjwxEn/5/yc+cULsL5wQPnHiCeGTn/x42H33xebH7112SXg8+ocZ4Er7v/Lls1ul0Q+v+L6l05VXXl6e+STctLEMDLAyKduPANL8S1/6gon9b5//zQq+ET7/udNzwpQ8Q95hkMH7AjB71nRznz4DXPezn0TR9+MyV135gzBh/I5mB2EbOXJoeOnF581d+km4Qf/h/e97d3jowXst7jHn7ootDwlFsUVBhfuZT3/KGsUvfuHz4X3vfVdr3veu8P73v9v44Afea7NpvEfDRkWKPTRu6VpX+k3Xs888bRUtFfihh6yxewjF/v22Dddcc5UJRRdh2MeI3SUXX2Dmfn7Dz8IH3v+ecNyxR4ebbrrR7jHLh3uMvOI2S0+ef+7v7QvFCMKPBo0RUGYJn37qifDlL30x/OjqH5q9v/j5deXRQswjQhGQL7/0QoFQTMt67F50k19EYJn4f9yC7bd7hzXmf/rjrXY/25AJIYQoIg0EIn5oN47/6LGFPPH4w+Hqq6+werZQKNoyw5owZfKE8N1LLgyXf//SPJdfaoOF69f9MyzdbZG9Q53OtgOurgpF2iR3l+WcXKee8smy6HBzLgyz8HzixLHh1VdeNKHI7NMZp386fPaMz+T4/OdOM5HzhbM+ZwOqqU1J8eXtKLOZbJmo5CfXXB2efOJRE2jup64KRQZyn/n7UzYYTBtHu0a/AHFE3CPcaDcJB6RrbWRd+PSpJ8d3trcVNgwAV84oMrtJW+7pw8yjc/PNvzGbDj7ogPKga6VQzMYx/RT8waqfX/7i+vCrX95g/PznPwvPPfu3cP/9d+fcdqF48MHR/hgmX+m0fPnulj8Qxt867+vhwgu+lROdzBwSDs87I0dEofjS8+G8b37NRLX3KYh/Btu//vVzzf6s22LLQkJRbDHQoNTWDLDKO6x/zRpKGopKGBWjwjPxM7BfqhARTbFS9OU8jLgx+0cDy0je5MnjTYBSISMUaTjbEorYi134aa9Vy63BueA737LRShp/nrHsg4r3n6++ZCOK+Ad/dFYoAnsEGE1ldm+HUcPMD9hPY0NDcPLJJ5Ybz/aEIrD0hg7Grbf8Lvz+1pvCH/5wcxlmPxGGgFt//9tfw29/86tyWIr8JoQQojVsU6ANor6u5Pbb/2htz4D+27UWirGjT/vE0lTEonfkK0kDpWtti4Gb2VChCLhJG3L66aeaHQjUwVEAZUUMdlbCc4QiWymYgXvbW99s4aKtq4T7AwZsZ3GQtZeVMx4uwlIJA7qPPPJAmDBhx9TORTorFM2PsV1klpBlpzvvPNnuYy9iiP2GDL7SRhOXLItlpvEfLzwbLrrw2/Z/zGG+LaEI+Im0TPS3X8JM/4FBXmb8fNA1KxSZpcvGBXmBuPzoRz6cE2bYheB76MH7yvegLBSjEKVPYjO0pTxF/4CZYdxM4jgJZCP6kfcxT7xXCkXPDwxEE8f0iSZNHGdxmXVfbDloj6LYYqDip3JDKFIBs/naRwihpbJuIdsAIZj4xR6WhSDCWDrD6CYNGJU4Im727DSjSAXPxR4AnrtQpDLFXkTo5z9/uokzNsrzjgtR/Dtr5jRrdD73udOsUeB5Z4UiZlkGSoWPPwgLdtOAj95huIk79hOWR1o7EIqLFs23sDD7ue/qVWH1PsVwYA8gbi3uYnwX+U8IIUSGKO7YG7Z0t12tE89WBmauTv7kieHMz58Rzj33HKv7ESHbbfs2q9MrZxSxhw46f1P/FnHKp06KNfnabplRpF0C9r7/4fc324yaiypEEu0K9hVBu4NQfPnlF8xP+AP/VII7DLyyl9Hfc3jOACv+ZrbrkksusEFX55GH7w+PP/aw7f33dzo9o1hKD9p5BCd/ex8Av9JGsiqJMNNWkx6E+4Xnn7E0wg4PA/9/8slHrb+AiEfgMhjMM34x620/fsR+toysfe2VcvuNWReKBx+0v/Uf3K88pz+DeWae6df4M/oe5533tU4JRQbSsYeBdMQ7+0I93hz8iF/4m18O7EOgtgjFluf0FbiYjc26LbYsNKMothi8gssKxaxApHIukxFJVKCVFSV7B+67984wdiwVf21OKDKqiDvMJKZK8tDWQjHay6gxS0vZ5M46f97xxoJfRByjkF//2rn2DDq99DTaQePEkhkaMfxNw81oM3bTsBIHCDrMFwnF5GaKA05to4FiCRBhHrvjqDZhc/uY0SNsjyR2VPpNCCFEHuroGdN3MhFDxxvBwZaBRx99MPzl9j/Z4N76da/a8sy2lp56+4TIof5FNFbiK2oQh7xDO7IxS08ROuecc5Ztu9hvv73Dww/db3sgcR+7sa8I3rUZxVf+YctDb731d+FPf2R1SmsIOytZ2PfGe2X3Y7uF8Hvu2aetrfzNjexl/FWJtKfxwgvOtzaJ96ArS0+nT59qM4YIWRdrFmexTcwKRVYREVZWF5FuF1/0HWtncQ/z7BdFsPrMJu+7G7TLmE3tc0ozfjklde3aKBQPaS0USe+WNnqg9S84kMiE4vEVQjGGsaszigwkMJOKOQQys6dDS+B3/MgzwjJu3OgYRy+WhSKiHj/xDGHMiinyB2HMui+2HCQUxRYBo3g0Tj6jyExbK6FYEkWV8E5WLFLhsaG7SChysS+A5yzD5EIwsnTGhSJ/U5FSqbJMhEp5771W2D1rQGPjhxkqcjoGLAHBLM87KxSp2Gk0OYxnfKzI8TeND788P+64Y6K768O+q/cy9wqFYgwzbhAH3njQGWAPRHswU4m78+bOjvGqvQlCCNER1rY01dkBKAg3BvgQUqNHj7BZm513mmyiBbFEe+Cd+rJQjPU17QftE4OMLHdkmWol1M1cCAvalI0RiuzfY7CT9pS9iYgSZkHxJ3vuWHJo+wlL7Y5j7Vy8ZzOKsc1hLyHtHNA2VcL9j53wkfIgbNYuhMxTf33c9jgSFhM2EQSsizDu+3vMQHYkFC0OYp8BEcV14IH7lttCpy2hyCqgnFCM6UJcPPfc38KxHz7aTixduWIPcwczp33mFDvshv2jCMof/jAdZJP2KK63Jaj4HVwocgAOs3R8zsoPpiMvtCcUEfB+DzoSihxKx15Hzk644YZry3CiLP0W/Io/Od2UgYfKpacW9uhntqtwKA7pUZkPxJaBhKLYYvAKzIUiSyQZGWPZDCOObL6mMqMhoXE2dkiNdLbyozG/+qq2haLv1WNPHxdLiLIzivyNPVTKM2fubHv6GG2ksWZ/CpU+gpCKnfu47413Z4UiYbjttj+EO+/4c9hhh+HmHo0mz2jgWJbKRWPhjXbxjGKCOOJgHOKMfZXtstdyawjTyWipYcAO3Mj6UQghRII2xgYsY73OwSIuBnnG3wzqUT9zaAn/BwY7mX00oRjrWOpy7EG4vPbPl6z9uP76n9qnmfyXWTYGMhGevIN7HQlFr7vdPP+nLbrpd7+29ziJFXcRHPjrI1HccfHJJNoCFyHY7WCHC0X2TVZVpcFQ2p4iLG4YuI1maFdwj8NgaNdoQ9kj+Y63v8X8wHLYNINab+36zBk72adE0r2GNoWi+w27AXHKNXPGzhbuTgvFi1uEIiAEsxcHy9DXAGY/sQNRdv11P81Beq1auaeFGVwotlzrw4rly+zZnnsu7VaheOstvw3sN73owvNzEBfMsHIaLX5nQJqBgaxQNDei0Kavw2dI+LTWsGGDLI5IO+I46xexeSOhKLYYqJyoDG3pTbw4jMZnwB55+AH7pTJ96KH74t93l2HpChWgN5DtCUUaCQ5+wT0fjTziiENzM4qY5XmqNJM5loWwzIjRt1tu/q1tAKdyPWD/1cldG5Xt/IwijSGjtOwXmTplovmbBhW/8l7apxKskeEez1vtUYzm+DwHDQeNEHta6Jjw2yFLF1nDzHessJtGo8ifQgghauzTRx//+EftE0TM2JwY/2Z/Iid/fuGsz1q7wPXnP/3eTqTkO73MCq5b+0obQvFlm8mi3nehAS6C6LDzf+r5zswo0qZQl++77152ajZtBQORnBRO/e5tJGYxx8wZQgIRQbv2gQ+8x+x2MONC8dRTTrL/MxOI+Cskum+DndEt2kOfqeTQGGYUac+Jl5tvujHcEkUOA7bMnj726IPh4YfvD7/+9c9t4LfDpae0VaX2Kh3885q1oYStc0LxmdZC8XuX2DYQ0ontHsyM8j5hIo7wJ8s0Mevxk9KpJb5Iq6OPZoB3vQlY+gLkGcKPf5iJ7k6hSB40/1tct7yHv0gH+/xW9B+z16RhpVDEz/R7OK32gQfusQHvlD8kFLc0JBTFlkGp4qfimzplggke9t1RKS5btsS+lchx1qefdmpYsWKZPXNYQukVOL8mFK++olAosj8BoUilftBB+0c7g21KZ6awUihixitM7Pnwh46yJSuMwNH4esOBe+537EaMulDkHlgYM1DpcwACHxamM4EZ7zDQsHD8No3l9GlT7B7Pi2YUcY97LC1hTyMzsTRG7RI7LjRANDbsK3E/FflTCCG2dmgH+EwBdSZtyDPPPGWDl9SjCC2WIfJpIzr8p0RRRZvCvnbqdswUCUUEDPU8bV/2c0bUwwgC2hXeoR1BvHC1JRTdXrZw4CZCEdHie//cjMM9zNPWMNjJoCVbMLJmcJtv7NFmEGaWOnaGBfPnJMFYEopDBjeaqKENd4479hhbycPpoPPmzrJDZlhlg584pbMzexQ52IWZUvzH8k4Gal0k8jdt5Dlnn2kzui4UcYeB3EqhyCFw7KGcMH6Mvefxg9hyocgz0qq8dDaGK4UzDSoTX2kl0Dpb3YO44zlik2cMzOLXQqH4ra9bfvJ70L5QfM3EKH7Ebg8HkKbWl4jmeUYeeDWzR5F3PI35P6erI+KJdwnFLRMJRbHFQ+XIsh4aab4FlSqz1uaoJBlB42+W7jBCR0NHZY8dJxx/XHjpxedslA872ITOxV6CohlFKlkqTOzlfX5pRPjuEvA39lgFHStXzCPc2BzOsdxZf2LG/waW3tCgIipp/DlaHDcAIfjCC8+U9w2425VCkfssOaUTsWDBHLOP/QmMPnfI4vRLA0rDkfWbEEKIPHT46YQjaPhlBuaqKy83EcVyP+poBhwRe94u8M07hGRbQpFTQLnH5w28vfA2h7/Zy4671OtcHe1R5Fln6IxZ/EMYOawNkdFZxkdB5e0w4QDaO9pY2lZ+eUYcMtu1006TbK8kWyGGDxtkIufcr5xT/i6ih83BPvxGPHN4G0t4017LlqW3Du0wg7HsJ6XN5PTyZ5992lYhIfZoP7EPoWiH2UQ/YIcPXLtQvP++u+008qz9PPe2E3toj/nOMoO2CEX+T/vt/kLgIfzYz9mv3zb2HDj4iMHnzswo0s9AcDIgjD1md0lAAu6A5x/+NqEY8xppY0KxKS8UOXyJGV2EIuYRill/iM0fCUWxxUMF2BmhCDQyVIA//tGV4Z+xAWFklb+vvuoKWxLEaCJiDjv98xgdCUV+abC/+c2vWqVa6SZ4g+gzihyVzohnqrDTs6x5Rj1pIGiEqcRZakrngaWm+IFlMDYKGs15xV80o+ju4k9Gkjl0pyPYx8h3pbADzH8FfhRCCNGCL/PzOvfS715k9T172XnG/sRrf/pj22f48xuutQ/Vs9KjUiiyLJHTRGmfOIiFmTX/3MaJHz/eBM6ll14UbrzxFyYMGATk6kgobixmdxRJ7gZ+pk3Fz52BU7sx7/Z5m4J9tLn8siT3qqt+EO6+6y92ojgzefyyvYOD5jh0hwFed9vtKoLZSeKXthK36BvgBit+OGSHj9m/9trL4awzz7A2lllK2ltm70gjltzSJmaFYrYddKGIH+kvcGos/j/yyMNshRErnFhl9LOfXWNi0YRi7KdUCkXsZJUUM4rMImOOFU6AX8knfE/S3YUioUj4yGO4cW4U0/yN/5kVph/DTO0Xv/C5cNllF5t4Jg6LhKK7gb1f/9pXbCYYoZjCrn7AloaEothiYLlIVvw4VGar7Xs/a8O7jjzcKuDsc19iAdjD76dO/oQ12Ii/n0R++pOrTSx+95ILbBkpDVpZKMZKvyOhOGLEkMD3mtjQzv/d7Ra/p/8zYsnR45x85/6pxBthzI+M9mI+XevsXzb+c5Ia32Fy9zHbakaxJETdXRohLn7bgkaV6/e/v8necz+lDpAaCCGEKIK6GNiX5v/n5NKsUFy8aL6dXEpbw6qWX/7y+lZCkdk2Zrioj4sulkoiWui8831AzHZGKPp9bxM2BJauYgd+ZcaOtrct9yrxwUYn9zzaS3t2xumn2mwYZw8ght/1rsNNeLFUl+WptNlcfG6ET1+0sqcE7R/xyCoh7GOQlH4AzxBn7H9ct+5VE0icJ8AqH2YSn3ziEZsd5HMeCDb2MLLCKCsUs+4gVK+77ifldrN8rX/N7MZO7LssinqWvyL0felpVigCK3gQw3wqhDzz4ovP2WwnM9IstWWPa9bt9mYUcZ/+EM9brrX2zUvOUuCwPj8MqZVQjILe3SCNv/+9S+wbmwjdrPtiy0FCUWwxsCGdE8Q4hY19iPyuWrmH7UNMB9yssyO2mXXjuRH/ZnkPp3lOmTzBGhYXVu1BpYsY42pPKFKp8q1CKtGyUCw1SOCNo/1dsrv8LPN32yAWh9osHyOUHKdNx4BnuM+v21t0mI0/I+x0PC644Fu2Z5OZzUpoEBnJZoRUQlEIITqPibxIe0Ixa576GwGTFYr+HnU+7RszQiwrnT+vpc5mJogln6NGDrM6mnqerQVcHQnFXXaZEd7zniPCe969YdjhaTF8CJzV+6yylTycko3w6QzMjO6/3952YFrWb4SB9h1hRJz5wSmIKYflt8QhdiCW2X+IsMnaY5RmPGmbafe5aDez7RfpQTtJW8rfDKQi5BBNuO2zpB6/bQlFlv3OnTvLZgOB8xLY6sEMJnYy88nhO9hH+iah2HpGETDDuQaTJo4NkyeNb4X3X9x8kVAk3Bz4QxyRdxz8NHfOzDB92lQbfPaw4ae2hCLP2T+KeP3+97+b86vYspBQFFsMNIJ8l3BDr29/+5tW+XWWww5tEYpUoGzoZwmI76HADI0myz+zQtHuxwq7rQa7q9CgsMQFe138Ze3n/5AVirxjZmPjyDMaGvbCYMbtcWgsAPtobDh0gUNsMFfpFyGEEK3xOrmzQpG6ty2h6Hv4yv8vwf+t/o5tDlDPs9Jm14Vzra1qTyjy3idP+riZsxmnDYAZTPzJYCOCZ0MvZkM57MX9Rjhot7CT5aK0sYTD2yYgvrhPuJlh45MVbR1mwymrCEtOZUV88t1CF0cpLpM5/uYeq2+ybmXhecthNnmhmOxKy2atzY1+I53d7263bzNpTyjy3NrkaAftcCU8z7qdFYoMDJMPcDvlifyAeNYNzPn/MYOwLFp6illmHRlgJk0Ik78ntiwkFMUWw7RpU2wUs3I/Hb/+DUBGYfk/5pw087hneZ9CZ2G5Cxdr+00o/uTqwDeH+NvNeIPA0tN77r7DGsADDlhty2WAyrwIRvwYuSwKZxHeAHlnwyrtUmOHP/ADy2QYaWUE2gSgNQjJn4wksgSHPTPsP2SEMQvv8Dtv3mwLY+WMohBCiLahTnb4P4IRofj8839Ph9mU6m6HOpq6GKHon1GqtAdxgz38pnu829JGuRig7uZiuaa7Xwn3R40aZitHZkzfaYNghgx/ctAMfme2CrHL30sWL+gAzCyM5hfa5yWYBXO/EQ7CyLcH+VTGiSceb/Yyi4Y4w13cX3PgvrbihY/f046yNDIbRvC4cXsZ4L3pphvtkCHuV8aPm+UX85Vwn+8RPvnEo9EvY3LvgqcbuF3uhrsH/H3UUe+LqbTO0htBh6D1d/29jjB7Yx4g/AjFww47yOIB+4lDF5XuF4N8U+ovZEE0IhTpN7hQLLsR32cVE/5l1VbOPrFFIaEotgiovKi0TQAx4lZRmXeEj7IV2Z3FxFipkmVZCpvc5+wywxq166/7ia3tz9rl/mJGkWfM6HHQTEcwOslHhCvd31Dww7lfOcdGfWlgaRSSUExhQigyavjyS8/bnoznY0Pr8P9nn3na4DAfOi58jFcNgxBCdJFSh5y2gYFKvqtYtL+LWSaEFtdBa/azWSF/xrveYc/+7bTUzamtYiknF4efVZotIts2dgXccoqed4ZcW1yKK9oo2isE4de++hXbR+d782grEY/eRtHO8o1HPsbf3mE22El/geWxzz7zlM2C4n7WzWx4smTFFlz5w8vNL6zMqXSnK3zoGD64nz65hd/a838Rnrb4KXvYHnGa8knxe22BPSw9pc33701zH7sQnXxG7Lbb/mCH9RFfle+LLYMJk+ZJKIrNFyqy7P9TBeYjrZ3D7am0q4hs48EsXlVVy+wh38ni5LlKe/z5iOGDbW8Je0c6gsqZA3Oy9mwsdEo4EY5Rz2xngTDRIC3adV55VLcIBCYf2ueXvSwWLjUOQgjRJRAk1J8c0IIAzIrArBn2G7Ksj4E8EzEVZtrDhQF1NPvaTvvMKbZypshsd+FtHRQ93xgQOwg0BmUR1uz5++AH32sndSK2EUbMKhJun9Vs3x8tM64cXsOH4z2OsSPb1nfEAfvvE46JIg83W7vTeRYumGPnKRAO7C0y0x7ervPu7NnTLc0Z0PZwbYidLH8lDyKoyafYBSyX5rRZDt7z7TZiy0QzimKLgUZxQ+DdzgqebOPh96icEZw0ZDRQbmcRnXGnsoEqMtN1krCt9De/5g7PbTY2/x2pVmRma1vsFkII0VlS/dm5up161/7OtFftkW8z0t9ev3e2PbE2aBMg56dSO+VCEBCNtLsIbmZgiVfMYcbat/ba4mjO2zs+N/H000+YQOMe7bm510nYZ2giqrRKZ2PIppP/dhWLv+gXVle5H+1+F+3zvo37yd8n3pnZ5UwGzHTVXrF5IaEotggqKyqv1DpDZxtsSBVw9t3S/YJ7QgghRG9S2S7x68LJxFPp2eZGT7St2IkIGjVyqB1+w0ftGQxlbyDPNoQid7pOtKsL/ZIiivwGRWbbozLPED+IxzM/f4btg0Q0ci9rRmxZSCiKLZKiCrItit5vCwlFIYQQmzKbsyBsi55oW7N2Emc20+urjDJteldw+/qaIr9Bkdmu4HZ4XCG025u5FZs/2qMoRBeQUBRCCLE5ofapfdLsXVqKuqUIxZ4jhdHCKoG4VaAZRSG6gISiEEIIseXRVpveFbL2bclsTWHd2pFQFKILSCgKIYQQWyISip1HfZ2tBQlFIbqAhKIQQgixZZNt07tCkV1CbM5oj6LoMo02ktQHFSLr4TeBNfG5BqHkp6yALPvT/Zr9f3eT8Ve7FL3bFl0xX+mOEGKzoL5E0TMhtna8Pe8qRXYJ0X2Qxzr/eZ3uQDOKol1MAOUyZXVoiv9HLNLJqKuvi78OH6ntORoaet6NvoTwdTqMXTG7ldCQo3VeFkIkGiOp/ub/lJ+qWKf0D3URfhvqB8Tfqvj/ARnScyG2Bmrq+20QRXYJsaFQH6e6mTrZ6Rfr7IFWh/fGgJ+EomiXuoaBoboxZsr4m8RidWiOnYqmxvissT4+GxxqIrWRuoZB8XdQ/H9zD9FUcK+3aQrV9Y0d0xDN9SApLjofH4V+rKQBsL/ifluU/VLsZm9RG6lvaI6d36bQVN8QGurqQ32k0YR0z1eiQmw+MIhSFwbXpr9rYhlpjGWmtvEdoWbQG0P14DeEhuY3hsamt4S65reFqiGRoW8L1cPhLUIIIXqYmkjtsFgHD/vfUD/szaEh/t2/4U2hujnej/VyXcM2JhwZ6KuL9Ti/PdnPkVAU7cKMYl1Dlf02NsZORkNNGFTfP4xrfFvYuf71YUb9/wsz6/8jzKr/d2NGw7+H6ZFpDf/Wrcxo/I8ws+k/esTuzRHigjjZ2uNjemRGZFb9v4XZkV3q4v8HvSGMafjf0FS3bczDadStKG8LsTXCbOKQklCsahwQho7vH04+b3n4zFXzwonXTAun/Gh6+PTV08KpP9o5fOLHO4eP/2hKOOHqiZEJQgghepiPRU68akL45JWTwslXToiMDyf9cEo49ZpFYcYB24fahrfGfjmzjGlVX88LRe1RFJ3AZmbIlA0Dww5DasO5Ry8Lvz5lSbj15Nnh9yfPCn84eWZkRrjlU9N7jFtPLr4vtm5uhZj3fh/5w8nTwm/O2C0cOb86DK57U2ioYxldcZ4WYuuEslFlfw9o6heGz9guXHL3QeG7Ly4I33h153Dhy/PDpS8tCJe9NDdc/PKc+P/ZkVnhgpdmCCGE6AUufGlmuOjFXcLFL8bff+wcLnhhSrh87aow78NvCTX1/xv74ixz7i2hqBlF0S5pqRJ7EGsba2MG7R/GDKkKP/zI7PDXT48ML5/aEF769KDw8qeHhFfj76ufbow0dDv/jLxW+i16LrZuXjm1Kbz8qcbwyskDwlOnjQwfm/ufYVjtf4am+n4V+VmIrR22D2wffweGgY1VUSgODN+6f6/wjZfHh2PufFM48roB4YM/awofurYuHGPUhqOvrQlH/UwIIURP88HIByLvva4mvOf66vDuG7YPX31mx/DdtcvC3GPfFAbWvjHUxjrcJm80oyj6liQSG+sqhOLg7cMPPjIzPPiZHcLv3rdt+L9lbwrn7L5t+Mru20TeHnlbj3Du0uL7Qpyz5C3hW3u+JTx68g7hydPGh0/s8l9hePXro1DUjKIQeapDYz0zigNDbUO/sOPO1eGSe/YJlz47N8w64XXhX4a9Lry++XXhTU2JN0beIIQQotf4H4j18H8Oel14XayTL3piWbji1b3DvGP/J/SreX3si29vW8EaY9889dWL6vruQTOKogNqQ1NdEox1DbWhtr5fFIrbhh8cPyPcf/q4cN4e/y/M2f51YWK/14UJ/f7Ffif1BNGNyRF+C5+LrZuYLxbXvS7c/qmdwqOnTzGhOKL6f0Jz/YCK/CyESMerDwz1DdtFoVgTheK+4bK/7xrmH/e6sM2I14UBTeyDGRBqG7cJNY3bRfpFthdCCNFL1DYMDAObtg39Rr0uXPbo/uGqV1aH+cf+V9iu9j9NKLLfvCn20Rt7XChqRlF0QFMdoxa1sVORhOLoIduUhOKk8PUVbwtTqv8tNNVWheq6hlAXzRZ9W0iInqShdkCY2vy/4eZTZ4cHzpgaToxCceTAN4TmOglFIVrDJ46SUBw9rSZceM/+4ZJndg1zPvq6sP2wf40dlFim6pqiuYZIfaRnOyJCCCGyRAFYNyg0xX73oLH/Hb736AFRKO4TheL/C9vW/YctPTWhGPvcqY9eZEf3oBlF0SGWCSMNMcPW1/WPQvEdJaE4WUJRbBLkheJOUSi+PgrFN0koClFImlGsKwvFA6JQXCShKIQQmwStheLVL+8dheK/h7fX/5vNKDZHc4Njn7u5Lq386ymxqBlF0SHlEYsGROAACUWxydFaKP63hKIQbZKEYq2EohBCbIK0JxT/NQrF7cpCcVBdXQ8LRc0oig6QUBSbOhKKQnSFrgjFnj8sQQghRJZNSShqRlF0gISi2NSRUBSiK+SF4gV37x8u/nvlHsXGaAaRKKEohBC9S14oXvaIZhTFJgwZMGXCutgprwqjB/thNhOjUHxLFIr/GoXigCgU60O9OhSiD2iM+W+nKBRvjULxwSgUT4pCcVQUik31A+z7QpUU2SHE1gIH2fCJjPqGbcOYadXhgrv2DZf8bUGY+5HXhf7DXhfqGuLzuoaIhKIQQvQ+CMXm0NhQHZrHvT5c/NA+4aqXV4X5x/1rFIr/EoXitlEoVkehWB2FYn0PC0XNKIoOaLLRirqYCaMQrBsYhaJ/HsOF4r9Eodg/CkW+t6gOheh9skLxoQqhWMdHaTNIKIqtHYRikwnFbcKO0waGC+9aHS5+al6YVxKK9Q1Vsc73zgd1uup1IYToPUpCsbE6NI37r3DBA3uFH76yMsw77l+iUHxdFIrbRKE40IQidXWjZhRFXyKhKDZ1JBSF6DyVQvGCO/cJFz01t7VQtJnH6kI7hBBC9BRJKDZEodgYheJ3HtwrXBGF4twKoTiIrTexru7JwbzxEzWjKDpAQlFs6kgoCtF5JBSFEGJTZtMRippRFB2ShGLsXNDJ9sNsPjo9PHD6hPCNFf9b2qOIUKxVJ1z0CQjFnaNQ/P2pM6NQnBKFIh/c1x5FIYpIQjF9cN+F4oVRKM79aGmPYiw3aekpZnlHA4BCCNF7IBSbolAcGBrGvT5854G9ww9fWWVLT7eJQrE2CsWmevYnRiFZ3iJQZM/Goz2KokPsMJuYIRsbYseivp8JxSs+OiM8ePrE8M0Vbw6To1BsqOsfaqJZdcJFX8BhSjs3vzn84dTp4eEzJkWh+J9hxMA36tRTIVoR6/IoEvmta+gXxk6rDt+JQvGCp5NQ7Dccodgv1vsNVvdrj6IQQvQ+jXWNoT4Kxfrxrw8XmFDcKwrFfw3b1iEUt439cj62Tx89Dehpj6LoM+zzGCxBcqE4eJvww4/ODg+dNsWE4riaf42Ztn+orauWUBR9AkJxetObwx9PmR4eMaH4/8Lw6jfEfCuhKESeWE83DAg1DdWhqmlAGDOtJnz7rtVRKO4S5p3wurDdMDohCMXGNEAYKbZHCCFET4FQrItCsW58Oszmilf2CXOP+w8TinwegwG88oq/gve7C+1RFB1QbSKR/SwtQnHbKBRnhodPmxDOW/GGMKn6dTFD9wsNtepQiL6hubZfmNH0hvDnU6aFR0+fWBKK/xOa6/qXR9qyFNkhxNYBdXr/WJdXh+pGhGL/KBT3Chc+PacsFJlRbK5tCkNqY91fx+xjkT1CCCF6hrT0tK6pKtRO+H9RKK4MP7A9iv8W+tX+RxSK24eGBl/xkVaIFNuz8WhGUXRAViiSEQeG0YP6h0s/uiDcdvrMcPbK7cL4mn+3jnpT7FSoEy76gqba7cJOg94UfnXKwvCXM+aF4+a8NQytSR/cbywtzXCUR8XWTbWVC+r1uob+Yey0qnDRbYeHSx9bHXY99o2h/5B/sT2KzbWNYWhtVTQroSiEEL2JHQxZ1xxqm2I9PfZ/wiV3HRaueu6wsOsxbw0Dat8YahuqolD0b9z2tFDUjKJoFxeKZMTa0NTYEEY2VoeD5w4KRy+qCisnvDmMqI0d8igUm2OnQsuURF/Q2LB9GNH4v+GIBYPCsbs1h0Uj3xQG128XhWHMk/adIQlFIRw/zKahoV8YPHL7sOzIEWHZBxrD8Ln/HeqGvMO2EPCx/SGx/EgoCiFE70H9Wxf727X1TaGmsS5UD31rWPquIWHPo5rCqLlvCFW128ZnJTGZea+n0Iyi6ICsUIyZt7Y2NFdvH4YMfEsY2fC2MLThHbafpTZ2KJokFEUfUV23fahv7hc7t9uGodX/G4ZUvzUdK03+zYhECUUhgJFo6vT+obqmfxgQ6/J+zW8K/RrfHDjdurY2lqkG9pxTn6tOF0KI3iSJxcZQ38CBNrWhf91bQr+6N4X6QdvHPndtfNZ7n6PTHkXRAamznQQgmbI+DEIUMlPDnsXYmaiJHY5aRp1rNfIs+oba+qpQ0xCJf9fXDggNMX/WlZ4hDLNUvivE1gdCkTo91uF1lJ9IrMtrY53eWOqA8H86KzqgTAghep/62N9uqG+Ife0GW2ZKXU3dXF+qo3urbtaMougCCEU2z+ZHmes57bRE3rwQQgghhBCia8Q+dwNbvuqiWOyd2cMiNKMoNhoJRSGEEEIIIbqRhpo+F4qaURQbjYSiEEIIIYQQ3cgmIBQ1oyg2GglFIYQQQgghuhHNKCaRUXRfbD5IKHaM4mbTx9IoVspFz8RmxFaahkX5V/Wy6E3qageGdFJu8fO+oMP8v7XW+W2Eu7GxtSDpS5FSydZYnxH/W92MYlNTXaitqbJKxf+/KWXELZFs4WJ0IvusPTxdUkYtNuOdkS29AHtc1FQPsPxb+TwLlS35G5qb6rfKym1zwOsgOjf8vTXVQ94hIOzkz9raqpivB4Tq6v72/56MC68vvFyYWxvRYbNPOsQyOai5wf6ftXtrwPOv/9/TzuNgU42L3k4n3GqK+d7dVN28cVDuPK+R/yiDPS0UO5temKuv41TfkvnoV/4mzQc1p3TfdOv76PdMPHanXwk/fRjvz5Xjxyndx5w/70qfsSeoi+lI+9TKr12g6N2u2rcx7ncV0rsozfGDU/msp+iTGUUCuGrlnuGAA1aHUSOH2b2+K7C9F9l9DZUDv0UjRm1CQxDNG22kUV9k3N7GKu0YF4MHNYbdly4OK5YvCzvsMLzYbIyHIYObwj57rwz77rtXGDliqDWiW3L8bM6QLjSE2fTZGtKKjgAduyWLF4YjjzgsceRh4V1HHm55l7xe9N6mTepQeSdna4H8WoPIH9jfhNCwoc1W7wwa1GDPOhrY2logLhhM2HOP3cJeq5aHEcOHlO9XmhWdo2rA9qE5Cq9luy+J8bq03Kfra0hT2l0fQGEQjDqNckG64+cW8bFppn+bYm4DQXAB9lEnePzk7C+5yX0301P9c9x1ip47M2fsHNYcuF9YMH9O4fMtHeI/K5R7ejCmkj6ZUUR0/OX2P4VXX30xLNp1nmXGjW3IOspobbGh721ujN5hRPjsGZ8J3zrv62H+vF0KzRRBxXrM0R8I53/rG2G/ffcuNOMFfUuOSy+YEyeMDX/5y5/CP1541gY7Ks0B8TB50vjw2KMPheee/VtYtmxJvKdvTG6KUO/MnjU9nPfNr4VTT/mkdbabWeHAYEqpwdySGdB/u3D++d8I6VofWRfWr/tn+MPvbw5jRo8sfKc76M6OB+UN+07+5ImWjnss222j25PNDeqn4cMGh6OPen+4/PuXhltv+V244y9/Dr/+1c+t3mdQq7vr5+5Iw95uN+h4U4ffc/cd4aUXn4/9j/m9PqjQU53u7qQyTTpKp7E77hDuuOPP4W9PPxFWrthj49M0plNn4qljMyV/R/vox1x/3U/D7bf90eq3H//oyvD+973b6vqN9m+GHkvfbmiPEImjR48In/vsaeHznzs9fPGLnw/Tdp6Sqy8pD8QHfZgvfuHzxry5s8uCu1vIhCUb9xZ3BeE84/RPx+bptXDRhd9ObXPF867QXenTY+mcYccxo8I5Z58VvvH1/wsf/9hHyjO7vS0U+2RGkRG9e++9M6xf/8+wcOHc8kxXR5ChHOy47bY/hIcevM8q/s5mYt77xc+vs048I2AbkvmzGXtTx+MLkbdu7avhiccfsdGZIrOVDBzYzyqLp5563LqRy/fcvdCcu7E5xUtX8SU2E8bvGO668/aw9rWXbdalyCyVLvH29FNPhBf/8Zx1XHsrftwd/JqlyOymgvu5s/GzseHBHZZX0iAx+3LZpRdb/v7yl75owqmjjmNn49TD1FX/0hiwHP/KH14e/va3J8OBB+zb6bhx3O323sNfPF+8aIHNJh5++MHhS1/6gsUFQoNR942N666yIe4RhkWL5pu/n/n7X8PUKRO7ZA9mezucnaGj9HMYhGIg8Dc3/tLiAMG/9rVXbDAL0c9Feu680+QOBXQ5LrqhU9oZLIwVnZ620gKztNfUp7RJiOChQ5oLzbYFA0Hjx42x9p94Iu9vaAfYZ3s2NTqTZzqiqCPaVueU/IdQfPCBe018M4DakwM1nS0XDvXp9y67xNKbPtDjjz0c/v63v8b/vxZuvuk3Nhie/Nt9yzu7i66mpcVNOyKCtKIeeOWVf1At2PX1r51rz+gb8z7xRZmYs8vM+JTBwxAOPWRNp/vpXaGzaXnGGVEoxuu7l1zYqn3ubJpVutNZt7MUme8J0UaYiO8vnXOWhZvrxl//IgwbOsjSpifcbI8+mVGsFIrZSqW9xPNnjIoQYX+PnYLX/vlyFIo7drqyp2FhNDGEtVH4LO3RCq2I9sLXUwwYsJ2NMnOdftqpnXa/qmr7NJITr+9/77vtvtf94erdOOoUsWNAvnvPu48IH/3Ih00MFpkjT02ZPCEnFLnfpfjJdEKoFLo/fruf3vJjEu2t73fJ/dL7uy6cZ/XI88/93TqNVNA0lG01PpX37f8FfumQdt4hDNSRt9z8Oyt77zrynfFesdmNBf+TXxHOiOT999vH3Pz9rTfZDFVb8VCJ5dHuKrOdjE/yAHFFR4/ODteFF5xfXlpV9A4UpWFnw7kpQlgRx/ffd3f4weWXhcMOPchmABYumGv1FKsauK74wffKS1GL7IFyXHQhTxcKpi6831nwF8uv9t57hYWHAbvhwwcXms3mxdzfMezU4R/8wHvDx074iInGzuRby9/x3VzcbUgYeyBeKiGeWvl1A3A7OrIH9+hXve+97wof+tAHw6SJ46wMFpntNirisS3Rjt+POOJQyy9MKhx80AFWVnbaaZItPf7wh44ycx0JxVb2d5SOPC8y09F7BeB2W+GrxP1fmHbRjrxQRASuN4G/09SJ5aWNtH/EB0KRAScu2gWWtZftKqCzfkx0LW+6ULz0uxdZ2+j3242bjvzTJf9m2ND3OgkzpugZti2hbxh84epLodjnM4oLFswpi7Wa2FlhxM8iIpvBS3jGJ0MPHdoc/vrkY+Gfr74UJphQ7Jzg4z2WveI2M2TudldA6fNeVxOLcPEetBXG7oa42mX2DBtJ+9vTT1rnrzPuEp8TJ461TEplgfApqvzdLk+byucbSltx25Eb3emHLKSXL2Ph7/bSj/RtTyhWvkfF7H97RZ9tsDy/teVm9n3zX0wnz2eJlpFAnvdEJWPuRv/hHv5tL34q8Xf49ffabXTiMw+b3/P/mx0dCAXv9BFvLL/huurKH1iccw/a6jDwrocz634R+TiJdVuExjaFL29/pX/raqvDr3/1K/PbOw8/LIq4fvF+sZ8gb1/af0Kc2sxpxlwW3jFiw8Qvfj34oP3NzT/+4ZYuCUXe7Sif5iilIf7ran5x8BvvsHQqzRAF2z+M3dx3Wr+b2hB3N3U2Og5n8muxf90vWfMbituT4jTlGeKq0n7+7/5m3xX7d/Ab92ljeZ/9YyzJpf6nrRw3dnSr8p/+n+IKdzwNs2bawt4pxSXg1/K77ZXhDNiRdRt7KsOLH7nXb/t3hFWr9rS0ZkURHaesXWXzmXez7ZbHF/5sq+Obfdfx9zychDFbR7WVf1IaFpcLj/es+e7A47KteKxM/yIQFLybSHmqKF6A+tLD6fVbW2bbwuOV/p+9344fee7ueRj5vz0vpYmnB78sr+T66le/bGZ9RooVU76vN73ftlDETcz6O0Xhy97j75ZyEfNapJwP2ykXvEe+wj/4i/eL3Koka4Z3PU4q8z7mWoTiuvDySy9Y3Hzq5E+keIjmSU/eRygiVLjYH9hWeTGin7G/aFloUVuOO+5Hjyvzb+n/leUiKxS9ffZwZs1l8bT0X3Mnmnf4f3IrPutEmQB/x+1o8W967m5tDOTPESOGhD//6ffWrhFmrq16RhGhuMOo4eHwww622S545+GHhB13HGURQqbw98jgZNgD9l9tS6WefeZpEzEfeP97bHnWmjX72XNGirLu0TgyInLQmv2NB+6/J0b72vDpU08O+++/T+m9fcM++6xsNUI5fdrUcMjBB4YlixeYv/ddvVf4xIkn2LptRiUZncKcFwbPSJgl0zDazUwFI22nnnKShe/4jx4b9t5rRZg0aVxuGj2b4QB/M+VPeAkXM1idFcRZrvnxVZbRWJdOx6EzDTh++cynP2XvMUpNheUNAnu6iJNZM6fZ/wknGZe/s3b4/+fsMsPCcABxHcOx25KFVnFWhreFZBejvZhfuWKZpS9LWirdqITn7K0inRgI6Mh8e3iFxGgpeYq9Fyw35W/80tYeLiqQtoSiVcIxDYk78iL+HDy4sXyf/OD5h4r6Q8d8MJz5+TNsnxEHjcyaNa2Ve+Qx3mepIOXpyCMOtTzKe+Q3RnonT06zn9jd3ZUMeWPc2B0sjemUks9O/PjxlkcYXfbKc2BVv3IFzTukL+WefPaFsz4XPnnSxy3NqAwrK1yW/FKGmQFEDJz2mU+Fkz7xsbDL7OkWVwcffEA4++wzw8c/9tEwldHRkjtZOxzu83xELOsPP3y/1SFLd1tkHQDi39PdzfM35RtBQhqwl9HDuHqfVZYP3Dy/2M1hRjtNnWQj2Mzq8M5pnzklHPXB94WlSxdZmrn9QMNJeT/wgP1jvB0UOTjcfdfdVv7OOvOsWA7WlO6vCQdFMTdmTMp7uEd48DP+WBHLCvvUcI86ijgir7JHLYWjdUPG+9ynrOBfrj/84eZCoUgH0jtW/OIuM1fHH3+s5TfCSH3M8vZU9lrSwP3KrBb/323JrtZBId2Y3Zk5c2erf6kbSWPs9ncrwS6ek4/IN1w/+cnVMf1SHYU7ns7Tpk2xemTxorQfjWWqxx17jMUP7iKwWIJc5A528I6XRdL99NNPtTDSHhEHZqa5PowcOdTaEOqJziyJZP8JWwIql7Dj5ylTJpgbtFHE6yc/+XFrC8iDnia4y99Z3A77fwwTZY5yyTI7hCL1EvZbG1BqB4jHHUYNs/L1sROOsz0xlEn2dJFXh8T6qajO6N9v23Ld6OWefId748aNNnfwY+V7wD4p6j7ianDMD+Q13iM/ePwywInfSE/21ZOG++23dzjlUydZetOOU39w3yFtcTPrLu9TNlau3MPyFv51ENgWHyWz2fdmTN/J4oTZWeoYyhFlnnCSf2gH07st7b2/S11O3+C97znSBqNIR9KafIJ9+IPn+C11ztNSMxu0aQfP27jrp8VT12A3bST/x9/UOeQb6kPKkr8L2fACdRH1LvFPPYsdXqYpzyfEX+zIinLM0JnlUDfqQGY/CBP/Zxl0W+lOPPFr/o9py+E39Ies7xfTnfpxl9hfwFyu/Me8SlmjraS8Usedftop4UvnfMH+JsyELblRX04Lfj/96ZMtv3A+A/HPffzn5vm7yL8rlu9ubRhxsvNOk8wdr+PIC356brKrRXiQHkxeEC8f/eiHLb/Qfh/74aOtnaH+8/Bn3bP0iXlhdmzTjjrqfZZvKFcMjGCW/bSkM+2E+x14Rn7zdPvgB95jccn7tP3ETTZ8WaF41pmfDX998lFbjuv50eyL/rMZxbVpRpGyRV2CPeQX0o3w7Zhph3iP+pf+PM8w4/1b7MP/5DEOO6KPf/YXz4z+OzL+f6j1BY6PcUX8Hn7YQRaH7l/ICkXKMu0UZYp+wxHvPLS8MsDT3fD6LfqJtp2+A3mNMJMelE3fn1lZv6U0TX1QNIJPKlFP0W87+eQTw2kx/1nem5HyHuG3cpr1QwcU1avbb/cOqwdfe+1lSz/qY9Jq65xRvOfOwOZUOng/u/YaywR+kTnZn0MFTOT7e95AEGntXSwxIME8Mjld1UdOWt7ld236s3TRqafBdPeAipbrpz/9Ufjq/33Z/NxyrbcClm3ovbKg4JJRqZywt/JCJLOxmobK34Gs2zRSr/3zpfDKy/+wOEEcm9DLmGkPKh0qJvz85BOPWkeMTFw0wgO475mcfZ8P3H93WLfuVaucPC5ZnoZAJuxXXPG9VoWiMgwDq7YPP7zi+xbmb37zq5YOf/rTreWGtahQcY9wppHAdeE73z7P/M/oCu9VzpBlfynMdOa5fnLN1bbs1s12FSuQ0d7p06daehFmYHSeNG1vj6ILRWZkfY+iP6fCZEM9dlFpUQGTJrwHdCCpAFkOWXmxxxR3rVPhcRffxa+XXXaxvZP2JaW9BXbF9GdZGh2J/v23bZVGGwJ2AI034WOWPuemXal8+D4gzFOe8fu8ubPCn/54axRpacTSL0QbAxs0Bt7IAH6nDLDXipUEfjHzRWefTrBflCtv7LJ+zoK/afC5WFbN/7lvlX05TxJPKa6oBwhLsHyQvdaFn9/wM+v8YY4wEtaPHPchy7Ot4yRYnqDyp8H1tMB9yln2Wr8u5rXXYj1VYQX5j0YPdyw+Y3mg80Dc+Ahw/lpn+7kQrtSLKWwt4AfCjH1lofj7NoQi8VHKq7hNPqV+SvWpX+st77/nPUeYGeLQ4wU7CCsdvBeef6ZkPl2PPvKgnbiKfYym4jbuUI+leEpx5VDHUn9SL/wz1pN0ksyPJfP4lffpoBEvP7r6hyac8/XxWtvLh+BA+FSGl7JJ56WyLJIXcffd73qnzTJgljzwxOMPh8cee8gGGD28bcU5wo+yyd7CcsMf47Yl71Re681N6gfM4tdikhv8TVnzPbi33PzbsPPOk3NmSZ85c2aG3/3211b2Ki/qazpUHhb3O5DniNPUjqa6MV1rw+23/9HKfb/ttzGzuOXh45cDvtgn9tCD91pepszm29ZgfQQGR+k4cZha/sq33X5dddUPrO3ATfcvcUD90ZJH11pYX33lRfMjz91sy0zaAOuIEibij84+5luutVYXU5cTJuoq73PgNp178nPl9bWvfqW0Xy7N4uA2+Rg3t9v27VY/twftHwMSya8pXikDLC8mjyK+K92lPFFOy2lQDmsasON9yhvhI54Id2Wfhf9TP2XfR5SnckG6r7V6DX8gFrP5xcG9BMJ/tg3sFOU5Vj6xJNTrZA8n5Qy/pf2F+fTnHeoOT0vM8x7+oL3kuvuuv5iIIW19VrCSrD9vuulGa0tPOP44a6uyF+0NB2e1uNcSRsQQbYXvD85elKfzzvtaEjYl9/w97KL+rawXiSPan1TW1tnS8nwer7Y6gTr11czeQ7timSKfYi/xyTstQjHYslyW63MhLIk3ID9WCkUf3Kfc33nHbZavGGzxMFCX8Jw+J/GDGbMr5m/yLqt2aLtSOFJdwYGWCEYr/6ULe+nrZuPGheI111xVqs9a2hvsZBk6A0v4G/MO/x82bJBtTXj++db9KbQCAxxeh7t7CH/iePHiBdZ20L9hH27ye/769a9/XnpnoLUXvEc/uT0w427ybvaXdoRyhVvkiS9/+YvmzlY3o8ioju8TpENCAaYCQIBc8J1vWcJz0UARoem9dOgClSsjXPxaZRYLwqmnftJG+mhg6Qigwls6YWn/BiMJJ5xwnM20PP30E1aIz/3K2TZqRkeT9xklzI/0V4cTTzze/IJbZGBGNOhU0EH45S+uj09eswYNN3DPIYE/9alP2Lt0HGhoeI9KBLeu+9lPrIPALFD2vRa3o8CNZlNlkwoFHS8yYtZMm5QqLhomLhradBR42xkM972CpXNFYWevEpWrN4BUsjSOjHY8HjtFdOjd74wCkYmxI3UQ054+RAqNEJ0n/qbgMdPEc8x55eSVLY0uDSKdFyoUBhN++xuW4a01t70BMXGFII9/p//j94HhKzFdudhf2en4KgD7qDAYNWNkz0ewnn7q8Rg3L1oFU/QelVNZKL70vB3FTsPklS/5nTiggrQGNYYDtwgLI/R+oAgz5jRG7Ilk5Orii75j+YG43Guv5eU4tlM64/sc0kSFyaEslCVGvhih/elPfmTu0Ui5aGsvH3REiudUmdIxMZEWy+FNv7vRyt9hhx1k7nNSl3fCSYf0TuwkzN8lCrybLYx0UMhrjArSIafB5yK/knd4BzcZNPFOBeIa8x6PiM3PfvYz5s4jjzxgZhjNtArV3s+HlXuU12f+/pTFCbMm+I9weX50c/xNHFInEe9XX3WFzXbQcB599PutPuB0SWYXSEd/Bz/ed+9d4eKLv2P1Cubx8znnnGX5gotRSXeHvMHo5sdO+GjsFJwQ+Vh4+KFHzNxFF1wU738snBjvnfjxE6y+oqNBfvG0mDplQrj//rtNtDKgxkj4gQfua/XdH/94S7Rlvc0SFh1d734mvtoTil4HYI54coFOx+bb53/TGndOEaRDwEX+paH1vE+Zxh5m5qjTXnzxOWvAiZf3vPudVt5tECDmJepU6gHqUd7F3cp05L6LfRpVhJ6XCeBvzFDfcj3xxCOWvzgQgfJE3HBSI3U4JxkjpHnP4iN2+pm9oPPFRZvxnW9/0977wPvfHe24IOa9lyxPUk8TJ8w8/P73N0XT661T7f4mHNRL2E18epp9uVTOzz77zLKbdLJfeOEZs/eSiy+wOCXv03FmwIw8xSAedhA+z69ZPPzUx2lwda11rpkFIT6z79He/SR2vkgP0pw0JTy0vdSfiEvyP2HhHc/j2E1Z4Hr4ofvLeY7306BRsPrAZxbt3VKa4C7l85lnngpP/fVxq7cIL/ZRxzLaz+AifQTShPoev2M3nXbqRK6//vWxcNJJH7N237F4j+WCOtHjgbJNeWe2k5nSc2J8U/a5aE+ynUQgn9IpTitq1ocHHrjHwviNr59r9Rrllg4mF+2j11PkAcJK25YGAoPlaco/dTH1IfUV6ctFm4J7vIM/vhI7hIS9XWI9R1+CNgH3eH/0DsPDP/7xrA1mUubwE/6k3USUkE+puyhnpL+Hk/cpm7Rvd9/9F0sDF7GkOzMm+JGyfeedt9nAhr8LiBP6VaQZdTfpiVhEPLjfiiB+U99pnYla2kH8Rv2NXbhFmbC+X8xv2MWsECsAuOhEMwBPPUze/HYsl/TNEKnEM/FJHuM9QCgQHi7s8HrMYSAKf/Fr8F78pTxwUV+TF2mnWM2BoOKQMfIG4cZ8tuxRdsgvTHYQP9T9zKCdeeYZMb+nQU7zR3TbywN/k28YCMJe6nHqUuL8kljX0P/0vcaIO9LN3I11BuWD9oaL9pZ6gvyBP3509RWWLyhnS5YstLjJCkVm9JjVJ38wQ88z+lXkk7lzZuWEIvfwJ4M3tHmIvEqhiP0M/HBhhvsWx7FM+jkZlB1EfUpPBP86M4uf6V/R1iKKPD4pzy4UGUB7NuYzBlqtDY71MYPF2EO9Y7OipTTkPeopyh0XaUZ9TrzSdjMgTZ4nbukXeThwl3qRXwYf6XNR7yJQMUvd9IlPnGDlkb4VeZl0YKvWKbHPz33qzkJiOPz5hz98lK2c9IkP4on2mbSnTWXFDXmV8sG11c0o0nDefdftMejr7CAJ31tBhU4kMPPEdf11PykX4pTZUuJjlgjjhDsSmozrzy0S499GpmPj75GZUyW+NuwRO/DMOJG5wd93f/Luxz72EfML17lfOcfepwIDGmw6q1w0QmV3I3Sy/mCdhrXWUHghA9xAECCc3B3H3QYa3nSl0RcTihWNWiXZShARh5gjnm3vDs8L3MlC2lBI6MBzMTuHf2l4/T1GlFJDua48k+LxR3x6PALCiDhgdInDcSgEXHRIeYf4pNJrEX+1NpBAR5hGjwadCvTcc8+x9z7+8Y/aiAx+wX5GrLGXv2lMyBd2+l/sbB5yyIHmhoet66S4wm7v7NI40omlwe/MjCIVMssWyC8sfUoNwVprQMjbLemRGg06RDQI2E9lSlpQLlzIeMeVeCQPuajGLjobLDHEfc9vxCvv+qghAzHe+G5sZYP7ScwHaxSpKHEP92kYcAM/kc/xO+Anb9QoO4ijljhIM4dUzAgQKmnuU3ZZcsZsHg0wI+CIgs/FThPpzEwa6U44fWCETkS5zFWEE38gaLkYsCEcmCMuSQOLnxiflDWWvCFoEBMIC94nj5OeliaxgaCRmTB+jL1L2EkPwjxl8vjU6Yxxgl8clvRRb3GIAOICd/ETdtfVkn8QjjUxH//G/HjIwYfE/xN3kMLg5dzDRBjwK+7xf/zhMNDj9RTLevCzh9PsivbgPunVnlDMMj6G15b+x44E8UIYCCcwIEUDysUIMO7gD9yhIUcMEn4G6cp+iOFhuepDD6UOOFsTsJP48ncrhSL1EHFIJ8c7sbzjzz09XChSX7FMlWfYSx5dvnz38iBgWk6W6iPM0AmiA85zOnqUReIIO/mbBp+LsuiDZN7RPvbYo2P+2N7ij/qsf79YT8U8k82LN1yfRtEZ9ElpUGMDoNQPv/rlDRb/Hn7sxk3Ky/DY8cXetsBuDzf+x76jPvhee4ZgzZrFDcKOOVtKGeME8A+wjJBlovibuCEM+IVZDS4ENGWce5ghzJRbOqZcCBb8ktxO+QxcKFJ+6fzts/cKywuUKZb0kY8JK8tesRsQb9T9pBMXg2JW7mM5Ba97Ul5pySdZCANlzmfdioQi4I/UOaUjG9vw444xe6kXcIelltTT1FPMoHh8ET++FPqRhx8woYuf3F8mPmOYuVwoksbkl65c1LtWhuP7CEXyKBdtDnWPl0XSxOq66CZ1Jx1Rjx/ilLzuQpFw0u7QCcec5z3SizijP+Hxk4U4IY8Q3o6EIn62lVnxevjh+63v5/WfQ7pzIj3+5x38QX6hHmZWiLJOXgD8R15BYHBR73j4eI+/WXrpwp3w0a/imccf9uAuZvn19KIORLT4LKnPjvMuAzikPQMwLJVNfk9hpI6jLkv+S3U+fRTyFEvTEXPUnWw/Se6mOoWBIS7SljqU8JOfCJ+331wIRZ7xLvGMYKJuQ1wwqJTqqSozQ73k7S1Cg2dZoWirPmK/iRUnXAziWVmL71IfFAlF+7zMPXfEejc/o+j+oa/JRZvj8Yl937ssrWxgwIdwke5pwijWl1GEYz/myaf07TlPxNMRYRUzsdX1DBaleEtljj4m7QD5l7YVP3gasqWM+o186YNI+IU8S933zW8krUH/xbedYTfxxC91GXmGtKYvykAEA4geF8Qd6ch75FHMdvZCfNKfxB7qPn7RClznRq1B2lF+NwWh2DczijGDUMmTucnEVbHjZYkXI4Bnu+++2EZBSBg6hbxDJPLcMkFMbEaJXChSMOn8kLhAwfJKoPI97rtQ9D1sZIgs7k/edaFIBeyzYBR+ptLJLDSEXAgrMh/28R6VLyORdHqpVKzzQUVSyhDYkzXvuNvAbA0NLiPhxAWzmJWdpUqwgzDSoPpoOyO1FBoqpCJ3HMJOB5zOJBej46SHETs7yY5qK8Au+PAT9wgHjT2C2fZ7xbjBvGd8RpO23eZtpfXWLSNqZHwqWioCRkCJH/zhBxbcestvrRNMHJJfGAUifJih4aLSoJGlUOEejQxxRqU5d87Mcj7YMFrSBXATAdsVochoLksz6ZBQAfIeo+/Y5/slgP8TZ8x2cNEwIEioEHAXyC9U0oSNjgFLLbiHe9jBpnkTL9Es8UqeozxQthDN5EVG7kaOSI2Qu70h4CYjlHRAaExp2NOzFFdervgbt4D/s2yKss87pB2dNPIlnUMgzIg3ru985zwLD+Vt39WrzP8cZ048YdeHjvmAmbPOQXSX8JL/uOiQ4TZU+p1ODaPuXIxIk3csT0X3sRd8H93/nfslM8fsiJddcz+aJYzEA/8Hygn38DNmeQbcwy4TaLFhYSkz5Zk09I4qdVOyD/8y49MQw8pIKeKOck+dhp+S/zyOSX/cxX78YPciFpYSxL13NM6NDRAdHo8LwC7s5L12ZxRLbhI+RnK5aOyy+7qJR9KTzhl5nRlb9owmv1XZag8uZg2oT7PpQ1x5h68zM4oMBpCPbvvzH6zBzdatgF94F8HERWcCcZnSOJkl7XmfTggDM5jHTepPX+7I0mTaFI8L8hrPcZM0pBPCPkjixVeRMJNsZSy6Q8eMupg6zDtw1GkIJDqaxDP2cp8ZCspU2nqR/AjEO35Nfm8BM5X38B9xw0X7yN+EC7M5ot9oX70TxNIqz4cel9hHnnW7iVPqFPatc7HKgXqdsuudK2DWi4tOL+USO90+KAvFeJHmdKQ9rPgt+5sF/62OdQGXC8Xs81z4CsD/nRGKdGTZN0eb4/mGOOF98iVtT+rDpEFPL4OkETP3XHRaCRfvZN9DUHG5UCQ+5s2bbbPGDJ60Bfvd2HsIuGnpFN9HKNIZxq+IQvyOnbjp+cbdROD6DAbPSJuWsKy3JcPkUfKLzywRr9jHO0VQB3VWKFIWyJMMvFHesJuyRdwwGM2vxxfmcRc/uLikXPCMvJbahir7pQz944VnrM6hD2D+juWAATwXiQy+UB89/NB9tg2Hvo7XKUOGNEW/TbJBNf6PyPMZxe9975Jy+fE4834AF22I+9XiKcYbAybcw37Ch39p23jug/AMinrckicph6TjfjGNqAt4Rj2Bm4SJ51wuFFM/tzbccP21dv/cWLdTL1FG8CNxQNyQ/ulcjmCzVC1CcV1atRf9ioji+vOff18WQgw4dEUoevy0FoppIsAH0ZjBJD6BdpW+OPd43+9Rr3v7gJ1p0GadxTlx7/kj5bNqCzsX2414hzjAXZaic7FyBf9Xl9pa4oe90YhM4pU+I3kCO8n3XpchFFN+DbEvcI7dIyyYo5zhPu7xf+KFVQ3s86bf66scvMyCrWyM/R7+fm8U6aQNeR47KIf0EVkqzN+UK/KwC0XEfF8JxT6bUfSKyZcKAIlAhDGSQYVDI0zjxTvcd4iorFAk43Cf97MUvUcGc6HombPSXPaeC0VEE4XWnsWM5BmEyoXlhcmv6QAe7pPR6GBwcTobo1gUdu6TYcmsCAX84+6Cuw2YJWzEAWQ7K23h9lDIGQmj8mSmgUyNm0XuZGEEmdk/Kgg6dfgVN0kznpNOFDLPvHQIuE+G91EpOg9e0fmx9YyyUjEjLOkI0bkn7MSXdw5ZQsBIJu4xwsR1SexwYQ+iiFE4OlcUIsJjo9rRLsLJqA7hY+SPSpAwUOl3FF9dgU53V4Xiyy+/ED7/+dNtmRQXM3qEmXgl/HTCsp0yOt5c7NtlQzqdFeLY+Nxp1pGkImFkjUOYqEy8A4Pb5BOWjlEhIZaY9WCpDI0dZYV4oYNLA1Lp767A+5/5TDrsiGXBVLrcJxyEj7DwN3mW+/iPe2zUZ0QVscs+JeKUjhplgbCQbz55ErN9662hoQxgz+p9klC89qc/tnRm31IapFln+Q1xQpy6KPCBiKyfAX8feugas4vRTPIS6YWfzUwpLsnjlPff/uaXZpY8ynPMZcG+cqXt6VgSZ4SdwSg66ghYllVxsAKdnhee/7vlZ9/PQ5hq+Y1CsbGBWeLmcOstaV8MQrGmmnwVKZtN4B5gB/FLuUeQMBjB0jEaWPJNWrod0geLS2njcWJ+jvewo1MzijGcvpyHZTi8Z/kv3uc5/+fvNEuB/w+2+KDhJi9S95KOXp85+MNXUVAOqHOsrozpU+lf3EudjJZRcOzLmsMM73qeYESWeipbj5K/0nLRZA8dLToelEsXAiyNtHiMZZABLUQfEBZbWRHrIGYcqZNYpULexS3sYBAUAcCFWdzHj0sWL7R89fMbrk1xF/1CWH2mgiWyzC7OnTvL2jr8ZPEQf8lfFtel+C7/XYK6J634WG/+LJd1Nx/xeBoaO8hsB+CijmA5PR00/Olmy/Ea36djSpkxcR3DTYeIjhVhwIzly5jOu+22a06AUj6xC3PEvQtFOsa4yXuWb6IZzw/egXK/pjSrtlkTLuoHOk5uvhL3fxbc71AoxvCQlkkoBsurnpf4BdqptJzxNWvTXFTRCafvgiAhHbxslP0V4y8tu2wRikAaMetMOWkP3ECE4D/+z7sIRdoDOtfM0PHMyk2MU9wmz/jALnWC5wPiFVFIe+B5nTbD8xnmMIOfy3FaejdLV4QiSze5aMPS4XwV5tz+0i9uMrB1881pdQVl0Q++ofxRJj8byyZ/uxhmGavXGWm541rrf5BXaCtoMxg8974Ycc+KFfoW1POEh3jx+oVOPffwC/biZ9798Y+vtOe8Y3FTCgNm+GW1FUKMev+sM88w6DfZXvd4uVDGLAfncBEv5CHPN5QBoC2i7eZCKPKc+8RhCvd6G0QnLmjzIcVNav9TfZBm+FuEYstgBnnG9wlyj3ihz9VVocjzrFAkDHmhuN7aPMxi37U/TStPcIt3GXT67W9jWxXrFmZlqTeI27R6Y31aaTE8tUvkb9KO+CbNuVh+ipvED+0X8cnFeRr0VzxeqMf5m4kL6qBXYj+NujuV1bxQJP9Ql3FoDX7mfhbCgnv8Tb+BsPqqI4P4LYF/Eavm7+h/wmzpHPs/LG2lHKOJsAs/YPfZZ6e+9q9+dYPVy7jFe1k8/nuKPp5RXG8Vm0cyz/gl0yC86GRzepS/l40YMkFnhKK9Fys9f4/Ge0OEIh13Civ38K+DsGLNPMKB0QmvoPglo3vlhXt0kCk8dBRZroZwcjcddxuwH3u8MvPGtj2wg4zn4uvKKy8v+9UzZqU7Dh0CZvVocO6NFQGjqNzz58Qpacfvu0oHxtBRpFKnUaRQItoYMaNyIFPTmJKWe+651Nyl8kQkUKDpcHAPgUkDQ8eBtKeg+Wg+jSlmmKG1vS+xAqHwsvEfEYrdFOJ3v+twa1AY3eOiQ0y8ZcO3sRDurgrFdVbRtmy85543kORLfj2vel5Klx8MkQ4KoHHLQieTTqXNOpbSlCVZ1umLcZS/1pt5rjvv+LN13MhPRY1+Z6EC9KUy55//jXJDmvzSUpFhlvseRk6exC/sF9h1oR8+kswCafa+9zHrtM5G+dK+2hpbssN7PtNCh55GGHMuvsk3fvhUW0IR/lTas0dDjT34PWvW/Bs7R3SgmIHFXVsqnClHQGcCsu96etIYp85Zy6Z7Lg6HSvfW23I/liPzfrKz60KRjjPukR7MZlG22r5e6xahSNwwgMPFfhje81knnvN/0oIlwVyUSTrj3E8zA+vsm35mV3zHodww+079g4inriE/eJ3q7vN/P5yEQyYYAXe3s+ZSJ6VFKFKHU59xn+e8wwmJLqIRPeQH7KCRTp2MteWy097FqdYMXrAslA4nA0PUb8Qh+yexgz097IelfJCfuOiYk3Z0TvAPg1vZw91oMyjT1LOHH35w2e/EL2HzsGYhDskHf49ljPqUeCTui8ziJh1DDgOyK9Yd1FF0yOhYUQbwH3Hi+YQ6MA1orbP9Pm5PsjPVaT4DQifMO748x/+YdaFIvY8fue9meO4kO1v82hdCkQ4u9vGuQ7100+9Ydp+EIu+RV2nfyL/sQ0RMct/9QvhIN9/b6UKReG0rfSpxu/hl1ou/fUaRTiZp43nD04v/+4FG7F93O5K7VXaCsg0Ox74Ug1p0dnnmZjBv77TRXnRFKFJOuOj/pQGElvKapexm/Jt+F7OA6UptXyWpzUvtHmdRUI4pB1wIc9whTuiTpBUEIXzly2dbmvEsLd8MNqhG2lO3pvQNtnfOyxrh8n7Yt2O7x8UvecL9TplnBYf5K3d5m54uF4rY5zN69913l/W76D9hl9tLWv/mxl+YGYSitd/xPvmNPldyi/CnpdKtSRdtRItQXB8++MH3WnipFylXDHBwwBT1WFeXngLP2xKKHLZH+jF4ijnuMQPIRR3APROK1McxPTnhnfimvUlCMe1Fp27GLM/Iq6SNrzJga48/ZysM/bSW8BP/ebJpxAo+4qGVUCzViayGwl7Pm+D1AX8THtca2TgpAjOA38lr9F+5CB/5nbBZ+GKcp778+vCLX1xXXkHBfewhbirt7gn6fEaRDbOWGYj4GGgijQyKAKDyywnFUiJAEopPWeXG8gLuZRMQWtxseQ+3N0Qoshwuq+b5xa907mmUK4Wiv88pc4xgsG+OaWUqcy4aZjK/fwDZcbf9fb+He3a/g849lTYFhI4WB84wQk/Gxx78W+SOg198bxGNpBcCLwj2boxL/mYGj8qGdCROKajEA+vPKVQUfEamaTweL50CSOVGg8JSHt/bQqXDniX2OdHBYsSLeGZEnovKHvfYq8KIN9e73/1Oiw8aNw42YBkbvwhF36OW9ghVdAA2EvyRFYqMhBfFJXnAhSIVI790xnwkmZlmOoQstSFu/T0Ofkgnc62zTivLOcmjRdDRohPno04s3yVeefeGG6612RFG7qiUiUM6JZQVb6Cp1PJlpAvE/EQYU8VPQ/lN+385j2TAPPfdLYQi/mDJnQtFcPNUgGl54tq8UOTkulhhIxSxi44ADTjhzQpF8h9XkVDkPR95ZDADt1J5bS0U+aVssxQLd4855gNpz0ksQ1lcKPr7NFw0st7Zp5OPGOCIbYQ8aYoYI/x0KAuFYn0Sirfc7EtPD49ho1FpLRTd7fe+90gr7wyuER/vig0Py3WZudp113nlZT9dEYreCa+sc8izPkhQFoqlOoLnnhYty3vfa2WR+y4UGel3d6n3gefkaxpvypgLRe6725inwfZTCFl5kO3oZ8OFn0jfE0tC0Wcxk1+TXUVCkXdbhGKwGQG2Q1CeKqEskq6ID9wmTRjZp21jaTafQEKUIIzZd0lHHT/9+EdpNuLQQ9dYGMk3uEtYGTGnHmSQj5mAFvG/Llx99RWl7RiEsyWsWaiX6PDRaaLeTZ2f1mU9m17kQ5bLku5+oBQXdQrLFelMktd5h45sVihm49zbWoQibV1HQvHJJx+1upJ33B6eOy32pvuY8U41dRmdqqz5LNl3HdzfEKHo/gb+7kgoIvCz+wGBv0lnOoNcWaFImi6M9SEHgbQFnVYG1ukzsf8Z93gfoUh6E9e0T955xl7inbLoq5tyQjGmFc8ZhPUBMfoL9m4mb5Xjs6IecDorFPEPS/G4cI92yO9nzaS/0y9hpK+X2jbOgjjJyiL5pwjKI/v0ST/fesOMGmHCPgbnKbe0yQxkMHuDWV9KT5vC/8HrLwZosvHpfvX9bRdeeL7lCZ4Tb77agvoDt9lTSRtMXUxd4UtPEYrYR53heZr2gvKV9je21O+Y8/MAWvYo8umxmVZeCQv1HO19JYSXX+KHvF8kFLGPga2bSye9MgjL9oG2hCL1M22NC0XPU/izTaFogxVrzR/kGdqEQqFYmlG0VWIxDmgb6EPjX+pE3MrGC2Z8qxJ9SOo7nqEdiBfCQ7pm8wmQJstiXmLwju1SY8fuYG4x6JkTitHPhJd86GHNQhi5T51A+aRO6QzoHPq6tLO//GXqGzJ4wbkg5A2gbkmHjaX4pL5l9Qp9P9zsLfp8RpGMTmIT2XScyUBkEDYu09BkhWIWlswgFNnLSMa1zkZFAha9hzskOhff5zO3o7s888znZvnbhaKdbJSxl84lBZyCR+WIcOCAB6+Q3B7s5x0aDRptRi2soYgFgcaEisPdzbrtULEhgBitZuq6rcoavOJPs2prbSknnV23O9ux9HeobPjF3xQKKhCWxCHykt+jGQpPjDcgLLhDA43gZtktZhG9ZGQKCyKVpW+sh6fRpCNGIbPKLdpljVYMP7OXnJBpozWxoaRzTQcUEfXYow9aB8nS1vxY2pQfL0ZY2H9IvO+99wpr/Ji96Ndvm1SZRrtdtHu8eHhxZ1IU0viZhip1utKzjiDsWaFIJYkbxKfHI3DPhSKVqY9IUllTcREnNJiVQpY88qid2rnWllrajHP0O/aTFtjBL+WHezQm+ImKnjig48aR49hDpc5zyhOzjjb7FuOFDh4Vor/rbmMfaUd+pqGiIqISy/qvTAwr+yF9WTHLR7jveQO7HO4B/ib/MJNOh4aZUxpOOjXkCd7HPGGxUzFLfiWfERbig3smFKP5zgpFcH+TBxmVixZZucY8Yak0Z/ES7xN+9kTiBktH8QdlKAudZ/c7v/ifRoByQeeNhgP/4j/Se/vt31Heo8isQ2uhyCgiyyibYkc0dVSOPOLI6Ne2hSLhQoQQLhoSi++Y7h4e4gpBx9VZoehL7UmzrFnMAYMDXOypJV6yzzDPPe8Q4SfiBfv9YAVEm5v3uoX87bNFlULR7cVc8uN6G9WmDPMsGxb/2+08MSMU6QBw391tSyjyzJd60TBzH39k4x6IZ9wE7KSuZj8ZF3Ug6Ut5ZyCNuu2ppx63A07YM8RMAJ1+3sWfwN+4Q3zR4eH7p9SjnJbLAAsXedHybkV4HTrLDLJwkiv792nfPMyVYJ4w4CZxQ9mn7iTNfOkwZYDnpAX20KFMJ5uutw62pz+YvTG/Ey7qSMo6dTjv89z9QUcNoYi4oK70ujDrt0p4zoAhbSgX7Q17y4rMgvspC+5viFD0OgrIl20JRe+EpwHsNHiQfY9w/uY3vzR7k1BMeZqZPPo7tHntQZ+BQXQ62B5GhKL3Qfz7pR4H/E1ecXFK+cvGDf7LrpxAEHhaOW5XW30P8k+RUCy3u6U6lvzte5QZACGv2fuxHPGbbTvcXt4hTvEfF3U+ZYy4rgQ3fVCE9PJVSZyMS9xz3+32vey0MQw8McBMnc2nYqwcRr/cemvLigjuuV9xhzRj8IcLwTig/7Z2n/qe8k4finJE++bh4B3qVD4PxoUQ4D7QN+B6NPZ7yDekGWEyv0Q/827qMyehSN1DvFK+KevM7lEuPG3NTa+jor+wh2eItiKhyDs89xVZ1133ExucaHNGMfbx6NvQLuM34H38zeFcXN0pFBHcvPvzn6dD/PCvg798Rhh/ES+8R76mzGAX9uMH8oHFB3ETzfCLv/GL5xF+afv5OwnFddYWuLvcd9wP+J12icE5ymdnYCCCSR36a6mfwdV6Jphy6X+TZtQBfF7M3PUy1sP0+YzihgpFCjczUZjh48QktC8JgGwiZiEDpEonHWZjBTm6T0I7bpa/XSjScfEZnGxGoaCQkKw795GMtsBOMiviJC3LWmsb1CvNOMQNBYSTLllLTSWUfZ7FZ0Xwn4+2M/OGH7nvlUalOxRizBDvPsrN+m2vFNxcNszAva9+NW0w5zuVZHSOrEbcfP/737XPH7C2n4tK2NyI8Uw6+bIrRomozH8ZO+8sJaXypgFBPNPQ+p4iGlMKNXHNhVigkaVQ0slgWSsd7512mmQdADphdJ4Jk/sfyGM+Coj9fFYBN7Mirz0IQ1Yo0gn0ePI4AeLZhSIVAh034hmzHifcRzRl45i/EXpcpDv+dbv5m/zlDaHnNfITf/uGdo7up+LHPBUse4pIE+/03BE7j0VCkQbwW9/6ejSxNnbuXrCGhIbMn1dCevCcMkw6IO5xk2f4y+H/lDHCDpRnyi2NKXtMqejcH/iX8HgakR8t/PG+pf0GCEXygPsDO4h3RmD92H1vyN2MkxqKmvKR3pdeelEyH8PgZQm840D542/8RSebi+V7hI248godd8gPDBhQ4RfOKNrS0ygUf5uE4hGHHxFqC5ae2mBVtHunqRNNdFIGfKSRPOEDYDS+PpvdkVC0mdt48dkIBuNwA7vcLGDOxdDvY2eK/EbYSRe3h2O/6cCQPowwc4+4I24oezToY2LnEvt4J71XVRo5TiPrtBMW36X4w5/4xQ9SIU+ncOTD4n+TH3m3S0JxQDoF27/7xfWFL3zO6i38Ymmdcc/BXe6Tl/i+HPUDe37YZ0j5ICxpqTRH0r/LRCKdD4Qudqa8lPJhFuymXXzHO94Szvw8naV1lpbEA2Go9AdwnwFC6kC3x+M4S+U7mPN0YmCS+om2jUEdxCHpQ1zjdjpwap0N2lG/pGcpHthrl2Zo1lm7iN2Ez92BSqFI2co+L4LnpM3+nIAcLwYqvUNXBOYrIc03SChm7CMtW4Ti2rJQJO7wD8sHqRep3whXtuxTT6bZ2JYZRdoG9vGS58kT7UHnm1/22nm7RVojyHGTlQSkHX7huZchH7SpPNgIP/WUUPR6lXf5xR/ENxcrZ5jRwS+0RTwHey+SLWvkrx/9KAld+kJuXyXkTcopacy76eC8dTaohR3UT5jjGWb80DS2CJDHGajGXcLEr39SgzzO/90O4pTOvZ2uHi8GhAgDae3fcGbAettt31byV4zD+B7xgZBnFp0rKxSZgadtoj9LfYld3Od9fpndM9ETL4Qi/qFMsfrA91LSr6qsm8pxE9PO/Tht58m2DJ78khWKxAv5mv4T+YkB2yKhSH6h7GHHoYeuiXb2Mz96HvHZ2RahmA7walco7lKw9DQjFNPS03W2bJi8hmjjfmp7BloacNHmYg/3OHTRDyQiLPiNZ6Sfxw3mAHe4Rxjws/fzEcu4S5kzoRjt4H4l2EF+xj3Kd2dgptAGS6KdpN25XzknBwfpMRiPnaQDs6X0pSkDE0u6CLf57Wn6/NTTNoViqdC0JRRJSDobZCiW2pBhSHh/jn1Z8w4R650mZqgQKJ6BHDfL3y4UmbnkNFAKCxmUDjhusHeEi++pkdkoqG5H1k67F93hfRpwr4SYWcqZKbkNLIsgfH754TJZM46/m/Z3pQNG6Ci6vS2dy7w7hIHN8SyJo3NDA4oYcnOV5ok/3iGsvlyCDj2df1+2QphoMBj94eI+lQnv0hEjzVl6i7hEGHLYC+FCIFIZ+jIZOlktfkjfKeNwHhpUKgyWeOEXOqVUSt/8RvpOFd8d8o5JFuLjggu+ZXb7hSAjXSrNFoH/c0IxdvitIxD9ly2w5Ge+a2dC8UUXiqVPgcTK2k825ft2dJL8XX45EYs0J17ssy8xP3HfiHmOeAIGG7wDj/ve6CHy6SjQaHIfdxlU8aU7lJkioUiljYiwy/IcR+qn09zagrigc8DF8kqrgC0uM/k4/p/OMOnhYbjqysvtHTriCKuy0IjPiQ9f8kejix34zZeeUt6wo5VQjPmDtHChyKEBhJ+04Bd7fJ8Oyx/5P3ED3qFxP+MP0op7LBviYoR46W67mhv2Xqk84e9hsUGig+j20XHEX+QTGhf3gw/mmD9iWKjjfEVBsi8JRT6D0VBfHzsupQMoPsO+GeyuFIopfSkX2EVeYzkL+YNnuIs5GnnqUq7UwawQiqU8hnnqXjqMzHyxAsLDan4v5SnSi2VyXIhdGkgv394x5dAMLup5ltbgDvd9EJCBAvbYIshwg3cZ6LnLPpu01mazvJ7xcFB2qDsQWYSXU+p4BuWwZMLF+zzjkzpcHQnFjxx3jIWNMJC/yP/sMSYMxAV2V4I9iCgOIyj/f8xI+6YldSJLuZhJxD46e1wsDac94bh4/ICb5Cv8ih3m/1huUjuT4oBDcRAWXHSGXCB5WLMw4k8nlHqXuOd9sy+az4JbhNXjCXMeBtLK/BvzKXWul2Ge88z9wqg4cYr/cRt7sNOFCZ0azGOn+a9U19JZJB1pb5gVcTPt4eFjmRgX9QSDxEVmwc1n6yPC2lWhyGAR9wg7YAf1bxKK66wewj2Pm7S6Ix3OhjCkfsFeP9gozRC0CEXeJQ4xO2LEEOust4UPAICXG+4xG8bFYS/4lXQAygxxTfmnzHnn28OKn3tCKJJXPL9ghl/cJZy+pJP2m7zCsyzEL0LMw8cv373jou1vqyzSTowalfaFkn7UrVx8go1ZedLGBzRYnUWeTtuQ1tlWAPIV7/Gc/Owig3SkjOMP3CEdsY8BRwa9aJuwF/v9szHUXwxCZv2HnekboGmvIuc8YKe3P2nJerCBMK8PCD/2piX76fKlp7zLM9pervJnokr52dKsFPfco5yRhi0nqK63Os7DTNrgJgNa7KVnryLh48oKReoeP7iQMsL7KW7TQIlvXyoLxRg3+DcnFKNZ0svNMpOL3dtFcW0z7rHeKQvFGA6W/5NOzz3Hp0rS58bIO4R3RBTLv/7VDWYPA43YzTPShC1NXKQz5YRwZsFN/E5+84FV3CMu+GXbBu4iFL3OLYLw0R8j/1GOsa99hlp55l3iCH+QD7zcODynDuViQIP+hA0GxHR0tyvD1BP0yYwigSUTkQBtCUU6IMxqeMGvhIbXO9wsg0H5k1BkEBKU36L3yBS+dp0ReKbrqQTIcD4C62b524Ui17PPPm2jPWRwnrM/hsoVv1I5Yt4SMT5jaSMNOg0DFRKjUbxHxkdIMWLz4j9SJ8veK+FuAw19KqipYqEA4/+sGYd4I9xpSdBaW9LJ/azdWbLv4mffc3TuV84xfxa9A5gnc9IA0eDSgaZQM9pBJ5+0pPGlI4S/ieM0Gp0aHyos3k8CY701XgcesNr8gPCgg8VFuNOpVy1u8x4NoV/+/Tbup2Uga80vjJq6e1moCNJnAlJ8ciEU2yxssTBW7iFl2caDD9xjQpHTRXmOH7Cbjh3ukhbEBQ0JDSd7BKhIPAx0wIgvli0xQsSIMu4RpzTavjSFEUuWntGZtgGNaIaywTvMrFHR4BaVZqpIU8edBo/8xugcYjM1eGnpAh1x4hl/kBc9rKR5WSiWrraFYkteYPM/F8ssGbVjKRhpTCPJ/lwGEdgX6MKUcsveRNKdi28hcn+77d5u+cQHF26//Y/lOMefDAZR1rJCkRlzLtsnV8r/JrTjdW7Mx6QFlS2/xBtpRpqQb4vyRyUpX1SXZ2vp2KZBqe1s+RN+I69f/v3v2nJm6h/s5XMQlG0uRjrJR6QR/ksb0znMZq3FGasacIv6z/JOZPAgZvJqwjlnn212PPrII2HZ7kutHqGDSv2Jefzn4faGm0GwHWKdSfqT55h9oROZOgacInxBOZ96OL3h4Re7fKT8xht/YbNKLI/BbRpPM19KF1/ORl5mbxZukpcRysQ15Yw8RPrhnqeFd2yoO9hbScNJXqZDng5VWWezMtbJiO9SL+Mu4fHPfDBbwDNvZD0sjtfDPPMDjsiLpJHHHb+EKe0PWWf1MvmKd6hnGe3luHgu4oQOFn5wM+QpPpqPveUGPLqJf9Ns5DrroDPgR/nCrV//OqUTly8/R6xaWGP8kD/OjXmXckv4yDf4dbclC8unJVLv8Yx0zIbZod2gHqSNoX2lLGY7Fg7usUqFQSYGs7jHEjrSkXoIYc1F3vK8Sbhxm/RinzkXJwqSLxlwJP/gfy7SlzjDXsKX9SOdRepGvvPL7D52Z/1WBO9R19IRS4d+rTWxzfu4i58q2338i9v+jPSnw3x/adaP9pd3SRvSjQFg6nTiwPsJV/zgMnvP7cQvhNf30TOAm/U/9nta8cFz2gw6hmkAKZRm/1qE4oZAuAD3WmYU08UgDZ1k8ipLgBmw5GIw27avlPKpwx5FBkPIqyyfIyzZ5x4u8pDfI06JTwZIiDsX39hBn4o8Qrxm4w3/Ul9xCrsLW9oc2iPM08bxDgeu0J5ZX4d6Kb5HWfRDaFgS6t+npCxShhhkYtaJPIv/ecYveZOLVTL+OQoGUgkP7benE+0CWyF4j2fEnX/mhIuZHcJKvqCv6PUtbSvtlqcHf5OvyVv0LYijt7/tf80vJ30iiRb2knMxmONiknAigNO7nI5+ntW7uMUqpH+++mK5DnehSBpjL3VP6velCYIF83dJ8RLbYQbwyH/MThF/pAf9qtT+riufeuppDMzEpY/Yv1Ye1MgKRdLQV37QJjJoyDPCSrrRb8d+BkrJJ7xDvPkAKZMSmMfdtJc/nVXidStxy/v40/JAzDukbWpT0oF8DIZhJ89pTzD/fBSRpKHFZynPkS+T1kiHmTFITpzh1uDBjdGNnWxPKf1HyjTvMBOPP4D2D/9RPghfNp4cd6uzK9MqydpRCenlQpG23dvCstsb6GZX6ZMZRSoWprfJ+FmhCPxNA0yBIZOSIYrsIJIQbUzhkpA0GjRMdJQZzaTwFL1H4aIR9BEILtziPcRLGnVo6WS4UGREAXvJrJyaSMZBzPCdPEYQCRPmvbPQcmxxajBZDsosIgfa4FdmzmiIEMf2XomsX310yi9mWOhwZ804xFsyv9YKBu5zP2t3mYqGgk7ek0+kTy4gMojbwvcimC9n0miPn2zIaAeZmHhALBBfXISZd/Cf/yJ8/GAa4gZRRYGnkfBlZYwWeyXj7lK4fYkBF4ID++jwfKJUCbOkxe/zThYqej/Uwy8qc7e/EsQfa9TpCDu+nI7r2WeessYRaGg4gAJ3sY8w+aw4QtErGfNvbBzYIE9jiaBO31fzEeABVjn5aCZlhEaA/7MnyytLRh/J4yn/sGRkcOl463X2DnmVkVtG4PAzeZTK9JFHHrDKkwooG27i1vd0eOPAspTKvJJIaYJ/KS80QrhDOSR/M1Ns+1dLZZh9Z9nBB8LIbD6NDBd1AXvinn4qfaSb+OQdN4877EXFfk4MJB7pQPtSPjob+AtzvqyZht07M4SVThIXlS6d4eJwtZDyd7KTBhsxQNkiPNQ5LC168MF7Lf1oEOnsYCf+5V06/D4aS3kk/dh/QkN53nlfsw4K6cSoN370cAJ/4/fZs2bEeEwdAK6XorBkNo4BK/Kld6JIO8ots9BcdAzp5LB8FDdoeH1QjXhAYNBIVoYZ6CgxkJE6HussfNhB3rGlTTGvET7KHJ01F5Xkc+oC6kVGo5mJQ5RSJ+BHh/d8Zt8HkygndHRJd0QQeZw4S+UljeLjL8KMO4iLcbHB5x7xVBQOTwvwUeXrfnaNxTXvYDe/5I3s6g46Vwg3syO+S92Ywrje0pODs8jf/KbO+XrrnGKPN9q4cdZZaS8myyvp8OBX0sn9wsWsBPfoLHraMwjExf4f4oD9OrdFscoeJNKA+pHOI521bHgdwo1QJJ9yqi4j9W0JRcz67BwX9RtxAcyGEjbSk8ER3PP4xJ+0Q3S8LU/Hizx3yy2/La1cWG9Cjtl9/IRblf7kKHrSmfcQVthb6b+2IN1YYpnq4phLY7z4/j0O2CLPWHpEd7CXuoMZI6/Dk3Bi4Gy9/U1Z5D51OGH1JXreGf7uJRe08j8zf55vGJik3eO+51dEALPyXJQf/EZ4KX9+0FV3CkXcID+SfyhPD9x/d2wDbi0LD0St9wmyEJd81ivtcQ6Bz1eQvlkzHu/ZTin9MgZM//rkoxZ/f7NBgxSnpD3tN+lDvDN4xzvuZ+p/4iybd6gfESeeNsxUkQaY513KD6slmI3HDdKcWVDqYepfygsXbSDveRhoh33WiosZSd5JdeVaa1MZaKS80A5R9xFO7PA2mAOkCBN5Gz8Sv1y4y0BLZXwRXuopLtyhHcZd7rE9x7cGMRNNuLJhZPk7g+tciFuWd5KGDIz5SjgXih6fCBT84fvcXo79Cupv/m/u2jLTNOBDuaC8eR/mWDv0L80oYg/pjJ2s5sperKwh3XhGXUC8pr53GvhggJ/0xu8+GEr76LN0iHPve3HIF2GlT3D9dayEatmCxgBsGixemxOKXhYJF3FKeSctSDMuyhftE/nZ4xPwK4NBPnPM4CzpynJd3k2ifZ2tYsuKMAtn9A+H3XBhlv6jl4VK3L3uhvD7p+hoCzgoz9I8tuHmbqZM9iS9PqNI48SoHd+DYxreMkhMTG+8iQQ6sl/72ldsbbmr/CIwy9ITTiTktCDM02lk4z8FIpthysSIJQNQ0SGs6ECf/62vW6eGQuyCz+13ocjoOZ3Br/7fl6zwUSDYT8YInDdKWWjMFy9eYEIEEUUGp/Ikc+NOefQqxgXuOFk7OCGSzjtLKWlgmDWtrJQcCiKjl1wsP+Re1t4cMQ38PUZN7CPPsbAyCk5a4EbhexHe8YJBZXXsh4+ykSLiMqVtEvuIJioGZgy8gnEINw0ynVe+b5Q6b6kDwH3sQ0j4aFv2PQYROI6a9CaO8QfuMRpHHFGoaDgx72EsE9Oe9fMsv2NmAncY7S8y62FkRJyljVloWCrvkUZ0+nmH/MBgBHvtAD8zsufhwAxhIY7wy5difsU84feKkVkW/EqngvxGRwbxx8gXI9OMEpJXvdzwix2nnHKSdWzJayx/oeOAWUZx8Sf7rejkZP3i+YH9Y5x8SJ7jJLfK0bnWuLhJ36+k/HGABo09fqXyRfBRwXqeIk1Jb2A2jTSgQ0zH9Lbb/mDpSgORLRe8Sz1BvNOwkY40Msv3XGrpyKyV208akO/e+c5DyvmODjmNLZ0WvktH3BeHJ4+PEGIHcU0eRzDSYWDfGQ0x8cuAFfEPmMcviHg60qQfaYF59mMw2s4yrbO/+HmLZ8Lqfuc3C/5kDwqdzi9/mXoqpksML3kGkUY88B7pD2zYJ47oQNHpZZ8wAyvmlwP3tfJBnvJGxvN4JaQR+x5ZMYGb5Bs64PjdzXhZ51RP3EAkMOhDp5HOGrPINLy4QTp4GAkT5YMZHupO9sWSp+kIEReMNiOmWSLtcYJ58gt5kuu8b341+iGFO+vvIvDj3nstt3hz4cI9Dz/pSqeIuoi9zj6gwTNPA+KPPHbD9T+1tKdDxKw/oo0OL8vMiY+sf+icEHfUxdRT/oyZWQYKzj33nLQsEeFcyjdAXUG8Uxcz2MayOdLzmmuusn1stIeef/Gnv+dwj7JOPmC5ms3WRDfIKx5moL7FPPUMZYU2ifzM4Cawb5yRegZJqOcx6+9ausR2gr/poFq5j+0beY66iv28zLQnd1oOunA/ciBNqlfPs7aaWZis/R2BWdKG/M5sC4NCxDVhppNO/mbQEbP4lQEG6iIGJ8jLF130bcsPlrfjPf6Gr331y+XDTGgXmUWhPmTWhfhz/5MfSVPyPWWRUxNJx/S8pV6lQ04cMrhF/wIBz/3sqadFadhZeJew0t4hQtmnzMwbeZKOMXUqM+K076xw8nzjceh5grLIwAbxQR/D8kvGnXK8e30Yw0i+oq7mMzmELftLWcq2i2xRIV54l3zDL35BlNEe+cAEeefaa39sZY0wYYZ0NjdjWKlHiHdvFxlYoh/GTBl1CAOHCBjKsPUpokgh7xE+DqRCMFI/8Vk1xAJlk34Dg46kE/UjdhC+rFCkngJWiLG/EH9+PfZPedfqiBhfHqeenrRDrERBTOEm7+IH8iXpjn8ZEOZ973MRXsJIGuAf6hfyF20ozxC4XJVCkXcZ3KBueF/sb3k4aXcYvPvhD79vbTt9XsySRygrhJeBIqvzSulDOIg74pE64eJYVigD8+bNLucfoI2gLaX9pm176KH77OP2DAAxIEHac04AZokfyhNlk/65bxnAz6z2IIzUM9hPuE78+PFmjvzBKivMcvAh+euoo95n9RvvUBeTbyhPfD4Lc54OHhbyAPYSZgYCfxFFKH4lfhDw9BXoTxE3xIGVqZId1JGUYeLhs5/9TIqjinrUzfYU5AfyHvFBO0VbRP1TdjtTL/UkvT6jSKEg8BROIJOSwCQCHTOrSOIvGYZnmPUCkbWHSOI9t8unioH/WwYrVUqVlAtXdKPyXe8ouDkXilRMJBCZjoxfifmRjGbhSJmHgsD0OjNIVBAuQq1AxGdZdxz3Iw1PSxxhB26kzpabyeKj7czsIBgwhx0Wtxn7DTJ86T0KAh17GhrswL/ZSqiSrJv4CfstszrxvqdNOQ1Lgo9nlfYBZkmryvspzHlzbr/jfgHEMu5lG2vH7eN5Nr2JX7e3FTE8rd/b1ka9WPaQtYPnQJhtRDoDedTySCbe2yb6vVPmOg/hI10tP8VfL1PpeYqrVuVowHYWFt6tjMssPLM4ohyU8oO/U0R7z4pw+ywvRbFNWeI+buFn7mXDBITJG1/S5NzSUjiWNlIOebcoLO2BvR4ffi+bD4vyY2dwP3s4iUf/zVHKg57XfLlyCm+LPZ0h635b4B5uMftPfsBN/NXVvGlxUqobcNvTCbtIO8oR6Yf9nAib9p0G62Rxjzins4eAokPCaD6dsJawdM0/5AtPKzoR+MPyPfm9VCcb5KH4DPOWr0vv0YmiHciKuzKl+o/3STP3fza/cQ/3/D5ucN/Fu7/fHv5O0TPAXi8vhKnsRincjqclv0X2FJFzt/QecUGc0L754JXba3+X4qUjKv3XFu4PwmX1Vsw/nkcJu7eTmCXdiAuek9faI2sHdns8+mEd7i7h4bnn29S+Zeq1THySr6w+zdjte/QQjvg/GwddAftdKHLYxQvP/73dgXWjg7SwOCvll+w98HeJU4v3THvB3+D1RWWY8WvOrpLdHk9F4E7yS/HztnD3suAW5d3zqHW2Y9y1pFVyy6HceDohdClL5udMGXez/J0Nk9/LuuV1Rtack9xvydOY4Zf4I57JgwgEX5HCAInXow7/J669LSQO3H85svm0BPf5df+4+9hh7WupvuIez7yf7u/7e+b/eJ/3UrlJfR97L8Y1z1heTNvFPZ6Bm+O9LPRf029L+5/1B/GZjdPktxa8HtoQPFy4T/m3OIh5wtubrDvZ97oT/ICb5AP6nB72IrM9TZ/sUcw1TBWVgEeEP6t8N0v5vZIdVogj9v923m31Hvfje5WJzjM/HAOhyMyIZ9wWYmaOVBYcOhTYZxVQxDN0ciPvP3/P383iYWnPDHAENCNOnEbo5vBf9r0yGbcZ+WcaniV5VDT+vNU7JbJutnpesrfyfrvvRNryJ3Gb/38b4Yl4/BO/pJO7lXM7Ey7PK5VpXomZ9/gqvVO+73bF/3vaeuWVxdwovdcxGfd6AOyujEe/b2Yqw9iBX7L2dIb20rA9cCvFccbdjN8qzbvAIi8wcspsCfuw3Ky/t6F4ejtFZjqL+5m4cX9XwjPSJeuev7ehVPoji5mJ8Vs2n/07UvROe+BnwsHvsGGDrFzQqckOflFn+sfIWWpE40y5JuycrMzSK1YTMBNncVJ6t6v+8Th00cffHvf8Anb6b5bsvax92d/Kv7P3PM+2xGdq77Lm3f62yIa7CLPHy3HE3MzkHafsXkXatkd7/vO4cXsr82tHZP3WHm7e06qSIn8ZHcSbY+ay6VT62/3o9bqZLXAP2OfoItLdpzPMLBKrG57662M2a4NZt7ur8C7+MKH4GkLxmY6F4gZQjnfyU+mex0k2PsDNJrJmU9vslO3JxFklXvaLnrVHZb8hS9ZO94P7sWyGtIrp5jOKnRGKObtK9lSSNZPFnkf36VuyCoN8wj3iCXEArCbgYqUF9Vb5vRLWTsT3eXdD4gyK/FT0rD2y5vG/5wnizePeniEc49/uZ+tXV5TPclpZ/nH78vmwJ7Hwb0AcdBcef543ivJab9HrM4qOR35bFL3THrxDRBoxgxWZKSL3XkVC8HdOKMYCSoJxvzN4QhfBMytAJXecrNuVz7LPK6EyYeQBP1a+04pSwQPCkx2tAApi4XsRf8/93lmy5ovs7Q6K7HY3825Xpndrc5VgDvOMhgEjPY7dq+hk5uiE/T0JfvDfIlrMtcQLdDZeeoP23M3Ge9b/QP5GcPioqJffSvsqKcrfXmYr8fJcab6zZMNhDX4buLnuosgvlRS9B0Vm28PjiU4By2YR7swesiSOzhFLIFmGxt4jWyJc+r4g7zIqT9x4+mEP30zdEP9UphtwP5tnIGu3UVAW6Ahn7XMqzTnt+TP7Xiu3u0DWTmjLj+Bmsp2hDaHFrRZ7s+74vY6ofKct3HyRX9qDdPX6uwhP96yfinAzuUGrDMz+sFyN5cWs0mGZJqzeZ5UtleNiHxf52QcKNhTae196yj6t3hKKkA2zlxvKZ4rP1h3b7kjDjcX94e5XghkLR6xv/TAbDr0hrXju77o5J2v/hsLAGYe1sQx49qxptiSbbSLUk+znZzCAwxHp53m95e5uLJV+6YyZIto322JXNs46Q7F9PUtf+8PLCu766sBKMV30Xk8wYVIvC8VsIDtFB53VrNn27lWSN5M3527yzL8XhlCkcFKBWIVZotIO/3+6l68cATuy/y+7mXmn8l7Rs/bYkHeconeK7Mv6vTUFbmcamax93UmR3W256fftWTt5LNuJKnreGdyOome9hYchS9Gz8r1MuLP3K8ma6UuKGm2/X2mmvfQuE/NrqzyeKffZMryxYLf7MSsMK3Ez3UUubBUUmXf8eeU77UE4ve5DHHKoABcHIbDnL/1/vR1UwCqHrFu+18jeZ0S5wu4NxeI+piXuVOYbp83BEvJB0f0MLXa0vlf0rDswezuTv3uSTsRNEV4eOsLNl2ccyr+t05H/t5hrP16y7xnUgV4P+m8G3sn6x80gFH/wg3QoG4dysHf3uWeftr/ZHsK+SMwkOzYurSgb7GNGKHIwR28Ixco4aItW5jL1ZpGZTQXLM7G+TQegpD2KzDC252d/tjGwdeYXv+BU9/R5KsQhJ3ly2Aqz0AwukNYpDnsn7pIwyZeprQ2rP9qJg6K07E5wI1uvFZnpabaoGcWivzsimS02TwHhoAoOSOEIbAooFbNXdtDi32SH/z/d67jxa3GrONyV9nWGDXnHKXqnyL6s3ztDUVi7myK73c1Ktyvvbw1k46WjOEidzY7jqdLOTY3KjqNTFBaozNdt5XPudxfY5/4qEohO1v/dQWWYitjQ99qDAymYMWS1BgeRMIp+/vnfsEM4OHTAxRtUxlNPkQ1flo3tyIvOk03r9nDzRenVEVn3KmnLjN2P+cCfO638UzLD3+PGjbbDrzjMjsNdOIiDkzz5LhvLnbP2+fsbAgMn2MdnCXCL2fcicxtDOZxdHACoDJ/bk4uzkplNj4H2uSf6fhyewr32/OzPNhZWW3C4CieJc+ANB9pwaBJ7tJk9ZmbTD6KCIr+IXqaH24hK94rM9DR9skdx86AlE7DXILv0oKjCcyoTtNJ8JZXv+f/bpIuVdXdQGSbI+r0tOgprd1Nkt7speobK+N5cKAoLVObryrxbeb87wD73V5FAdLL+7w4qw9TTVLrJgWO+p8YPYeC+zx5mzYotn6KyUYSbL8rHfq+SrJmuUOSeU/ZPqU3OCkX/m20daTlmWgLvs2pZe8xsBnevI9x94JAQ3Coyt7G4Gxvb98j61+/l4mETg/rI9knH+qmcxgXmwMOzMZD2uEV/k+Wl1In2O2A7GwxAKFbGYZFfRC/ThTK7udJnM4qbAxuSCbIZiP9nC3YRle/5/9tEQrFNiux2N0XPUBnfmw3tlesulrHKfN5VsMP9VSQQnZz/u4HKcPQ0feGm2HwoKhtFuPmifOz3Ksma6QpF7jll/7iIiHVKpZkNwd3bVKgM54bi9phdpXtF4d8UyPq7t/D8U/SsMt6E6E16fY8i1JeozPiNmb83VyorGy/gxTBqzjcYs0tYi+0tI6HYJkV2u5uiZ6iM700aa4gpa6m8FYUHKvNrR2Tz+IaAHa382gtUhkOIvqSobBTh5ovycTZ/Z8ma6QpF7jll/0godgq3x+wq3SsK/6ZA1t9CbO30yYxiXaSpsT6MqKsPswYMDnP6Dw5TqxrDkNpYmcRnJiJLZjc/KiobKtcSVJBD6+vD1IGDwpx+Q8K0foPC0Nrm0BA7rnXRPLiIhtZ29w0t4clUoJ1pNDJhz5rvrgY1S9nuNu6LnqEyvjc1vFxBY8x3/ZubwtuHjQxvGj42vL1pUBjQWBfqGjh5kM5LqQMT82q2M9Mhlfm8q5TsKfJ/T5ILg9hsGFhbFfoNHx7ePGLHsE3MxwOamjep9mKDKSoblWTMF+XjbP4uet5lMm7m7PW2sA0/bQxZ+zYJCuJ+g3B7MnYVhX9TIOdvIbZy+mSPYm3shA1paAyTqweFTw7eNZxaNy/s9/YRYVR1bVkoNtUVv7s50xQ7ouNqB4VjBs0LpzUsCu/uNyWMGTgkNNbWhtpYOUFdrERhi2j4heglihp7SOWKExKjudjBnrX3qvC5X/42vP+a34W3TZ0RthncFGoa+CA636Yq7YuL5a9LQlGIXoJ2YUBDdXj//309fOyXfwx7nPrl8OamIaFpSFOheSGEEGJj6JMZxZrYCRtUXR8WDhwdLqtaGX78jlXhxP+aHMZV1ZtA3FKF4uC6+rBL/xHhggErw3Xb7htO/5+ZYUK/IaG5pk5CUYiNoEgkggtFqK+LQnG/fcOX7rk/HHrbPeF1U3cKb2iqjeWtKtRFoVgvoSg2cWgXtm2KQvHS74YT7ns0LPzK+eE/hw0L1c06/EcIIUT30zdLTxsGhiEDB4bF1aPClQNWhGvetjJ8/PVTtwKhWBt2GTA0XFC1V7ih34HhtCgUx2/fFIWiZhSF2BiKRCJQpmpiXVIdzVTHemfnA/YNZ959XzgsCsV/nTw1vLWJDnZVqGmoj2JRQlFs2tAuDGisDkdfdmn40F0PhHlRKP730GGhoZkZ8eJ3hBBCiA2lT4RifUNVFIpVYVH1iPCD/nuGH71tefjYf08JY7cCoTi7akj4VtXK8LP+B4RPv2FGGN+vIQpFZjwkFIXYUIpEIrA3kdlEhGJV48Aw+cB9w2fvuS+888/3hn+PQvFtZaHIXsUN3KMoRC9hQrGhOhxz6aXhuLseDPOjUPyfKBQbmyQUhRBCdD99skeRxm5IdU1YWDMyXFK1PPzw7XuEE18/acufUayvj0JxeDhvwPLws377hdPeMD1M0IyiEBtNkUh02J9os4oNA8PENfuG06NQPOK2+8O/TNkpvLm5Ppa3AaGOk4c39DAbIXoJ2oXtG5NQPP7OB8OCKBRfH4VinWYUhRBC9AB9t/S0utqE4vcG7BGuftuy8ImtQCgOqqsNMwcMDuf1Xxau3XafcMYbZ4aJ/ZslFIXYSIoEopMVij6jiFD898k7h7c3xTqnvr+JRAlFsalDu9C/oTp8+NLLwglRKDKj+IYhw+xj3EXmhRBCiI2hj4RiVRSKA6NQHBEuj0Lxx29dFk7aKoRiTRSKg8I3++0eheLe4bNvmBEm9W8KgyQUhdgoigRiC7FMRWqiUJxiQvH+KBQfCP8RheI7Yge72YRipsxJKIpNFPIoS0+Pi0LxY1EoskfxjVEoDpJQFEII0QP03R7F6qooFIeXheIntyqhuDRcu83e4XNRKE7p3xiFovYoCrExFAvERENtNBOpqx8YppaF4oNRKE4rCcV+sbxFs26fhKLYRJFQFEII0ZtMmCSh2GsUC0VmFCUUhdgYigSiI6EothQkFIUQQvQmmlHsRSQUhegZigSi055QTHsUK4RifV0UipyGilgUYtOBfbQDGmrDsZd+P5xw58NRKH47CsXhEopCCCF6hD7fo/h9E4p7lPcoNsbndNj4dfNbimgqC8Xtl4afRaH4+QKhSFidIjuEEK0pEohOa6Hoh9lMC29raox1TVWm3NEhjyKxIX2AX4i+wvJhBdwfUN8QheIPwvF3PhKF4nckFIUQQvQYfSIUaxsGhsE11WG+nXq6PPzobXuGT7x+ignF9LzFLJ23utLfmzuDYyd0dhSK50WheN079g5nRqE4tV9TGBKFYrlTW/CeEKJ9ssKwktZC8Z5wxO13hn+bvHN4a9Og+H5LJ5yP7tc3QPoAvxB9RZFYrK+vj0KxOXzo0qvCR+56PMw3oTgiDGpsiM9blwshhBBiY9ikhOLYgYziczqhj+4z+5iEI2LR722uSCgK0TNkhWEllULxc/fcHd5z223h3ydPDm9tbohlc2C0g2V9pQ56Q7zX0Bj/RiwK0TcgChsqqK9viEJxcPjQd68OH7nziSgULwz/NXRkqIv5uKhcCCGEEBvDpicUoyisaUwC0TGhuJlDuCQUhegZssKwkiKh+K7bbg//GoXiW6yDPTA01tUaDRDLqc3exL+F6CvIi54vs/lzQFNz+ODF3w/H3/FwWPzlb4XXDxsSageRZ1uXCyGEEGJj6FOhuCAjFE+KQnH8wIbQ1BAbycbYKMZfp6H0y7PNmSGx8ymhKET3kxWGragQimfcc29Y84fbw+umTg+vb2gKA6qrQ9XAxIDqgaF/9QAh+pwBBXD/zTEfv+vCC8Mn7n4oLPvS18IbhzaG+kFVheVCCCGE2Bj6TijGztnCKBQv67+nCcWT/2tKmNm/IYypqQ0ja2vDDk78/+gthB1qs0JxrygUZ0ah2ByFIiPIqVNbFF9CiPbJCcNW8DzWO3VVJhRPv+eBsOa2h8N2+x8ZqhbvGRoWLQ51i5aGWmfxbkL0OXWLWlMbqVq6LBzy45+Ho+97Jiz68iXhv4aOCjWDmmI50KyiEEKI7qVPhGJjfXUYNrDGhOL3+60Iv3nz6nD1fy0LX3zrLuGMt88Op71jdjh9S+Ptu8TfOeGcty4Mv3rTvuF3b9nXZhR36jdIQlGIjSQvDFtoqk1LT2uimf61/cLE/VeH0+65Pxx6/1PhA3c+Ej50+/3huNvvCR+Ovx++/YHIg5GHhehzjr3t4XBcBv7/4cgxtz8U3n33E+G99/8tLDn3ovDvQ8eEAYOGxXLAPkaJRSGEEN1HnwhFvpE4YmCtCcXv9VsZ/vSmA8K9/70m3PGG/cNf3ggHbHm84cAYvoPCXf9zSLj/vw4Nt/7vfuGzb5wepm0/OAypllAUYmPIisMszVEoMps4MJrZLgrFGQevCV9+8JFw1INPZvhr5OnI3yJ/jzwrRJ9z9APPhmMyHP3Ac0Z6/rfwkQeeCKu//u3wX8NGh4FDRsVyIKEohBCie+kToUhjNiyKIz64/43tFoVfvGFZ+P3r9ww3/Rcsj6zYAlkVbvrPVeHm/9wr3PKfe4fr3rZ3OPnN08P07YeFodUcnJE6tsXxJYRoj6w4zFIXQSRWNdSE6oaBoX7ixDBy1epQvc/+BewX2VeITYKaSG2O/eI98umBoWr1Afa8acmisP3wEWFgQ2MsBwjF4vIhhBBCbAh9IBRrQ2N9XRhUy769+rDbtiPD6reNDge8ZXTYH966hRLDtt9bx4R9Iwe+Jf6+Y3RYsN3QMCzGQWNtS0e3OM6EEO2RFYeAQKwtUR2fQ11dVRhY1xy2qxsc3t7Q0EIj1EfqIjWRaiH6nHdEtmnIUhOpDe9oqA9vjfn1rTG/bhfN2Cnh9Wo7hBBCdD99IBTrTChy1HdzXU0USk1hRE1jpCEMj38nGrdIhsUwDo2MrK6P4a0PQ2r5gHK+g1scZ0KI9siWIUAoQvobkRjNRaHYUNscGmsG297FPAMjVZEBkf5C9DnNbUAebYw01CUa60GnngohhOh++kQoJphZjB28+ItYaogNXV38O31suKETpI9jb04Q1gYL68D0fUWPg1KHForjTAjRHtkyVC5LZRFYU5q1Ryg2RaE4qHQ/S03BPSE2JdJgRmOJNLAR4TugkaJyIYQQQmwMfbRHMdHIKH/5/7FzF3+TcERUdQTmML/5kA8r/tfBA0L0JAzEQPo/AzGsZqizA7WE2PyIgjHCyeFOytcaZBRCCNH99K1QLLiXQEB1RNF7QgjRMS4ghdgcKcrTQgghRHfTp0JRCCGEEEIIIcSmh4SiEEIIIYQQQogcEopCCCGEEEIIIXJIKAohhBBCCCGEyCGhKIQQQgghhBAih4SiEEIIIYQQQogcEoqbAPWlb2A1NhQ/F0KIzQLVYUIIIcQWw2YrFBsbartEkR0bSqHdG9tBKr1fX6cPJwshNj+8LlQdJoQQQmwZbFJCsSsdjLragV2iOzsvdIiaGutCc1O9/XJvY+w3wdmY7FQnSwix2dFQY/VXeeDMVkmoLhNCCCE2Z/pcKA4e3BhqqgeEgVX9uiSSZs6YFpbutjjsunB+WLxoYQcsCGPGjOyU/VUDtjf/eIcHMch73Ovfb1u7z/9ZJnrO2WeFM874tHWSuOdk7eP/1QP7ZzpQrSHsZ555RjjpEx8rfC6EEL0FdRt1FvUSUCeC/7+6ur9RW1Nl8M6smTuHS797UTjk4AOsrszWhwzUeR3fFriHGTfn9gohhBCi7+hzoUjH4KA1+4ejj3p/K5HVHj+84vLQlevQQ9YU2pNl4YK5Jv5mzZwWOy794r3qcmfokIMPDCd+/PgwbOigMHhQYxg6pDnc9uc/hF/+4noTgbW1VeWOUdZO/r9s9yXhnnvuCEcecVjumcO7f/zDLeEn11xd+FwIIXoD6jJggGzRrvPD7ksXF0JdSb3lA2C77744vPbPl8MZp3+6vILDBSJ2LVu2JKxauWeb7LVqueF/7zBqeCu/CSGEEKJ36XOhyCzdDddfG178x3NloeWHu7THpd+9OLz04j/CYYceGjsuu7XP7ruFHceMKrTHocPz3vccaaISQceoNp0c/MLv9y67JDz77NMmEFlixUzon//0+ygUr7P3fQSczlFTY2nvYkO6v3r1KrP3hOOPNTOVYWS0/k9/vDX87NpryveEEKL3SYNjO02dFG789S/Cvffe2YqXXno+3HvPnWa+pibNAO62ZNfwz1dfCp/77GmxDqwyEYk9DLiNHzcm3HjjL8ID99/dLvffd3f4+9/+Gp5+6omwxx67VfhLCCGEEL1NnwvFQc0N4ZabfxNefumFMGH8jlFEDbT7LhorzTuXX/49E4oHrTkwLFwwv11Ypso7iDh+i+xG2L3n3UeYoGP20TpAsZMzsCotRWVZFR0Y/It5ZhURdz+/4dryyDn36Rxl9y7y/8MOPcjsPfWUT5o7lXsRWcaFXT/9yY/K94QQojfxepE6izpqzOgRYeyOOyTG7hBG7zA8jBwxNPzxj7eERx5+IBz1wfeV+cJZn7MZxbPOPMPeN6EYYUkpg2IjRw61WcL2GDF8SPjUyZ8Ia197Jey5x9JCPwohhBCi9+hzoTh92tTw/HN/NyH1zsMPKd+3Tks7M4vfveQie+dvTz8Vnnzi8Xb5yTU/siWjCLgiu5x3v+udZuddd94efvXLG8Jvf/Mr4zc3/jK686QJRQQiM4UuFG+/7Y9h8eIFgeVYzFoiGBGD+J0OE4Lz06eebPYyK8mzIYObcmHDzJ/+JKEohOhbXCxm71FnOTvvNDk88/enrD58/LGHwxOPPxJ/H7K6MYT1paWnLTOKji1HjXVeezAzecIJx5nglFAUQggh+p5eF4p0NrL/v/KHl4en/oqgezTccvNvc0tEKzssWS65+MIoMJ+NHYplYcL4ce0ydsfRZhcni7Z3Ep8LxQsvOD8c++GjbanoRz/y4fDBD7zX9hAWCcXXXnvZ7r/04vNmLts5qqnubyPliE06P088/nCYOmVi8kspHvhbQlEIsamAaMv+n8NtfIUEg10IRfYRTpiwY5g4cWyYOGGs7TNn6Sl7vJMwjNSlE6cZoNtj2W5hzYH7tcvqfVZZ3fvqKy9q6akQQgixCdCrQpH9iPyyfJOOx1lnftaE2SdP+ng44p2HhnVrXw3nffNr5aWZzM55B6US9ii+/NKLYf/99g1LFi8KS3dbEubPm2ssXrRr+W9YuGCedWawE4rsAxeKvkeRZVN++p8vPa0UijfddGOYN3e2HfwwbuzonEjk9/3ve3d48cXnLHz33393+PGPrjTxiD+IB8IooSiE2NTIDmYh9jhwbP26f4avffUrds9mCUt1KkIwLT39rNVnvvS0Nv5N3cv+Q7vWvxZeefkfNrDGdoMs3EckPvvM03YAWKV/hBBCCNG79IpQ9E6FCajYcWD50vnf+kZ45ZV/hHPPPceWYiIiEYwv/uPZ8KOrfxh2XTgvDOi/nb2bZgLzdp5z9hdtWek9d99l3H/fveGZv/8trH3tn+Hhhx4MDz34QJkHH7gvvP/97zb3K2c0s7hQPPSQA8tLpxCFiLnLv39pWShihwnFKO5+9cvr7bntxcl0nhC4733vkTb6fvn3v2ti85ijPxBtXxeuvuqKMHPGzjbijl28L6EohNiUoC7jl2X71M3PPfu3cOmlF9mexdNPOyX88Irvl6Ee5PIZRReK1G3sPUcosoR//vxdwoL5cwqhzl+yeIH94qbXpZX+EkIIIUTv0GszioxIs+ySU/EYOebicBcOi2Fpk4u4D3/4qPhkrY08Iyb5VIXvLcx2GpqbGsLQwYPD8GFD7XdQc1M4+4tfCP944fmwfM89wqgRI8qMGB7NDG0uL4VyOypxoXjrLb8LV135A1sWy+81P77K9uJUCkVOPeUwG4Qu9gJCGLu+e8kFZhdLVseMHmnPeI89OFxrX3vZvpvICamISOySUBRCbEos3W1XO/2UC5HIwBn12JfO+YIN6Dns6eb64hc+b3Vdi1Dsbyst7rv3rnDdz35idbitoijA6tDS4BnmJBKFEEKIvqXXhOKMGTuZ2GI/IgJs+Z6726wbnQNGj1mOSQeBjsWM6TuF88//hh2W8NhjD4W5c2aljkN9dViyeGHpe1sr4u/KsPdeq4wVy/cM3//eZeGfr74Sjj7qg2GfvffKsCqyMqxcuYftgXS7sv7DbQ5QQBQi2PimIbBUFLFIZ+jCC883UYio5ffOO24LN1z/0xiGNPOIPZxgyimnf33yMVuuytHw3ukhrMw87r/fPuHXv/q5jdJzH6HINxn1eQwhRF/CoB2DXRws9oufX2efq+DALpbjDx6UTnz2k59t5jCCuKM+Z3APoWj3Yp1owi+y446j7HMaiMnZs6aHXWbPCLNmTbNfmDtnph1qRj0/Z5eZBrOWiMes34QQQgjRu/TejGJzvZ0MOmXKhPKsHB0MviH4ja//n402WwekNGLN3+xtYe8f/0+dj4FRxF0d/vHCs7bM9Nln/h6ee/YZ++Vgm1defim8+srLsXPztN1rAbNP2+l8B+y/upXfsB/BhpvMXgJ/J+rNXfyFyKPzwi/fU2SPIkKSd/Ef9zDH+3R8+D+j6rxvJ/tFcz56ThyMGjnU3GeJ7a23/k4f3BdC9CnUhVVV29shXiyR55AZZgSp83i27bZvs4GtVI+l/dvU4QzgUcd+9ozPJIEY63Y+dUS9iOjjJOkQXrO9idTf/PLtXN+ryD5u7sMLzz8Tzjrrs/Yubhb5UwghhBA9T+8dZhMFFMKLht8a//h/hBPPrv3pj8OjjzxYnmE0YRWf+aE2/h73+Y7XlMkTwtQpkyKT49+TDE439b+diRPGG5MnTYj/53e8zV5W+g27m5rq7JcOEdDJYfaR/TIsSf3oRz9sJ6FyOA0zj3R+eD5q5DDr0OBH/IefEX7YixhMfp1oH7DGfcQve3YmTRxn/+c+7LrrPJt1rfSbEEL0GrFetkG5WP9Rj1GnsUoCscisIoeNXX/dT8PPb/iZrYpg//WHjvmg7T2kbqbOSyIxDYxZ/T2oIaxauWdYvc9KW9kBfKuWZfmcdv2+977LTjxdc+C+4YADVocDD9jXZh5xG0GKHYV+FUIIIUSPMm5CLwlFm1ErzaplYcbNhSIzcXRSuO9ikaVQCDi/5zQ2ICJrw6JdF4YPfuD94awzPx++8+3zw7fP/1b45je+Hj596inhkIMOih2cHcPAqv7mBwRg0ecxTLjGX9xg2RUzgYyo33vPHeH55/8e7vjLn+3THTff9Bv7myWxD9x/jx3c4H7GXt53CNf0aVPsEIeHH7qvkIfgwcRjjz4ULrjgWzl/CSFEb+N1L6KRg8T232/vcOedt9m2gR//+Eo79fT00061WT8O+WL/4V//+lg47bRTUt1nM4H5etXrbZ6l+rLGDrd59JEHynu4ve5kkM7/zvpLCCGEEL1Lr8wo0mFgxg0R5jN2DqPWP/vZNSaU6Bj4sibeoUPhSzX52zsOPBs8qClccvFFdoACn8m49567ww3XXxd+fsP14cZf/yo8/uij5Wcf/chx9h6zfVl/OS0dmnQYDSPkXAhY9suwFGvgwPS5DMLBqa3f+fZ5ZuaMMz5t71eKYOxjHyN7d5Yvbx+WbSEo6YRl/SWEEL2N118wfNhgGxzjA/vz5+1i9XW/7bexX+pDlp1Sr1580XesPmRpP/e9TgVEoC/pxyxg702/uzE8/PD9toeReje7b9z9kPWLEEIIIXqXHhWKdBYAwfSR4z4Uzv7imeHMz59u39piNBrY08LsHJ+R4Hn2GXzhrM/ZSansbaTTQCeDDsd53/x6FIEvheOO/bDNGnLqaUN9mmXk76FDBofZM2fGDsyF4YXnnzUxZp2OhmJ/8kuHBlHK4TWMno8YPiT+v390Ly1LRSSyjMr/5nAGDuhhOWvhbGkUtwjfDoki9LY/69RTIcSmAwfSzJs3O7z00vNWB7MElbrXV2X4LCF1HUtF1772SvjKl8+2ezyn/mSpPnV/JZz+zEwk9T6nXx937DHhhOOPM47/6LG2ouMjH/lQmDhhR7M/6y8hhBBC9A49JhRdLNFpQNz94PLLwl9u/1P4w+9vNv74x1vsMBi+H9gefDaCz1XwnS3vgCDUbr7pd4HvJU6aOCEM6M9sX1WorcY93OaTEwPsPieirlv7z3DQmv1LS57a7nTgX4TixRd/xz7hwf5EOkc8o4PEcz4gzYg5o+DMAt5911/sGX7yMHcVRtM5WZAZzEo/CSFEX0B9y/7pJ5981Jbds0SU+pH71IMsr6cuZLAL8cfFPm7qWer8CVHkUefzWaFKGIjzvzkhmv9n4T6H46xYvszqyCL/CSGEEKJn6eE9ikkIIaLSkqPSQTbxGb8dEs2n9xK+/BTedeQ7wwvPPxd+8fMbyp/D2G3J4rBk8aKwbPelYb99V4fTT/tM7HD8NfzutzfaZyro4GBva38mmBXEzJIlC23PJMutGEk//PCDw8oVe9j9vVbtaSPgHPfOcw5mQOhhr/utq5hQvP2P+jyGEGKTgbqJevdjJ3wkvPrKi+HOO/4cTvnUSeGQgw80AccBNB/8wHvDFVd8L7z04nP24X0O9+I96kPqUg63GTKkyVaV5Ij3WInBElR+2RdeCfdxv8hvQgghhOh5enyPoouh7N9doWyPibgWodgQOyLLdt/NTuH7/a03h4cfuj88/tgjkUdtf+Jdd95hexZPPeVTYeedpsR3Sgc0lOxrC8xwEAOziWd+/gwbSffvP/J5jUceecBmOb/61S+H3Xdf3OqEvw0Bofj7W2/S5zGEEJsM1E3Ub4i+pbstsmWlHOr14AP32gFcHOrF/sUrfvC98K4jDw+jdxhRftcH5LyOw54i/HkliEx+3Q63VwghhBC9R+99HqMbKHckSjOVzDBymALLnxi5pqMyYviw+DsqNDc12nJUW5Ja09IhKbI3S9mNkv0stWJk2z9r4Z/DGDBgu/jLMiw/ZKflva5Cpwj7+dyG3Yt2FflNCCF6G+on4AAb6lvq2hEjhoTRo0fYXu3ttn271YlF7wohhBBi82WzE4p2ZHsDS1PTPToodGK8o8JnMxrqOXCBQ28a431EV2l0uxMCLCvgwO1lCVR5lLwkCm1UvDzynX+vK9gyrWgXopT/Z/0jhBCbEi4cgXqv8pRTIYQQQmwZjJswd/MRilmSWMx3TtL/EYqIOg6YiZho7HwnplLEIRSxt/J+W+Y3lJaOV2s/CSFEX0IdVXQfWFVRdF8IIYQQmzeb1Yxi50hCMc+GC0XEm88g9gZFfhJCiE0V1VtCCCHElskWKBRbZhW7Qyj2NkV+EkIIIYQQQojeZAsUihtHkXjrTorcFEIIIYQQQohNic12j2JPUSTuupMiN4UQQgghhBBiU0IzihUUibvupMhNIYQQQgghhNiUGDdBQjFHkbjrTorcFEIIIYQQQohNiY2eUUzih886OF0RQxwyk6XITE+T9399XcvH+duHsHdVWOJeZZjbo9KvQgghhBBCCNHzbMAeRYRVC40N1WHUyMFh+LDm0NCQhKJ/DL8I//5hIn3vMH8yaclus8N/ewKEG5++GBiGDGkIO4waEpqb+V5iVbpfKPSAdzHncM8FZgvlcOTcrBSCHZF9VwghhBBCCCF6hw2YUWyZfWuMwnDEiEFh331XhmW7LwqDB9WHpsZKMZjw9/3/iKl0v/ITFkl8Yndtbf/4f9zKut8dIOAGhrq6AfY7Z5dp4cAD9g7jx+0Q6moHlMRea4Ho4hD/8ltX6zOKmB8QGhv57mKyk7+TYGx5L4lMIYQQQgghhNi02YA9ilmhWB2GDWsMaw7cOyzfc3FobqoOzc3FQhF4n99BzfVh2NCmKCoRiMwoQm2oqekfn9WGwYOZaayyv5NoTGKttV82lCQUsbeurn+YN296OPTQ/cKE8TtEd6rMTFkglmYFK4Xi4EHNkcaSuZb4aKivCsOHN4cm4qIpudUZoejuCCGEEEIIIURfs1Ezik2N1WH4sKawZs3eYcWKJVEYxXtRILFctFIkgi0jjWJqxvQpYb99V4VRI4dEe1xEIagGhOnTJ0T79orPmkJjI+5U5Wbn6mrTb9ZOE1n8dlpMYq4UjihI582dFg4+eHUYP36ULUWtXO7KElkXiMwiDooCcd/o/zlzppf8lWYQEYqDB9fHZytMfBIfaTluyS6Ll5oYb/gdf/MsLdVN9uCvEvjBie8SRg+fhbt0r2y3EEIIIYQQQnQTG7BHMQkjE0dRGI0YHoUiM4rLF4fm5jSL5oKGGUNm3RB3zU31JohYmjlv7oxwYHxn1MhBdi8JnyiYGqui+NopijaEYmN8H5GYRBh2YG7gwH72jouoJByTiEozlJ0RT5hB6PJ3VZg9e6qJ3YkT0tJT7EGE1dbgfm30e0O0PzubWGdidt68nUNtLf5J9sGQIfXhkEP2DQsXzIrmt4/3+sfnKQzEDWYR2HYv/s392pp+pWW2zGZGNxGX8VlzU51B2OqikERMtiCRKIQQQgghhOgZNmpGEUaMaI5Cca+wfM9FUQANDEOHNoTx48aEyZPGhx1GDTPRhdhC5LHklFnE3XabH4XiXmHK5DFhhx2GhtE7DI/masPIkc1htyVzotDaJ+y889gwZszQKESb4/tJTA4d2hRGjRoSzdaEIYMbwtgdR4apU8aHSRPHxf83lUQjdCSikrBrbkL8ReE6b3o4+KDVYdzY4dGtgdHfw6PfxsdwjI7CrzG63fIu7kyIgvLgg1aFBQumhtGjh5if8M+I4YPClCljTSguXTo/jBk9OD4fbLOMuDOouc7MDh8WRXAUjSxRnTRxTJg6NYZ19NDodlUUqFEwNiAYS0IygrmJEzA3PowdO9L2gnYunEIIIYQQQgjRdTZqRhFMKK5ZFVauWBymTRsXVq/eIxwURdehh+xvB8TMnrVTNFcVamv6R+E33JZlHnjg8rD//rvb74EHrozv7haF0OgoOPcJBx+8dxRae0U7V4T99lsRny0NQ4c0mVibs8v0+P7yMGP6RNsTecABe4WD1uxjwnKvVUuigBsR3fKZuY7FYpqtqwpz506P/lgVhdiOUcTOs2WlBx+0fwzHvmFFDBfCjj2TzAgu2nVudBM/7p3CEf24ep89o7CdEBYvmhPfIQyrY1hWxfCvjGb2DrNmMvM4wPZl7rt6hc02zp0zLcbVcpuNxf9r1qwMixbNjGJxQBKL9QNsGe/sWVPjO8TXqrBfjLsD9l9ps7fjxo2MZiQWhRBCCCGEEN1PN8woskdxZRQzy6KY2SPMmDEu7LDD4DBp0mgTevvvv8Jm1Wpqtg+DBtWGyfH+XnvtGg44cGkUlqOjuBsexo4dFsVgvc2aLV++azj00L3MHpaCjh8/2mYlmf2bFwXdoYfua+Jy6dK5YczoIdH9xjB79oQozhCge4YhQxBOnTstleWwLOOcO3dGOOTgfaJfl4dlyxaECeNHxTAMiaJwdnRvn7B48azQ0NAvmu0Xxe4wWx5LmJctmxfNjoxhGBVFYIPNLs6aNSUKv9XmvwkTRoaJE8eEkSOG2owps6kHR/HJDOzee+0eJk8eE4YPb4yib1gUvvOjW1FYz54ShSInr/a3eMGuPfZYaOFERI4fPzzsuefCsOOOQ2MY0sxjUdiEEEIIIYQQYkPphhnFklDcd1kUNhxOs11kQKiLomrnnceFQw/ZJ0yfPt7uIRYRXHvsMS8ccMAeYcTIKNaamUHrZ885+IWlp8wm7rBDQ6iu3tbcYNaMJZhz506LYmp12GWXyfE9vneIW9vH97eN9yaVBOZYcyOJqCL/t5AViswozp+3cxRj/U0Q4v/Bg2tiuJaG1at3C4OiP83ehgFRpA2OwnSVuVlbu52Z535tzXYmFt/5zgPC/PnTTNilT3BE8WpLSJuiUNwnCuXdwsiRTfF+f1tuilujRzdHP+wR9tlnqR0QVB/9P2XKaJu5JP5qarZJfothbWiI4bYwpk9xFIVNCCGEEEIIITaUbtujuOeeu4amJsQboimdiMqeP0TkrFmTolmEYj8TRnvssSCKohVRLDVkBE863ZSZuDVrlkfh1GTCMh12kw6BSUJxnzBp0sgomBB0vJcE3A47NJrAZPbPlm/asyL/t5ATigesjPZy6inCE7sRcf2jX+eaX0cMrzd3GqMgHDt2qAm4XXZh9i/dY38mYd9xzNDwzsMPsINumpvZZwgcusNnMxrCQQcvN6FMXBEmRKR9kiPasWyZh32wuY87Bx20V1i5cnGM5/ro3yhGa7eJZhGK0Z/RjISiEEIIIYQQorvphhnFQbbPbs/SYTYINIQPn34Yu+PwKLJWhtmzJ0ezWaG40O77rJovoSwWiklMIT7nztnZ9vNNmoigS+6kd/tHoZhmNlkOmgQrz3m3KAyJFqE4PQrFFUko1iEUk9BEcCLeEIrDTShygmmLUJyDUESsNaTTWfk7CcX9o1DcyYQi/sMftQjFYfVhzUF7mPgcNCh9HoNnfH6Dmcf583eOwnB5GD9+aPz/dhYOPhey337sUVwRFiyYESZOHBHtJc44UVUzikIIIYQQQojuZwNmFBFflUJxdUkoptmx9PmGgbafD5HFUlHEnAm/slBcZaecJqFYOaO4Ir7bHM1vF0VUtMvEYPp0BgJt0sQdTMwlkcjM3IAoFDlUZ2VYuXLXKMIGhrpaZgVbhKJ/ezBLXiguTzOVzIiWwsbnOVqEIrOfUTxGUZj2Du4ThevUKOiS0LVPWsSw7LgjS0/3i0Jxqi2P5RlumFCMYnPNQXuaUEREprhKQpEwIhQPPmRFmDp1ZGnmcED0Y7XF04L5M6NYXBmF5N5hj2Xzw8gR0T8SikIIIYQQQogeYANmFKE0yxcZMXxIFIr7RqG4JAorvqGI+EnweQtOBmUvH8s2TfiVhOJ+++0ZRo1qiuZ86SkzeFUlobjS9uzV1abllYgohOGcKMw4EXXSpBHxvs+o8V5apomI3H33OaGpKQlVvnvY2MCnJFqLRMgJxQP3LAlFhF8KIzOky6IoY/azRSgODOPGDbe9knPn7hSFYlqqyjOWoSIUDz98vyj6dor32JPJfeJjQLSD7y8yozjHRGTLrGetxd3uMezsUxw7dlAUittGt6JQbMYvKfyjRg0KCxfOtJNhFy6cYeGUUBRCCCGEEEJ0Nxswo5gnJxTtY/tp2SaMGTOkRSjWb18Wist2nx/fYelpgy2xtMNs2P/XOMCE4kFrVpngQkQihpi148CXOXM4UXRVmDhxWHrPxCKnkW5nou3gg/YKM2eOM+HGnkA+js9po3ysvsjv9mH9slDcoyQUeQ9hmRWKq6LIazTRxxLYHXdMp5GyFLQ2iln8hpuNDf2jwB0UheK+YfHimSYU00E92DkgjBjREIUiJ6u6UESUMqNYG0aOGGwHAu2zz+IwbFiN2Yv7abYyzdTiDrOcfIKEfYt83F9CUQghhBBCCNHdbOCMYqT0EXo+/eBCsbk5ijJb8pmEIvv1EEYIRQ6JYYYQsTV//nSbNeSzELU1LLF0odg/7LbbnHDIwXuHqVPH2CmiCEsEowtFPiGxYMFOYfDgKJBK7yEq+bTFwQfvFYYOrYlm+4dBzQ1h+rSdwgH7r4q/CNUK/0cQaC4UDzoozSimg3MQYAjJ6sDBO2vW7BVFXlN0Kwq+KNqGDWuM4nGvKPgWRnOIPWYU+e1ny0vxyx57zI9+75eEZG1assqeTJ5x4iuzqQhBRCDfc1yyOArkg1Za2IiHutp+YdzYEWHnncbbZ0V4n7jjMxnsWeQTGYMH10U3JRSFEEIIIYQQ3ctGzyiOGjksHLRmv7Bi+dIozpiha5lRRCgefPDKKMQmR/G2nQlFZt52HDMkiqUV9u1FllAuWjTLvn+ImTFjBkcRttKWpi5etIt9yxCRxrssPUUorl69NOy115Kw25JdbAYSs/vsvTRMnszeRYTqQFtWunS3BbZfcO+9l4UhgxF6Wb+n/YvMPM6fNyMccujKMNlOU0V4IcCSUESQ8UkLTnd1Ucb9+fNnRGG3j82OLl48O4rR8eY2M3677joristVYc8oMnddOCtM25mlt1HkDW8wocgs6+oY9j33WBQF4nzzHyJ38ZLpUYTWRrOI46qwy+zJFk8rViyyeFqwYHpYtWqJhXfqlNFmTkJRCCGEEEII0d1s+IxiiSFDmsKC+XPCtGmTozhjyabvvRsQRU+DHdAyccKI+H/2G6YlmogmPhi/dOm8sHz5ovj+jGgPAgmR1y+MGtUcdtttXhSDy6IIm2tCkff45ATfStxpp9H2jcElS+aElSuXmBhjtg6RlpZ54rfaKEiHRzd2MXGFUMwebtNCdRg/blSYO29SdLfRZhSTUGQWrzrsvNO4MHfOtDB4sC/zrDYx2dRUHYXrzrYElMNlpk7dMT4j3P3tRNMZMyaG5XvuGoXmIpvRZIaQfY4sY12+fGHge4sLF8yO7+8eVq1cGsOzQ2huZsaVparpoJumJsT2YAv3iuW7mlt8n9H82cgMpg6zEUIIIYQQQnQ/Gz2jiPiqq02HxyTR4gfJQBRO9WnZqB1KY/9PYo5DYZqbsIO9d2nvHzNkgzi8Jf4ixJih9GWbiKJ5c3eyGUU+H1FdzZLVdMgLvyw3TSePunBiWWlVmDVrcli5YkkUVulzFD6TmPYhskwVdzmVdBvzJ3sa/RlhqK3pF2qqk3hreZfZz+Rv3EXE1tawXzKGuRQeluDaQTTRbhOf8XfUyMEhfUokLRvFftwjnIjnvPhjX2Jagur7FYkT/z/7PVNcFolfIYQQQgghhNhwNnpGsX0QMYieknBsV9S0mG0BscRvEop8HuOwQ1eHCROG2v8rzadvLib72H84ftyYcPBBB4Sdd5poQiwvrNLy0g2nvbDk8U9zjBzBwT/72CzjoEH1UfRhBwfu1JuZZC6Fu9IOIYQQQgghhOgtNnpGsWMQPZ0VPm625Z30Ufq0pHPOLlPDYYe5UHTR1/odGDZ0UFi9z6owd84ss4PZxvLH+83MxgrFztNaKC6xw3bqanleKRRbwiCEEEIIIYQQfUEPzyh2B8wqJqE4a9akwMfvx40bHO8jFIvMJ/j0BSeylg+wQSRmZhx9eWlvMmLE4LB69Yqw25IFFUKRpafx79xhO0IIIYQQQgjRN/TCjOLGkr4hiFBsbhpon8VoavJvExaZ35SptkNxBg/iYBw+JcK9uvKMoxBCCCGEEEJsCmweM4pRFKZDYkrfK2zYNt7vilBEiLHUFPpOlKXDdFhKm/xeX5f8JaEohBBCCCGE2JTYLGYUE2mvYjrZ1EUiAquSyvedjp73PJwQmz6/0bdLYIUQQgghhBCiPTaDGUXHT0B1kYXA8lnCvp8t7AzF33EUQgghhBBCiE2LzWBGMUvlTNzmJRSFEEIIIYQQYnNgM5pRrERCUQghhBBCCCF6gs1sRjGLhKIQQgghhBBC9ASb+YxiEUVmhRBCCCGEEEJ0ls14RlEIIYQQQgghRE+wGc8oCiGEEEIIIYToCcZN0IyiEEIIIYQQQogMmlEUQgghhBBCCJFDexSFEEIIIYQQQuTQjKIQQgghhBBCiBzaoyiEEEIIIYQQIodmFIUQQgghhBBC5NAeRSGEEEIIIYQQOTSjKIQQQgghhBAih/YoCiGEEEIIIYTIoRlFIYQQQgghhBA5NKMohBBCCCGEECKHZhSFEEIIIYQQQuTQjKIQQgghhBBCiByaURRCCCGEEEIIkUMzikIIIYQQQgghcmhGUQghhBBCCCFEDs0oCiGEEEIIIYTIoRlFIYQQQgghhBA5NKMohBBCCCGEECKHZhSFEEIIIYQQQuSQUBRCCCGEEEIIkUNCUQghhBBCCCFEDu1RFEIIIYQQQgiRQzOKQgghhBBCCCFySCgKIYQQQgghhMghoSiEEEIIIYQQIof2KAohhBBCCCGEyKEZRSGEEEIIIYQQOSQUhRBCCCGEEELkkFAUQgghhBBCCJFDexSFEEIIIYQQQuTQjKIQQgghhBBCiBwSikIIIYQQQgghckgoCiGEEEIIIYTIoT2KQgghhBBCCCFyaEZRCCGEEEIIIUQOCUUhhBBCCCGEEDkkFIUQQgghhBBC5JBQFEIIIYQQQgiRQ0JRCCGEEEIIIUQOCUUhhBBCCCGEEDkkFIUQQgghhBBC5JBQFEIIIYQQQgiRY+x4CUUhhBBCCCGEEBk0oyiEEEIIIYQQIoeEohBCCCGEEEKIHBKKQgghhBBCCCFyaI+iEEIIIYQQQogcmlEUQgghhBBCCJFDQlEIIYQQQgghRA4JRSGEEEIIIYQQObRHUQghhBBCCCFEDs0oCiGEEEIIIYTIIaEohBBCCCGEECKHhKIQQgghhBBCiBzaoyiEEEIIIYQQIodmFIUQQgghhBBC5NCMohBCCCGEEEKIHJpRFEIIIYQQQgiRQzOKQgghhBBCCCFyaEZRCCGEEEIIIUQOzSgKIYQQQgghhMihGUUhhBBCCCGEEDk0oyiEEEIIIYQQIodmFIUQQgghhBBC5NCMohBCCCGEEEKIHJpRFEIIIYQQQgiRQzOKQgghhBBCCCFyaEZRCCGEEEIIIUQOzSgKIYQQQgghhMihGUUhhBBCCCGEEDk0oyiEEEIIIYQQIodmFIUQQgghhBBC5NCMohBCCCGEEEKIHJpRFEIIIYQQQgiRQzOKQgghhBBCCCFyaEZRCCGEEEIIIUQOzSgKIYQQQgghhMihGUUhhBBCCCGEEDnGjp8joSiEEEIIIf5/+3ZMAwAMA0EMVRUI5Y+oHaPj4MEgos8BLIsiAAAAoVEEAAAgLIoAAACERhEAAICwKAIAABAaRQAAAMKiCAAAQGgUAQAACK+nAAAAhEMRAACA0CgCAAAQGkUAAADC6ykAAADhUAQAACA0igAAAIRGEQAAgPB6CgAAQJy57wNk32bqGUpkIwAAAABJRU5ErkJggg==)"
      ]
    },
    {
      "cell_type": "markdown",
      "metadata": {
        "id": "szonFcOMCZCd"
      },
      "source": [
        "*  경로: catalog/news\n",
        "*  '?' 뒤는 쿼리스트링\n",
        "*  (파라미터): 제품을 price 기준으로 가져오기, 페이지는 4"
      ]
    },
    {
      "cell_type": "code",
      "metadata": {
        "id": "pIxfduJw-Wag"
      },
      "source": [
        "https://en.wikipedia.org/wiki/Computer_programming#Debugging"
      ],
      "execution_count": null,
      "outputs": []
    },
    {
      "cell_type": "markdown",
      "metadata": {
        "id": "mLF7flbrCwLg"
      },
      "source": [
        "*  '#' :다른섹션으로 이동"
      ]
    },
    {
      "cell_type": "markdown",
      "metadata": {
        "id": "zS-lKnYCFbJZ"
      },
      "source": [
        "### 연습문제 (TV 시청률 크롤링)"
      ]
    },
    {
      "cell_type": "code",
      "metadata": {
        "id": "UjDOIV4QE1dP"
      },
      "source": [
        "#https://workey.codeit.kr/ratings/index?year=2010&month=2&weekIndex=0"
      ],
      "execution_count": null,
      "outputs": []
    },
    {
      "cell_type": "code",
      "metadata": {
        "id": "crmi0NpVCyxf"
      },
      "source": [
        "rating_pages = []\n",
        "\n",
        "years= range(2010,2013)\n",
        "months = range(1,13)\n",
        "weeks=range(0,5)\n",
        "\n",
        "for year in years:\n",
        "  for month in months:\n",
        "    for week in weeks:\n",
        "      url = \"https://workey.codeit.kr/ratings/index?year={}&month={}&weekIndex{}\".format(year, month, week)\n",
        "      response = requests.get(url)\n",
        "      rating_pages.append(response.text)\n",
        "\n",
        "print(len(rating_pages)) # 가져온 총 페이지 수 \n",
        "print(rating_pages[0]) # 첫 번째 페이지의 HTML 코드"
      ],
      "execution_count": null,
      "outputs": []
    },
    {
      "cell_type": "markdown",
      "metadata": {
        "id": "Ag9f1WJQF6-M"
      },
      "source": [
        "## HTML 코드에서 데이터 추출하기"
      ]
    },
    {
      "cell_type": "markdown",
      "metadata": {
        "id": "1u3jGaYDICRJ"
      },
      "source": [
        "### CSS를 사용하면 HTML 태그에 색, 폰트, 크기, 여백 등을 설정 가능"
      ]
    },
    {
      "cell_type": "markdown",
      "metadata": {
        "id": "NNw7GO3vGkbY"
      },
      "source": [
        "\n",
        "1. **HTML 태그를 선택하는 코드**\n",
        "```\n",
        "li {\n",
        "}\n",
        "```\n",
        " * 스타일 적용의 범위를 정하는 코드를 CSS 선택자(CSS Selector)라고 함\n",
        "\n",
        "2. **스타일을 지정하는 코드**\n",
        "```\n",
        "color: blue;\n",
        "font-size: 20px;\n",
        "```\n",
        " * 색상을 파란색으로, 글자 크기를 20px로 하라는 의미\n",
        " * 기타 코드: https://www.w3schools.com/cssref/"
      ]
    },
    {
      "cell_type": "markdown",
      "metadata": {
        "id": "P7xsqaHdKikM"
      },
      "source": [
        "### 첫 번째 CSS 선택자: 태그 이름\n",
        "```\n",
        "li {\n",
        "  color: blue;\n",
        "  font-size: 20px;\n",
        "}\n",
        "```\n",
        "```\n",
        "p {\n",
        "  color: blue;\n",
        "  font-size: 20px;\n",
        "}\n",
        "```\n",
        "\n"
      ]
    },
    {
      "cell_type": "markdown",
      "metadata": {
        "id": "dOfGAdEAK-nm"
      },
      "source": [
        "### 두 번째 CSS 선택자: 아이디 (id)\n",
        "* 단 하나의 태그에만 스타일을 입히고 싶을 때 아이디(id) 속성 사용\n",
        "```\n",
        "<li id=\"coffee\">커피</li>\n",
        "<li id=\"green-tea\">녹차</li>\n",
        "<li id=\"milk\">우유</li>\n",
        "```\n",
        "* 아이디를 CSS 선택자로 활용하면, 그 아이디를 가진 태그에만 스타일 적용됨\n",
        "```\n",
        "#green-tea {\n",
        "  color: blue;\n",
        "  font-size: 20px;\n",
        "}\n",
        "```\n",
        "**동일한 아이디를 여러 태그가 가질 수 없으며, 하나의 아이디는 HTML 코드 전체에 단 한 번만 나와야 함*\n"
      ]
    },
    {
      "cell_type": "markdown",
      "metadata": {
        "id": "seVZqu42LuWw"
      },
      "source": [
        "### 세 번째 CSS 선택자: 클래스(class)\n",
        "* 여러 코드에 동시에 스타일을 입히고 싶을 때, id가 아닌 class 사용\n",
        "```\n",
        "<li class=\"favorite\">커피</li>\n",
        "<li>녹차</li>\n",
        "<li class=\"favorite\">우유</li>\n",
        "```\n",
        "* 클래스 상징 기호 '.' ex) .favorite : 클래스가 favorite인 모든 태그를 선택\n",
        "```\n",
        ".favorite {\n",
        "  color: blue;\n",
        "  font-size: 20px;\n",
        "}\n",
        "```\n",
        "* 클래스 여러개 가질 수 있음 (클래스 사이에 공백을 추가)\n",
        "```\n",
        "<p class=\"favorite preview\">이것은 첫 번째 문단입니다.</p>\n",
        "```\n"
      ]
    },
    {
      "cell_type": "markdown",
      "metadata": {
        "id": "_gSGa7H3Nt4Y"
      },
      "source": [
        "### 네 번째 CSS 선택자: 속성(attribute)\n",
        "> 아이디와 클래스 외의 속성도 CSS 선택자로 사용할 수 있음\n",
        "\n",
        "* alt 속성: 이미지가 로딩되지 않을 경우 대비, 이미지가 어떤 이미지인지 텍스트로 알려주는 역할\n",
        "```\n",
        "<img src='https://i.imgur.com/bY0l0PC.jpg' alt=\"coffee\"/>\n",
        "<img src='https://i.imgur.com/fvJLWdV.jpg' alt=\"green-tea\"/>\n",
        "<img src='https://i.imgur.com/rNOIbNt.jpg' alt=\"milk\"/>\n",
        "```\n",
        "\n",
        "* 속성 이름과 속성 값을 CSS 선택자로 활용 [name=\"value\"]\n",
        "* \"alt 속성의 값이 \"green-tea\"인 태그의 가로 길이를 300px로 하라\"\n",
        "```\n",
        "[alt=\"green-tea\"] {\n",
        "  width: 300px;\n",
        "}\n",
        "```"
      ]
    },
    {
      "cell_type": "markdown",
      "metadata": {
        "id": "nBcng17gPdfB"
      },
      "source": [
        "## 파싱(Parsing)\n",
        "* 문자의 구조를 분석해서 원하는 정보를 얻어냄\n",
        "* Python에서 Beautiful Soup 툴로 HTML 파싱"
      ]
    },
    {
      "cell_type": "markdown",
      "metadata": {
        "id": "kKhvstVNSnLo"
      },
      "source": [
        "### 0. 파싱할 HTML 코드를 변수 html_code에 넣어줌"
      ]
    },
    {
      "cell_type": "code",
      "metadata": {
        "id": "tXV8O9lKRtb8"
      },
      "source": [
        "html_code = \"\"\"<!DOCTYPE html>\n",
        "<html>\n",
        "<head>\n",
        "    <title>Sample Website</title>\n",
        "</head>\n",
        "<body>\n",
        "<h2>HTML 연습!</h2>\n",
        "\n",
        "<p>이것은 첫 번째 문단입니다.</p>\n",
        "<p>이것은 두 번째 문단입니다!</p>\n",
        "\n",
        "<ul>\n",
        "    <li>커피</li>\n",
        "    <li>녹차</li>\n",
        "    <li>우유</li>\n",
        "</ul>\n",
        "\n",
        "<img src='https://i.imgur.com/bY0l0PC.jpg' alt=\"coffee\"/>\n",
        "<img src='https://i.imgur.com/fvJLWdV.jpg' alt=\"green-tea\"/>\n",
        "<img src='https://i.imgur.com/rNOIbNt.jpg' alt=\"milk\"/>\n",
        "\n",
        "</body>\n",
        "</html>\"\"\""
      ],
      "execution_count": 10,
      "outputs": []
    },
    {
      "cell_type": "markdown",
      "metadata": {
        "id": "tEtTd6kOSZNX"
      },
      "source": [
        "### 1. BeautifulSoup 타입 만들기"
      ]
    },
    {
      "cell_type": "code",
      "metadata": {
        "id": "wOz99cWwF_k0"
      },
      "source": [
        "from bs4 import BeautifulSoup"
      ],
      "execution_count": 11,
      "outputs": []
    },
    {
      "cell_type": "code",
      "metadata": {
        "colab": {
          "base_uri": "https://localhost:8080/"
        },
        "id": "iRmLjCVNSd0i",
        "outputId": "e4087614-1940-432e-f675-1fc0f65f69b4"
      },
      "source": [
        "## BeautifulSoup 타입으로 변환\n",
        "soup = BeautifulSoup(html_code, 'html.parser')\n",
        "\n",
        "# type 출력\n",
        "print(type(soup))"
      ],
      "execution_count": 12,
      "outputs": [
        {
          "output_type": "stream",
          "text": [
            "<class 'bs4.BeautifulSoup'>\n"
          ],
          "name": "stdout"
        }
      ]
    },
    {
      "cell_type": "markdown",
      "metadata": {
        "id": "-V0ZNyJhStGl"
      },
      "source": [
        "### 2. 특정 태그 선택하기\n",
        "* .select() : CSS 선택자를 넣어 특정 HTML 태그만 선택 가능"
      ]
    },
    {
      "cell_type": "code",
      "metadata": {
        "colab": {
          "base_uri": "https://localhost:8080/"
        },
        "id": "Xd9O8dOOSi0b",
        "outputId": "e4677322-f242-41a1-fce0-0daf6062aafd"
      },
      "source": [
        "#모든 <li>태그 선택\n",
        "li_tags = soup.select('li')\n",
        "#결과출력\n",
        "print(li_tags)"
      ],
      "execution_count": 13,
      "outputs": [
        {
          "output_type": "stream",
          "text": [
            "[<li>커피</li>, <li>녹차</li>, <li>우유</li>]\n"
          ],
          "name": "stdout"
        }
      ]
    },
    {
      "cell_type": "code",
      "metadata": {
        "colab": {
          "base_uri": "https://localhost:8080/"
        },
        "id": "wyh655WoS40n",
        "outputId": "90132bc2-3e8c-4714-c972-40a8e8c4c1f8"
      },
      "source": [
        "#첫 번째 <li> 태그만 꺼내기\n",
        "li_tags = soup.select('li')\n",
        "\n",
        "print(li_tags[0])\n",
        "print(type(li_tags[0]))"
      ],
      "execution_count": 17,
      "outputs": [
        {
          "output_type": "stream",
          "text": [
            "<li>커피</li>\n",
            "<class 'bs4.element.Tag'>\n"
          ],
          "name": "stdout"
        }
      ]
    },
    {
      "cell_type": "markdown",
      "metadata": {
        "id": "ct0S4Og5TCi2"
      },
      "source": [
        "### 3. 태그에서 문자열 추출하기\n",
        "* BeautifulSoup 태그 뒤에 .text라고 붙이면, 텍스트만 꺼낼 수 있음"
      ]
    },
    {
      "cell_type": "code",
      "metadata": {
        "colab": {
          "base_uri": "https://localhost:8080/"
        },
        "id": "FwSCxTzETBUa",
        "outputId": "58dfe4ec-0a62-4ca5-893b-a1a231af6b86"
      },
      "source": [
        "li_tags= soup.select('li')\n",
        "print(li_tags[0])\n",
        "print(li_tags[0].text)"
      ],
      "execution_count": 18,
      "outputs": [
        {
          "output_type": "stream",
          "text": [
            "<li>커피</li>\n",
            "커피\n"
          ],
          "name": "stdout"
        }
      ]
    },
    {
      "cell_type": "code",
      "metadata": {
        "colab": {
          "base_uri": "https://localhost:8080/"
        },
        "id": "3Vs0PFKZTKnW",
        "outputId": "9d7163f4-aa0d-4c7b-911f-a57509a840ca"
      },
      "source": [
        "#반복문 사용하여 모든 문자열 추출\n",
        "beverage_names = []\n",
        "for li in li_tags:\n",
        "  beverage_names.append(li.text)\n",
        "\n",
        "print(beverage_names)"
      ],
      "execution_count": 19,
      "outputs": [
        {
          "output_type": "stream",
          "text": [
            "['커피', '녹차', '우유']\n"
          ],
          "name": "stdout"
        }
      ]
    },
    {
      "cell_type": "markdown",
      "metadata": {
        "id": "aQ8yt3ynTxDp"
      },
      "source": [
        "## 태그 속성값 추출하기\n",
        "* 태그에 [\"속성 이름\"]을 붙여주면 해당 속성의 값을 가져올 수 있음"
      ]
    },
    {
      "cell_type": "code",
      "metadata": {
        "id": "OnxBq4mXT0-V"
      },
      "source": [
        "from bs4 import BeautifulSoup\n",
        "\n",
        "html_code = \"\"\"<!DOCTYPE html>\n",
        "<html>\n",
        "<head>\n",
        "    <title>Sample Website</title>\n",
        "</head>\n",
        "<body>\n",
        "<h2>HTML 연습!</h2>\n",
        "\n",
        "<p>이것은 첫 번째 문단입니다.</p>\n",
        "<p>이것은 두 번째 문단입니다!</p>\n",
        "\n",
        "<ul>\n",
        "    <li>커피</li>\n",
        "    <li>녹차</li>\n",
        "    <li>우유</li>\n",
        "</ul>\n",
        "\n",
        "<img src='https://i.imgur.com/bY0l0PC.jpg' alt=\"coffee\"/>\n",
        "<img src='https://i.imgur.com/fvJLWdV.jpg' alt=\"green-tea\"/>\n",
        "<img src='https://i.imgur.com/rNOIbNt.jpg' alt=\"milk\"/>\n",
        "\n",
        "</body>\n",
        "</html>\"\"\""
      ],
      "execution_count": 20,
      "outputs": []
    },
    {
      "cell_type": "code",
      "metadata": {
        "colab": {
          "base_uri": "https://localhost:8080/"
        },
        "id": "QGjgEkXpT3x2",
        "outputId": "495901ca-0636-4fe0-bd56-057733c58445"
      },
      "source": [
        "# BeautifulSoup 타입으로 변환\n",
        "soup = BeautifulSoup(html_code, 'html.parser')\n",
        "\n",
        "# 모든 <img> 태그 선택하기\n",
        "img_tags = soup.select('img')\n",
        "\n",
        "# 결과 출력\n",
        "print(img_tags)"
      ],
      "execution_count": 21,
      "outputs": [
        {
          "output_type": "stream",
          "text": [
            "[<img alt=\"coffee\" src=\"https://i.imgur.com/bY0l0PC.jpg\"/>, <img alt=\"green-tea\" src=\"https://i.imgur.com/fvJLWdV.jpg\"/>, <img alt=\"milk\" src=\"https://i.imgur.com/rNOIbNt.jpg\"/>]\n"
          ],
          "name": "stdout"
        }
      ]
    },
    {
      "cell_type": "code",
      "metadata": {
        "colab": {
          "base_uri": "https://localhost:8080/"
        },
        "id": "Wa2W5-vBT_hR",
        "outputId": "54adc9e3-22ce-4ddf-9eb3-ad923c8e3d7c"
      },
      "source": [
        "print(img_tags[0])\n",
        "print(img_tags[0][\"src\"])"
      ],
      "execution_count": 23,
      "outputs": [
        {
          "output_type": "stream",
          "text": [
            "<img alt=\"coffee\" src=\"https://i.imgur.com/bY0l0PC.jpg\"/>\n",
            "https://i.imgur.com/bY0l0PC.jpg\n"
          ],
          "name": "stdout"
        }
      ]
    },
    {
      "cell_type": "code",
      "metadata": {
        "colab": {
          "base_uri": "https://localhost:8080/"
        },
        "id": "cIRmQq6OUDyJ",
        "outputId": "f4ca1024-cb84-42c0-af72-6e9e3a174f88"
      },
      "source": [
        "img_tags = soup.select('img')\n",
        "img_srcs = []\n",
        "\n",
        "for img in img_tags:\n",
        "  img_srcs.append(img[\"src\"])\n",
        "\n",
        "print(img_srcs)"
      ],
      "execution_count": 24,
      "outputs": [
        {
          "output_type": "stream",
          "text": [
            "['https://i.imgur.com/bY0l0PC.jpg', 'https://i.imgur.com/fvJLWdV.jpg', 'https://i.imgur.com/rNOIbNt.jpg']\n"
          ],
          "name": "stdout"
        }
      ]
    },
    {
      "cell_type": "markdown",
      "metadata": {
        "id": "a3ZLh591V52_"
      },
      "source": [
        "### OR 연산 : ,"
      ]
    },
    {
      "cell_type": "markdown",
      "metadata": {
        "id": "6PT3mPDhV_Jo"
      },
      "source": [
        "\n",
        "\n",
        "```\n",
        "<p class=\"one\">paragraph 1</p>\n",
        "<p class=\"two\">paragraph 2</p>\n",
        "<p class=\"three\">paragraph 3</p>\n",
        "<p class=\"four\">paragraph 4</p>\n",
        "<p class=\"five\">paragraph 5</p>\n",
        "```\n",
        "\n",
        "* two, four 클래스 해당 선택\n",
        "```\n",
        ".two, .four {\n",
        "  color: red;\n",
        "}\n",
        "```\n",
        "\n"
      ]
    },
    {
      "cell_type": "markdown",
      "metadata": {
        "id": "NPrWfyBVWAxh"
      },
      "source": [
        "### AND 연산 : 붙여쓰기"
      ]
    },
    {
      "cell_type": "markdown",
      "metadata": {
        "id": "AY5P6P04WEy_"
      },
      "source": [
        "\n",
        "```\n",
        "<p class=\"favorite\">paragraph 1</p>\n",
        "<p class=\"favorite\">paragraph 2</p>\n",
        "<p class=\"favorite private\">paragraph 3</p>\n",
        "<p class=\"private\">paragraph 4</p>\n",
        "<p class=\"private\">paragraph 5</p>\n",
        "```\n",
        "\n",
        "* \"favorite\" 클래스와 \"private\" 클래스를 모두 가진 태그를 선택\n",
        "```\n",
        ".favorite.private {\n",
        "  color: red;\n",
        "}\n",
        "```\n",
        "\n",
        "\n"
      ]
    },
    {
      "cell_type": "markdown",
      "metadata": {
        "id": "BN-En81BW5aZ"
      },
      "source": [
        "### 이탤릭 효과 (i)\n",
        "* p 태그 안에 중첩된 i 태그만 빨간색으로 지정하라\n",
        "```\n",
        "p i {\n",
        "  color: red;\n",
        "}\n",
        "```\n",
        "\n",
        "\n"
      ]
    },
    {
      "cell_type": "markdown",
      "metadata": {
        "id": "QcNkmKZTYkUd"
      },
      "source": [
        "## CSS Selectors Cheatsheet\n",
        "https://gist.github.com/magicznyleszek/809a69dd05e1d5f12d01"
      ]
    }
  ]
}