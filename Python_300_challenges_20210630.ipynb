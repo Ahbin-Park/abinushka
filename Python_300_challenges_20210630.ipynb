{
  "nbformat": 4,
  "nbformat_minor": 0,
  "metadata": {
    "colab": {
      "name": "Python_300_challenges_20210630.ipynb",
      "provenance": [],
      "collapsed_sections": [],
      "authorship_tag": "ABX9TyMfp2NKBLrKZYQr6LpTOCp9",
      "include_colab_link": true
    },
    "kernelspec": {
      "name": "python3",
      "display_name": "Python 3"
    },
    "language_info": {
      "name": "python"
    }
  },
  "cells": [
    {
      "cell_type": "markdown",
      "metadata": {
        "id": "view-in-github",
        "colab_type": "text"
      },
      "source": [
        "<a href=\"https://colab.research.google.com/github/Ahbin-Park/abinushka/blob/Python/Python_300_challenges_20210630.ipynb\" target=\"_parent\"><img src=\"https://colab.research.google.com/assets/colab-badge.svg\" alt=\"Open In Colab\"/></a>"
      ]
    },
    {
      "cell_type": "markdown",
      "metadata": {
        "id": "OvLP9paFKECy"
      },
      "source": [
        "#**python 300 problems solving**\n",
        "https://wikidocs.net/book/922"
      ]
    },
    {
      "cell_type": "markdown",
      "metadata": {
        "id": "EmUN_BiyywAC"
      },
      "source": [
        "## **7. 파이썬 분기문**"
      ]
    },
    {
      "cell_type": "code",
      "metadata": {
        "id": "ex-EQB_nKDhV"
      },
      "source": [
        "#115\n",
        "time = input(\"nowtime: \")\n",
        "if time[-2:] == '00':\n",
        "  print(\"it is on time\")\n",
        "else:\n",
        "  print(\"it is no on time\")"
      ],
      "execution_count": null,
      "outputs": []
    },
    {
      "cell_type": "code",
      "metadata": {
        "colab": {
          "base_uri": "https://localhost:8080/"
        },
        "id": "o_EKbNWZKHR2",
        "outputId": "014b6945-c77c-4e42-b349-fd192f48d554"
      },
      "source": [
        "#117\n",
        "word = input(\"\")\n",
        "if word in [\"apple\", \"grape\", \"hongsi\"]:\n",
        "  print(\"Correct\")\n",
        "else:\n",
        "  print(\"Incorrect\")"
      ],
      "execution_count": null,
      "outputs": [
        {
          "output_type": "stream",
          "text": [
            "Banana\n",
            "Incorrect\n"
          ],
          "name": "stdout"
        }
      ]
    },
    {
      "cell_type": "code",
      "metadata": {
        "colab": {
          "base_uri": "https://localhost:8080/"
        },
        "id": "jehcofXkKxqq",
        "outputId": "39aa1cea-c017-460b-da68-e781d15edbaa"
      },
      "source": [
        "#118\n",
        "target = input()\n",
        "warn_investment_list = [\"Microsoft\", \"Google\", \"Naver\", \"Kakao\", \"SAMSUNG\", \"LG\"]\n",
        "if target in warn_investment_list:\n",
        "  print(\"It is a target in the warned list\")\n",
        "else:\n",
        "  print(\"It is not ~\")"
      ],
      "execution_count": null,
      "outputs": [
        {
          "output_type": "stream",
          "text": [
            "Microsoft\n",
            "It is a target in the warned list\n"
          ],
          "name": "stdout"
        }
      ]
    },
    {
      "cell_type": "code",
      "metadata": {
        "colab": {
          "base_uri": "https://localhost:8080/"
        },
        "id": "hlPokAAKLKxV",
        "outputId": "742378b9-3c98-4746-fc49-7ffc38985f16"
      },
      "source": [
        "fruit = {\"봄\" : \"딸기\", \"여름\" : \"토마토\", \"가을\" : \"사과\"}\n",
        "user = input(\"Favorite season?: \")\n",
        "if user in fruit.keys():\n",
        "  #fruit.values() also possible.\n",
        "  print(\"Correct\")\n",
        "else:\n",
        "  print(\"Incorrect\")"
      ],
      "execution_count": null,
      "outputs": [
        {
          "output_type": "stream",
          "text": [
            "Favorite season?: 여름\n",
            "Correct\n"
          ],
          "name": "stdout"
        }
      ]
    },
    {
      "cell_type": "code",
      "metadata": {
        "colab": {
          "base_uri": "https://localhost:8080/"
        },
        "id": "0TPlcQUfQFMc",
        "outputId": "1d98f26a-073c-44b7-a821-1e414c6c9dea"
      },
      "source": [
        "#121\n",
        "a = input()\n",
        "if a.islower():\n",
        "  print(a.upper())\n",
        "else:\n",
        "  print(a.lower())\n"
      ],
      "execution_count": null,
      "outputs": [
        {
          "output_type": "stream",
          "text": [
            "D\n",
            "d\n"
          ],
          "name": "stdout"
        }
      ]
    },
    {
      "cell_type": "code",
      "metadata": {
        "colab": {
          "base_uri": "https://localhost:8080/"
        },
        "id": "QX6zebjnQExC",
        "outputId": "068a317c-7043-4b3b-d455-d52f248d0828"
      },
      "source": [
        "currency_rate = {\"달러\": 1167,\n",
        "                 \"엔\": 1.096,\n",
        "                 \"유로\": 1268,\n",
        "                 \"위안\": 171}\n",
        "user = input(\"입력: \")\n",
        "num, currency = user.split()\n",
        "print(float(num) * currency_rate[currency], \"원\")"
      ],
      "execution_count": null,
      "outputs": [
        {
          "output_type": "stream",
          "text": [
            "입력: 1000 달러\n",
            "1167000.0 원\n"
          ],
          "name": "stdout"
        }
      ]
    },
    {
      "cell_type": "code",
      "metadata": {
        "colab": {
          "base_uri": "https://localhost:8080/"
        },
        "id": "Z_ueTsqImDAS",
        "outputId": "3bdd2bd6-a24b-42a7-c76d-d473d13a0617"
      },
      "source": [
        "a = int(input(\"input number1: \")) #should transfrom to int for comparison\n",
        "b = int(input(\"input number2: \"))\n",
        "c = int(nput(\"input number3: \"))\n",
        "\n",
        "if a>b and a>c:\n",
        "  print(a)\n",
        "elif b>a and b>c:\n",
        "  print(b)\n",
        "else:\n",
        "  print(c)"
      ],
      "execution_count": null,
      "outputs": [
        {
          "output_type": "stream",
          "text": [
            "input number1: 10\n",
            "input number2: 20\n",
            "input number3: 30\n",
            "30\n"
          ],
          "name": "stdout"
        }
      ]
    },
    {
      "cell_type": "code",
      "metadata": {
        "id": "cFJk_H00vhoX",
        "colab": {
          "base_uri": "https://localhost:8080/"
        },
        "outputId": "256dcfc2-23ba-4c11-ff75-d94d8f6ac030"
      },
      "source": [
        "#127\n",
        "num = input(\"post number: \")\n",
        "num_slice = num[:3]\n",
        "if num_slice in [\"010\", \"011\", \"012\"]:\n",
        "  print(\"강북구\")\n",
        "elif num_slice in [\"014\",\"015\",\"016\"]:\n",
        "  print(\"도봉구\")\n",
        "else:\n",
        "  print(\"노원구\")"
      ],
      "execution_count": null,
      "outputs": [
        {
          "output_type": "stream",
          "text": [
            "post number: 01453\n",
            "도봉구\n"
          ],
          "name": "stdout"
        }
      ]
    },
    {
      "cell_type": "code",
      "metadata": {
        "colab": {
          "base_uri": "https://localhost:8080/"
        },
        "id": "-wDkKizj17Of",
        "outputId": "61c4efb8-5371-4e3c-a2db-dfbee46ba35d"
      },
      "source": [
        "#127\n",
        "user = input(\"주민번호: \")\n",
        "user = user.split(\"-\")[1]\n",
        "if user[0] == \"1\" or user[0] == \"3\":\n",
        "  print(\"man\")\n",
        "else:\n",
        "  print(\"woman\")"
      ],
      "execution_count": null,
      "outputs": [
        {
          "output_type": "stream",
          "text": [
            "주민번호: 931119-3030303\n",
            "man\n"
          ],
          "name": "stdout"
        }
      ]
    },
    {
      "cell_type": "code",
      "metadata": {
        "colab": {
          "base_uri": "https://localhost:8080/"
        },
        "id": "-icsM4us17T5",
        "outputId": "6fd282cc-421b-45d0-ebc9-03256113d574"
      },
      "source": [
        "#128\n",
        "주민번호 = input(\"주민번호: \")\n",
        "뒷자리 = 주민번호.split(\"-\")[1]\n",
        "if 0 <= int(뒷자리[1:3]) <= 8:\n",
        "  print(\"Seoul\")\n",
        "else:\n",
        "  print(\"Not Seoul\")"
      ],
      "execution_count": null,
      "outputs": [
        {
          "output_type": "stream",
          "text": [
            "주민번호: 931119-2942516\n",
            "Not Seoul\n"
          ],
          "name": "stdout"
        }
      ]
    },
    {
      "cell_type": "code",
      "metadata": {
        "colab": {
          "base_uri": "https://localhost:8080/"
        },
        "id": "KsSSEZvM6tih",
        "outputId": "c4499ba0-91a2-4659-9409-1cf14c31af9b"
      },
      "source": [
        "#129\n",
        "\n",
        "regis_number = input(\"legistration number: \")\n",
        "regis_numbers = regis_number.split(\"-\")[0] + regis_number.split(\"-\")[1]\n",
        "print(regis_numbers)\n",
        "multiple = [2,3,4,5,6,7,8,9,2,3,4,5]\n",
        "\n",
        "#list comprehension (리스트끼리 연산)\n",
        "a = [int(regis_numbers[i]) * multiple[i] for i in range(len(multiple))]\n",
        "\n",
        "result = 11 - (sum(a) % 11)\n",
        "\n",
        "if regis_number[-1] != result:\n",
        "  print(\"not effective number\")\n",
        "else:\n",
        "  print(\"effective number\")"
      ],
      "execution_count": null,
      "outputs": [
        {
          "output_type": "stream",
          "text": [
            "legistration number: 821010-1635210\n",
            "8210101635210\n",
            "not effective number\n"
          ],
          "name": "stdout"
        }
      ]
    },
    {
      "cell_type": "code",
      "metadata": {
        "colab": {
          "base_uri": "https://localhost:8080/"
        },
        "id": "yKsOapVK_MhK",
        "outputId": "e571b2fc-ae28-4c2e-cb5e-76b4b079f0a5"
      },
      "source": [
        "import requests\n",
        "btc = requests.get(\"https://api.bithumb.com/public/ticker/\").json()['data']\n",
        "\n",
        "print(btc)\n",
        "\n",
        "시가 = btc['opening_price']\n",
        "변동폭 = int(btc['max_price']) - int(btc['min_price'])\n",
        "print(변동폭)\n",
        "\n",
        "if int(시가)+int(변동폭) >= int(btc['max_price']):\n",
        "  print(\"상승장\")\n",
        "else:\n",
        "  print(\"하락장\")"
      ],
      "execution_count": null,
      "outputs": [
        {
          "output_type": "stream",
          "text": [
            "{'opening_price': '41844000', 'closing_price': '40875000', 'min_price': '40710000', 'max_price': '42194000', 'units_traded': '1601.57796218', 'acc_trade_value': '66586251199.5569', 'prev_closing_price': '41842000', 'units_traded_24H': '3790.37091286', 'acc_trade_value_24H': '156443992424.8505', 'fluctate_24H': '846000', 'fluctate_rate_24H': '2.11', 'date': '1625024779300'}\n",
            "1484000\n",
            "상승장\n"
          ],
          "name": "stdout"
        }
      ]
    },
    {
      "cell_type": "markdown",
      "metadata": {
        "id": "C77jfBWdy8iO"
      },
      "source": [
        "## **8. 파이썬 반복문**"
      ]
    },
    {
      "cell_type": "code",
      "metadata": {
        "colab": {
          "base_uri": "https://localhost:8080/"
        },
        "id": "KPdzay7QEAHv",
        "outputId": "522c8732-cc4a-4732-e1e0-6ff1e759ebca"
      },
      "source": [
        "#remember this!!!\n",
        "list = [\"a\",\"b\",\"c\",\"d\"]\n",
        "for i in list[::2]:\n",
        "  print(i)"
      ],
      "execution_count": null,
      "outputs": [
        {
          "output_type": "stream",
          "text": [
            "a\n",
            "c\n"
          ],
          "name": "stdout"
        }
      ]
    },
    {
      "cell_type": "code",
      "metadata": {
        "id": "UQbVHcRsKV6a"
      },
      "source": [
        "변수.isupper() #upperletter True/False\n",
        "변수.islower() #lowerletter True/False"
      ],
      "execution_count": null,
      "outputs": []
    },
    {
      "cell_type": "code",
      "metadata": {
        "colab": {
          "base_uri": "https://localhost:8080/"
        },
        "id": "eSHsZSG4KWE-",
        "outputId": "0f958fc6-0838-456b-c93d-b37d3926ed49"
      },
      "source": [
        "#158\n",
        "list = ['hello.py', 'ex01.py', 'intro.hwp']\n",
        "for i in list:\n",
        "  i_split= i.split(\".\")\n",
        "  print(i_split[0])"
      ],
      "execution_count": null,
      "outputs": [
        {
          "output_type": "stream",
          "text": [
            "hello\n",
            "ex01\n",
            "intro\n"
          ],
          "name": "stdout"
        }
      ]
    },
    {
      "cell_type": "code",
      "metadata": {
        "colab": {
          "base_uri": "https://localhost:8080/"
        },
        "id": "g26IClzKQK9H",
        "outputId": "cd4dda09-5083-4dba-e51e-92357748a364"
      },
      "source": [
        "#159\n",
        "list = ['intra.h', 'intra.c', 'define.h', 'run.py']\n",
        "for i in list:\n",
        "  file = i.split(\".\")\n",
        "  if file[1] == 'h' or file[1] == 'c':\n",
        "    print(i)"
      ],
      "execution_count": null,
      "outputs": [
        {
          "output_type": "stream",
          "text": [
            "intra.h\n",
            "intra.c\n",
            "define.h\n"
          ],
          "name": "stdout"
        }
      ]
    },
    {
      "cell_type": "code",
      "metadata": {
        "colab": {
          "base_uri": "https://localhost:8080/"
        },
        "id": "UJvSRFmgQ_Ho",
        "outputId": "d62979c4-191d-4186-db9f-81b40b34bdfa"
      },
      "source": [
        "#162 range, 증감폭 define -> remember!\n",
        "\n",
        "for year in range(2002, 2051, 4):\n",
        "  print(year)"
      ],
      "execution_count": null,
      "outputs": [
        {
          "output_type": "stream",
          "text": [
            "2002\n",
            "2006\n",
            "2010\n",
            "2014\n",
            "2018\n",
            "2022\n",
            "2026\n",
            "2030\n",
            "2034\n",
            "2038\n",
            "2042\n",
            "2046\n",
            "2050\n"
          ],
          "name": "stdout"
        }
      ]
    },
    {
      "cell_type": "code",
      "metadata": {
        "colab": {
          "base_uri": "https://localhost:8080/"
        },
        "id": "CSzcUY-GSKXW",
        "outputId": "70542b3f-c5ea-41d9-e889-60fb3810a7f2"
      },
      "source": [
        "#169\n",
        "a = 0\n",
        "for i in range(1,11):\n",
        "  a += i\n",
        "print(a)"
      ],
      "execution_count": null,
      "outputs": [
        {
          "output_type": "stream",
          "text": [
            "55\n"
          ],
          "name": "stdout"
        }
      ]
    },
    {
      "cell_type": "code",
      "metadata": {
        "colab": {
          "base_uri": "https://localhost:8080/"
        },
        "id": "BK013gg-SKev",
        "outputId": "7adefc30-f31c-4369-83a6-b00433fc31de"
      },
      "source": [
        "#170\n",
        "a = 1\n",
        "for i in range(1,11):\n",
        "  a = a*i #a *= i\n",
        "print(a)"
      ],
      "execution_count": null,
      "outputs": [
        {
          "output_type": "stream",
          "text": [
            "3628800\n"
          ],
          "name": "stdout"
        }
      ]
    },
    {
      "cell_type": "code",
      "metadata": {
        "colab": {
          "base_uri": "https://localhost:8080/"
        },
        "id": "Cgz86Q_YSKnb",
        "outputId": "a2b56284-c16c-4e0f-cb22-c87689e38f39"
      },
      "source": [
        "price_list = [30000,31000,32000,33000]\n",
        "for i in range(1,4):\n",
        "  print(90+10*i, price_list[i])"
      ],
      "execution_count": null,
      "outputs": [
        {
          "output_type": "stream",
          "text": [
            "100 31000\n",
            "110 32000\n",
            "120 33000\n"
          ],
          "name": "stdout"
        }
      ]
    },
    {
      "cell_type": "code",
      "metadata": {
        "colab": {
          "base_uri": "https://localhost:8080/"
        },
        "id": "jNrB7u87jycS",
        "outputId": "377799c9-bc87-4ca4-fd1f-e35fd76b4dae"
      },
      "source": [
        "my_list = [\"a\",\"b\",\"c\",\"d\"]\n",
        "for i in range(len(my_list)-1):\n",
        "  print(my_list[i], my_list[i+1])"
      ],
      "execution_count": null,
      "outputs": [
        {
          "output_type": "stream",
          "text": [
            "a b\n",
            "b c\n",
            "c d\n"
          ],
          "name": "stdout"
        }
      ]
    },
    {
      "cell_type": "markdown",
      "metadata": {
        "id": "SpAUal85zEkk"
      },
      "source": [
        "## **9. 파이썬 함수**"
      ]
    },
    {
      "cell_type": "code",
      "metadata": {
        "colab": {
          "base_uri": "https://localhost:8080/"
        },
        "id": "wOUNXyp_oP-F",
        "outputId": "67905afc-c5da-4552-c8ae-f70432e6ab1f"
      },
      "source": [
        "#215\n",
        "def print_with_smile(string):\n",
        "  print(string + \":D\")\n",
        "print_with_smile(\"hi\")"
      ],
      "execution_count": null,
      "outputs": [
        {
          "output_type": "stream",
          "text": [
            "hi:D\n"
          ],
          "name": "stdout"
        }
      ]
    },
    {
      "cell_type": "code",
      "metadata": {
        "id": "SBgh40D4rL3R"
      },
      "source": [
        "#217\n",
        "def print_upper_price(price):\n",
        "\n",
        "  print(price * 1.3)"
      ],
      "execution_count": null,
      "outputs": []
    },
    {
      "cell_type": "code",
      "metadata": {
        "colab": {
          "base_uri": "https://localhost:8080/"
        },
        "id": "YzDMI-Pc0b-B",
        "outputId": "58599ea9-02f2-4cbb-95b8-b92733d0497c"
      },
      "source": [
        "# value\n",
        "\n",
        "dict = {\"10/26\": [1,2,3,4],\n",
        "        \"11/26\": [4,5,6,7]}\n",
        "def print_value_by_key(dict, a):\n",
        "  print(dict[a])\n",
        "\n",
        "print_value_by_key(dict, \"10/26\")\n"
      ],
      "execution_count": null,
      "outputs": [
        {
          "output_type": "stream",
          "text": [
            "[1, 2, 3, 4]\n"
          ],
          "name": "stdout"
        }
      ]
    },
    {
      "cell_type": "code",
      "metadata": {
        "id": "oyA2rYn92Wa5",
        "colab": {
          "base_uri": "https://localhost:8080/",
          "height": 35
        },
        "outputId": "1d037133-3cc7-469a-b42e-e811e0b69197"
      },
      "source": [
        "#232\n",
        "def make_url(a):\n",
        "  url = \"www.\" + a + \".com\"\n",
        "  return url\n",
        "\n",
        "make_url(\"naver\")"
      ],
      "execution_count": 5,
      "outputs": [
        {
          "output_type": "execute_result",
          "data": {
            "application/vnd.google.colaboratory.intrinsic+json": {
              "type": "string"
            },
            "text/plain": [
              "'www.naver.com'"
            ]
          },
          "metadata": {
            "tags": []
          },
          "execution_count": 5
        }
      ]
    },
    {
      "cell_type": "code",
      "metadata": {
        "colab": {
          "base_uri": "https://localhost:8080/"
        },
        "id": "7FIzQo2Ltyzk",
        "outputId": "70197da5-5120-4a11-9a42-3ebb261d072a"
      },
      "source": [
        "#233\n",
        "def make_list(a):\n",
        "  return list(a)\n",
        "make_list(\"abcd\")\n"
      ],
      "execution_count": 7,
      "outputs": [
        {
          "output_type": "execute_result",
          "data": {
            "text/plain": [
              "['a', 'b', 'c', 'd']"
            ]
          },
          "metadata": {
            "tags": []
          },
          "execution_count": 7
        }
      ]
    },
    {
      "cell_type": "code",
      "metadata": {
        "colab": {
          "base_uri": "https://localhost:8080/"
        },
        "id": "MVMwifCYtdNH",
        "outputId": "3f8bff6a-09b2-4c52-df29-1367d4ff79b9"
      },
      "source": [
        "#234\n",
        "even_list = []\n",
        "def pickup_even(list):\n",
        "  for i in list:\n",
        "    if i % 2 == 0:\n",
        "      even_list.append(i)\n",
        "  return even_list\n",
        "\n",
        "pickup_even([3,4,5,6,7,8])"
      ],
      "execution_count": 11,
      "outputs": [
        {
          "output_type": "execute_result",
          "data": {
            "text/plain": [
              "[4, 6, 8]"
            ]
          },
          "metadata": {
            "tags": []
          },
          "execution_count": 11
        }
      ]
    },
    {
      "cell_type": "code",
      "metadata": {
        "colab": {
          "base_uri": "https://localhost:8080/"
        },
        "id": "PryaVrHFwNxE",
        "outputId": "d1dc97ec-342b-4c8d-8382-48b8c138b0cc"
      },
      "source": [
        "#235 콤마가 포함된 문자열을 입력받아 정수로 변환하는 convert_int 함수\n",
        "def convert_int(a):\n",
        "  list = a.split(',')\n",
        "  number = \"\"\n",
        "  for i in range(len(list)):\n",
        "    number += list[i]\n",
        "  return int(number)\n",
        "\n",
        "#모범답안\n",
        "def convert_int (string) :\n",
        "    return int(string.replace(',', ''))\n",
        "\n",
        "convert_int(\"1,234,567\")"
      ],
      "execution_count": 19,
      "outputs": [
        {
          "output_type": "execute_result",
          "data": {
            "text/plain": [
              "1234567"
            ]
          },
          "metadata": {
            "tags": []
          },
          "execution_count": 19
        }
      ]
    },
    {
      "cell_type": "markdown",
      "metadata": {
        "id": "XtaCbnSZypML"
      },
      "source": [
        "## **11. 파이썬 클래스**"
      ]
    },
    {
      "cell_type": "code",
      "metadata": {
        "colab": {
          "base_uri": "https://localhost:8080/"
        },
        "id": "-82NaxyhyCKu",
        "outputId": "aa6d8359-eab5-49a8-fe54-08b57eb920ea"
      },
      "source": [
        "#251~260\n",
        "\n",
        "class Human:\n",
        "  def __init__(self, name, age, gender): #생성자1 (self) / 생성자2(name, age, gender)\n",
        "    self.name = name\n",
        "    self.age = age\n",
        "    self.gender = gender\n",
        "  def who(self):\n",
        "    #print(\"이름: \", self.name, \"나이: \", self.age, \"성별: \", self.gender)\n",
        "    #포맷팅\n",
        "    print(\"이름: {} 나이: {} 성별: {}\".format(self.name, self.age, self.gender))\n",
        "  def setinfo(self, name, age, gender):\n",
        "    self.name = name\n",
        "    self.age = age\n",
        "    self.gender = gender\n",
        "\n",
        "\n",
        "areum = Human(\"모름\",\"미상\",\"모름\")\n",
        "areum.who()\n",
        "areum = Human(\"이름\", 25, \"여자\")\n",
        "areum.who()\n",
        "\n",
        "#클래스 소멸자\n",
        "del(areum) "
      ],
      "execution_count": 28,
      "outputs": [
        {
          "output_type": "stream",
          "text": [
            "이름: 모름 나이: 미상 성별: 모름\n",
            "이름: 이름 나이: 25 성별: 여자\n"
          ],
          "name": "stdout"
        }
      ]
    },
    {
      "cell_type": "code",
      "metadata": {
        "colab": {
          "base_uri": "https://localhost:8080/"
        },
        "id": "FmvgjjVD4dm8",
        "outputId": "5645f587-9fda-48d3-ae01-c8218227c1b8"
      },
      "source": [
        "#261~270\n",
        "class Stock:\n",
        "  def __init__(self, name, code):\n",
        "    self.name = name\n",
        "    self.code = code\n",
        "  def set_name(self, name):\n",
        "    self.name = name\n",
        "  def set_code(self, code):\n",
        "    self.code = code\n",
        "\n",
        "#삼성 = Stock(\"삼성전자\", \"005930\")\n",
        "a = Stock(None, None)\n",
        "a.set_name(\"삼성전자\")\n",
        "print(a.name)\n",
        "a.set_code(\"005930\")\n",
        "print(a.code)"
      ],
      "execution_count": 39,
      "outputs": [
        {
          "output_type": "stream",
          "text": [
            "삼성전자\n",
            "005930\n"
          ],
          "name": "stdout"
        },
        {
          "output_type": "execute_result",
          "data": {
            "text/plain": [
              "<bound method Stock.get_name_code of <__main__.Stock object at 0x7f1f98dda5d0>>"
            ]
          },
          "metadata": {
            "tags": []
          },
          "execution_count": 39
        }
      ]
    },
    {
      "cell_type": "code",
      "metadata": {
        "colab": {
          "base_uri": "https://localhost:8080/"
        },
        "id": "nV5yBGBV4kME",
        "outputId": "1ce6d94a-9364-4af1-bf0f-3eebb97214ac"
      },
      "source": [
        "#261~265\n",
        "class Stock:\n",
        "  def __init__(self, name, code):\n",
        "    self.name = name\n",
        "    self.code = code\n",
        "  def set_name(self, name):\n",
        "    self.name = name\n",
        "  def set_code(self, code):\n",
        "    self.code = code\n",
        "#위에서 정의한 값들을 불러오기(self)\n",
        "  def get_name(self):\n",
        "    return self.name\n",
        "  def get_code(self):\n",
        "    return self.code\n",
        "\n",
        "삼성 = Stock(\"삼성전자\", \"005930\")\n",
        "print(삼성.get_name())\n",
        "print(삼성.get_code())"
      ],
      "execution_count": 42,
      "outputs": [
        {
          "output_type": "stream",
          "text": [
            "삼성전자\n",
            "005930\n"
          ],
          "name": "stdout"
        }
      ]
    },
    {
      "cell_type": "code",
      "metadata": {
        "colab": {
          "base_uri": "https://localhost:8080/"
        },
        "id": "KyC14YyN7KZ2",
        "outputId": "16c5b3ca-fe1a-4544-b45d-86e1d08473af"
      },
      "source": [
        "#266~270\n",
        "class Stock:\n",
        "  def __init__(self, name, code, per, pbr, dividend_yield):\n",
        "    self.name = name\n",
        "    self.code = code\n",
        "    self.per = per\n",
        "    self.pbr = pbr\n",
        "    self.dividend_yield = dividend_yield\n",
        "  def set_name(self, name):\n",
        "    self.name = name\n",
        "  def set_code(self, code):\n",
        "    self.code = code\n",
        "  def set_per(self, per):\n",
        "    self.per = per\n",
        "  def set_pbr(self, pbr):\n",
        "    self.pbr = pbr\n",
        "  def set_dividend_yield(self, ividend_yield):\n",
        "    self.dividend_yield = dividend_yield\n",
        "  def get_name(self):\n",
        "    return self.name\n",
        "  def get_code(self):\n",
        "    return self.code\n",
        "\n",
        "삼성 = Stock(\"삼성전자\", \"005930\", 15.79, 1.33, 2.83)\n",
        "삼성.set_per(12.75)\n",
        "삼성.per"
      ],
      "execution_count": 48,
      "outputs": [
        {
          "output_type": "execute_result",
          "data": {
            "text/plain": [
              "12.75"
            ]
          },
          "metadata": {
            "tags": []
          },
          "execution_count": 48
        }
      ]
    },
    {
      "cell_type": "code",
      "metadata": {
        "colab": {
          "base_uri": "https://localhost:8080/"
        },
        "id": "dMRWmRac8OF3",
        "outputId": "0cd20f81-e92e-4314-bc7c-885df1a79225"
      },
      "source": [
        "삼성전자 = Stock(\"삼성전자\", \"005930\", 15.79, 1.33, 2.83)\n",
        "현대차 = Stock(\"현대차\", \"005380\", 8.70, 0.35, 4.27)\n",
        "LG전자 = Stock(\"LG전자\", \"066570\", 317.34, 0.69, 1.37)\n",
        "\n",
        "#stock_list = []\n",
        "stock_list.append(삼성)\n",
        "stock_list.append(현대차)\n",
        "stock_list.append(LG전자)\n",
        "\n",
        "for stock in stock_list:\n",
        "  print(stock.code, stock.per)"
      ],
      "execution_count": 52,
      "outputs": [
        {
          "output_type": "stream",
          "text": [
            "005930 15.79\n",
            "005380 8.7\n",
            "066570 317.34\n",
            "005930 12.75\n",
            "005380 8.7\n",
            "066570 317.34\n"
          ],
          "name": "stdout"
        }
      ]
    }
  ]
}