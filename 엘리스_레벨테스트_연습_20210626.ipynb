{
  "nbformat": 4,
  "nbformat_minor": 0,
  "metadata": {
    "colab": {
      "name": "엘리스 레벨테스트 연습_20210626.ipynb",
      "provenance": [],
      "collapsed_sections": [
        "xjEvafOIbr3i",
        "Gmc76iZucLNi"
      ],
      "authorship_tag": "ABX9TyMCSnhOPm4nDWImbF63NyfE",
      "include_colab_link": true
    },
    "kernelspec": {
      "name": "python3",
      "display_name": "Python 3"
    },
    "language_info": {
      "name": "python"
    }
  },
  "cells": [
    {
      "cell_type": "markdown",
      "metadata": {
        "id": "view-in-github",
        "colab_type": "text"
      },
      "source": [
        "<a href=\"https://colab.research.google.com/github/Ahbin-Park/abinushka/blob/Python/%EC%97%98%EB%A6%AC%EC%8A%A4_%EB%A0%88%EB%B2%A8%ED%85%8C%EC%8A%A4%ED%8A%B8_%EC%97%B0%EC%8A%B5_20210626.ipynb\" target=\"_parent\"><img src=\"https://colab.research.google.com/assets/colab-badge.svg\" alt=\"Open In Colab\"/></a>"
      ]
    },
    {
      "cell_type": "markdown",
      "metadata": {
        "id": "eletWkIOwofo"
      },
      "source": [
        "#엘리스 파이썬 레벨 테스트"
      ]
    },
    {
      "cell_type": "markdown",
      "metadata": {
        "id": "d7AViuRrwsyp"
      },
      "source": [
        "## 01. 도전! 파이썬 동화 10제"
      ]
    },
    {
      "cell_type": "markdown",
      "metadata": {
        "id": "lniPrGY2w0FI"
      },
      "source": [
        "### 카드병정의 장미 세기 (사칙연산 활용)\n",
        "\n",
        "\n"
      ]
    },
    {
      "cell_type": "code",
      "metadata": {
        "colab": {
          "base_uri": "https://localhost:8080/"
        },
        "id": "0YsZSRDdvx5d",
        "outputId": "2ecdf495-f80c-4dfc-930b-bac4c1b29e13"
      },
      "source": [
        "# ?를 채워주세요\n",
        "x = 6\n",
        "y = 3\n",
        "\n",
        "# 빈 곳도 채워주세요!\n",
        "# 더하기 연산\n",
        "my_sum = x+y\n",
        "print('my_sum :', my_sum)\n",
        "\n",
        "# 빼기 연산\n",
        "my_sub = x-y\n",
        "print('my_sub :', my_sub)\n",
        "\n",
        "# 곱하기 연산\n",
        "my_mul = x*y\n",
        "print('my_mul :', my_mul)\n",
        "\n",
        "# 나누기 연산\n",
        "my_div = x/y\n",
        "print('my_div :', my_div)"
      ],
      "execution_count": 1,
      "outputs": [
        {
          "output_type": "stream",
          "text": [
            "my_sum : 9\n",
            "my_sub : 3\n",
            "my_mul : 18\n",
            "my_div : 2.0\n"
          ],
          "name": "stdout"
        }
      ]
    },
    {
      "cell_type": "markdown",
      "metadata": {
        "id": "-eb6jIn8xKc1"
      },
      "source": [
        "### 로켓 발사를 위해 거꾸로 숫자를 세는 코드를 작성해 보세요.\n",
        "\n"
      ]
    },
    {
      "cell_type": "code",
      "metadata": {
        "colab": {
          "base_uri": "https://localhost:8080/"
        },
        "id": "mYUGWSMxxET_",
        "outputId": "44bdd72f-ced2-41d6-99e2-b4131bd6c6f7"
      },
      "source": [
        "count = 10\n",
        "\n",
        "for i in range(10, 0, -1):    # 10에서 1까지 역순으로 숫자 생성\n",
        "    print(i)\n",
        "\n",
        "for i in range(count, 0, -1):    # 10에서 1까지 역순으로 숫자 생성\n",
        "    print(i)"
      ],
      "execution_count": 6,
      "outputs": [
        {
          "output_type": "stream",
          "text": [
            "10\n",
            "9\n",
            "8\n",
            "7\n",
            "6\n",
            "5\n",
            "4\n",
            "3\n",
            "2\n",
            "1\n"
          ],
          "name": "stdout"
        }
      ]
    },
    {
      "cell_type": "code",
      "metadata": {
        "colab": {
          "base_uri": "https://localhost:8080/"
        },
        "id": "iUxxXSmmxVlU",
        "outputId": "cb0c6fbf-ac6d-4c35-96c1-ba1d06ab1eb6"
      },
      "source": [
        "#응용 \n",
        "\n",
        "count = int(input())\n",
        "for i in range(count, 0, -1): #역순으로\n",
        "  print(i)"
      ],
      "execution_count": 3,
      "outputs": [
        {
          "output_type": "stream",
          "text": [
            "10\n",
            "10\n",
            "9\n",
            "8\n",
            "7\n",
            "6\n",
            "5\n",
            "4\n",
            "3\n",
            "2\n",
            "1\n"
          ],
          "name": "stdout"
        }
      ]
    },
    {
      "cell_type": "markdown",
      "metadata": {
        "id": "7ova-Eh6xfcv"
      },
      "source": [
        "### 입력한 문자열만큼 '개굴' 출력하기\n",
        "한글로 된 임의의 길이의 문자열을 입력시 그 길이만큼 “개굴”을 출력하도록 하세요. 단, 공백은 그대로 유지되어야 하며 줄바꿈 없이 출력하세요."
      ]
    },
    {
      "cell_type": "code",
      "metadata": {
        "id": "A5PRXPUJx6be"
      },
      "source": [
        "\n",
        "a = input()\n",
        "a = a.split(' ')\n",
        "b = ' '\n",
        "for i in a:\n",
        "    frog = '개굴' * len(i)\n",
        "    b += frog + ' '\n",
        "b = b.strip()\n",
        "print(b)\n"
      ],
      "execution_count": null,
      "outputs": []
    },
    {
      "cell_type": "code",
      "metadata": {
        "id": "MRrDo5DgzfrM"
      },
      "source": [
        "#다르게 풀어보기\n",
        "\n",
        "words = input(\"\")\n",
        "words_list = words.split(\" \") #공백 기준으로 split하기\n",
        "\n",
        "for i in words_list:\n",
        "    frog = len(i) * \"개굴\"\n",
        "    frog += \" \"\n",
        "    print(frog, end='')"
      ],
      "execution_count": null,
      "outputs": []
    },
    {
      "cell_type": "markdown",
      "metadata": {
        "id": "IohLnpzUxuI8"
      },
      "source": [
        "### crossBridge() 함수 채우기 \n",
        "*  발판의 숫자들이 담긴 배열 steps가 주어졌을 때 토끼가 뛰어야 할 횟수를 반환하는 함수 crossBridge()의 빈칸을 채워 함수를 완성해봅시다.\n",
        "\n",
        "1.   cnt : 토끼가 뛰어야할 횟수\n",
        "2.   current : n번째 칸\n",
        "\n",
        "\n",
        "> 1번째 칸이 숫자 1이므로 1칸 점프합니다.\n",
        "  2번째 칸이 숫자 1이므로 1칸 점프합니다.\n",
        "3번째 칸이 숫자 2이므로 2칸 점프합니다.\n",
        "5번째 칸이 숫자 5이므로 5칸 점프합니다. (도착)\n",
        "4번 점프했으므로 4를 반환합니다."
      ]
    },
    {
      "cell_type": "code",
      "metadata": {
        "id": "dOxSYLrW0Hjl"
      },
      "source": [
        "def crossBridge(steps):\n",
        "    cnt = 0\n",
        "    current = 0\n",
        "    n = len(steps)\n",
        "    while current < n: #현재 서있는 위치가, 계단 수보다 작을 때)\n",
        "        current += steps[current] #현재 위치한 계단에 써있는 스탭 수만큼 더하기\n",
        "        cnt += 1 #뛴 횟수 +1\n",
        "    return cnt\n",
        "\n",
        "print(crossBridge([1, 1, 2, 3, 5]))"
      ],
      "execution_count": null,
      "outputs": []
    },
    {
      "cell_type": "markdown",
      "metadata": {
        "id": "94Q4bmIyGcWC"
      },
      "source": [
        "### 개구리 왕자 이름 찾기 (startswith 함수 활용)\n",
        "> 문자열이 여러 개 담긴 리스트 frogList가 매개변수로 주어졌을 때, 문자열이 ‘F’로 시작하면 그 이름을 return 하도록 isPrince() 함수를 작성해주세요!"
      ]
    },
    {
      "cell_type": "code",
      "metadata": {
        "id": "TsSuKS_CGe0M"
      },
      "source": [
        "def isPrince(frogList):\n",
        "    # 여기에 코드를 작성해 주세요!\n",
        "    for name in frogList:\n",
        "        if name.startswith(\"F\"):\n",
        "            return name\n",
        "\n",
        "print(isPrince(['Alice', 'Bob', 'Frog']))"
      ],
      "execution_count": null,
      "outputs": []
    },
    {
      "cell_type": "markdown",
      "metadata": {
        "id": "m1cc40odG1u2"
      },
      "source": [
        "### 토끼와 거북이의 달리기 경주\n",
        "> 토끼는 N분에 한번 휴식을 하고 거북이는 M분에 한번 휴식을 한다고 합니다. 토끼, 거북이가 처음으로 같은 타이밍에 쉬는 시간? (최대 공약수)\n",
        "*  출력 형태\n",
        "> 입력값은 동시에 주어지고 (3 5) 출력은 15"
      ]
    },
    {
      "cell_type": "markdown",
      "metadata": {
        "id": "hU5j8n7JHFNy"
      },
      "source": [
        "*   최대공약수(GCD)\n",
        "*   최소공배수(LCM) \n",
        "\n"
      ]
    },
    {
      "cell_type": "code",
      "metadata": {
        "id": "nAdznoYAG7qZ"
      },
      "source": [
        "from math import gcd\n",
        "\n",
        "def lcm(x,y):\n",
        "    return x*y // gcd(x,y)\n",
        "\n",
        "a, b = input().split()\n",
        "x = int(a)  \n",
        "y = int(b)\n",
        "\n",
        "print(lcm(x,y))"
      ],
      "execution_count": null,
      "outputs": []
    },
    {
      "cell_type": "markdown",
      "metadata": {
        "id": "ax053VduIFXS"
      },
      "source": [
        "### 엘리스와 별 헤는 밤\n",
        "\n",
        "*   별의 거리 i가 입력으로 주어질 때, 별 사이의 거리가 i인 W모양의 대칭인 별자리를 출력하세요\n",
        "*   단, 별의 거리 i가 짝수이면 두 번째 행의 별 사이의 거리는 i-1입니다.\n",
        "> \n",
        "\n",
        "\n"
      ]
    },
    {
      "cell_type": "code",
      "metadata": {
        "colab": {
          "base_uri": "https://localhost:8080/"
        },
        "id": "gWvjDuYyINZp",
        "outputId": "527ddd1d-3b70-4cf6-b512-2609dd9d15f9"
      },
      "source": [
        "i = int(input())\n",
        "\n",
        "f_row = \"*\" + \" \"*i + \"*\" + \" \"*i + \"*\"\n",
        "\n",
        "#보조자 j\n",
        "j = i % 2\n",
        "##별을 포함한 문자열 길이 중 빈 문자열을 위치할 부분을 //2\n",
        "a = (i+2)//2\n",
        "#짝수 일때 거리는 i-1이어야하므로, 보조자  j를 통해 짝/홀수 구분. 짝수라면 j = 0, 홀수라면 j = 1이 될\n",
        "b = (i-1+j) \n",
        "\n",
        "s_row = ' ' * int(a) + '*' + ' ' * b + '*'\n",
        "print(f_row)\n",
        "print(s_row)"
      ],
      "execution_count": 7,
      "outputs": [
        {
          "output_type": "stream",
          "text": [
            "10\n",
            "*          *          *\n",
            "      *         *\n"
          ],
          "name": "stdout"
        }
      ]
    },
    {
      "cell_type": "markdown",
      "metadata": {
        "id": "IznGkhxsQNe7"
      },
      "source": [
        "### 엘리스와 이상한 상자 (최댓값을 반환하는 상자)\n",
        "*  machine.addNumber(x) : 숫자 x를 최댓값 기계 machine에 추가합니다.\n",
        "*  machine.removeNumber(x) : 숫자 x를 최댓값 기계 machine으로부터 제거합니다. 만약 숫자 x가 최댓값 기계 내에 없다면 아무 일도 일어나지 않습니다.\n",
        "*  machine.getMax() : 최댓값 기계 machine이 갖고있는 숫자들 중 최댓값을 반환합니다.\n"
      ]
    },
    {
      "cell_type": "code",
      "metadata": {
        "id": "MTOaxSIKQaxW"
      },
      "source": [
        "class maxMachine :\n",
        "    def __init__(self) :\n",
        "        self.numbers = []\n",
        "\n",
        "    def addNumber(self, x) :\n",
        "        self.numbers.append(x)\n",
        "\n",
        "    def removeNumber(self, x) :\n",
        "        if x in self.numbers:\n",
        "            self.numbers.remove(x)\n",
        "\n",
        "    def getMax(self) :\n",
        "        return max(self.numbers)\n",
        "\n",
        "def main():\n",
        "\n",
        "    myMachine = maxMachine()\n",
        "\n",
        "    '''\n",
        "    테스트를 하고싶으면, 아래 부분을 수정합니다.\n",
        "    '''\n",
        "\n",
        "    myMachine.addNumber(1)\n",
        "    myMachine.addNumber(2)\n",
        "    myMachine.addNumber(3)\n",
        "    myMachine.addNumber(2)\n",
        "\n",
        "    print(myMachine.getMax())\n",
        "\n",
        "    myMachine.removeNumber(3)\n",
        "\n",
        "    print(myMachine.getMax())\n",
        "\n",
        "    myMachine.removeNumber(2)\n",
        "\n",
        "    print(myMachine.getMax())\n",
        "\n",
        "if __name__ == \"__main__\":\n",
        "    main()\n"
      ],
      "execution_count": null,
      "outputs": []
    },
    {
      "cell_type": "markdown",
      "metadata": {
        "id": "LnnVyCp9SDHv"
      },
      "source": [
        "### 엘리스와 딱지접기\n",
        "\n",
        "1.  Rectangle 클래스를 정의합니다.\n",
        "*  생성자의 매개변수가 2개이며 이것이 Rectangle 클래스의 멤버 width, height가 됩니다.\n",
        "*  면적을 구하는 메서드 area()를 정의합니다. 멤버 width와 height를 곱한 값을 반환합니다.\n",
        "2.  Square 클래스를 정의합니다.\n",
        "*  Rectangle 클래스를 상속받습니다.\n",
        "*  생성자의 매개변수가 1개이며 이것이 Square 클래스의 width와 height가 됩니다."
      ]
    },
    {
      "cell_type": "code",
      "metadata": {
        "id": "c0FXTw0oSTXl"
      },
      "source": [
        "class Rectangle:\n",
        "# 생성자(__init__) 는 매개변수 width, height 2개를 받아 그 값을 속성에 저장함\n",
        "    def __init__(self, width, height):\n",
        "        self.width = width\n",
        "        self.height = height\n",
        "    def area(self):\n",
        "        return self.width * self.height\n",
        "\n",
        "class Square(Rectangle):\n",
        "#생성자 매개변수 1개 (length로 임의 지정=이것이 곧 width, height)\n",
        "    def __init__(self, length):\n",
        "        self.width = length\n",
        "        self.height= length\n",
        "#이미 Rectangle을 상속받고 있기 때문에 별도 area()함수 정의 필요 없음.\n",
        "\n",
        "elice = Rectangle(10, 20)\n",
        "print(elice.area())\n",
        "\n",
        "bob = Square(10)\n",
        "print(bob.area())"
      ],
      "execution_count": null,
      "outputs": []
    },
    {
      "cell_type": "markdown",
      "metadata": {
        "id": "mlxb8eK5WCyj"
      },
      "source": [
        "## 02. 도전! 파이썬 동화 10제 (2)"
      ]
    },
    {
      "cell_type": "markdown",
      "metadata": {
        "id": "UStBROuzWIId"
      },
      "source": [
        "### 약수 구하기 (divisors)\n",
        "*  약수란, 어떤 수를 나누었을 때 나머지가 0이 되게 하는 수를 말합니다."
      ]
    },
    {
      "cell_type": "code",
      "metadata": {
        "id": "lbBuwBfLWHU2"
      },
      "source": [
        "n = int(input())\n",
        "divisors = []\n",
        "#양의 정수 n 입력\n",
        "if n <= 0 :\n",
        "    while n <= 0:\n",
        "        print(n, '은(는) 자연수가 아님.')\n",
        "else:\n",
        "    for i in range(1, n + 1):\n",
        "        if (n % i == 0):            \n",
        "            divisors.append(i)            \n",
        "print(divisors)"
      ],
      "execution_count": null,
      "outputs": []
    },
    {
      "cell_type": "markdown",
      "metadata": {
        "id": "ecltuG_KXBW9"
      },
      "source": [
        "### 인덱스로 특정 값 구하기"
      ]
    },
    {
      "cell_type": "code",
      "metadata": {
        "id": "5x58WeFtXHR2"
      },
      "source": [
        "#하나씩 입력하면서, tea price에 담기\n",
        "tea = []\n",
        "\n",
        "for i in range(1,4):\n",
        "    tea_price = int(input())\n",
        "    tea.append(tea_price)\n",
        "print(sorted(tea)[1])"
      ],
      "execution_count": null,
      "outputs": []
    },
    {
      "cell_type": "markdown",
      "metadata": {
        "id": "JU5BiIOldAcx"
      },
      "source": [
        "### **소수 판별하기** (어려워!!!)\n",
        "*  소수는 1과 자기 자신만을 인수로 갖는 수\n",
        "*  약수와의 관계: 약수 개수가 2개인 것은 소수"
      ]
    },
    {
      "cell_type": "code",
      "metadata": {
        "colab": {
          "base_uri": "https://localhost:8080/"
        },
        "id": "L3G4OzaIdtlU",
        "outputId": "6aa8cf36-e9f3-4a56-b9ab-5836fb5066bd"
      },
      "source": [
        "#약수 구하기, 소수 판별하기\n",
        "while(True):\n",
        "  try:\n",
        "    input_num = int(input(\"약수를 구할 숫자 입력: \"))\n",
        "    break\n",
        "  except:\n",
        "    print(\"숫자만 입력 해주세요\")\n",
        "\n",
        "count=0\n",
        "print(input_num, \"의 약수 : \", end='')\n",
        "\n",
        "for a in range(1, input_num + 1):\n",
        "  if input_num == a: #자기 자신\n",
        "    print(a)\n",
        "    count += 1\n",
        "  elif input_num % a == 0: #나누어떨어지는 수\n",
        "    print(a, end=', ')\n",
        "    count += 1\n",
        "\n",
        "print(input_num, \"의 약수의 총 개수: \", count)\n",
        "\n",
        "if count == 2:\n",
        "  print(input_num, \"은 소수 입니다.\")\n",
        "else:\n",
        "  print(input_num, \"은 소수가 아닙니다.\")"
      ],
      "execution_count": 15,
      "outputs": [
        {
          "output_type": "stream",
          "text": [
            "약수를 구할 숫자 입력: 13953\n",
            "13953 의 약수 : 1, 3, 4651, 13953\n",
            "13953 의 약수의 총 개수:  4\n",
            "13953 은 소수가 아닙니다.\n"
          ],
          "name": "stdout"
        }
      ]
    },
    {
      "cell_type": "code",
      "metadata": {
        "colab": {
          "base_uri": "https://localhost:8080/"
        },
        "id": "vanxkVUZnDbQ",
        "outputId": "a3844782-de1f-4de2-c4ce-a0d33a5dfc72"
      },
      "source": [
        "#입력 숫자의 약수 구하기\n",
        "while(True):\n",
        "  try:\n",
        "    n = int(input(\"약수를 구할 숫자 입력: \"))\n",
        "    break\n",
        "  except:\n",
        "    print(\"숫자만 입력 해주세요\")\n",
        "\n",
        "divisor_list = []\n",
        "\n",
        "#양의 정수 n 입력\n",
        "for i in range(1, n + 1):\n",
        "  if n % i == 0:\n",
        "    divisor_list.append(i)            \n",
        "\n",
        "# number를 입력 받아 소수인지 아닌지 구분하는 함수\n",
        "def prime_number(number):   \n",
        "    if number != 1:                 \n",
        "        for f in range(2, number):  \n",
        "            if number % f == 0:     \n",
        "                return False\n",
        "    else:                      \n",
        "        return False          \n",
        "    return True\n",
        "\n",
        "#위에서 구한 약수 리스트 중에서 소수 구하기\n",
        "prime_list = []                 \n",
        "for i in divisor_list:\n",
        "    if prime_number(i):\n",
        "      prime_list.append(i)\n",
        "    else:\n",
        "      continue\n",
        "\n",
        "print(prime_list)\n",
        "print(max(prime_list))\n",
        "print(min(prime_list))"
      ],
      "execution_count": 5,
      "outputs": [
        {
          "output_type": "stream",
          "text": [
            "약수를 구할 숫자 입력: 12915\n",
            "[3, 5, 7, 41]\n",
            "41\n",
            "3\n"
          ],
          "name": "stdout"
        }
      ]
    },
    {
      "cell_type": "markdown",
      "metadata": {
        "id": "0bU8TJdAoITu"
      },
      "source": [
        "### 구구단\n",
        "* 특정 구구단의 단수의 구구단 출력\n",
        "* 구구단의 단수 2 <= n <= 9 입력\n",
        "* n단의 결과값을 각 줄마다 출력"
      ]
    },
    {
      "cell_type": "code",
      "metadata": {
        "colab": {
          "base_uri": "https://localhost:8080/"
        },
        "id": "Fnton6cXoJ5q",
        "outputId": "85b7ddc0-63c6-46c3-cb9a-2e0863f6292c"
      },
      "source": [
        "a = int(input())\n",
        "for i in range(1,10):\n",
        "    print(i * a)"
      ],
      "execution_count": 6,
      "outputs": [
        {
          "output_type": "stream",
          "text": [
            "9\n",
            "9\n",
            "18\n",
            "27\n",
            "36\n",
            "45\n",
            "54\n",
            "63\n",
            "72\n",
            "81\n"
          ],
          "name": "stdout"
        }
      ]
    },
    {
      "cell_type": "code",
      "metadata": {
        "id": "yireeLGmoYjY"
      },
      "source": [
        "#전체 구구단 출력 (포매팅 활용)\n",
        "\n",
        "for i in range(2, 10):\n",
        "  for j in range(1, 10):\n",
        "    #formatting\n",
        "    print(f'{i} x {j} = {i * j}')     #print(i, \"X\", j, \"=\", i*j)"
      ],
      "execution_count": null,
      "outputs": []
    },
    {
      "cell_type": "code",
      "metadata": {
        "colab": {
          "base_uri": "https://localhost:8080/"
        },
        "id": "c5_n2XULp04w",
        "outputId": "a114e9f5-be56-4536-839a-dcdf2f543dec"
      },
      "source": [
        "#전체 구구단 출력 (포매팅 활용)\n",
        "\n",
        "for i in range(2, 10):\n",
        "  for j in range(1, 10):\n",
        "    #가로출력을 원할경우\n",
        "    print(f'{i} x {j} = {i * j}', end='\\t')"
      ],
      "execution_count": 17,
      "outputs": [
        {
          "output_type": "stream",
          "text": [
            "2 x 1 = 2\t2 x 2 = 4\t2 x 3 = 6\t2 x 4 = 8\t2 x 5 = 10\t2 x 6 = 12\t2 x 7 = 14\t2 x 8 = 16\t2 x 9 = 18\t3 x 1 = 3\t3 x 2 = 6\t3 x 3 = 9\t3 x 4 = 12\t3 x 5 = 15\t3 x 6 = 18\t3 x 7 = 21\t3 x 8 = 24\t3 x 9 = 27\t4 x 1 = 4\t4 x 2 = 8\t4 x 3 = 12\t4 x 4 = 16\t4 x 5 = 20\t4 x 6 = 24\t4 x 7 = 28\t4 x 8 = 32\t4 x 9 = 36\t5 x 1 = 5\t5 x 2 = 10\t5 x 3 = 15\t5 x 4 = 20\t5 x 5 = 25\t5 x 6 = 30\t5 x 7 = 35\t5 x 8 = 40\t5 x 9 = 45\t6 x 1 = 6\t6 x 2 = 12\t6 x 3 = 18\t6 x 4 = 24\t6 x 5 = 30\t6 x 6 = 36\t6 x 7 = 42\t6 x 8 = 48\t6 x 9 = 54\t7 x 1 = 7\t7 x 2 = 14\t7 x 3 = 21\t7 x 4 = 28\t7 x 5 = 35\t7 x 6 = 42\t7 x 7 = 49\t7 x 8 = 56\t7 x 9 = 63\t8 x 1 = 8\t8 x 2 = 16\t8 x 3 = 24\t8 x 4 = 32\t8 x 5 = 40\t8 x 6 = 48\t8 x 7 = 56\t8 x 8 = 64\t8 x 9 = 72\t9 x 1 = 9\t9 x 2 = 18\t9 x 3 = 27\t9 x 4 = 36\t9 x 5 = 45\t9 x 6 = 54\t9 x 7 = 63\t9 x 8 = 72\t9 x 9 = 81\t"
          ],
          "name": "stdout"
        }
      ]
    },
    {
      "cell_type": "markdown",
      "metadata": {
        "id": "84_FtkuRqLeT"
      },
      "source": [
        "### 절댓값 구하기\n",
        "```\n",
        "n = int(input(\" \"))\n",
        "print(abs(n))\n",
        "```\n",
        "\n"
      ]
    },
    {
      "cell_type": "markdown",
      "metadata": {
        "id": "AxVAHc2eqUIx"
      },
      "source": [
        "### 짝이 없는 숫자 찾아내기\n",
        "*  첫 줄에는 숫자들이 리스트 values에 공백으로 구분되어 입력됩니다. 숫자의 개수는 항상 홀수입니다. \n",
        "*  입력되는 숫자는 0 이상 9 이하입니다.\n",
        "*  짝이 없는 정수를 출력합니다."
      ]
    },
    {
      "cell_type": "code",
      "metadata": {
        "colab": {
          "base_uri": "https://localhost:8080/"
        },
        "id": "8I5jFKQJqThM",
        "outputId": "773fb53c-8c11-4777-94ad-05eaa8ac53c6"
      },
      "source": [
        "#list에 담을 입력값들을 모두 정수로 지정해주고 싶을 때, 리스트로 받아오는 방법\n",
        "\n",
        "values = [int(a) for a in input().split()]\n",
        "\n",
        "for i in values:\n",
        "    if values.count(i) == 1:\n",
        "        print(i)"
      ],
      "execution_count": 21,
      "outputs": [
        {
          "output_type": "stream",
          "text": [
            "1 1 2 3 3 4 4 5 5\n",
            "2\n"
          ],
          "name": "stdout"
        }
      ]
    },
    {
      "cell_type": "code",
      "metadata": {
        "colab": {
          "base_uri": "https://localhost:8080/"
        },
        "id": "PIUaZpeH2z1u",
        "outputId": "3e74a257-0f2a-4dd2-a29d-62eb459d5f84"
      },
      "source": [
        "#map 함수 사용 시, 리스트로 변환해주어야함\n",
        "values = map(int, input().split())\n",
        "list_values = list(values)\n",
        "\n",
        "for i in list_values:\n",
        "    if list_values.count(i) == 1:\n",
        "      print(i)"
      ],
      "execution_count": 25,
      "outputs": [
        {
          "output_type": "stream",
          "text": [
            "1 1 2 3 3 4 4 5 5\n",
            "2\n"
          ],
          "name": "stdout"
        }
      ]
    },
    {
      "cell_type": "markdown",
      "metadata": {
        "id": "9LvLEDIQ3Tt5"
      },
      "source": [
        "### 말 더듬는 도도새\n",
        "* 문자열을 입력받으면, 문자열 첫번재부터 한개씩 +1 출력됨 (A - AB - ABC)\n",
        "* 입력: 임의의 문자열 s : s의 길이는 최대 100자를 넘지 않습니다.\n",
        "* 출력: 한 행에 하나씩 나누어 출력됨 (for 문 사용해야)"
      ]
    },
    {
      "cell_type": "code",
      "metadata": {
        "colab": {
          "base_uri": "https://localhost:8080/"
        },
        "id": "ogMkyMEX3T8K",
        "outputId": "ce16e738-3e51-41fc-9fad-65872f299bb2"
      },
      "source": [
        "s = input()\n",
        "\n",
        "if len(s) <= 100:\n",
        "    for i in range(0, len(s)+1):\n",
        "        print(s[:i])"
      ],
      "execution_count": 26,
      "outputs": [
        {
          "output_type": "stream",
          "text": [
            "BANANA\n",
            "\n",
            "B\n",
            "BA\n",
            "BAN\n",
            "BANA\n",
            "BANAN\n",
            "BANANA\n"
          ],
          "name": "stdout"
        }
      ]
    },
    {
      "cell_type": "markdown",
      "metadata": {
        "id": "JWhjcnDj4JRr"
      },
      "source": [
        "### 평균과 평균보다 큰 수\n",
        "*  입력된 값들의 평균과 평균 초과의 값들을 출력해야 합니다.\n",
        "*  입력: 첫째 줄에서 리스트 values에 수학 점수들이 공백으로 구분되어 입력됩니다.\n",
        "*  출력: 첫째 줄에 values의 평균값을 출력하고, 다음 줄에 평균보다 큰 값들을 공백으로 구분하여 출력합니다."
      ]
    },
    {
      "cell_type": "code",
      "metadata": {
        "id": "m--Ovkg34JoL"
      },
      "source": [
        "values = [int(v) for v in input().split()]\n",
        "\n",
        "avg_values = sum(values)/len(values)\n",
        "print(avg_values)\n",
        "\n",
        "for value in values:\n",
        "    if value > avg_values:\n",
        "        print(i)"
      ],
      "execution_count": null,
      "outputs": []
    },
    {
      "cell_type": "code",
      "metadata": {
        "id": "PhoVZoOW6PHk"
      },
      "source": [
        ""
      ],
      "execution_count": null,
      "outputs": []
    },
    {
      "cell_type": "markdown",
      "metadata": {
        "id": "XuZJG3dQ5Qak"
      },
      "source": [
        "### 약수의 합 구하기"
      ]
    },
    {
      "cell_type": "code",
      "metadata": {
        "id": "jcZLTWvj5S3z"
      },
      "source": [
        "n = int(input())\n",
        "\n",
        "divisors = []\n",
        "\n",
        "if n > 0:\n",
        "    for i in range(1, n+1):\n",
        "        if n % i == 0:\n",
        "            #print(i, end=' ')\n",
        "            divisors.append(i)\n",
        "    print(sum(divisors))"
      ],
      "execution_count": null,
      "outputs": []
    },
    {
      "cell_type": "markdown",
      "metadata": {
        "id": "rMuBveGH6BEg"
      },
      "source": [
        "### 접미사 배열하기 (e… le… ple… pple… apple…)\n",
        "*  입력: 첫째 줄에 문자열 s가 주어집니다. s는 공백과 특수문자가 없이, 알파벳 소문자로만 이루어져 있고, 길이는 1,000보다 작거나 같아야 합니다.\n",
        "* 출력: 첫째 줄부터 s의 접미사를 ***사전순으로*** 한 줄에 하나씩 출력해야 합니다.\n"
      ]
    },
    {
      "cell_type": "code",
      "metadata": {
        "id": "5dOaPRVc9GsL"
      },
      "source": [
        "s = input()\n",
        "dic = []\n",
        "#입력 조건에서 명시한 것들 반영하기\n",
        "if \" \" in s or string.punctuation in s:\n",
        "    print(\"다시 입력\")\n",
        "elif s.isupper() or len(s) > 1000:\n",
        "    print(\"다시 입력\")\n",
        "else:\n",
        "    for i in range(1,len(s)+1):\n",
        "        j = s[-i:]\n",
        "        dic.append(j)\n",
        "    for k in sorted(dic):\n",
        "        print(k)"
      ],
      "execution_count": null,
      "outputs": []
    },
    {
      "cell_type": "markdown",
      "metadata": {
        "id": "tgJziXGW9gzY"
      },
      "source": [
        "### python string 모듈\n",
        "*  import string \n",
        "> - string.ascii_lowercase # 소문자 abcdefghijklmnopqrstuvwxyz\n",
        "> - string.ascii_uppercase # 대문자 ABCDEFGHIJKLMNOPQRSTUVWXYZ\n",
        "> - string.ascii_letters #대소문자 모두 abcdefghijklmnopqrstuvwxyzABCDEFGHIJKLMNOPQRSTUVWXYZ\n",
        "> - string.digits # 숫자 0123456789\n",
        "> - string.hexdigits # 16진수 0123456789abcdefABCDEF"
      ]
    },
    {
      "cell_type": "markdown",
      "metadata": {
        "id": "X02ZyVYyZsZX"
      },
      "source": [
        "# 파이썬 입출력 연습"
      ]
    },
    {
      "cell_type": "markdown",
      "metadata": {
        "id": "xjEvafOIbr3i"
      },
      "source": [
        "## input()"
      ]
    },
    {
      "cell_type": "markdown",
      "metadata": {
        "id": "6c87vYeaZ9i3"
      },
      "source": [
        "*  input(): 사용자가 입력하는 값을 변수로 저장하고자 할 때 사용\n",
        ">입력값은 무조건 문자형(str)으로 받아들이는 특징\n",
        "```\n",
        "input()\n",
        "```\n",
        "*  int(input()) : 수치 입력 시 적용\n",
        "> intergar(정수) 자료형으로 변환하는 함수\n",
        "```\n",
        "int(input())\n",
        "```\n",
        "> 문자와의 혼용 출력을 위해서는 formatting 필요\n",
        "```\n",
        "a = int(input())\n",
        "print(f\"입력한 숫자는 {a} 입니다.\")\n",
        "```\n",
        "*  input().split() : 여러 값을 한 번에 입력받는 경우\n",
        "> 엔터를 기준으로 사용자 입력 진행\n",
        "> 특정 문자 기준으로 분리하고 싶다면, split() 에 인자로 특정문자 지정\n",
        "```\n",
        "a, b = input().split() # 스페이스바 기준 분리\n",
        "c, d = input().split(\"P\") # P문자 기준 분리\n",
        "list = input().split() #한 개 변수 지정하여 list로 불러올 때\n",
        "values = [int(v) for v in input().split()]\n",
        "```\n",
        "*  map(int, input().split()) : 정수 3개를 한 번에 입력받기 위해 map 함수로 한 번에 변환\n",
        "```\n",
        "a, b, c = map(int, input().split())\n",
        "```\n"
      ]
    },
    {
      "cell_type": "code",
      "metadata": {
        "colab": {
          "base_uri": "https://localhost:8080/"
        },
        "id": "CCfXGFFJZt4k",
        "outputId": "4802a3b9-7781-4622-c194-981bde91b82b"
      },
      "source": [
        "a, b = input().split()"
      ],
      "execution_count": 10,
      "outputs": [
        {
          "output_type": "stream",
          "text": [
            "말 말\n",
            "말 말\n"
          ],
          "name": "stdout"
        }
      ]
    },
    {
      "cell_type": "code",
      "metadata": {
        "colab": {
          "base_uri": "https://localhost:8080/"
        },
        "id": "f4y-LJKdb7_3",
        "outputId": "d91ed89f-78dc-4f33-b066-da075555a1b4"
      },
      "source": [
        "list = input().split()\n",
        "print(list)"
      ],
      "execution_count": 12,
      "outputs": [
        {
          "output_type": "stream",
          "text": [
            "안녕 나는 엘리스\n",
            "['안녕', '나는', '엘리스']\n"
          ],
          "name": "stdout"
        }
      ]
    },
    {
      "cell_type": "markdown",
      "metadata": {
        "id": "Gmc76iZucLNi"
      },
      "source": [
        "## 입력값 확인하기"
      ]
    },
    {
      "cell_type": "code",
      "metadata": {
        "id": "Qievi6sEcMdw"
      },
      "source": [
        "#범위 검사하기\n",
        "n = int(input(\"음료를 선택하세요 : \"))\n",
        "if (n>=1 and n<=7) :\n",
        "    print(menu[n], price[n],'원')\n",
        "#조건을 만족하지 않을 때\n",
        "else :\n",
        "    print(\"잘못된 입력입니다.\")"
      ],
      "execution_count": null,
      "outputs": []
    },
    {
      "cell_type": "code",
      "metadata": {
        "id": "ambyrt_1cM0a"
      },
      "source": [
        "#아래와 같이 충족하지 않으면 다음 단계로 넘어가지 못하게 지정해줄 수 있음\n",
        "while(True): \n",
        "  try:\n",
        "    input_num = int(input()) \n",
        "    break;\n",
        "  except:\n",
        "    print(\"숫자만 입력하실 수 있습니다\")"
      ],
      "execution_count": null,
      "outputs": []
    },
    {
      "cell_type": "code",
      "metadata": {
        "id": "iOLYFHEQdTai"
      },
      "source": [
        ""
      ],
      "execution_count": null,
      "outputs": []
    }
  ]
}