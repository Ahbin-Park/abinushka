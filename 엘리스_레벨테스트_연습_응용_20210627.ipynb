{
  "nbformat": 4,
  "nbformat_minor": 0,
  "metadata": {
    "colab": {
      "name": "엘리스 레벨테스트 연습_응용_20210627.ipynb",
      "provenance": [],
      "collapsed_sections": [
        "vvJVzqxMdLfR",
        "OkGqE5GQdN6l",
        "ZBWkd76vdQkT"
      ],
      "authorship_tag": "ABX9TyNXNqSW+rTUT8TWIclJiV72",
      "include_colab_link": true
    },
    "kernelspec": {
      "name": "python3",
      "display_name": "Python 3"
    },
    "language_info": {
      "name": "python"
    }
  },
  "cells": [
    {
      "cell_type": "markdown",
      "metadata": {
        "id": "view-in-github",
        "colab_type": "text"
      },
      "source": [
        "<a href=\"https://colab.research.google.com/github/Ahbin-Park/abinushka/blob/Python/%EC%97%98%EB%A6%AC%EC%8A%A4_%EB%A0%88%EB%B2%A8%ED%85%8C%EC%8A%A4%ED%8A%B8_%EC%97%B0%EC%8A%B5_%EC%9D%91%EC%9A%A9_20210627.ipynb\" target=\"_parent\"><img src=\"https://colab.research.google.com/assets/colab-badge.svg\" alt=\"Open In Colab\"/></a>"
      ]
    },
    {
      "cell_type": "markdown",
      "metadata": {
        "id": "8pCcNU8VOB8U"
      },
      "source": [
        "# **응용문제**"
      ]
    },
    {
      "cell_type": "markdown",
      "metadata": {
        "id": "ytPvBoU0ONw_"
      },
      "source": [
        "### 숫자 자릿수 모두 더하기 - for문 합계, str-int 변환, len 활용"
      ]
    },
    {
      "cell_type": "code",
      "metadata": {
        "id": "xiOgtp7DODB1"
      },
      "source": [
        "# 자리수 합 리턴\n",
        "def sum_digit(num):\n",
        "    digit = str(num)\n",
        "    total=0\n",
        "    for n in range(0, len(digit)):    \n",
        "        a = digit[n]\n",
        "        total += int(a)\n",
        "    return total\n",
        "\n",
        "digit_total = 0\n",
        "\n",
        "#sum_digit(1)~sum_digit(1000)까지의 합 더하기\n",
        "for num in range(1, 1001):\n",
        "    digit_total += sum_digit(num)\n",
        "print(digit_total)"
      ],
      "execution_count": null,
      "outputs": []
    },
    {
      "cell_type": "code",
      "metadata": {
        "colab": {
          "base_uri": "https://localhost:8080/"
        },
        "id": "OYbkYhbiN99V",
        "outputId": "b50ee067-d6b4-423c-e168-c446e39bb619"
      },
      "source": [
        "#숫자 직접 입력받기\n",
        "number = input()\n",
        "\n",
        "def sum_digit(num):\n",
        "    digit = str(num)\n",
        "    total=0\n",
        "    for n in range(0, len(digit)):    \n",
        "        a = digit[n]\n",
        "        total += int(a)\n",
        "    return total\n",
        "\n",
        "print(sum_digit(number))"
      ],
      "execution_count": null,
      "outputs": [
        {
          "output_type": "stream",
          "text": [
            "12345\n",
            "15\n"
          ],
          "name": "stdout"
        }
      ]
    },
    {
      "cell_type": "markdown",
      "metadata": {
        "id": "I9LUeCBHO1rp"
      },
      "source": [
        "### 주민등록번호 가리기\n",
        "- 문자열은 수정이 불가능함\n",
        "- 리스트 변환 후, 네 개의 원소를 \"*\"로 바꿔주는 방법 -> 리스트를 하나의 문자열로 다시 합치기"
      ]
    },
    {
      "cell_type": "code",
      "metadata": {
        "id": "CFwmljOUO3sZ"
      },
      "source": [
        "def mask_security_number(security_number):\n",
        "\n",
        "    number_list = []\n",
        "    for i in range(len(security_number)):\n",
        "        number_list.append(security_number[i])\n",
        "    #혹은 number_list = list(security_number)\n",
        "\n",
        "    for i in range(-4,0):\n",
        "        number_list[i] = \"*\"\n",
        "\n",
        "    #다시 문자열로 변환하기(1)\n",
        "    #return ''.join(num_list)\n",
        "\n",
        "    #다시 문자열로 변환하기(2)\n",
        "    total_str = \"\"\n",
        "    for i in range(len(number_list)):\n",
        "        total_str += number_list[i]\n",
        "    return total_str\n",
        "\n",
        "            \n",
        "\n",
        "# 테스트\n",
        "print(mask_security_number(\"880720-1234567\"))\n",
        "print(mask_security_number(\"8807201234567\"))\n",
        "print(mask_security_number(\"930124-7654321\"))\n",
        "print(mask_security_number(\"9301247654321\"))\n",
        "print(mask_security_number(\"761214-2357111\"))\n",
        "print(mask_security_number(\"7612142357111\"))"
      ],
      "execution_count": null,
      "outputs": []
    },
    {
      "cell_type": "markdown",
      "metadata": {
        "id": "-bd3sToNZLFh"
      },
      "source": [
        "### is_palindrome 함수 만들기"
      ]
    },
    {
      "cell_type": "code",
      "metadata": {
        "colab": {
          "base_uri": "https://localhost:8080/"
        },
        "id": "fLR71u0MQgfD",
        "outputId": "43315ded-f2cb-4df0-a7cb-d8224c6cae28"
      },
      "source": [
        "#인덱싱 활용하는 방법\n",
        "def is_palindrome(word):\n",
        "  list_word = list(word)\n",
        "  reversed_list_word = list_word[::-1]\n",
        "  #print(list_word)\n",
        "  #print(reversed_list_word)\n",
        "  return list_word == reversed_list_word\n",
        "\n",
        "# 테스트\n",
        "print(is_palindrome(\"racecar\"))"
      ],
      "execution_count": null,
      "outputs": [
        {
          "output_type": "stream",
          "text": [
            "['r', 'a', 'c', 'e', 'c', 'a', 'r']\n",
            "['r', 'a', 'c', 'e', 'c', 'a', 'r']\n",
            "True\n"
          ],
          "name": "stdout"
        }
      ]
    },
    {
      "cell_type": "code",
      "metadata": {
        "id": "d_5kVaTmbfZG"
      },
      "source": [
        "#모범답안\n",
        "def is_palindrome(word):\n",
        "    for left in range(len(word) // 2):\n",
        "        # 한 쌍이라도 일치하지 않으면 바로 False를 리턴하고 함수를 끝냄\n",
        "        right = len(word) - left - 1\n",
        "        if word[left] != word[right]:\n",
        "            return False\n",
        "\n",
        "    # for문에서 나왔다면 모든 쌍이 일치\n",
        "    return True"
      ],
      "execution_count": null,
      "outputs": []
    },
    {
      "cell_type": "markdown",
      "metadata": {
        "id": "HwrUn-8Lb9Ii"
      },
      "source": [
        "#**코드잇 프로젝트로 연습하기**"
      ]
    },
    {
      "cell_type": "markdown",
      "metadata": {
        "id": "4G1PW3J9i20J"
      },
      "source": [
        "### 숫자 맞히기 게임"
      ]
    },
    {
      "cell_type": "code",
      "metadata": {
        "colab": {
          "base_uri": "https://localhost:8080/"
        },
        "id": "WQIJt4yei14b",
        "outputId": "68973d3d-d6e2-4ffd-d722-3d5f85bc82c9"
      },
      "source": [
        "import random\n",
        "\n",
        "answer = random.randint(1,20)\n",
        "i=0\n",
        "guess_number = -1\n",
        "num_tries = 4\n",
        "while guess_number != answer and i < num_tries:\n",
        "  guess_number = int(input(f\"기회가 {4-i}번 남았습니다. 1-20 사이의 숫자를 맞혀 보세요: \"))\n",
        "  i += 1\n",
        "  \n",
        "  if guess_number < answer:\n",
        "    print(\"Up\")\n",
        "  elif guess_number > answer:\n",
        "    print(\"Down\")\n",
        "\n",
        "if guess_number == answer:\n",
        "  print(f\"축하합니다. {i}번 만에 숫자를 맞히셨습니다.\")\n",
        "else:\n",
        "  print(f\"아쉽습니다. 정답은 {answer} 입니다.\")"
      ],
      "execution_count": null,
      "outputs": [
        {
          "output_type": "stream",
          "text": [
            "기회가 4번 남았습니다. 1-20 사이의 숫자를 맞혀 보세요: 18\n",
            "Down\n",
            "기회가 3번 남았습니다. 1-20 사이의 숫자를 맞혀 보세요: 11\n",
            "Up\n",
            "기회가 2번 남았습니다. 1-20 사이의 숫자를 맞혀 보세요: 14\n",
            "Up\n",
            "기회가 1번 남았습니다. 1-20 사이의 숫자를 맞혀 보세요: 16\n",
            "Down\n",
            "아쉽습니다. 정답은 15 입니다.\n"
          ],
          "name": "stdout"
        }
      ]
    },
    {
      "cell_type": "code",
      "metadata": {
        "id": "O6cFDCEgoPvs"
      },
      "source": [
        "#모범답안\n",
        "import random\n",
        "\n",
        "# 상수 정의\n",
        "ANSWER = random.randint(1, 20)\n",
        "NUM_TRIES = 4\n",
        "\n",
        "# 변수 정의\n",
        "guess = -1\n",
        "tries = 0\n",
        "\n",
        "while guess != ANSWER and tries < NUM_TRIES:\n",
        "    guess = int(input(\"기회가 {}번 남았습니다. 1-20 사이의 숫자를 맞혀보세요: \".format(NUM_TRIES - tries)))\n",
        "    tries += 1    \n",
        "    \n",
        "    if ANSWER > guess:\n",
        "        print(\"Up\")\n",
        "    elif ANSWER < guess:\n",
        "        print(\"Down\")\n",
        "\n",
        "if guess == ANSWER:\n",
        "    print(\"축하합니다. {}번 만에 숫자를 맞히셨습니다.\".format(tries))\n",
        "else:\n",
        "    print(\"아쉽습니다. 정답은 {}입니다.\".format(ANSWER))"
      ],
      "execution_count": null,
      "outputs": []
    },
    {
      "cell_type": "markdown",
      "metadata": {
        "id": "hvUpIBwpcCRc"
      },
      "source": [
        "## 로또 시뮬레이션"
      ]
    },
    {
      "cell_type": "markdown",
      "metadata": {
        "id": "unzAKjvVcJkV"
      },
      "source": [
        "### (1) 번호뽑기 \n",
        "*  generate_numbers\n",
        "이 함수는 파라미터로 정수 n을 받습니다. 무작위로 1과 45 사이의 서로 다른 번호 n개를 뽑고, 그 번호들이 담긴 리스트를 리턴합니다."
      ]
    },
    {
      "cell_type": "code",
      "metadata": {
        "id": "FxQoO_decIJX",
        "colab": {
          "base_uri": "https://localhost:8080/"
        },
        "outputId": "0193181b-4032-4331-aa5a-b49390cc9117"
      },
      "source": [
        "from random import randint\n",
        "import random\n",
        "\n",
        "num_list=[]\n",
        "\n",
        "def generate_numbers(n):\n",
        "    i = 0\n",
        "    while i < n:\n",
        "        a = random.randint(1, 45)\n",
        "        num_list.append(a)\n",
        "        i += 1\n",
        "    return num_list\n",
        "print(generate_numbers(6))"
      ],
      "execution_count": null,
      "outputs": [
        {
          "output_type": "stream",
          "text": [
            "[12, 1, 41, 35, 24, 6]\n"
          ],
          "name": "stdout"
        }
      ]
    },
    {
      "cell_type": "markdown",
      "metadata": {
        "id": "SrCPIOBVxi0K"
      },
      "source": [
        "### (3) 당첨 번호 뽑기( + 보너스 번호)"
      ]
    },
    {
      "cell_type": "code",
      "metadata": {
        "id": "wM0fF6mZwDZg",
        "colab": {
          "base_uri": "https://localhost:8080/"
        },
        "outputId": "5f45bc0f-32fd-4df7-f17c-9ae13fa1b237"
      },
      "source": [
        "import random\n",
        "\n",
        "num_list=[]\n",
        "def generate_numbers(n):\n",
        "    i = 0\n",
        "    while i < n:\n",
        "        a = random.randint(1, 45)\n",
        "        num_list.append(a)\n",
        "        i += 1\n",
        "    return num_list\n",
        "\n",
        "bonus = random.randint(1,45)\n",
        "def draw_winning_numbers():\n",
        "    generate_numbers(6)\n",
        "    num_list.sort()\n",
        "    num_list.append(bonus)\n",
        "    return num_list\n",
        "    \n",
        "print(draw_winning_numbers())"
      ],
      "execution_count": null,
      "outputs": [
        {
          "output_type": "stream",
          "text": [
            "[11, 12, 25, 30, 31, 37, 10]\n"
          ],
          "name": "stdout"
        }
      ]
    },
    {
      "cell_type": "markdown",
      "metadata": {
        "id": "cfSerAMUvZhB"
      },
      "source": [
        "*  sorted vs. list.sort()\n",
        "1. list.sort(): 원본 리스트를 정렬하되 반환 값은 none. 원본 리스트의 순서 변경으로 원본에 영향 있음\n",
        "2. sroted(list): 정렬된 새로운 리스트를 반환, 원본 리스트에 영향 없음. list, tuple, dict, 문자열 모두 활용가능."
      ]
    },
    {
      "cell_type": "code",
      "metadata": {
        "id": "O7PsOHXhvZSa"
      },
      "source": [
        "from random import randint\n",
        "\n",
        "def generate_numbers(n):\n",
        "    numbers = []\n",
        "#리스트에 하나씩 뽑은 숫자들을 추가하는 방식으로하되, 기존에 없는 숫자들을 추가하는 조건을 설정.\n",
        "    while len(numbers) < n:\n",
        "        new_number = randint(1, 45)\n",
        "        if new_number not in numbers:\n",
        "            numbers.append(new_number)\n",
        "\n",
        "    return numbers\n",
        "\n",
        "#7개를 한번에 뽑고, 앞의 6개만 정렬하는 방법 사용 (sorted + 슬라이싱)\n",
        "def draw_winning_numbers():\n",
        "    winning_numbers = generate_numbers(7)\n",
        "    return sorted(winning_numbers[:6]) + winning_numbers[6:]"
      ],
      "execution_count": null,
      "outputs": []
    },
    {
      "cell_type": "markdown",
      "metadata": {
        "id": "A94HeMXlxfQI"
      },
      "source": [
        "### (3) 겹치는 번호 개수 출력"
      ]
    },
    {
      "cell_type": "code",
      "metadata": {
        "id": "psa_2QIFxeXI"
      },
      "source": [
        "def count_matching_numbers(list_1, list_2):\n",
        "    count = 0\n",
        "    for i in list_1:\n",
        "        for j in list_2:\n",
        "            if i == j:\n",
        "                count += 1\n",
        "    return count"
      ],
      "execution_count": null,
      "outputs": []
    },
    {
      "cell_type": "code",
      "metadata": {
        "id": "xnmsWCPWxw8B"
      },
      "source": [
        "def count_matching_numbers(list_1, list_2):\n",
        "    count = 0\n",
        "    for i in list_1:\n",
        "        if i in list_2:\n",
        "            count += 1\n",
        "    return count"
      ],
      "execution_count": null,
      "outputs": []
    },
    {
      "cell_type": "markdown",
      "metadata": {
        "id": "pa9HOo3e7NJO"
      },
      "source": [
        "### (4) 당첨금 확인"
      ]
    },
    {
      "cell_type": "code",
      "metadata": {
        "colab": {
          "base_uri": "https://localhost:8080/"
        },
        "id": "JJVqm-4V7NmK",
        "outputId": "13f8caad-a00b-409f-c383-6de5f19cc553"
      },
      "source": [
        "def count_matching_numbers(numbers, winning_numbers):\n",
        "    count = 0\n",
        "    for i in numbers:\n",
        "        if i in winning_numbers:\n",
        "            count += 1\n",
        "    return count\n",
        "\n",
        "def check(numbers, winning_numbers):\n",
        "    if count_matching_numbers(numbers, winning_numbers[:6]) == 6:\n",
        "        return 1000000000\n",
        "    elif count_matching_numbers(numbers, winning_numbers[:6]) == 5 and count_matching_numbers(numbers, winning_numbers[6:]) == 1:\n",
        "        return 50000000\n",
        "    elif count_matching_numbers(numbers, winning_numbers[:6]) == 5:\n",
        "        return 1000000\n",
        "    elif count_matching_numbers(numbers, winning_numbers[:6]) == 4:\n",
        "        return 50000\n",
        "    elif count_matching_numbers(numbers, winning_numbers[:6]) == 3:\n",
        "        return 5000\n",
        "    else:\n",
        "        return 0\n",
        "# 테스트\n",
        "print(check([2, 4, 11, 14, 25, 40], [4, 12, 14, 28, 40, 41, 6]))\n",
        "print(check([2, 4, 11, 14, 25, 40], [2, 4, 10, 11, 14, 40, 25]))"
      ],
      "execution_count": null,
      "outputs": [
        {
          "output_type": "stream",
          "text": [
            "5000\n",
            "50000000\n"
          ],
          "name": "stdout"
        }
      ]
    },
    {
      "cell_type": "markdown",
      "metadata": {
        "id": "vvJVzqxMdLfR"
      },
      "source": [
        "# 개념잡기"
      ]
    },
    {
      "cell_type": "markdown",
      "metadata": {
        "id": "OkGqE5GQdN6l"
      },
      "source": [
        "## random 모듈"
      ]
    },
    {
      "cell_type": "code",
      "metadata": {
        "colab": {
          "base_uri": "https://localhost:8080/"
        },
        "id": "Tj9dEGbJctLi",
        "outputId": "301c5f77-88fa-41c8-8588-16b80946dd2c"
      },
      "source": [
        "import random\n",
        "\n",
        "#randint 두 수 사이의 랜덤한 정수를 리턴\n",
        "print(random.randint(1, 20))\n",
        "print(random.randint(1, 20))\n",
        "print(random.randint(1, 20))\n",
        "\n",
        "#uniform 두 수 사이의 랜덤한 소수를 리턴\n",
        "print(random.uniform(0, 1))\n",
        "print(random.uniform(0, 1))\n",
        "print(random.uniform(0, 1))"
      ],
      "execution_count": null,
      "outputs": [
        {
          "output_type": "stream",
          "text": [
            "3\n",
            "5\n",
            "10\n",
            "0.586608284838469\n",
            "0.020609639531996682\n",
            "0.40645989228088963\n"
          ],
          "name": "stdout"
        }
      ]
    },
    {
      "cell_type": "markdown",
      "metadata": {
        "id": "ZBWkd76vdQkT"
      },
      "source": [
        "## datetime 모듈"
      ]
    },
    {
      "cell_type": "markdown",
      "metadata": {
        "id": "wl7BhSWkda2O"
      },
      "source": [
        "### date값 생성"
      ]
    },
    {
      "cell_type": "code",
      "metadata": {
        "colab": {
          "base_uri": "https://localhost:8080/"
        },
        "id": "XXM-rQvmdSbO",
        "outputId": "cac46625-f69e-4733-b326-bb8b43242455"
      },
      "source": [
        "import datetime\n",
        "pi_day = datetime.datetime(2021, 6, 27, 12, 14, 30) #차례대로 년/월/일/시/분/초\n",
        "print(pi_day)\n",
        "print(type(pi_day))"
      ],
      "execution_count": null,
      "outputs": [
        {
          "output_type": "stream",
          "text": [
            "2021-06-27 12:14:30\n",
            "<class 'datetime.datetime'>\n"
          ],
          "name": "stdout"
        }
      ]
    },
    {
      "cell_type": "markdown",
      "metadata": {
        "id": "oPiNuJjOdta2"
      },
      "source": [
        "### 오늘 날짜 (now)"
      ]
    },
    {
      "cell_type": "code",
      "metadata": {
        "colab": {
          "base_uri": "https://localhost:8080/"
        },
        "id": "DmNoxWdAdgtR",
        "outputId": "713d49f5-7698-4270-b8a0-0c10c7713259"
      },
      "source": [
        "today = datetime.datetime.now()\n",
        "print(today)\n",
        "print(type(today))"
      ],
      "execution_count": null,
      "outputs": [
        {
          "output_type": "stream",
          "text": [
            "2021-06-27 03:15:42.789548\n",
            "<class 'datetime.datetime'>\n"
          ],
          "name": "stdout"
        }
      ]
    },
    {
      "cell_type": "markdown",
      "metadata": {
        "id": "Q7j4CBmtd2u6"
      },
      "source": [
        "### 두 날짜의 차이 (timedelta)"
      ]
    },
    {
      "cell_type": "code",
      "metadata": {
        "colab": {
          "base_uri": "https://localhost:8080/"
        },
        "id": "Qb5jLXPzdzx1",
        "outputId": "63fdfdd4-c49a-4bef-d6fe-b1744d522aa6"
      },
      "source": [
        "today = datetime.datetime.now()\n",
        "pi_day = datetime.datetime(2021, 6, 27, 12, 14, 30)\n",
        "print(today - pi_day)\n",
        "print(type(today - pi_day))"
      ],
      "execution_count": null,
      "outputs": [
        {
          "output_type": "stream",
          "text": [
            "-1 day, 15:02:00.700848\n",
            "<class 'datetime.timedelta'>\n"
          ],
          "name": "stdout"
        }
      ]
    },
    {
      "cell_type": "code",
      "metadata": {
        "colab": {
          "base_uri": "https://localhost:8080/"
        },
        "id": "3H55kWcOeCur",
        "outputId": "e54bb893-1084-4dec-b452-8cf0a3f258fd"
      },
      "source": [
        "#timedelta를 생성하여 datetime에 더해주기\n",
        "\n",
        "today= datetime.datetime.now()\n",
        "my_timedelta = datetime.timedelta(days = 5, hours = 3, minutes = 10, seconds = 50)\n",
        "print(today)\n",
        "print(today+my_timedelta) #디데이 기준 날짜 계산, 시차 계산에도 쓸 수 있을듯"
      ],
      "execution_count": null,
      "outputs": [
        {
          "output_type": "stream",
          "text": [
            "2021-06-27 03:17:49.803367\n",
            "2021-07-02 06:28:39.803367\n"
          ],
          "name": "stdout"
        }
      ]
    },
    {
      "cell_type": "markdown",
      "metadata": {
        "id": "4dlRN3o2ec4-"
      },
      "source": [
        "### 날짜 추출하기"
      ]
    },
    {
      "cell_type": "code",
      "metadata": {
        "colab": {
          "base_uri": "https://localhost:8080/"
        },
        "id": "Ec0Vxe1feee3",
        "outputId": "6a902397-fc6e-42c7-80f8-6926d204eec0"
      },
      "source": [
        "today = datetime.datetime.now()\n",
        "\n",
        "print(today)\n",
        "print(today.year)  # 연도\n",
        "print(today.month)  # 월\n",
        "print(today.day)  # 일\n",
        "print(today.hour)  # 시\n",
        "print(today.minute)  # 분\n",
        "print(today.second)  # 초\n",
        "print(today.microsecond)  # 마이크로초"
      ],
      "execution_count": null,
      "outputs": [
        {
          "output_type": "stream",
          "text": [
            "2021-06-27 03:18:53.253809\n",
            "2021\n",
            "6\n",
            "27\n",
            "3\n",
            "18\n",
            "53\n",
            "253809\n"
          ],
          "name": "stdout"
        }
      ]
    },
    {
      "cell_type": "markdown",
      "metadata": {
        "id": "sOZW86zEe5wt"
      },
      "source": [
        "### datetime 포맷팅 (strftime)"
      ]
    },
    {
      "cell_type": "code",
      "metadata": {
        "colab": {
          "base_uri": "https://localhost:8080/"
        },
        "id": "kwXJk-6de9xV",
        "outputId": "72abff10-745f-4749-fc64-356cda51928d"
      },
      "source": [
        "today = datetime.datetime.now()\n",
        "print(today)\n",
        "print(today.strftime(\"%A, %B, %dth %Y\"))"
      ],
      "execution_count": null,
      "outputs": [
        {
          "output_type": "stream",
          "text": [
            "2021-06-27 03:21:12.807950\n",
            "Sunday, June, 27th 2021\n"
          ],
          "name": "stdout"
        }
      ]
    }
  ]
}