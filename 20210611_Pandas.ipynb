{
  "nbformat": 4,
  "nbformat_minor": 0,
  "metadata": {
    "colab": {
      "name": "20210611_Pandas.ipynb",
      "provenance": [],
      "authorship_tag": "ABX9TyMans3hWRqzMbYwmCHLe3HC",
      "include_colab_link": true
    },
    "kernelspec": {
      "name": "python3",
      "display_name": "Python 3"
    },
    "language_info": {
      "name": "python"
    }
  },
  "cells": [
    {
      "cell_type": "markdown",
      "metadata": {
        "id": "view-in-github",
        "colab_type": "text"
      },
      "source": [
        "<a href=\"https://colab.research.google.com/github/Ahbin-Park/beluga/blob/Python/20210611_Pandas.ipynb\" target=\"_parent\"><img src=\"https://colab.research.google.com/assets/colab-badge.svg\" alt=\"Open In Colab\"/></a>"
      ]
    },
    {
      "cell_type": "markdown",
      "metadata": {
        "id": "_hhgHWyXHEFG"
      },
      "source": [
        "## Pandas와 DataFrame 생성"
      ]
    },
    {
      "cell_type": "code",
      "metadata": {
        "id": "ts4rz9XRGkN1"
      },
      "source": [
        "import pandas as pd"
      ],
      "execution_count": 7,
      "outputs": []
    },
    {
      "cell_type": "code",
      "metadata": {
        "id": "NzYmYvipGphr"
      },
      "source": [
        "two_dimensional_list = [['dongwuk', 50, 86], ['sineui', 89, 31], ['yoonsoo', 88, 75]]"
      ],
      "execution_count": 8,
      "outputs": []
    },
    {
      "cell_type": "code",
      "metadata": {
        "colab": {
          "base_uri": "https://localhost:8080/",
          "height": 142
        },
        "id": "HWlqvqX5Gpbl",
        "outputId": "b9c18dc6-362c-4d6b-8cf6-081de0cb45cc"
      },
      "source": [
        "my_df = pd.DataFrame(two_dimensional_list, columns = ['name', 'english_score', 'math_score'], index=['a','b','c'])\n",
        "my_df"
      ],
      "execution_count": 14,
      "outputs": [
        {
          "output_type": "execute_result",
          "data": {
            "text/html": [
              "<div>\n",
              "<style scoped>\n",
              "    .dataframe tbody tr th:only-of-type {\n",
              "        vertical-align: middle;\n",
              "    }\n",
              "\n",
              "    .dataframe tbody tr th {\n",
              "        vertical-align: top;\n",
              "    }\n",
              "\n",
              "    .dataframe thead th {\n",
              "        text-align: right;\n",
              "    }\n",
              "</style>\n",
              "<table border=\"1\" class=\"dataframe\">\n",
              "  <thead>\n",
              "    <tr style=\"text-align: right;\">\n",
              "      <th></th>\n",
              "      <th>name</th>\n",
              "      <th>english_score</th>\n",
              "      <th>math_score</th>\n",
              "    </tr>\n",
              "  </thead>\n",
              "  <tbody>\n",
              "    <tr>\n",
              "      <th>a</th>\n",
              "      <td>dongwuk</td>\n",
              "      <td>50</td>\n",
              "      <td>86</td>\n",
              "    </tr>\n",
              "    <tr>\n",
              "      <th>b</th>\n",
              "      <td>sineui</td>\n",
              "      <td>89</td>\n",
              "      <td>31</td>\n",
              "    </tr>\n",
              "    <tr>\n",
              "      <th>c</th>\n",
              "      <td>yoonsoo</td>\n",
              "      <td>88</td>\n",
              "      <td>75</td>\n",
              "    </tr>\n",
              "  </tbody>\n",
              "</table>\n",
              "</div>"
            ],
            "text/plain": [
              "      name  english_score  math_score\n",
              "a  dongwuk             50          86\n",
              "b   sineui             89          31\n",
              "c  yoonsoo             88          75"
            ]
          },
          "metadata": {
            "tags": []
          },
          "execution_count": 14
        }
      ]
    },
    {
      "cell_type": "code",
      "metadata": {
        "colab": {
          "base_uri": "https://localhost:8080/"
        },
        "id": "mbZ4cfCUG7E-",
        "outputId": "344065e7-5f70-46e3-f023-9c0a2c22b444"
      },
      "source": [
        "type(my_df)"
      ],
      "execution_count": 15,
      "outputs": [
        {
          "output_type": "execute_result",
          "data": {
            "text/plain": [
              "pandas.core.frame.DataFrame"
            ]
          },
          "metadata": {
            "tags": []
          },
          "execution_count": 15
        }
      ]
    },
    {
      "cell_type": "markdown",
      "metadata": {
        "id": "1_qVja1LHeDp"
      },
      "source": [
        "- DF 내에서 여러가지 자료형을 가질 수 있음. 단, 같은 컬럼 내에서는 같은 자료 형."
      ]
    },
    {
      "cell_type": "code",
      "metadata": {
        "colab": {
          "base_uri": "https://localhost:8080/"
        },
        "id": "2GDs0tzVG-e0",
        "outputId": "fb30a837-818d-466c-db98-eef23820112c"
      },
      "source": [
        "#각 컬럼들의 데이터 타입도 조회\n",
        "my_df.dtypes"
      ],
      "execution_count": 17,
      "outputs": [
        {
          "output_type": "execute_result",
          "data": {
            "text/plain": [
              "name             object\n",
              "english_score     int64\n",
              "math_score        int64\n",
              "dtype: object"
            ]
          },
          "metadata": {
            "tags": []
          },
          "execution_count": 17
        }
      ]
    },
    {
      "cell_type": "markdown",
      "metadata": {
        "id": "dXfSvGjBHwe9"
      },
      "source": [
        "### DataFrame을 만드는 다양한 방법\n",
        "- From list of lists, array of arrays, list of series\n",
        "- From dict of lists, dict of arrays, dict of series \n",
        "- From list of dicts (사전이 담긴 리스트)\n",
        "\n",
        "**Series 관련 : https://nittaku.tistory.com/110"
      ]
    },
    {
      "cell_type": "code",
      "metadata": {
        "colab": {
          "base_uri": "https://localhost:8080/"
        },
        "id": "LrmYZcSdHZcI",
        "outputId": "fe16438f-7f99-4cc1-8da2-6e1c655fd980"
      },
      "source": [
        "# From list of lists, array of arrays, list of series\n",
        "import numpy as np\n",
        "import pandas as pd\n",
        "\n",
        "two_dimensional_list = [['dongwook', 50, 86], ['sineui', 89, 31], ['ikjoong', 68, 91], ['yoonsoo', 88, 75]]  #lists\n",
        "two_dimensional_array = np.array(two_dimensional_list) #array로 변환하여 만들기\n",
        "list_of_series = [\n",
        "    pd.Series(['dongwook', 50, 86]), \n",
        "    pd.Series(['sineui', 89, 31]), \n",
        "    pd.Series(['ikjoong', 68, 91]), \n",
        "    pd.Series(['yoonsoo', 88, 75])\n",
        "] #시리즈 형태의 것들을 변환\n",
        "\n",
        "# 아래 셋은 모두 동일합니다\n",
        "df1 = pd.DataFrame(two_dimensional_list)\n",
        "df2 = pd.DataFrame(two_dimensional_array)\n",
        "df3 = pd.DataFrame(list_of_series)\n",
        "\n",
        "print(df1)\n",
        "print(df2)\n",
        "print(df)"
      ],
      "execution_count": 20,
      "outputs": [
        {
          "output_type": "stream",
          "text": [
            "          0   1   2\n",
            "0  dongwook  50  86\n",
            "1    sineui  89  31\n",
            "2   ikjoong  68  91\n",
            "3   yoonsoo  88  75\n",
            "          0   1   2\n",
            "0  dongwook  50  86\n",
            "1    sineui  89  31\n",
            "2   ikjoong  68  91\n",
            "3   yoonsoo  88  75\n",
            "          0   1   2\n",
            "0  dongwook  50  86\n",
            "1    sineui  89  31\n",
            "2   ikjoong  68  91\n",
            "3   yoonsoo  88  75\n"
          ],
          "name": "stdout"
        }
      ]
    },
    {
      "cell_type": "code",
      "metadata": {
        "colab": {
          "base_uri": "https://localhost:8080/"
        },
        "id": "sdhS7IR-IQHY",
        "outputId": "f90e46dc-4e80-4e16-f3d5-8bb4abce615e"
      },
      "source": [
        " #From dict of lists, dict of arrays, dict of series\n",
        "## 사전의 key로는 column 이름을 쓰고, 그 column에 해당하는 리스트, numpy array, 혹은 pandas Series를 사전의 value로 넣어주면 됩니다.\n",
        "\n",
        "names = ['dongwook', 'sineui', 'ikjoong', 'yoonsoo']\n",
        "english_scores = [50, 89, 68, 88]\n",
        "math_scores = [86, 31, 91, 75]\n",
        "\n",
        "dict1 = {\n",
        "    'name' : names,\n",
        "    'english_score' : english_scores,\n",
        "    'math_score' : math_scores\n",
        "}\n",
        "\n",
        "dict2 = {\n",
        "    'name' : np.array(names),\n",
        "    'english_score' : np.array(english_scores),\n",
        "    'math_score' : np.array(math_scores)\n",
        "}\n",
        "\n",
        "dict3 = {\n",
        "    'name' : pd.Series(names),\n",
        "    'english_score' : pd.Series(english_scores),\n",
        "    'math_score' : pd.Series(math_scores)\n",
        "}\n",
        "\n",
        "#데이터프레임으로 변환\n",
        "df1 = pd.DataFrame(dict1)\n",
        "df2 = pd.DataFrame(dict2)\n",
        "df3 = pd.DataFrame(dict3)\n",
        "\n",
        "print(df1)\n",
        "print(df2)\n",
        "print(df3)"
      ],
      "execution_count": 21,
      "outputs": [
        {
          "output_type": "stream",
          "text": [
            "       name  english_score  math_score\n",
            "0  dongwook             50          86\n",
            "1    sineui             89          31\n",
            "2   ikjoong             68          91\n",
            "3   yoonsoo             88          75\n",
            "       name  english_score  math_score\n",
            "0  dongwook             50          86\n",
            "1    sineui             89          31\n",
            "2   ikjoong             68          91\n",
            "3   yoonsoo             88          75\n",
            "       name  english_score  math_score\n",
            "0  dongwook             50          86\n",
            "1    sineui             89          31\n",
            "2   ikjoong             68          91\n",
            "3   yoonsoo             88          75\n"
          ],
          "name": "stdout"
        }
      ]
    },
    {
      "cell_type": "code",
      "metadata": {
        "colab": {
          "base_uri": "https://localhost:8080/",
          "height": 173
        },
        "id": "NJVVJAmsJLKp",
        "outputId": "667c9315-d420-4fd0-8e29-0a9059ffffab"
      },
      "source": [
        "#From list of dicts (사전이 담긴 리스트)\n",
        "\n",
        "my_list = [\n",
        "    {'name': 'dongwook', 'english_score': 50, 'math_score': 86},\n",
        "    {'name': 'sineui', 'english_score': 89, 'math_score': 31},\n",
        "    {'name': 'ikjoong', 'english_score': 68, 'math_score': 91},\n",
        "    {'name': 'yoonsoo', 'english_score': 88, 'math_score': 75}\n",
        "]\n",
        "\n",
        "df = pd.DataFrame(my_list)\n",
        "df"
      ],
      "execution_count": 22,
      "outputs": [
        {
          "output_type": "execute_result",
          "data": {
            "text/html": [
              "<div>\n",
              "<style scoped>\n",
              "    .dataframe tbody tr th:only-of-type {\n",
              "        vertical-align: middle;\n",
              "    }\n",
              "\n",
              "    .dataframe tbody tr th {\n",
              "        vertical-align: top;\n",
              "    }\n",
              "\n",
              "    .dataframe thead th {\n",
              "        text-align: right;\n",
              "    }\n",
              "</style>\n",
              "<table border=\"1\" class=\"dataframe\">\n",
              "  <thead>\n",
              "    <tr style=\"text-align: right;\">\n",
              "      <th></th>\n",
              "      <th>name</th>\n",
              "      <th>english_score</th>\n",
              "      <th>math_score</th>\n",
              "    </tr>\n",
              "  </thead>\n",
              "  <tbody>\n",
              "    <tr>\n",
              "      <th>0</th>\n",
              "      <td>dongwook</td>\n",
              "      <td>50</td>\n",
              "      <td>86</td>\n",
              "    </tr>\n",
              "    <tr>\n",
              "      <th>1</th>\n",
              "      <td>sineui</td>\n",
              "      <td>89</td>\n",
              "      <td>31</td>\n",
              "    </tr>\n",
              "    <tr>\n",
              "      <th>2</th>\n",
              "      <td>ikjoong</td>\n",
              "      <td>68</td>\n",
              "      <td>91</td>\n",
              "    </tr>\n",
              "    <tr>\n",
              "      <th>3</th>\n",
              "      <td>yoonsoo</td>\n",
              "      <td>88</td>\n",
              "      <td>75</td>\n",
              "    </tr>\n",
              "  </tbody>\n",
              "</table>\n",
              "</div>"
            ],
            "text/plain": [
              "       name  english_score  math_score\n",
              "0  dongwook             50          86\n",
              "1    sineui             89          31\n",
              "2   ikjoong             68          91\n",
              "3   yoonsoo             88          75"
            ]
          },
          "metadata": {
            "tags": []
          },
          "execution_count": 22
        }
      ]
    },
    {
      "cell_type": "code",
      "metadata": {
        "colab": {
          "base_uri": "https://localhost:8080/",
          "height": 173
        },
        "id": "sXPmCssDJbLH",
        "outputId": "7cd0b319-ec65-43ee-f9bd-1d74e87021c2"
      },
      "source": [
        "# 실습 과제 \n",
        "lists = [\n",
        "        ['Taylor Swift',\t'December 13, 1989',\t'Singer-songwriter'],\n",
        "        ['Aaron Sorkin',\t'June 9, 1961',\t'Screenwriter'],\n",
        "        ['Harry Potter',\t'July 31, 1980',\t'Wizard'],\n",
        "        ['Ji-Sung Park',\t'February 25, 1981',\t'Footballer']\n",
        "        ]\n",
        "df = pd.DataFrame(lists, columns = ['name', 'birthday','occupation'])\n",
        "df"
      ],
      "execution_count": 25,
      "outputs": [
        {
          "output_type": "execute_result",
          "data": {
            "text/html": [
              "<div>\n",
              "<style scoped>\n",
              "    .dataframe tbody tr th:only-of-type {\n",
              "        vertical-align: middle;\n",
              "    }\n",
              "\n",
              "    .dataframe tbody tr th {\n",
              "        vertical-align: top;\n",
              "    }\n",
              "\n",
              "    .dataframe thead th {\n",
              "        text-align: right;\n",
              "    }\n",
              "</style>\n",
              "<table border=\"1\" class=\"dataframe\">\n",
              "  <thead>\n",
              "    <tr style=\"text-align: right;\">\n",
              "      <th></th>\n",
              "      <th>name</th>\n",
              "      <th>birthday</th>\n",
              "      <th>occupation</th>\n",
              "    </tr>\n",
              "  </thead>\n",
              "  <tbody>\n",
              "    <tr>\n",
              "      <th>0</th>\n",
              "      <td>Taylor Swift</td>\n",
              "      <td>December 13, 1989</td>\n",
              "      <td>Singer-songwriter</td>\n",
              "    </tr>\n",
              "    <tr>\n",
              "      <th>1</th>\n",
              "      <td>Aaron Sorkin</td>\n",
              "      <td>June 9, 1961</td>\n",
              "      <td>Screenwriter</td>\n",
              "    </tr>\n",
              "    <tr>\n",
              "      <th>2</th>\n",
              "      <td>Harry Potter</td>\n",
              "      <td>July 31, 1980</td>\n",
              "      <td>Wizard</td>\n",
              "    </tr>\n",
              "    <tr>\n",
              "      <th>3</th>\n",
              "      <td>Ji-Sung Park</td>\n",
              "      <td>February 25, 1981</td>\n",
              "      <td>Footballer</td>\n",
              "    </tr>\n",
              "  </tbody>\n",
              "</table>\n",
              "</div>"
            ],
            "text/plain": [
              "           name           birthday         occupation\n",
              "0  Taylor Swift  December 13, 1989  Singer-songwriter\n",
              "1  Aaron Sorkin       June 9, 1961       Screenwriter\n",
              "2  Harry Potter      July 31, 1980             Wizard\n",
              "3  Ji-Sung Park  February 25, 1981         Footballer"
            ]
          },
          "metadata": {
            "tags": []
          },
          "execution_count": 25
        }
      ]
    },
    {
      "cell_type": "markdown",
      "metadata": {
        "id": "pNae2VDJKw1s"
      },
      "source": [
        "###Datatype\n",
        "\n",
        "- int64\t정수\n",
        "- float64\t소수\n",
        "- object\t텍스트\n",
        "- bool\t불린(참과 거짓)\n",
        "- datetime64\t날짜와 시간\n",
        "- category\t카테고리\n"
      ]
    },
    {
      "cell_type": "markdown",
      "metadata": {
        "id": "aaQf4Lpxw2xb"
      },
      "source": [
        "### Pandas 로 데이터 읽어들이기"
      ]
    },
    {
      "cell_type": "code",
      "metadata": {
        "colab": {
          "base_uri": "https://localhost:8080/",
          "height": 266
        },
        "id": "8OvnWPQNKddz",
        "outputId": "f2923e4b-2331-4053-87be-60861cfe34f1"
      },
      "source": [
        "import pandas as pd\n",
        "iphone_df = pd.read_csv('iphone.csv', index_col = 0) # 파일 위치 폴더 경로 작성('~/~'), 0 해당 column을 index로 설정하기 (혹은 열 이름을 직접 지정해도됨)\n",
        "#iphone_df = pd.read_csv('iphone.csv', index_col = 'Draw Date')\n",
        "\n",
        "iphone_df"
      ],
      "execution_count": 4,
      "outputs": [
        {
          "output_type": "execute_result",
          "data": {
            "text/html": [
              "<div>\n",
              "<style scoped>\n",
              "    .dataframe tbody tr th:only-of-type {\n",
              "        vertical-align: middle;\n",
              "    }\n",
              "\n",
              "    .dataframe tbody tr th {\n",
              "        vertical-align: top;\n",
              "    }\n",
              "\n",
              "    .dataframe thead th {\n",
              "        text-align: right;\n",
              "    }\n",
              "</style>\n",
              "<table border=\"1\" class=\"dataframe\">\n",
              "  <thead>\n",
              "    <tr style=\"text-align: right;\">\n",
              "      <th></th>\n",
              "      <th>출시일</th>\n",
              "      <th>디스플레이</th>\n",
              "      <th>메모리</th>\n",
              "      <th>출시 버전</th>\n",
              "      <th>Face ID</th>\n",
              "    </tr>\n",
              "  </thead>\n",
              "  <tbody>\n",
              "    <tr>\n",
              "      <th>iPhone 7</th>\n",
              "      <td>2016-09-16</td>\n",
              "      <td>4.7</td>\n",
              "      <td>2GB</td>\n",
              "      <td>iOS 10.0</td>\n",
              "      <td>No</td>\n",
              "    </tr>\n",
              "    <tr>\n",
              "      <th>iPhone 7 Plus</th>\n",
              "      <td>2016-09-16</td>\n",
              "      <td>5.5</td>\n",
              "      <td>3GB</td>\n",
              "      <td>iOS 10.0</td>\n",
              "      <td>No</td>\n",
              "    </tr>\n",
              "    <tr>\n",
              "      <th>iPhone 8</th>\n",
              "      <td>2017-09-22</td>\n",
              "      <td>4.7</td>\n",
              "      <td>2GB</td>\n",
              "      <td>iOS 11.0</td>\n",
              "      <td>No</td>\n",
              "    </tr>\n",
              "    <tr>\n",
              "      <th>iPhone 8 Plus</th>\n",
              "      <td>2017-09-22</td>\n",
              "      <td>5.5</td>\n",
              "      <td>3GB</td>\n",
              "      <td>iOS 11.0</td>\n",
              "      <td>No</td>\n",
              "    </tr>\n",
              "    <tr>\n",
              "      <th>iPhone X</th>\n",
              "      <td>2017-11-03</td>\n",
              "      <td>5.8</td>\n",
              "      <td>3GB</td>\n",
              "      <td>iOS 11.1</td>\n",
              "      <td>Yes</td>\n",
              "    </tr>\n",
              "    <tr>\n",
              "      <th>iPhone XS</th>\n",
              "      <td>2018-09-21</td>\n",
              "      <td>5.8</td>\n",
              "      <td>4GB</td>\n",
              "      <td>iOS 12.0</td>\n",
              "      <td>Yes</td>\n",
              "    </tr>\n",
              "    <tr>\n",
              "      <th>iPhone XS Max</th>\n",
              "      <td>2018-09-21</td>\n",
              "      <td>6.5</td>\n",
              "      <td>4GB</td>\n",
              "      <td>iOS 12.0</td>\n",
              "      <td>Yes</td>\n",
              "    </tr>\n",
              "  </tbody>\n",
              "</table>\n",
              "</div>"
            ],
            "text/plain": [
              "                      출시일  디스플레이  메모리     출시 버전 Face ID\n",
              "iPhone 7       2016-09-16    4.7  2GB  iOS 10.0      No\n",
              "iPhone 7 Plus  2016-09-16    5.5  3GB  iOS 10.0      No\n",
              "iPhone 8       2017-09-22    4.7  2GB  iOS 11.0      No\n",
              "iPhone 8 Plus  2017-09-22    5.5  3GB  iOS 11.0      No\n",
              "iPhone X       2017-11-03    5.8  3GB  iOS 11.1     Yes\n",
              "iPhone XS      2018-09-21    5.8  4GB  iOS 12.0     Yes\n",
              "iPhone XS Max  2018-09-21    6.5  4GB  iOS 12.0     Yes"
            ]
          },
          "metadata": {
            "tags": []
          },
          "execution_count": 4
        }
      ]
    },
    {
      "cell_type": "code",
      "metadata": {
        "id": "DyLoDhINxr9l"
      },
      "source": [
        ""
      ],
      "execution_count": null,
      "outputs": []
    },
    {
      "cell_type": "code",
      "metadata": {
        "id": "tVCiicgGxsYQ"
      },
      "source": [
        ""
      ],
      "execution_count": null,
      "outputs": []
    }
  ]
}